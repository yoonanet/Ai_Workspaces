{
 "cells": [
  {
   "cell_type": "markdown",
   "id": "39a53794",
   "metadata": {},
   "source": [
    "# - Numpy ndarray 개요\n",
    "#배열에 형변환을 해서 제공해주는 NumPy의 기능"
   ]
  },
  {
   "cell_type": "code",
   "execution_count": 3,
   "id": "40628441",
   "metadata": {},
   "outputs": [],
   "source": [
    "import numpy as np #numpy는 데이터 분석을 수행한다고 할 때 필수 패키지임 -> numpy를 사용할 때 np라는 별칭을 붙이는 것이 관례임***\n",
    "#기본적으로 아나콘다 환경툴을 설치하면 기본적으로 탑제되어져 있음. \n",
    "#여기서 에러나는 것은 현재 가상환경을 셋팅을 하여 그 안에서 작업하고 있기 때문이다.\n",
    "#가상환경을 통해 사용하고자 할 때는 아나콘다 기본모듈이 포함되어져 있지 않기 때문에 따로 설치를 해줘야 한다.\n",
    "#이때, 파이썬과 패키지들은 환경에 따른 버전으로 일치되게 다운로드를 해줘야 한다. => 맞지 않으면 쫑이남\n",
    "#현재 라이브러리 텐서플로우의 안정적인 버전인 3.8로 작업을 하고 있음. \n",
    "#=> jupyter notebook으로 모듈을 다운로드 받으면 3.10의 최신버전으로 모듈을 다운로드 해주기 때문에 동작이 안될 가능성이 높음\n",
    "#   따라서 Anaconda Prompt를 통해 모듈을 다운로드 받도록 한다.\n",
    "#   ; 가상환경 접속: conda activate tf_cpu -> conda install numpy - y\n",
    "import matplotlib.pyplot as plt"
   ]
  },
  {
   "cell_type": "markdown",
   "id": "4ebfbbe1",
   "metadata": {},
   "source": [
    "### - 배열 생성\n",
    "#파이썬에서 제공해주고 있지 않은 배열의 생성 방법"
   ]
  },
  {
   "cell_type": "code",
   "execution_count": 5,
   "id": "2353d5d5",
   "metadata": {},
   "outputs": [
    {
     "name": "stdout",
     "output_type": "stream",
     "text": [
      "array1 type:  <class 'numpy.ndarray'>\n",
      "array1 array 형태:  (3,)\n",
      "[1 2 3]\n",
      "[1, 2, 3]\n"
     ]
    }
   ],
   "source": [
    "# - 1차원 배열(Vector) 정의\n",
    "\n",
    "array1 = np.array([1, 2, 3]) #파이썬의 리스트자료형 데이터를 array()기능의 입력으로 넣어주면 배열을 리턴해줌 / 1차원배열로 리턴해줌\n",
    "#하나의 리스트안에 데이터가 열거되어져 있는 형태인 것임\n",
    "print('array1 type: ', type(array1))\n",
    "print('array1 array 형태: ', array1.shape) #튜플의 형태로 3개의 데이터를 가지고 있다는 결과를 반환해줌\n",
    "print(array1) #배열일 경우 콤마 없이 결과가 출력되는 것을 확인할 수 있다. [1 2 3]\n",
    "\n",
    "# cf) 리스트 자료형\n",
    "list = [1, 2, 3] \n",
    "print(list) #[1, 2, 3]"
   ]
  },
  {
   "cell_type": "code",
   "execution_count": 8,
   "id": "2a42b602",
   "metadata": {},
   "outputs": [
    {
     "name": "stdout",
     "output_type": "stream",
     "text": [
      "array2 type:  <class 'numpy.ndarray'>\n",
      "array2 array 형태:  (2, 3)\n",
      "[[1 2 3]\n",
      " [4 5 6]]\n",
      "array3 type:  <class 'numpy.ndarray'>\n",
      "array3 array 형태:  (1, 3)\n",
      "[[1 2 3]]\n"
     ]
    }
   ],
   "source": [
    "# - 2차원 배열(Matrix) 정의\n",
    "\n",
    "# 2행3열 - numpy에서 제공해주는 array기능을 통해서 행을 나타낼 때에는 대괄호를 통해서 나타냄\n",
    "array2 = np.array([[1, 2, 3], [4, 5, 6]]) \n",
    "print('array2 type: ', type(array2)) \n",
    "print('array2 array 형태: ', array2.shape) \n",
    "print(array2) #넘파이의 매트릭스는 내부에서 [[1 2 3] [4 5 6]]로 데이터를 관리함\n",
    "\n",
    "# 1행 3열\n",
    "array3 = np.array([[1, 2, 3]]) #1행일 때는 리스트를 하나만 만들어주면 됨 --> vactor일 때와 모양이 확실히 다름\n",
    "#데이터를 리스트에 담아서 결과를 보여주고 있는데 이 데이터가 몇 차원에 배열인지를 빠르게 판단할 수 있는 방법은 \n",
    "#앞에 대괄호가 몇개로 구성이 되어져 있는지를 보면 됨. ex) 대괄호가 두 개면 이차원이구나\n",
    "print('array3 type: ', type(array3)) \n",
    "print('array3 array 형태: ', array3.shape) \n",
    "print(array3)\n",
    "\n",
    "#변수에 담겨진 데이터를 출력해봤을 때 []에 감싸져 있는데 콤마없이 보여주고 있다면 배열이라는 것으로 해석할 수 있어야 한다.\n",
    "# 또한 []안에 []로 감싸져 있다면 2차원배열이라고 파악하면 된다."
   ]
  },
  {
   "cell_type": "code",
   "execution_count": 11,
   "id": "4c9d39a6",
   "metadata": {},
   "outputs": [
    {
     "name": "stdout",
     "output_type": "stream",
     "text": [
      "array4 type:  <class 'numpy.ndarray'>\n",
      "array4 array 형태:  (2, 3, 4)\n",
      "[[[ 1  2  3  4]\n",
      "  [ 5  6  7  8]\n",
      "  [ 9 10 11 12]]\n",
      "\n",
      " [[13 14 15 16]\n",
      "  [17 18 19 20]\n",
      "  [21 22 23 24]]]\n",
      "int32\n"
     ]
    }
   ],
   "source": [
    "# - 3차원 배열(Array) 정의\n",
    "\n",
    "# 2면 3행 4열 => 앞에서 뒤로가는 구조로 배열의 리스트 구조를 만들면 됨.\n",
    "array4 = np.array([[[1, 2, 3, 4],[5, 6, 7, 8],[9, 10, 11, 12]], \n",
    "                   [[13, 14, 15, 16],[17, 18, 19, 20],[21, 22, 23, 24]]]) #대괄호 갯수에 따라서 몇차원 배열인지 파악할 수 있어야 한다.\n",
    "print('array4 type: ', type(array4)) \n",
    "print('array4 array 형태: ', array4.shape) # R에서는 행 열 면의 순서로 보여줬었지만 자바, 자바스크립트, 파이썬은 면 행 열의 순서로 보여줌\n",
    "print(array4)\n",
    "\n",
    "print(array4.dtype) \n",
    "#numpy에 의해 배열로 담긴 객체를 dtype의 필드를 출력하도록 함 \n",
    "#=> 배열의 특징은 동일자료형이 담길 수 있다. 이때, datatype을 출력하면 정수형은 int32(8비트의 4바이트 -> 32비트)로 출력됨\n",
    "#  long키워드는 8바이트를 할당한 정수 데이터를 담을 수 있는 자료형이였음(넘파이에서 long형으로 저장이 되어져 있다면 결과를 int64로 저장되어져 있음)"
   ]
  },
  {
   "cell_type": "code",
   "execution_count": 14,
   "id": "e2648138",
   "metadata": {},
   "outputs": [
    {
     "name": "stdout",
     "output_type": "stream",
     "text": [
      "['1' '2' 'test'] <U11\n",
      "[1.  2.  3.5] float64\n"
     ]
    }
   ],
   "source": [
    "# 다른 데이터 유형이 섞여 있는 리스트를 ndarray로 변경하면?\n",
    "# - 데이터 크기가 더 큰 데이터 타입으로 형변환을 일괄 적용함.\n",
    "\n",
    "array5 = np.array([1, 2, 'test']) \n",
    "print(array5, array5.dtype) #['1' '2' 'test'] => 기존 정수 데이터를 문자열로 변환하여 통일시키고 있음.\n",
    "#숫자와 문자가 섞여있으면 문자열로 통일 시켜주는 것임, datatype은 <U1 1 -> 내부에서는 문자나 문자열을 정수화해서 저장하고 있음. (유니코드 처리)\n",
    "\n",
    "array6 = np.array([1, 2, 3.5]) #정수와 실수 데이터가 섞여서 입력으로 전달이 되고 있을 때는? 정수와 실수 값이 섞여있을 때는 정수를 실수화하여 .0을 붙여줌\n",
    "print(array6, array6.dtype) #데이터의 타입을 일치시켜주면서 출력해준다는 것을 알 수 있음. 실수는 자바에서 기본적으로 double형임 8바이트로 float64로 나타내주는 것"
   ]
  },
  {
   "cell_type": "code",
   "execution_count": 19,
   "id": "34d41237",
   "metadata": {},
   "outputs": [
    {
     "name": "stdout",
     "output_type": "stream",
     "text": [
      "[1. 2. 3.] float64\n",
      "[1 2 3] int32\n",
      "[1 2 3] int32\n"
     ]
    }
   ],
   "source": [
    "# astype() : ndarray 내 데이터 값의 타입을 변경.\n",
    "\n",
    "array_int = np.array([1, 2, 3]) #백터의 자료형을 가지게 될 것임\n",
    "array_float = array_int.astype('float64') #실수형으로 형변환해서 피드백받고자 함\n",
    "print(array_float, array_float.dtype)\n",
    "\n",
    "array_int1 = array_float.astype('int32')\n",
    "print(array_int1, array_int1.dtype)\n",
    "\n",
    "array_float1 = np.array([1.1, 2.1, 3.7])\n",
    "array_int2 = array_float1.astype('int32') \n",
    "#실수값을 정수형으로 형변환한다면? 강제형변환의 의도 자체가 실수의 값을 정수부분의 데이터만을 꺼내오고 싶은 의도이기 때문에 \n",
    "#                                  소수점 이하는 버려버리고, 정수값만 취해서 값을 리턴함\n",
    "#주의) 실수의 값을 버려버릴 뿐이고, 반올림의 개념은 없음!!\n",
    "print(array_int2, array_int2.dtype)"
   ]
  },
  {
   "cell_type": "markdown",
   "id": "55e591f3",
   "metadata": {},
   "source": [
    "# - ndarray를 편리하게 생성하기"
   ]
  },
  {
   "cell_type": "code",
   "execution_count": 22,
   "id": "1dedc8e3",
   "metadata": {},
   "outputs": [
    {
     "name": "stdout",
     "output_type": "stream",
     "text": [
      "[[0 0 0 0]\n",
      " [0 0 0 0]\n",
      " [0 0 0 0]]\n",
      "int32 (3, 4)\n",
      "[[0. 0. 0. 0.]\n",
      " [0. 0. 0. 0.]\n",
      " [0. 0. 0. 0.]]\n",
      "float64 (3, 4)\n"
     ]
    }
   ],
   "source": [
    "# zeros((행, 열)) : 0으로 채우는 함수 (0으로 데이터를 초기화하여 반환해주는 기능)\n",
    "\n",
    "zero_array = np.zeros((3, 4), dtype='int32') \n",
    "#3행 4열의 매트릭스 구조로 데이터를 반환해주되 그때의 값은 0으로 채워서 반환해달라는 의미이다.\n",
    "print(zero_array)\n",
    "print(zero_array.dtype, zero_array.shape)\n",
    "\n",
    "zero_array1 = np.zeros((3, 4), dtype='float64')\n",
    "print(zero_array1)\n",
    "print(zero_array1.dtype, zero_array1.shape)"
   ]
  },
  {
   "cell_type": "code",
   "execution_count": 23,
   "id": "745efac8",
   "metadata": {},
   "outputs": [
    {
     "name": "stdout",
     "output_type": "stream",
     "text": [
      "[[1. 1.]\n",
      " [1. 1.]]\n",
      "float64 (2, 2)\n"
     ]
    }
   ],
   "source": [
    "# ones((행, 열)) : 데이터를 1로 채우는 함수\n",
    "\n",
    "one_array = np.ones((2, 2))\n",
    "print(one_array)\n",
    "print(one_array.dtype, one_array.shape)"
   ]
  },
  {
   "cell_type": "code",
   "execution_count": 27,
   "id": "29b22f59",
   "metadata": {},
   "outputs": [
    {
     "name": "stdout",
     "output_type": "stream",
     "text": [
      "[[7 7 7 7]\n",
      " [7 7 7 7]\n",
      " [7 7 7 7]]\n"
     ]
    }
   ],
   "source": [
    "# full((행, 열), 값) : 값으로 채우는 함수\n",
    "\n",
    "arr_full = np.full((3, 4), 7) #(행, 열), 출력될 값\n",
    "print(arr_full)\n",
    "\n",
    "#arr_full = np.full((3, 4),) #***초기화값을 넣어주지 않으면 에러남!! \n",
    "#print(arr_full)"
   ]
  },
  {
   "cell_type": "code",
   "execution_count": 26,
   "id": "56015c35",
   "metadata": {},
   "outputs": [
    {
     "name": "stdout",
     "output_type": "stream",
     "text": [
      "[[1. 0. 0. 0. 0.]\n",
      " [0. 1. 0. 0. 0.]\n",
      " [0. 0. 1. 0. 0.]\n",
      " [0. 0. 0. 1. 0.]\n",
      " [0. 0. 0. 0. 1.]]\n"
     ]
    }
   ],
   "source": [
    "# eye(N) : (N, N)의 단위 행렬 생성\n",
    "\n",
    "arr_eye = np.eye(5)\n",
    "print(arr_eye)"
   ]
  },
  {
   "cell_type": "code",
   "execution_count": 29,
   "id": "5e16f0ac",
   "metadata": {},
   "outputs": [
    {
     "name": "stdout",
     "output_type": "stream",
     "text": [
      "[[0.00000000e+000 0.00000000e+000 0.00000000e+000]\n",
      " [0.00000000e+000 0.00000000e+000 7.23312106e-321]\n",
      " [7.56592337e-307 9.34588060e-307 3.62651150e-317]]\n"
     ]
    }
   ],
   "source": [
    "# empty((행, 열)) : 초기화 없이 기존 메모리 값이 그대로 들어감.\n",
    "\n",
    "array_empty = np.empty((3, 3))\n",
    "print(array_empty) #메모리를 초기화하지 않고 공간만을 할당해주는 기능이 empty인 것이다. => 따라서 출력하면 쓰레기값이 출력됨"
   ]
  },
  {
   "cell_type": "code",
   "execution_count": 30,
   "id": "ba7297f1",
   "metadata": {},
   "outputs": [
    {
     "name": "stdout",
     "output_type": "stream",
     "text": [
      "[[1 1 1]\n",
      " [1 1 1]]\n"
     ]
    }
   ],
   "source": [
    "# _like(배열) : 지정한 배열과 동일한 shape의 행렬을 만듦.\n",
    "# 종류 : np.zeros_like(), np.ones_like(), np.full_like(), np.empty_like()\n",
    "\n",
    "arr_sample = np.array([[1, 2, 3], [4, 5, 6]])\n",
    "arr_like = np.ones_like(arr_sample)\n",
    "print(arr_like) # 기존 배열에서 데이터에 1을 채워서 반환해주고 있음"
   ]
  },
  {
   "cell_type": "code",
   "execution_count": 31,
   "id": "fbe59f4f",
   "metadata": {},
   "outputs": [
    {
     "name": "stdout",
     "output_type": "stream",
     "text": [
      "[ 1.    3.25  5.5   7.75 10.  ]\n"
     ]
    }
   ],
   "source": [
    "# 배열 데이터 생성 함수\n",
    "# - np.linspace(시작, 종료, 개수) : 개수에 맞게끔 시작과 종료 사이에 균등하게 분배\n",
    "\n",
    "arr_linspace = np.linspace(1, 10, 5)\n",
    "print(arr_linspace) #1부터 10까지의 영역을 잡아서 균등한 길이로 5개의 데이터를 반환\n",
    "#모든 값들이 2.25씩 균등하게 배분하여 출력되고 있음!!"
   ]
  },
  {
   "cell_type": "code",
   "execution_count": 33,
   "id": "e94f6212",
   "metadata": {},
   "outputs": [
    {
     "data": {
      "image/png": "[encoded data removed]",
      "text/plain": [
       "<Figure size 640x480 with 1 Axes>"
      ]
     },
     "metadata": {},
     "output_type": "display_data"
    }
   ],
   "source": [
    "#시각화에 관련된 패키지 설치\n",
    "#Anaconda Prompt -> tf_cpu에 접속이 되어 있어야 함 -> conda install Matplotlib -> y\n",
    "#파이썬에서 제공해주고 있는 시각화를 탑제해주는 matplotlib패키지를 소개하는 목적이 담긴 실습임\n",
    "\n",
    "#import matplotlib.pyplot as plt #matplotlib모듈안에 제공되는 pyplot클래스의 별칭으로 plt을 관용적으로 사용하도록 한다.\n",
    "\n",
    "plt.plot(arr_linspace, 'o') # (데이터, 함수 마커) / 그래프를 그려주는 함수 마커를 원('o')으로 만든 그래프를 보여줌. \n",
    "#R에서도 plot의 기능을 제공해주고 있었음 -> R에서는 출력의 결과를 점(분포)의 형태로 시각화해주는 기능이였음\n",
    "# => R에서는 plot으로 명명된 시각화는 dot의 형태로 데이터의 분포를 보여주는 것이 특징이다. \n",
    "\n",
    "plt.show() #바로 보여주는 것이 아니라 show함수를 호출해야 위치를 찍어주면서 시각화의 결과창을 보여준다. \n",
    "#1~10까지의 범위에서 5개의 데이터만을 균등하게 배분하여 추출하고, 그 값을 시각화했을 때의 결과이다. (더 직관적으로 와닿을 수 있음)"
   ]
  },
  {
   "cell_type": "code",
   "execution_count": 35,
   "id": "470fb9aa",
   "metadata": {},
   "outputs": [
    {
     "name": "stdout",
     "output_type": "stream",
     "text": [
      "[ 1  3  5  7  9 11 13 15 17 19]\n",
      "int32 (10,)\n"
     ]
    }
   ],
   "source": [
    "#분석에서 유용하게 사용되는 기능들에 포커스를 맞춰서 살펴보고 있는 것임\n",
    "#np.arange(시작, 종료, 스텝) : 시작과 종료 사이에 스텝 간격으로 데이터를 생성해주는 기능의 함수이다. (함수의 이름으로 arrang로 오해하지 말아야 함)\n",
    "#                             (파이썬 range()와 유사함!!)\n",
    "\n",
    "sequence_array = np.arange(1, 20, 2) #1부터 2칸씩 스탭을 뛰면서 20까지의 값을 반환해달라는 의미\n",
    "print(sequence_array) #[ 1  3  5  7  9 11 13 15 17 19] -> 홀수의 값이 리턴되어 담겨져 있음\n",
    "print(sequence_array.dtype, sequence_array.shape) #디폴트 자료형은 실수였음. 하지만 arange의 입력에 따라서 데이터를 생성해주고 있는 것임"
   ]
  },
  {
   "cell_type": "code",
   "execution_count": 36,
   "id": "5e543a54",
   "metadata": {},
   "outputs": [
    {
     "data": {
      "image/png": "[encoded data removed]",
      "text/plain": [
       "<Figure size 640x480 with 1 Axes>"
      ]
     },
     "metadata": {},
     "output_type": "display_data"
    }
   ],
   "source": [
    "plt.plot(sequence_array, 'v') # 두번째 매개변수에 넣어주는 값에 따라서 표현되는 분포를 다른 모양으로 출력할 수 있음.\n",
    "plt.show()"
   ]
  },
  {
   "cell_type": "markdown",
   "id": "4287d224",
   "metadata": {},
   "source": [
    "### ndarray의 차원과 크기를 변경하는 reshape()"
   ]
  },
  {
   "cell_type": "code",
   "execution_count": 39,
   "id": "0d4ce85f",
   "metadata": {},
   "outputs": [
    {
     "name": "stdout",
     "output_type": "stream",
     "text": [
      "array1: \n",
      " [0 1 2 3 4 5 6 7 8 9]\n",
      "array2: \n",
      " [[0 1 2 3 4]\n",
      " [5 6 7 8 9]]\n",
      "array3: \n",
      " [[0 1]\n",
      " [2 3]\n",
      " [4 5]\n",
      " [6 7]\n",
      " [8 9]]\n"
     ]
    }
   ],
   "source": [
    "#데이터 분석에서 빈번하게 볼 수 있는 기능 -> reshape()\n",
    "array1 = np.arange(10)\n",
    "print('array1: \\n', array1) #10 -1 인 9까지 데이터를 순차적으로 생성해주면서 리턴해주는 것을 결과로써 확인할 수 있다.\n",
    "#1차원의 배열로 데이터가 담겨져 있음!!\n",
    "\n",
    "array2 = array1.reshape(2, 5) #(행, 열) => 기존에 shape에서 입력으로 넣어준 형태로 다시 shape을 해달라는 것임\n",
    "print('array2: \\n', array2) #2차원배열로 출력되고 있음!! array1의 shape을 2, 5의 매트릭스로 요청을 하면 백터를 2행 5열로 reshape을 해서 리턴해주고 있는 것임\n",
    "#전처리에 과정에서 아주 많은 활용이 되어짐!!\n",
    "\n",
    "array3 = array1.reshape(5, 2) \n",
    "print('array3: \\n', array3)"
   ]
  },
  {
   "cell_type": "code",
   "execution_count": 40,
   "id": "ee79c4af",
   "metadata": {},
   "outputs": [
    {
     "ename": "ValueError",
     "evalue": "cannot reshape array of size 10 into shape (4,3)",
     "output_type": "error",
     "traceback": [
      "\u001b[1;31m---------------------------------------------------------------------------\u001b[0m",
      "\u001b[1;31mValueError\u001b[0m                                Traceback (most recent call last)",
      "Cell \u001b[1;32mIn[40], line 1\u001b[0m\n\u001b[1;32m----> 1\u001b[0m \u001b[43marray1\u001b[49m\u001b[38;5;241;43m.\u001b[39;49m\u001b[43mreshape\u001b[49m\u001b[43m(\u001b[49m\u001b[38;5;241;43m4\u001b[39;49m\u001b[43m,\u001b[49m\u001b[43m \u001b[49m\u001b[38;5;241;43m3\u001b[39;49m\u001b[43m)\u001b[49m\n",
      "\u001b[1;31mValueError\u001b[0m: cannot reshape array of size 10 into shape (4,3)"
     ]
    }
   ],
   "source": [
    "array1.reshape(4, 3) #지금 데이터는 총 10개임. / 지정된 사이즈로 변경이 불가능하면 오류 발생.\n",
    "#10개의 데이터를 4행 3열을 만들고 싶다고 할 때, 데이터가 12개 있어야 하므로 데이터가 모자르다고 에러냄"
   ]
  },
  {
   "cell_type": "code",
   "execution_count": 44,
   "id": "54e0f282",
   "metadata": {},
   "outputs": [
    {
     "name": "stdout",
     "output_type": "stream",
     "text": [
      "[0 1 2 3 4 5 6 7 8 9]\n",
      "[[0 1 2 3 4]\n",
      " [5 6 7 8 9]]\n",
      "array2 shape :  (2, 5)\n",
      "[[0 1]\n",
      " [2 3]\n",
      " [4 5]\n",
      " [6 7]\n",
      " [8 9]]\n",
      "array3 shape :  (5, 2)\n"
     ]
    }
   ],
   "source": [
    "array1 = np.arange(10)\n",
    "print(array1) \n",
    "\n",
    "# array1과 호환될 수 있는 2차원 ndarray로 변환하되, 고정된 5개의 column에 맞는 row를 자동으로 새롭게 생성해 변환하라는 의미.\n",
    "array2 = array1.reshape(-1, 5) #음수값은 -1만 올 수 있음. 음수의 값이 왔다고 한다면 의미가 가변이라는 의미를 가진다. \n",
    "#즉, reshape에 콤마의 왼쪽 행 자리에 마이너스 음수값을 넣으면 가변으로 값이 고정되지 않았다는 의미를 내포하고 있음\n",
    "#5열로 고정해서 만들어주면 나머지 데이터를 가지고 그 갯수만큼 행을 만들라는 의미이다.\n",
    "print(array2) #2행 5열의 매트릭스 구조로 리턴되고 있음! \n",
    "#전처리에 과정에서 많이 활용됨!!!\n",
    "print('array2 shape : ', array2.shape)\n",
    "\n",
    "# 고정된 5개의 row에 맞는 column을 자동으로 새롭게 생성해 변환하라는 의미.\n",
    "array3 = array1.reshape(5, -1) #행을 5행으로 고정하고 열은 전체 데이터셋에서 균등하게 배분해서 리턴해줌\n",
    "print(array3)\n",
    "print('array3 shape : ', array3.shape)\n",
    "\n",
    "#위 기능이 중요한 이유: 행열의 곱셈 -> 내적이라고 부름; 전제조건 - 행과 열의 갯수가 동일해야함\n",
    "#                       3차원 매트릭스에서 reshape 코드가 많이 활용됨. \n",
    "#(행이나 열을 고정시키면서 데이터에 대한 내적의 곱 등의 연산을 해야하는 경우에 머신러닝과 딥러닝에서 빈번하게 처리되어짐)"
   ]
  },
  {
   "cell_type": "code",
   "execution_count": 45,
   "id": "8082d0f1",
   "metadata": {},
   "outputs": [
    {
     "ename": "ValueError",
     "evalue": "cannot reshape array of size 10 into shape (4)",
     "output_type": "error",
     "traceback": [
      "\u001b[1;31m---------------------------------------------------------------------------\u001b[0m",
      "\u001b[1;31mValueError\u001b[0m                                Traceback (most recent call last)",
      "Cell \u001b[1;32mIn[45], line 2\u001b[0m\n\u001b[0;32m      1\u001b[0m array1 \u001b[38;5;241m=\u001b[39m np\u001b[38;5;241m.\u001b[39marange(\u001b[38;5;241m10\u001b[39m)\n\u001b[1;32m----> 2\u001b[0m array4 \u001b[38;5;241m=\u001b[39m \u001b[43marray1\u001b[49m\u001b[38;5;241;43m.\u001b[39;49m\u001b[43mreshape\u001b[49m\u001b[43m(\u001b[49m\u001b[38;5;241;43m-\u001b[39;49m\u001b[38;5;241;43m1\u001b[39;49m\u001b[43m,\u001b[49m\u001b[43m \u001b[49m\u001b[38;5;241;43m4\u001b[39;49m\u001b[43m)\u001b[49m\n",
      "\u001b[1;31mValueError\u001b[0m: cannot reshape array of size 10 into shape (4)"
     ]
    }
   ],
   "source": [
    "array1 = np.arange(10)\n",
    "array4 = array1.reshape(-1, 4) #행 가변, 열 고정 / 고정된 4개의 칼럼을 가진 row 변경 불가.\n",
    "#하나에 행에는 4개의 데이터를 담아야함. 그렇게 되면 남거나 모자름\n",
    "#데이터가 맞춰서 채워지지 않는다는 에러가 뜸"
   ]
  },
  {
   "cell_type": "code",
   "execution_count": 51,
   "id": "4c705c21",
   "metadata": {},
   "outputs": [
    {
     "name": "stdout",
     "output_type": "stream",
     "text": [
      "[[[0 1]\n",
      "  [2 3]]\n",
      "\n",
      " [[4 5]\n",
      "  [6 7]]] (2, 2, 2)\n",
      "array3d: \n",
      " [[[0, 1], [2, 3]], [[4, 5], [6, 7]]]\n",
      "array4 : \n",
      " [[0], [1], [2], [3], [4], [5], [6], [7]]\n",
      "array4 shape (8, 1)\n",
      "array5 : \n",
      " [[0], [1], [2], [3], [4], [5], [6], [7]]\n",
      "array5 shape (8, 1)\n"
     ]
    }
   ],
   "source": [
    "array1 = np.arange(8)\n",
    "array3d = array1.reshape((2, 2, 2)) #reshape(): 기존에는 두개의 값을 넣어줬었는데 이번에는 세개의 값을 넣어주고 있음 => 3차원으로 8개의 데이터를 변환하도록 함\n",
    "print(array3d, array3d.shape) #2면 2행 2열로 데이터가 잘 담겨져 있는 것을 확인할 수 있음\n",
    "print('array3d: \\n', array3d.tolist()) #reshape을 통해 반환되는 객체에 tolist()의 메소드를 제공해주고 있음\n",
    "                                       # -> 배열 형태의 데이터를 파이썬의 리스트형태로 변환하여 출력해주고 있음 (리스트와 배열의 두드러진 차이점: 콤마(,))\n",
    "    \n",
    "# 3차원 ndarray를 2차원 ndarray로 변환\n",
    "array4 = array3d.reshape(-1, 1) #행열로 변환하는데 가변행, 1열로 바꾸도록 함 => ***원본 ndarray가 어떤 형태이든 2차원 변환 보장***\n",
    "print('array4 : \\n', array4.tolist()) #기존 3차원 데이터가 무조건 2차원으로 변환되어지고 있는 것을 확인할 수 있다. 8행 1열\n",
    "print('array4 shape', array4.shape)\n",
    "\n",
    "# 1차원 ndarray를 2차원 ndarray로 변환\n",
    "array5 = array1.reshape(-1, 1)\n",
    "print('array5 : \\n', array5.tolist()) \n",
    "print('array5 shape', array5.shape) #2차원을 변환하여 리턴된 것을 확인할 수 있음\n",
    "#컬러동영상이나 컬러이미지등의 데이터들이 대표적으로 3차원 데이터들임.\n",
    "#행열 연산에 내적 값들은 2차원배열에 형태로 연산이 수행되어진다. \n",
    "#=> 다차원, 1차원 데이터들을 내부연산을 진행할 때는 2차원으로 변환한 뒤에 연산하고 다시 복원하는 형태로 진행이 되어짐!!"
   ]
  },
  {
   "cell_type": "markdown",
   "id": "7c19649e",
   "metadata": {},
   "source": [
    "### indexing - 넘파이 ndarray의 데이터 세트 선택하기.\n",
    "\n",
    "#### * 1. 특정 데이터 추출 - 단일 값 추출"
   ]
  },
  {
   "cell_type": "code",
   "execution_count": 4,
   "id": "217c3807",
   "metadata": {},
   "outputs": [
    {
     "name": "stdout",
     "output_type": "stream",
     "text": [
      "array1:  [1 2 3 4 5 6 7 8 9]\n",
      "value:  3\n",
      "<class 'numpy.int32'>\n"
     ]
    }
   ],
   "source": [
    "# 1에서부터 9까지의 1차원 ndarray 생성\n",
    "array1 = np.arange(start=1, stop=10) \n",
    "print('array1: ', array1)\n",
    "\n",
    "# index는 0부터 시작하므로 array1[2]는 3번째 index 위치의 데이터 값을 의미\n",
    "value = array1[2]\n",
    "print('value: ', value)\n",
    "print(type(value)) #numpy.int32"
   ]
  },
  {
   "cell_type": "code",
   "execution_count": 5,
   "id": "0ddf5bcc",
   "metadata": {},
   "outputs": [
    {
     "name": "stdout",
     "output_type": "stream",
     "text": [
      "맨 뒤의 값: 9 , 맨 뒤에서 두번째 값: 8\n"
     ]
    }
   ],
   "source": [
    "print('맨 뒤의 값:',array1[-1], ', 맨 뒤에서 두번째 값:', array1[-2]) \n",
    "#자바에서는 허용이 안되지만 파이썬에서는 되는 문법양식으로 음수값을 통해 뒤에서 데이터를 읽어오도록 한다.\n",
    "#=> 넘파이에 의해 생성된 adarray의 배열은 음수값을 통해서 메모리에 접근을 할 때는 \n",
    "#   뒤에서부터 카운팅되는 것임!! -> 파이썬과 동일한 컨셉으로 제공"
   ]
  },
  {
   "cell_type": "code",
   "execution_count": 6,
   "id": "c6375e08",
   "metadata": {},
   "outputs": [
    {
     "name": "stdout",
     "output_type": "stream",
     "text": [
      "array1: [9 2 3 4 5 6 7 8 0]\n"
     ]
    }
   ],
   "source": [
    "# 데이터 값 수정\n",
    "\n",
    "array1[0] = 9 #인덱스 값을 통해 수정할 값을 지정해주면 됨 -> 인덱스로 접근하는 방식의 컨셉 유지\n",
    "array1[8] = 0\n",
    "print('array1:', array1)"
   ]
  },
  {
   "cell_type": "code",
   "execution_count": 9,
   "id": "9df8328d",
   "metadata": {},
   "outputs": [
    {
     "name": "stdout",
     "output_type": "stream",
     "text": [
      "[[1 2 3]\n",
      " [4 5 6]\n",
      " [7 8 9]]\n",
      "(row=0, col=0) index 가리키는 값: 1\n",
      "(row=2, col=1) index 가리키는 값: 8\n"
     ]
    }
   ],
   "source": [
    "# 2차원 ndarray에서 단일 값 추출\n",
    "\n",
    "array1d = np.arange(1, 10)\n",
    "array2d = array1d.reshape(3, 3)\n",
    "print(array2d)\n",
    "\n",
    "print('(row=0, col=0) index 가리키는 값:', array2d[0, 0])\n",
    "print('(row=2, col=1) index 가리키는 값:', array2d[2, 1])"
   ]
  },
  {
   "cell_type": "markdown",
   "id": "ccb97b18",
   "metadata": {},
   "source": [
    "#### * 2. 슬라이싱(slicing) : 슬라이싱은 연속된 인덱스상의 ndarray를 추출하는 방식"
   ]
  },
  {
   "cell_type": "code",
   "execution_count": 12,
   "id": "c351d034",
   "metadata": {},
   "outputs": [
    {
     "name": "stdout",
     "output_type": "stream",
     "text": [
      "[1 2 3]\n",
      "<class 'numpy.ndarray'>\n"
     ]
    }
   ],
   "source": [
    "array1 = np.arange(1, 10)\n",
    "array2 = array1[0:3] #슬라이싱은 콜론(:)으로 접근하는 방법임 => 0번째 인덱스부터 3-1까지의 인덱스 값까지의 값들을 읽어오도록 하는 의미임\n",
    "#일정 구간의 데이터를 콜론을 통해서 읽어오는 방법을 슬라이싱이라고 한다.\n",
    "print(array2)\n",
    "print(type(array2))"
   ]
  },
  {
   "cell_type": "code",
   "execution_count": 13,
   "id": "b2b49871",
   "metadata": {},
   "outputs": [
    {
     "name": "stdout",
     "output_type": "stream",
     "text": [
      "[1 2 3]\n",
      "[4 5 6 7 8 9]\n",
      "[1 2 3 4 5 6 7 8 9]\n"
     ]
    }
   ],
   "source": [
    "# 슬라이싱 기호인 ':' 사이의 시작, 종료 인덱스는 생략 가능.\n",
    "\n",
    "array3 = array1[:3] #콜론을 중심으로 시작값을 생략 (0부터로 카운팅)\n",
    "print(array3)\n",
    "\n",
    "array4 = array1[3:] #콜론을 중심으로 종료값을 생략 (끝값으로 카운팅)\n",
    "print(array4)\n",
    "\n",
    "array5 = array1[:] #콜론만 있는 경우도 가능 => 전체 데이터를 의미\n",
    "print(array5)"
   ]
  },
  {
   "cell_type": "code",
   "execution_count": 18,
   "id": "cd32bed5",
   "metadata": {},
   "outputs": [
    {
     "name": "stdout",
     "output_type": "stream",
     "text": [
      "[[1 2 3]\n",
      " [4 5 6]\n",
      " [7 8 9]]\n",
      "array2d[0:2, 0:2] \n",
      " [[1 2]\n",
      " [4 5]]\n",
      "array2d[:2, :2] \n",
      " [[1 2]\n",
      " [4 5]]\n",
      "array2d[1:3, :] \n",
      " [[4 5 6]\n",
      " [7 8 9]]\n",
      "array2d[:2, 1:] \n",
      " [[2 3]\n",
      " [5 6]]\n"
     ]
    }
   ],
   "source": [
    "# 2차원 ndarray에서 슬라이싱으로 데이터 접근.\n",
    "\n",
    "array1d = np.arange(1, 10)\n",
    "array2d = array1d.reshape(3, 3)\n",
    "print(array2d)\n",
    "\n",
    "print('array2d[0:2, 0:2] \\n', array2d[0:2, 0:2]) #1행~2행, 1열~2열을 출력함\n",
    "print('array2d[:2, :2] \\n', array2d[:2, :2])\n",
    "print('array2d[1:3, :] \\n', array2d[1:3, :]) #2행과 3행(인덱스값으로는 1, 2임 / 0부터 시작), 모든 열을 출력한다는 의미\n",
    "print('array2d[:2, 1:] \\n', array2d[:2, 1:]) #처음부터 1번 인덱스까지의 행 / 1부터 끝까지의 열"
   ]
  },
  {
   "cell_type": "code",
   "execution_count": 21,
   "id": "57bb35bb",
   "metadata": {},
   "outputs": [
    {
     "name": "stdout",
     "output_type": "stream",
     "text": [
      "[1 2 3]\n",
      "[4 5 6]\n",
      "array2d[0] shape: (3,)\n"
     ]
    }
   ],
   "source": [
    "# 2차원 ndarray에서 뒤에 오는 인덱스를 없애면 1차원 ndarray를 반환.\n",
    "\n",
    "print(array2d[0]) # row축(axis 0)의 첫번째 row ndarray(1차원)를 반환.\n",
    "#단일 인덱스로 지정 => 하나의 행의 데이터만을 출력해주면서 1차원 배열로 출력이 되어진다.\n",
    "print(array2d[1])\n",
    "\n",
    "print('array2d[0] shape:', array2d[0].shape) #백터형일 경우에는 튜플형태로 값을 출력해줘야하기 때문에 shape를 출력하면 ,와 함께 데이터를 보여줌"
   ]
  },
  {
   "cell_type": "markdown",
   "id": "95e9f6e4",
   "metadata": {},
   "source": [
    "#### * 3. fancy indexing \n",
    "   : 리스트나 ndarray로 인덱스 집합을 지정하면 해당 위치의 인덱스에 해당하는 ndarray를 반환하는 인덱스 방식."
   ]
  },
  {
   "cell_type": "code",
   "execution_count": 26,
   "id": "13f0e9ac",
   "metadata": {},
   "outputs": [
    {
     "name": "stdout",
     "output_type": "stream",
     "text": [
      "[[1 2 3]\n",
      " [4 5 6]\n",
      " [7 8 9]]\n",
      "array2d[[0, 2],2] => [3 9]\n",
      "(2,)\n",
      "array2d[[0, 1],0:2] => [[1 2]\n",
      " [4 5]]\n",
      "array2d[[0, 1]] => [[1 2 3]\n",
      " [4 5 6]]\n"
     ]
    }
   ],
   "source": [
    "array1d = np.arange(1, 10)\n",
    "array2d = array1d.reshape(3, 3)\n",
    "print(array2d)\n",
    "\n",
    "array3 = array2d[[0, 2],2] #연속적인 값이 아닌 특정 위치의 값을 읽어오고 싶을 때는 []대괄호를 활용한다.\n",
    "print('array2d[[0, 2],2] =>', array2d[[0, 2],2]) #0과 2의 인덱스 행에 접근해서 2의 인덱스 열을 출력한다. => 연속된 1차원 배열값으로 출력해줌 [3 9]\n",
    "print(array2d[[0, 2],2].shape)\n",
    "\n",
    "array4 = array2d[[0, 1],0:2] \n",
    "print('array2d[[0, 1],0:2] =>', array2d[[0, 1],0:2]) # 0과 1의 인덱스에 위치하는 행을 출력해주는데 열은 1~2를 출력한다.\n",
    "\n",
    "array5 = array2d[[0, 1]] # array2d[0, 1]와 구별\n",
    "print('array2d[[0, 1]] =>', array2d[[0, 1]]) #단일행을 지정한 것이다. => 0과 1 인덱스에 위치하는 행들을 출력해줌 / 2차원 배열형으로 출력해주고 있음\n",
    "#리턴이 되어지는 차원이 다르기 때문에 구분을 할 수 있어야 한다."
   ]
  },
  {
   "cell_type": "markdown",
   "id": "05716c12",
   "metadata": {},
   "source": [
    "#### * 4. Boolean indexing\n",
    ": 조건 필터링과 검색을 동시에 할 수 있기 때문에 매우 자주 사용."
   ]
  },
  {
   "cell_type": "code",
   "execution_count": 27,
   "id": "8f881a5b",
   "metadata": {},
   "outputs": [
    {
     "name": "stdout",
     "output_type": "stream",
     "text": [
      "array1d > 5 불린 인덱싱 결과 값: [6 7 8 9]\n"
     ]
    }
   ],
   "source": [
    "array1d = np.arange(1, 10)\n",
    "\n",
    "array2 = array1d[array1d > 5] #비교연산자와 함께 인덱스의 위치를 지정해주는 코드가 가능함\n",
    "print('array1d > 5 불린 인덱싱 결과 값:', array2) #조건에 맞는 인덱스만이 출력되어지는 것을 확인할 수 있음\n",
    "#검색을 동시에 할 수 있기 때문에 전처리에 아주 많이 사용되는 접근의 방법이다. => 이 부분을 잘 체크하고 있기"
   ]
  },
  {
   "cell_type": "code",
   "execution_count": 28,
   "id": "1648b033",
   "metadata": {},
   "outputs": [
    {
     "data": {
      "text/plain": [
       "array([False, False, False, False, False,  True,  True,  True,  True])"
      ]
     },
     "execution_count": 28,
     "metadata": {},
     "output_type": "execute_result"
    }
   ],
   "source": [
    "array1d > 5 #만족하지 않을 때는 False, 만족할 때는 True 반환 => boolean을 기반하여 해당 결과값들에 대한 처리를 수행하는 개념이 boolean indexing이다."
   ]
  },
  {
   "cell_type": "code",
   "execution_count": 30,
   "id": "75e52358",
   "metadata": {},
   "outputs": [
    {
     "name": "stdout",
     "output_type": "stream",
     "text": [
      "[False False False False False  True  True  True  True]\n",
      "불린 인덱스로 필터링 결과: [6 7 8 9]\n"
     ]
    }
   ],
   "source": [
    "boolean_indexes = np.array([False, False, False, False, False,  True,  True,  True,  True])\n",
    "print(boolean_indexes) #백터의 데이터가 담겨져 있는 형국이 됨.\n",
    "\n",
    "array3 = array1d[boolean_indexes]\n",
    "print('불린 인덱스로 필터링 결과:',array3) \n",
    "#1~9까지 담겨져 있는 배열에 boolean값이 담겨진 데이터를 인덱스에 넣어주면\n",
    "#true에 해당하는 값들이 매핑이 되어져서 출력되는 것을 결과로 확인할 수 있다."
   ]
  },
  {
   "cell_type": "code",
   "execution_count": 31,
   "id": "859fbb0b",
   "metadata": {},
   "outputs": [
    {
     "name": "stdout",
     "output_type": "stream",
     "text": [
      "일반 인덱스로 필터링 결과:  [6 7 8 9]\n"
     ]
    }
   ],
   "source": [
    "indexes = np.array([5, 6, 7, 8])\n",
    "array4 = array1d[indexes] # 1~10의 값\n",
    "print('일반 인덱스로 필터링 결과: ', array4) #indexes의 값을 인덱스로 넣게 되면 array1d배열과 매핑되어 인덱스에 해당하는 값들이 출력됨 "
   ]
  },
  {
   "cell_type": "code",
   "execution_count": 32,
   "id": "dbebb544",
   "metadata": {},
   "outputs": [
    {
     "ename": "IndexError",
     "evalue": "too many indices for array: array is 1-dimensional, but 4 were indexed",
     "output_type": "error",
     "traceback": [
      "\u001b[1;31m---------------------------------------------------------------------------\u001b[0m",
      "\u001b[1;31mIndexError\u001b[0m                                Traceback (most recent call last)",
      "Cell \u001b[1;32mIn[32], line 2\u001b[0m\n\u001b[0;32m      1\u001b[0m \u001b[38;5;66;03m# 주의\u001b[39;00m\n\u001b[1;32m----> 2\u001b[0m array5 \u001b[38;5;241m=\u001b[39m \u001b[43marray1d\u001b[49m\u001b[43m[\u001b[49m\u001b[38;5;241;43m5\u001b[39;49m\u001b[43m,\u001b[49m\u001b[43m \u001b[49m\u001b[38;5;241;43m6\u001b[39;49m\u001b[43m,\u001b[49m\u001b[43m \u001b[49m\u001b[38;5;241;43m7\u001b[39;49m\u001b[43m,\u001b[49m\u001b[43m \u001b[49m\u001b[38;5;241;43m8\u001b[39;49m\u001b[43m]\u001b[49m\n\u001b[0;32m      3\u001b[0m \u001b[38;5;28mprint\u001b[39m(\u001b[38;5;124m'\u001b[39m\u001b[38;5;124m일반 인덱스로 필터링 결과: \u001b[39m\u001b[38;5;124m'\u001b[39m, array5)\n",
      "\u001b[1;31mIndexError\u001b[0m: too many indices for array: array is 1-dimensional, but 4 were indexed"
     ]
    }
   ],
   "source": [
    "# 주의\n",
    "array5 = array1d[5, 6, 7, 8] #4차원 배열에 접근하는 것임 -> 그래서 에러남\n",
    "print('일반 인덱스로 필터링 결과: ', array5)"
   ]
  },
  {
   "cell_type": "markdown",
   "id": "00892373",
   "metadata": {},
   "source": [
    "### 행렬의 정렬 - sort()와 argsort()"
   ]
  },
  {
   "cell_type": "code",
   "execution_count": 37,
   "id": "e956d2c9",
   "metadata": {},
   "outputs": [
    {
     "name": "stdout",
     "output_type": "stream",
     "text": [
      "원본 행렬: [3 1 9 5]\n",
      "np.sort() 호출 후 반환된 정렬 행렬: [1 3 5 9]\n",
      "np.sort() 호출 후 원본 행렬: [3 1 9 5]\n",
      "ndarray.sort() 호출 후 반환된 정렬 행렬: None\n",
      "ndarray.sort() 호출 후 원본 행렬: [1 3 5 9]\n"
     ]
    }
   ],
   "source": [
    "org_array = np.array([3, 1, 9, 5])\n",
    "print('원본 행렬:', org_array)\n",
    "\n",
    "# np.sort()로 정렬\n",
    "sort_array1 = np.sort(org_array)\n",
    "print('np.sort() 호출 후 반환된 정렬 행렬:', sort_array1)\n",
    "print('np.sort() 호출 후 원본 행렬:', org_array) #정렬을 하고 난 뒤에도 데이터가 그대로 유지되고 있음\n",
    "\n",
    "# 배열 객체의 자체 내에서도 정렬의 메소드가 제공됨 - sort()\n",
    "# 주의) ndarray.sort()로 정렬: 자체 원본에 대한 내용을 수정.\n",
    "sort_array2 = org_array.sort()\n",
    "print('ndarray.sort() 호출 후 반환된 정렬 행렬:', sort_array2) # None으로 반환됨\n",
    "print('ndarray.sort() 호출 후 원본 행렬:', org_array)          #원래 담겨진 값들이 정렬되어지고 있음\n",
    "#위 실습은 함수의 sort와 배열의 메소드로 제공되는 sort기능의 차이이다. \n",
    "#=> 정렬의 방법은 두 가지를 사용할 수 있는데 현재 내 데이터 자체를 정렬을 해서 \n",
    "#   업데이트 하고 싶다고 할 때는 배열의 메소드인 sort를 이용하면 됨"
   ]
  },
  {
   "cell_type": "code",
   "execution_count": 38,
   "id": "f34d3726",
   "metadata": {},
   "outputs": [
    {
     "name": "stdout",
     "output_type": "stream",
     "text": [
      "내림차순으로 정렬:  [9 5 3 1]\n"
     ]
    }
   ],
   "source": [
    "sort_array1_dest = np.sort(org_array)[::-1] #정렬된 데이터 혹은 정렬되지 않은 데이터를 내림차순 정렬\n",
    "print('내림차순으로 정렬: ', sort_array1_dest) #[9 5 3 1]"
   ]
  },
  {
   "cell_type": "code",
   "execution_count": 40,
   "id": "68b5a398",
   "metadata": {},
   "outputs": [
    {
     "name": "stdout",
     "output_type": "stream",
     "text": [
      "로우 방향(행)으로 정렬:\n",
      " [[ 7  1]\n",
      " [ 8 12]]\n",
      "컬럼 방향(열)으로 정렬:\n",
      " [[ 8 12]\n",
      " [ 1  7]]\n"
     ]
    }
   ],
   "source": [
    "array2d = np.array([[8, 12], [7, 1]]) #2행 2열\n",
    "\n",
    "sort_array2d_axis0 = np.sort(array2d, axis=0) #매트릭스 데이터를 입력으로 넣음\n",
    "#axis=0 -> 행을 중심으로 정렬하라는 지정을 해주고 있는 것임 / axis(축) => 0은 행을 의미하고 1은 열을 의미한다.\n",
    "print('로우 방향(행)으로 정렬:\\n', sort_array2d_axis0) \n",
    "\n",
    "sort_array2d_axis1 = np.sort(array2d, axis=1) \n",
    "print('컬럼 방향(열)으로 정렬:\\n', sort_array2d_axis1)\n",
    "# 열을 축으로 정렬하게 되면 안에 데이터를 바라보게 됨 => 따라서 행은 그대로 순서를 지키고, 열의 값을 정렬시킨 것임"
   ]
  },
  {
   "cell_type": "code",
   "execution_count": 41,
   "id": "77ff3633",
   "metadata": {},
   "outputs": [
    {
     "name": "stdout",
     "output_type": "stream",
     "text": [
      "<class 'numpy.ndarray'>\n",
      "행렬 정렬 시 원본 행렬의 인덱스: [1 0 3 2]\n"
     ]
    }
   ],
   "source": [
    "#넘파이에서는 2차원부터 행, 열이라는 용어를 사용하지 않는다. 2차원부터는 축이라는 표현을 사용함 / 행의 의미는 0으로, 열의 의미는 1로 잡음. \n",
    "#3차원배열은 면, 행, 열의 개념이 넘파이에서 존재하지 않음. 따라서 면은 0, 행은 1, 열은 2로 표현\n",
    "\n",
    "# 정렬 행렬의 인덱스 반환 =>  argsort() \n",
    "\n",
    "org_array = np.array([3, 1, 9, 5])\n",
    "sort_indices = np.argsort(org_array) \n",
    "#오름차순으로 정렬 (1, 3, 5, 9) -> 정렬 후 argsort는 인덱스값을 리턴!(정렬된 인덱스값을 반환해주는 것임. -> 1, 0, 3, 2 (인덱스))\n",
    "print(type(sort_indices))\n",
    "print('행렬 정렬 시 원본 행렬의 인덱스:', sort_indices)\n",
    "#반환의 값도 배열로 반환, 리턴의 값도 정렬된 인덱스값을 출력"
   ]
  },
  {
   "cell_type": "code",
   "execution_count": 42,
   "id": "519e3d90",
   "metadata": {},
   "outputs": [
    {
     "name": "stdout",
     "output_type": "stream",
     "text": [
      "<class 'numpy.ndarray'>\n",
      "행렬 내림 차순 정렬 시 원본 행렬의 인덱스: [2 3 0 1]\n"
     ]
    }
   ],
   "source": [
    "org_array = np.array([3, 1, 9, 5])\n",
    "sort_indices_desc = np.argsort(org_array)[::-1] \n",
    "print(type(sort_indices_desc))\n",
    "print('행렬 내림 차순 정렬 시 원본 행렬의 인덱스:', sort_indices_desc)"
   ]
  },
  {
   "cell_type": "code",
   "execution_count": 43,
   "id": "c5ff6598",
   "metadata": {},
   "outputs": [
    {
     "name": "stdout",
     "output_type": "stream",
     "text": [
      "성적 오름차순 정렬 시 score_array의 인덱스: [0 2 4 1 3]\n",
      "성적 오름차순으로 name_array의 이름 출력: ['John' 'Sarah' 'Samuel' 'Mike' 'Kate']\n"
     ]
    }
   ],
   "source": [
    "name_array = np.array(['John', 'Mike', 'Sarah', 'Kate', 'Samuel'])\n",
    "score_array = np.array([78, 95, 84, 98, 88])\n",
    "\n",
    "sort_indices_asc = np.argsort(score_array)\n",
    "print('성적 오름차순 정렬 시 score_array의 인덱스:', sort_indices_asc)\n",
    "print('성적 오름차순으로 name_array의 이름 출력:', name_array[sort_indices_asc])"
   ]
  },
  {
   "cell_type": "markdown",
   "id": "9487238d",
   "metadata": {},
   "source": [
    "### list   vs   ndarray"
   ]
  },
  {
   "cell_type": "code",
   "execution_count": 50,
   "id": "a796c696",
   "metadata": {},
   "outputs": [
    {
     "name": "stdout",
     "output_type": "stream",
     "text": [
      "[1, 2, 3] [4, 5, 6] [1, 2, 3, 4, 5, 6]\n",
      "<class 'list'> <class 'list'>\n"
     ]
    }
   ],
   "source": [
    "x1 = [1, 2, 3]\n",
    "x2 = [4, 5, 6]\n",
    "x3 = x1 + x2 #두 리스트를 덧셈(+)연산했을 때 => 리스트는 결합시켜줬음\n",
    "\n",
    "print(x1, x2, x3)\n",
    "print(type(x1), type(x2))"
   ]
  },
  {
   "cell_type": "code",
   "execution_count": 51,
   "id": "0fa18a1b",
   "metadata": {},
   "outputs": [
    {
     "name": "stdout",
     "output_type": "stream",
     "text": [
      "[1 2 3] [4 5 6] [5 7 9]\n",
      "<class 'numpy.ndarray'> <class 'numpy.ndarray'>\n"
     ]
    }
   ],
   "source": [
    "x4 = np.array([1, 2, 3])\n",
    "x5 = np.array([4, 5, 6])\n",
    "x6 = x4 + x5 #배열자체에 데이터들에 대한 덧셈을 수행한 결과를 리턴해준다.\n",
    "\n",
    "print(x4, x5, x6)\n",
    "print(type(x4), type(x5))"
   ]
  },
  {
   "cell_type": "code",
   "execution_count": 52,
   "id": "313a3871",
   "metadata": {},
   "outputs": [
    {
     "name": "stdout",
     "output_type": "stream",
     "text": [
      "[11 12 13]\n",
      "[12 13 14]\n",
      "[13 14 15]\n"
     ]
    }
   ],
   "source": [
    "x = np.array([10, 11, 12])\n",
    "\n",
    "#스칼라 변수와 백터를 연산하면 연산의 결과가 백터 데이터의 각각에다가 스칼라값을 더한 결과로 리턴을 해주고 있음\n",
    "for i in np.arange(1, 4): #1 2 3\n",
    "    print(i + x) \n",
    "    # 연산의 과정을 3번 반복하는 것임. => 따라서 세 개의 백터의 데이터가 출력됨"
   ]
  },
  {
   "cell_type": "code",
   "execution_count": 53,
   "id": "83922145",
   "metadata": {},
   "outputs": [
    {
     "name": "stdout",
     "output_type": "stream",
     "text": [
      "x = [1 1]\n",
      "y = [1 1]\n"
     ]
    }
   ],
   "source": [
    "# ndarray형의 주의점\n",
    "\n",
    "x = np.array([1, 1])\n",
    "y = x \n",
    "#x에 담겨진 데이터가 저장되어지는 개념이 아님\n",
    "#실질적으로 array는 입력으로 저장된 데이터를 자체적인 메모리 할당하면서 \n",
    "#할당된 메모리에 배열의 형태로 데이터를 보관함. 이후에 주소를 리턴해주는 것. \n",
    "#=> y에 x를 저장하라는 것은 그 데이터가 저장되어져 있는 주소값이 y에 저장되는 것이기 때문에 \n",
    "#   하나의 메모리 공간을 x와 y의 변수가 같이 쳐다보는 의미가 된다.\n",
    "\n",
    "print('x = ' + str(x))\n",
    "print('y = ' + str(y))"
   ]
  },
  {
   "cell_type": "code",
   "execution_count": 54,
   "id": "21c8a712",
   "metadata": {},
   "outputs": [
    {
     "name": "stdout",
     "output_type": "stream",
     "text": [
      "x = [100   1]\n",
      "y = [100   1]\n"
     ]
    }
   ],
   "source": [
    "x[0] = 100\n",
    "#x값을 변경했는데 출력을 해보면 y값도 같이 변경이 되어져 있음\n",
    "#바라보는 위치값을 동시에 바라보는 개념이기 때문에 실제 데이터가 변경되면 x로 접근을 하든 y로 접근을 하든 같은 값이 출력되는 것임\n",
    "\n",
    "print('x = ' + str(x))\n",
    "print('y = ' + str(y))"
   ]
  },
  {
   "cell_type": "code",
   "execution_count": 55,
   "id": "cc76ffec",
   "metadata": {},
   "outputs": [
    {
     "name": "stdout",
     "output_type": "stream",
     "text": [
      "x1 = [1 1]\n",
      "x2 = [1 1]\n"
     ]
    }
   ],
   "source": [
    "x1 = np.array([1, 1])\n",
    "x2 = x1.copy() \n",
    "# 원래 x1이 가지고 있는 값을 똑같은 크기만큼 메모리를 별도로 할당을 하고 그 공간에 그대로 복사를 해주는 것임. \n",
    "# -> 새롭게 메모리를 할당한 것이기 때문에 새로운 시작 주소값을 리턴함.\n",
    "\n",
    "print('x1 = ' + str(x1))\n",
    "print('x2 = ' + str(x2))\n",
    "#이 경우에서는 copy메소드에 의해서 데이터가 복사되었기 때문에 출력되는 값이 동일함"
   ]
  },
  {
   "cell_type": "code",
   "execution_count": 56,
   "id": "d4236ecb",
   "metadata": {},
   "outputs": [
    {
     "name": "stdout",
     "output_type": "stream",
     "text": [
      "x1 = [100   1]\n",
      "x2 = [1 1]\n"
     ]
    }
   ],
   "source": [
    "x1[0] = 100\n",
    "\n",
    "print('x1 = ' + str(x1))\n",
    "print('x2 = ' + str(x2))\n",
    "#복사된 값이기 때문에 변경시킨 값만 변경된 것을 결과로 확인할 수 있다."
   ]
  },
  {
   "cell_type": "markdown",
   "id": "9ae59269",
   "metadata": {},
   "source": [
    "### - 요소가 랜덤인 행렬 생성"
   ]
  },
  {
   "cell_type": "code",
   "execution_count": 57,
   "id": "b4153333",
   "metadata": {},
   "outputs": [
    {
     "name": "stdout",
     "output_type": "stream",
     "text": [
      "[[0.92048288 0.07701865 0.02465094]\n",
      " [0.70085511 0.62591524 0.84842476]]\n"
     ]
    }
   ],
   "source": [
    "randArray = np.random.rand(2, 3) # 0~1 사이의 균일한 분포를 이루는 데이터셋에서 랜덤한 값을 반환해주는 함수임\n",
    "#2행 3열의 데이터를 생성해서 0과 1사이 데이터셋으로부터 랜덤한 값을 담아줌\n",
    "print(randArray)"
   ]
  },
  {
   "cell_type": "code",
   "execution_count": 65,
   "id": "84362bfa",
   "metadata": {},
   "outputs": [
    {
     "name": "stdout",
     "output_type": "stream",
     "text": [
      "[[ 0.20807311 -0.26076913 -0.52991509]\n",
      " [-0.57219666  1.17052457  1.33475294]]\n"
     ]
    }
   ],
   "source": [
    "randnArray = np.random.randn(2, 3) # 평균 0, 분산 1 가우스 분포(=표준정규분포)로 난수를 생성.\n",
    "\n",
    "print(randnArray) \n",
    "#행렬의 정보만 입력으로 넣어주게 되면 2행 3열을 생성하면서 \n",
    "#표준 정규분포를 따르는 데이터셋에서 랜덤하게 값을 발생시키면서 초기화하여 배열로 반환함"
   ]
  },
  {
   "cell_type": "code",
   "execution_count": 66,
   "id": "7386b0b1",
   "metadata": {},
   "outputs": [
    {
     "name": "stdout",
     "output_type": "stream",
     "text": [
      "[[17 14 16]\n",
      " [10 18 14]]\n"
     ]
    }
   ],
   "source": [
    "randintArray = np.random.randint(10, 20, (2, 3)) #(범위값 지정 해주면 됨 -> 10~20사이에 랜덤하게 발생시켜달라는 의미, (행, 열))\n",
    "print(randintArray)"
   ]
  },
  {
   "cell_type": "code",
   "execution_count": 69,
   "id": "502dbc90",
   "metadata": {},
   "outputs": [
    {
     "data": {
      "image/png": "[encoded data removed]",
      "text/plain": [
       "<Figure size 640x480 with 1 Axes>"
      ]
     },
     "metadata": {},
     "output_type": "display_data"
    }
   ],
   "source": [
    "#확률 밀도 값에서도 데이터를 추출할 수 있음\n",
    "# np.random.normal(정규분포 평균, 표준편차, (행, 열) or 개수)\n",
    "# - 정규 분포 확률 밀도에서 표본을 추출해서 데이터를 생성해주는 기능의 함수이다.\n",
    "\n",
    "mean = 0 # 평균\n",
    "std = 1  # 표준편차\n",
    "arr_normal = np.random.normal(mean, std, 10000) #10000개의 데이터 표본을 추출해서 변수에 담아주게 됨\n",
    "\n",
    "plt.hist(arr_normal, bins=100) # bins: 나누는 구간 갯수(100개 정도로 더 잘게 나누어 보라는 의미)\n",
    "plt.show() #좌우 대칭의 정규분포를 이루는 만개의 데이터가 랜덤하게 반환이 되어져서 시각화해준 것임"
   ]
  },
  {
   "cell_type": "code",
   "execution_count": 70,
   "id": "ac06b9a5",
   "metadata": {},
   "outputs": [
    {
     "name": "stdout",
     "output_type": "stream",
     "text": [
      "[[0.31999917 0.16579945]\n",
      " [0.56016219 0.13827941]\n",
      " [0.69769642 0.34708218]]\n"
     ]
    }
   ],
   "source": [
    "# np.random.random((행, 열) or size) : (행, 열)의 정규분포로 난수(0~1 사이) 생성\n",
    "\n",
    "arr_random = np.random.random((3, 2)) #넘파이에서 제공되는 모듈에서 수행되는 함수이기 때문에 자료형도 행렬의 형태로 결과를 반환해줌\n",
    "print(arr_random)"
   ]
  },
  {
   "cell_type": "code",
   "execution_count": 71,
   "id": "f502c074",
   "metadata": {},
   "outputs": [
    {
     "data": {
      "image/png": "[encoded data removed]",
      "text/plain": [
       "<Figure size 640x480 with 1 Axes>"
      ]
     },
     "metadata": {},
     "output_type": "display_data"
    }
   ],
   "source": [
    "data = np.random.random(10000) # size / 랜덤한 만개의 데이터를 정규분포를 따르는 분포곡선 내에서 발생\n",
    "\n",
    "plt.hist(data, bins=100)\n",
    "plt.show()"
   ]
  },
  {
   "cell_type": "markdown",
   "id": "58dac53a",
   "metadata": {},
   "source": [
    "## - Numpy에서 np.sum() 함수의 axis 이해"
   ]
  },
  {
   "cell_type": "code",
   "execution_count": 4,
   "id": "1cf56474",
   "metadata": {},
   "outputs": [
    {
     "name": "stdout",
     "output_type": "stream",
     "text": [
      "[ 0  1  2  3  4  5  6  7  8  9 10 11 12 13 14 15 16 17 18 19 20 21 22 23]\n"
     ]
    }
   ],
   "source": [
    "arr = np.arange(0, 24) #백터형태로 데이터 생성\n",
    "print(arr)"
   ]
  },
  {
   "cell_type": "code",
   "execution_count": 6,
   "id": "f45eddf2",
   "metadata": {},
   "outputs": [
    {
     "data": {
      "text/plain": [
       "array([[[ 0,  1,  2,  3],\n",
       "        [ 4,  5,  6,  7],\n",
       "        [ 8,  9, 10, 11]],\n",
       "\n",
       "       [[12, 13, 14, 15],\n",
       "        [16, 17, 18, 19],\n",
       "        [20, 21, 22, 23]]])"
      ]
     },
     "execution_count": 6,
     "metadata": {},
     "output_type": "execute_result"
    }
   ],
   "source": [
    "v = arr.reshape([2, 3, 4]) # 2면 3행 4열 : 차원 변환([z축(depth)], x축(row), y축(column))\n",
    "#넘파이에서는 면행렬이라는 단어를 사용하지 않고 축을 사용함\n",
    "v"
   ]
  },
  {
   "cell_type": "code",
   "execution_count": 8,
   "id": "c6e22ecd",
   "metadata": {},
   "outputs": [
    {
     "name": "stdout",
     "output_type": "stream",
     "text": [
      "(2, 3, 4)\n",
      "3\n"
     ]
    }
   ],
   "source": [
    "print(v.shape)\n",
    "print(v.ndim) #ndim: 차원에 대한 필드"
   ]
  },
  {
   "cell_type": "code",
   "execution_count": 9,
   "id": "630a3a9c",
   "metadata": {},
   "outputs": [
    {
     "name": "stdout",
     "output_type": "stream",
     "text": [
      "276\n"
     ]
    }
   ],
   "source": [
    "print(v.sum()) #데이터에 대한 합 -> 모든 element의 합"
   ]
  },
  {
   "cell_type": "code",
   "execution_count": 11,
   "id": "2b7f9949",
   "metadata": {},
   "outputs": [
    {
     "name": "stdout",
     "output_type": "stream",
     "text": [
      "[[12 14 16 18]\n",
      " [20 22 24 26]\n",
      " [28 30 32 34]]\n",
      "(3, 4)\n"
     ]
    }
   ],
   "source": [
    "result = v.sum(axis=0) #면을 기준으로 데이터들을 개별적으로 합함\n",
    "print(result)\n",
    "#axis를 0으로 지정하게되면 바라보는 면끼리 데이터를 합하라는 의미 -> 합쳐지면서 면이 사라짐(행과 열만 남기 때문에 2차원)\n",
    "#결과적으로 2차원이 결과로 출력이 될 것이다.\n",
    "print(result.shape)"
   ]
  },
  {
   "cell_type": "code",
   "execution_count": 12,
   "id": "9e2c7b10",
   "metadata": {},
   "outputs": [
    {
     "name": "stdout",
     "output_type": "stream",
     "text": [
      "[[12 15 18 21]\n",
      " [48 51 54 57]]\n",
      "(2, 4)\n"
     ]
    }
   ],
   "source": [
    "result = v.sum(axis=1) #axis = 1일 때는 행을 의미함 / 행을 중심으로 덧셈을 하는 것(행단위로 덧셈)\n",
    "print(result) #한 행씩 더해서 하나의 값으로 추출하는 것임 \n",
    "print(result.shape)"
   ]
  },
  {
   "cell_type": "code",
   "execution_count": null,
   "id": "cbec17bf",
   "metadata": {},
   "outputs": [],
   "source": []
  },
  {
   "cell_type": "code",
   "execution_count": null,
   "id": "62d3caca",
   "metadata": {},
   "outputs": [],
   "source": []
  },
  {
   "cell_type": "code",
   "execution_count": null,
   "id": "fb584cae",
   "metadata": {},
   "outputs": [],
   "source": []
  },
  {
   "cell_type": "code",
   "execution_count": null,
   "id": "3ccaa015",
   "metadata": {},
   "outputs": [],
   "source": []
  },
  {
   "cell_type": "code",
   "execution_count": null,
   "id": "e8de230a",
   "metadata": {},
   "outputs": [],
   "source": []
  }
 ],
 "metadata": {
  "kernelspec": {
   "display_name": "Python [conda env:tf_cpu] *",
   "language": "python",
   "name": "conda-env-tf_cpu-py"
  },
  "language_info": {
   "codemirror_mode": {
    "name": "ipython",
    "version": 3
   },
   "file_extension": ".py",
   "mimetype": "text/x-python",
   "name": "python",
   "nbconvert_exporter": "python",
   "pygments_lexer": "ipython3",
   "version": "3.8.16"
  }
 },
 "nbformat": 4,
 "nbformat_minor": 5
}
