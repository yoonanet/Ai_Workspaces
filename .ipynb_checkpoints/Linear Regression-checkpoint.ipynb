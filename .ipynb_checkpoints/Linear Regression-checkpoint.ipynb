{
 "cells": [
  {
   "cell_type": "code",
   "execution_count": 1,
   "id": "9322c715",
   "metadata": {},
   "outputs": [],
   "source": [
    "import pandas as pd\n",
    "import numpy as np\n",
    "import matplotlib.pyplot as plt\n",
    "import seaborn as sns\n",
    "from sklearn.linear_model import LinearRegression, ElasticNet, Lasso, Ridge\n",
    "from sklearn.tree import DecisionTreeRegressor\n",
    "from sklearn.ensemble import RandomForestRegressor\n",
    "from sklearn.preprocessing import  LabelEncoder\n",
    "from sklearn.model_selection import TimeSeriesSplit\n",
    "from sklearn.metrics import mean_squared_error\n",
    "import xgboost as xgb\n",
    "import re\n",
    "from sklearn.model_selection import train_test_split\n",
    "from sklearn.preprocessing import MinMaxScaler"
   ]
  },
  {
   "cell_type": "code",
   "execution_count": 2,
   "id": "b4f1aca2",
   "metadata": {},
   "outputs": [
    {
     "name": "stderr",
     "output_type": "stream",
     "text": [
      "C:\\Users\\tjoeun\\AppData\\Local\\Temp\\ipykernel_15148\\2452553243.py:2: DtypeWarning: Columns (10) have mixed types. Specify dtype option on import or set low_memory=False.\n",
      "  df = pd.read_csv('./project2_data/apt3month.csv')\n"
     ]
    }
   ],
   "source": [
    "# 데이터 불러오기\n",
    "df = pd.read_csv('./project2_data/apt3month.csv')\n",
    "\n",
    "#df = df.dropna(axis=0) # 행에 있는 na데이터 제거\n",
    "#df = df.fillna(df.mean()) # 결측데이터 평균으로 바꾸기"
   ]
  },
  {
   "cell_type": "code",
   "execution_count": 3,
   "id": "e1808cd0",
   "metadata": {
    "scrolled": true
   },
   "outputs": [
    {
     "name": "stdout",
     "output_type": "stream",
     "text": [
      "(51119, 19)\n"
     ]
    },
    {
     "data": {
      "text/html": [
       "<div>\n",
       "<style scoped>\n",
       "    .dataframe tbody tr th:only-of-type {\n",
       "        vertical-align: middle;\n",
       "    }\n",
       "\n",
       "    .dataframe tbody tr th {\n",
       "        vertical-align: top;\n",
       "    }\n",
       "\n",
       "    .dataframe thead th {\n",
       "        text-align: right;\n",
       "    }\n",
       "</style>\n",
       "<table border=\"1\" class=\"dataframe\">\n",
       "  <thead>\n",
       "    <tr style=\"text-align: right;\">\n",
       "      <th></th>\n",
       "      <th>시군구</th>\n",
       "      <th>번지</th>\n",
       "      <th>본번</th>\n",
       "      <th>부번</th>\n",
       "      <th>단지명</th>\n",
       "      <th>전월세구분</th>\n",
       "      <th>전용면적(㎡)</th>\n",
       "      <th>계약년월</th>\n",
       "      <th>계약일</th>\n",
       "      <th>보증금(만원)</th>\n",
       "      <th>월세(만원)</th>\n",
       "      <th>층</th>\n",
       "      <th>건축년도</th>\n",
       "      <th>도로명</th>\n",
       "      <th>계약기간</th>\n",
       "      <th>계약구분</th>\n",
       "      <th>갱신요구권 사용</th>\n",
       "      <th>종전계약 보증금 (만원)</th>\n",
       "      <th>종전계약 월세 (만원)</th>\n",
       "    </tr>\n",
       "  </thead>\n",
       "  <tbody>\n",
       "    <tr>\n",
       "      <th>0</th>\n",
       "      <td>서울특별시 강남구 개포동</td>\n",
       "      <td>658-1</td>\n",
       "      <td>658.0</td>\n",
       "      <td>1.0</td>\n",
       "      <td>개포6차우성아파트1동~8동</td>\n",
       "      <td>전세</td>\n",
       "      <td>79.97</td>\n",
       "      <td>202001</td>\n",
       "      <td>3</td>\n",
       "      <td>43,000</td>\n",
       "      <td>0</td>\n",
       "      <td>1</td>\n",
       "      <td>1987</td>\n",
       "      <td>언주로 3</td>\n",
       "      <td>-</td>\n",
       "      <td>-</td>\n",
       "      <td>-</td>\n",
       "      <td>NaN</td>\n",
       "      <td>NaN</td>\n",
       "    </tr>\n",
       "    <tr>\n",
       "      <th>1</th>\n",
       "      <td>서울특별시 강남구 개포동</td>\n",
       "      <td>658-1</td>\n",
       "      <td>658.0</td>\n",
       "      <td>1.0</td>\n",
       "      <td>개포6차우성아파트1동~8동</td>\n",
       "      <td>전세</td>\n",
       "      <td>79.97</td>\n",
       "      <td>202001</td>\n",
       "      <td>17</td>\n",
       "      <td>45,000</td>\n",
       "      <td>0</td>\n",
       "      <td>5</td>\n",
       "      <td>1987</td>\n",
       "      <td>언주로 3</td>\n",
       "      <td>-</td>\n",
       "      <td>-</td>\n",
       "      <td>-</td>\n",
       "      <td>NaN</td>\n",
       "      <td>NaN</td>\n",
       "    </tr>\n",
       "    <tr>\n",
       "      <th>2</th>\n",
       "      <td>서울특별시 강남구 개포동</td>\n",
       "      <td>658-1</td>\n",
       "      <td>658.0</td>\n",
       "      <td>1.0</td>\n",
       "      <td>개포6차우성아파트1동~8동</td>\n",
       "      <td>전세</td>\n",
       "      <td>79.97</td>\n",
       "      <td>202001</td>\n",
       "      <td>18</td>\n",
       "      <td>44,000</td>\n",
       "      <td>0</td>\n",
       "      <td>4</td>\n",
       "      <td>1987</td>\n",
       "      <td>언주로 3</td>\n",
       "      <td>-</td>\n",
       "      <td>-</td>\n",
       "      <td>-</td>\n",
       "      <td>NaN</td>\n",
       "      <td>NaN</td>\n",
       "    </tr>\n",
       "    <tr>\n",
       "      <th>3</th>\n",
       "      <td>서울특별시 강남구 개포동</td>\n",
       "      <td>652</td>\n",
       "      <td>652.0</td>\n",
       "      <td>0.0</td>\n",
       "      <td>개포우성3차</td>\n",
       "      <td>전세</td>\n",
       "      <td>133.46</td>\n",
       "      <td>202001</td>\n",
       "      <td>15</td>\n",
       "      <td>90,000</td>\n",
       "      <td>0</td>\n",
       "      <td>11</td>\n",
       "      <td>1984</td>\n",
       "      <td>개포로 307</td>\n",
       "      <td>-</td>\n",
       "      <td>-</td>\n",
       "      <td>-</td>\n",
       "      <td>NaN</td>\n",
       "      <td>NaN</td>\n",
       "    </tr>\n",
       "    <tr>\n",
       "      <th>4</th>\n",
       "      <td>서울특별시 강남구 개포동</td>\n",
       "      <td>652</td>\n",
       "      <td>652.0</td>\n",
       "      <td>0.0</td>\n",
       "      <td>개포우성3차</td>\n",
       "      <td>전세</td>\n",
       "      <td>133.46</td>\n",
       "      <td>202001</td>\n",
       "      <td>18</td>\n",
       "      <td>85,000</td>\n",
       "      <td>0</td>\n",
       "      <td>11</td>\n",
       "      <td>1984</td>\n",
       "      <td>개포로 307</td>\n",
       "      <td>-</td>\n",
       "      <td>-</td>\n",
       "      <td>-</td>\n",
       "      <td>NaN</td>\n",
       "      <td>NaN</td>\n",
       "    </tr>\n",
       "    <tr>\n",
       "      <th>...</th>\n",
       "      <td>...</td>\n",
       "      <td>...</td>\n",
       "      <td>...</td>\n",
       "      <td>...</td>\n",
       "      <td>...</td>\n",
       "      <td>...</td>\n",
       "      <td>...</td>\n",
       "      <td>...</td>\n",
       "      <td>...</td>\n",
       "      <td>...</td>\n",
       "      <td>...</td>\n",
       "      <td>...</td>\n",
       "      <td>...</td>\n",
       "      <td>...</td>\n",
       "      <td>...</td>\n",
       "      <td>...</td>\n",
       "      <td>...</td>\n",
       "      <td>...</td>\n",
       "      <td>...</td>\n",
       "    </tr>\n",
       "    <tr>\n",
       "      <th>51114</th>\n",
       "      <td>서울특별시 중랑구 중화동</td>\n",
       "      <td>450</td>\n",
       "      <td>450.0</td>\n",
       "      <td>0.0</td>\n",
       "      <td>한신아파트(103~109)</td>\n",
       "      <td>전세</td>\n",
       "      <td>59.76</td>\n",
       "      <td>202003</td>\n",
       "      <td>3</td>\n",
       "      <td>32,000</td>\n",
       "      <td>0</td>\n",
       "      <td>19</td>\n",
       "      <td>1997</td>\n",
       "      <td>동일로 752</td>\n",
       "      <td>-</td>\n",
       "      <td>-</td>\n",
       "      <td>-</td>\n",
       "      <td>NaN</td>\n",
       "      <td>NaN</td>\n",
       "    </tr>\n",
       "    <tr>\n",
       "      <th>51115</th>\n",
       "      <td>서울특별시 중랑구 중화동</td>\n",
       "      <td>450</td>\n",
       "      <td>450.0</td>\n",
       "      <td>0.0</td>\n",
       "      <td>한신아파트(103~109)</td>\n",
       "      <td>전세</td>\n",
       "      <td>59.76</td>\n",
       "      <td>202003</td>\n",
       "      <td>7</td>\n",
       "      <td>29,400</td>\n",
       "      <td>0</td>\n",
       "      <td>8</td>\n",
       "      <td>1997</td>\n",
       "      <td>동일로 752</td>\n",
       "      <td>-</td>\n",
       "      <td>-</td>\n",
       "      <td>-</td>\n",
       "      <td>NaN</td>\n",
       "      <td>NaN</td>\n",
       "    </tr>\n",
       "    <tr>\n",
       "      <th>51116</th>\n",
       "      <td>서울특별시 중랑구 중화동</td>\n",
       "      <td>450</td>\n",
       "      <td>450.0</td>\n",
       "      <td>0.0</td>\n",
       "      <td>한신아파트(103~109)</td>\n",
       "      <td>월세</td>\n",
       "      <td>84.03</td>\n",
       "      <td>202003</td>\n",
       "      <td>9</td>\n",
       "      <td>10,000</td>\n",
       "      <td>90</td>\n",
       "      <td>21</td>\n",
       "      <td>1997</td>\n",
       "      <td>동일로 752</td>\n",
       "      <td>-</td>\n",
       "      <td>-</td>\n",
       "      <td>-</td>\n",
       "      <td>NaN</td>\n",
       "      <td>NaN</td>\n",
       "    </tr>\n",
       "    <tr>\n",
       "      <th>51117</th>\n",
       "      <td>서울특별시 중랑구 중화동</td>\n",
       "      <td>450</td>\n",
       "      <td>450.0</td>\n",
       "      <td>0.0</td>\n",
       "      <td>한신아파트(103~109)</td>\n",
       "      <td>전세</td>\n",
       "      <td>50.37</td>\n",
       "      <td>202003</td>\n",
       "      <td>14</td>\n",
       "      <td>28,000</td>\n",
       "      <td>0</td>\n",
       "      <td>7</td>\n",
       "      <td>1997</td>\n",
       "      <td>동일로 752</td>\n",
       "      <td>-</td>\n",
       "      <td>-</td>\n",
       "      <td>-</td>\n",
       "      <td>NaN</td>\n",
       "      <td>NaN</td>\n",
       "    </tr>\n",
       "    <tr>\n",
       "      <th>51118</th>\n",
       "      <td>서울특별시 중랑구 중화동</td>\n",
       "      <td>450</td>\n",
       "      <td>450.0</td>\n",
       "      <td>0.0</td>\n",
       "      <td>한신아파트(103~109)</td>\n",
       "      <td>전세</td>\n",
       "      <td>50.37</td>\n",
       "      <td>202003</td>\n",
       "      <td>20</td>\n",
       "      <td>28,000</td>\n",
       "      <td>0</td>\n",
       "      <td>20</td>\n",
       "      <td>1997</td>\n",
       "      <td>동일로 752</td>\n",
       "      <td>-</td>\n",
       "      <td>-</td>\n",
       "      <td>-</td>\n",
       "      <td>NaN</td>\n",
       "      <td>NaN</td>\n",
       "    </tr>\n",
       "  </tbody>\n",
       "</table>\n",
       "<p>51119 rows × 19 columns</p>\n",
       "</div>"
      ],
      "text/plain": [
       "                 시군구     번지     본번   부번             단지명 전월세구분  전용면적(㎡)  \\\n",
       "0      서울특별시 강남구 개포동  658-1  658.0  1.0  개포6차우성아파트1동~8동    전세    79.97   \n",
       "1      서울특별시 강남구 개포동  658-1  658.0  1.0  개포6차우성아파트1동~8동    전세    79.97   \n",
       "2      서울특별시 강남구 개포동  658-1  658.0  1.0  개포6차우성아파트1동~8동    전세    79.97   \n",
       "3      서울특별시 강남구 개포동    652  652.0  0.0          개포우성3차    전세   133.46   \n",
       "4      서울특별시 강남구 개포동    652  652.0  0.0          개포우성3차    전세   133.46   \n",
       "...              ...    ...    ...  ...             ...   ...      ...   \n",
       "51114  서울특별시 중랑구 중화동    450  450.0  0.0  한신아파트(103~109)    전세    59.76   \n",
       "51115  서울특별시 중랑구 중화동    450  450.0  0.0  한신아파트(103~109)    전세    59.76   \n",
       "51116  서울특별시 중랑구 중화동    450  450.0  0.0  한신아파트(103~109)    월세    84.03   \n",
       "51117  서울특별시 중랑구 중화동    450  450.0  0.0  한신아파트(103~109)    전세    50.37   \n",
       "51118  서울특별시 중랑구 중화동    450  450.0  0.0  한신아파트(103~109)    전세    50.37   \n",
       "\n",
       "         계약년월  계약일 보증금(만원) 월세(만원)   층  건축년도      도로명 계약기간 계약구분 갱신요구권 사용  \\\n",
       "0      202001    3  43,000      0   1  1987    언주로 3    -    -        -   \n",
       "1      202001   17  45,000      0   5  1987    언주로 3    -    -        -   \n",
       "2      202001   18  44,000      0   4  1987    언주로 3    -    -        -   \n",
       "3      202001   15  90,000      0  11  1984  개포로 307    -    -        -   \n",
       "4      202001   18  85,000      0  11  1984  개포로 307    -    -        -   \n",
       "...       ...  ...     ...    ...  ..   ...      ...  ...  ...      ...   \n",
       "51114  202003    3  32,000      0  19  1997  동일로 752    -    -        -   \n",
       "51115  202003    7  29,400      0   8  1997  동일로 752    -    -        -   \n",
       "51116  202003    9  10,000     90  21  1997  동일로 752    -    -        -   \n",
       "51117  202003   14  28,000      0   7  1997  동일로 752    -    -        -   \n",
       "51118  202003   20  28,000      0  20  1997  동일로 752    -    -        -   \n",
       "\n",
       "       종전계약 보증금 (만원)  종전계약 월세 (만원)  \n",
       "0                NaN           NaN  \n",
       "1                NaN           NaN  \n",
       "2                NaN           NaN  \n",
       "3                NaN           NaN  \n",
       "4                NaN           NaN  \n",
       "...              ...           ...  \n",
       "51114            NaN           NaN  \n",
       "51115            NaN           NaN  \n",
       "51116            NaN           NaN  \n",
       "51117            NaN           NaN  \n",
       "51118            NaN           NaN  \n",
       "\n",
       "[51119 rows x 19 columns]"
      ]
     },
     "execution_count": 3,
     "metadata": {},
     "output_type": "execute_result"
    }
   ],
   "source": [
    "print(df.shape)\n",
    "df"
   ]
  },
  {
   "cell_type": "markdown",
   "id": "7ef6cd9a",
   "metadata": {},
   "source": [
    "# 데이터 전처리1"
   ]
  },
  {
   "cell_type": "code",
   "execution_count": 4,
   "id": "8ca688eb",
   "metadata": {},
   "outputs": [
    {
     "name": "stderr",
     "output_type": "stream",
     "text": [
      "C:\\Users\\tjoeun\\AppData\\Local\\Temp\\ipykernel_15148\\1315631639.py:5: SettingWithCopyWarning: \n",
      "A value is trying to be set on a copy of a slice from a DataFrame.\n",
      "Try using .loc[row_indexer,col_indexer] = value instead\n",
      "\n",
      "See the caveats in the documentation: https://pandas.pydata.org/pandas-docs/stable/user_guide/indexing.html#returning-a-view-versus-a-copy\n",
      "  df['동'] = df['시군구'].str.replace('|'.join(remove_gu), '', regex=True)\n"
     ]
    },
    {
     "data": {
      "text/html": [
       "<div>\n",
       "<style scoped>\n",
       "    .dataframe tbody tr th:only-of-type {\n",
       "        vertical-align: middle;\n",
       "    }\n",
       "\n",
       "    .dataframe tbody tr th {\n",
       "        vertical-align: top;\n",
       "    }\n",
       "\n",
       "    .dataframe thead th {\n",
       "        text-align: right;\n",
       "    }\n",
       "</style>\n",
       "<table border=\"1\" class=\"dataframe\">\n",
       "  <thead>\n",
       "    <tr style=\"text-align: right;\">\n",
       "      <th></th>\n",
       "      <th>시군구</th>\n",
       "      <th>동</th>\n",
       "      <th>단지명</th>\n",
       "      <th>전월세구분</th>\n",
       "      <th>전용면적(㎡)</th>\n",
       "      <th>계약년월</th>\n",
       "      <th>층</th>\n",
       "      <th>건축년도</th>\n",
       "      <th>보증금(만원)</th>\n",
       "    </tr>\n",
       "  </thead>\n",
       "  <tbody>\n",
       "    <tr>\n",
       "      <th>0</th>\n",
       "      <td>서울특별시 강남구 개포동</td>\n",
       "      <td>개포동</td>\n",
       "      <td>개포6차우성아파트1동~8동</td>\n",
       "      <td>전세</td>\n",
       "      <td>79.97</td>\n",
       "      <td>202001</td>\n",
       "      <td>1</td>\n",
       "      <td>1987</td>\n",
       "      <td>43,000</td>\n",
       "    </tr>\n",
       "    <tr>\n",
       "      <th>1</th>\n",
       "      <td>서울특별시 강남구 개포동</td>\n",
       "      <td>개포동</td>\n",
       "      <td>개포6차우성아파트1동~8동</td>\n",
       "      <td>전세</td>\n",
       "      <td>79.97</td>\n",
       "      <td>202001</td>\n",
       "      <td>5</td>\n",
       "      <td>1987</td>\n",
       "      <td>45,000</td>\n",
       "    </tr>\n",
       "    <tr>\n",
       "      <th>2</th>\n",
       "      <td>서울특별시 강남구 개포동</td>\n",
       "      <td>개포동</td>\n",
       "      <td>개포6차우성아파트1동~8동</td>\n",
       "      <td>전세</td>\n",
       "      <td>79.97</td>\n",
       "      <td>202001</td>\n",
       "      <td>4</td>\n",
       "      <td>1987</td>\n",
       "      <td>44,000</td>\n",
       "    </tr>\n",
       "    <tr>\n",
       "      <th>3</th>\n",
       "      <td>서울특별시 강남구 개포동</td>\n",
       "      <td>개포동</td>\n",
       "      <td>개포우성3차</td>\n",
       "      <td>전세</td>\n",
       "      <td>133.46</td>\n",
       "      <td>202001</td>\n",
       "      <td>11</td>\n",
       "      <td>1984</td>\n",
       "      <td>90,000</td>\n",
       "    </tr>\n",
       "    <tr>\n",
       "      <th>4</th>\n",
       "      <td>서울특별시 강남구 개포동</td>\n",
       "      <td>개포동</td>\n",
       "      <td>개포우성3차</td>\n",
       "      <td>전세</td>\n",
       "      <td>133.46</td>\n",
       "      <td>202001</td>\n",
       "      <td>11</td>\n",
       "      <td>1984</td>\n",
       "      <td>85,000</td>\n",
       "    </tr>\n",
       "  </tbody>\n",
       "</table>\n",
       "</div>"
      ],
      "text/plain": [
       "             시군구    동             단지명 전월세구분  전용면적(㎡)    계약년월   층  건축년도 보증금(만원)\n",
       "0  서울특별시 강남구 개포동  개포동  개포6차우성아파트1동~8동    전세    79.97  202001   1  1987  43,000\n",
       "1  서울특별시 강남구 개포동  개포동  개포6차우성아파트1동~8동    전세    79.97  202001   5  1987  45,000\n",
       "2  서울특별시 강남구 개포동  개포동  개포6차우성아파트1동~8동    전세    79.97  202001   4  1987  44,000\n",
       "3  서울특별시 강남구 개포동  개포동          개포우성3차    전세   133.46  202001  11  1984  90,000\n",
       "4  서울특별시 강남구 개포동  개포동          개포우성3차    전세   133.46  202001  11  1984  85,000"
      ]
     },
     "execution_count": 4,
     "metadata": {},
     "output_type": "execute_result"
    }
   ],
   "source": [
    "# 서울시 동별 보증금이 다를 것이라는 전제로 '동' 컬럼 추가\n",
    "df['동'] = df['시군구'].str.replace('서울특별시', '')\n",
    "df = df[df['전월세구분'] == '전세']\n",
    "remove_gu = ['서울특별시 ', '강남구 ', '강동구 ', '강북구 ', '강서구 ', '관악구 ', '광진구 ','구로구 ', '금천구 ', '노원구 ', '도봉구 ', '동대문구 ', '동작구 ', '마포구 ', '서대문구 ', '서초구 ', '성동구 ', '성북구 ','송파구 ' , '양천구 ', '영등포구 ', '용산구 ', '은평구 ', '종로구 ', '중구 ', '중랑구 ']\n",
    "df['동'] = df['시군구'].str.replace('|'.join(remove_gu), '', regex=True)\n",
    "\n",
    "#데이터 보기 편하게 재배열\n",
    "df = df[['시군구', '동', '단지명','전월세구분','전용면적(㎡)','계약년월','층', '건축년도', '보증금(만원)']]\n",
    "df.head()"
   ]
  },
  {
   "cell_type": "code",
   "execution_count": 5,
   "id": "45373f3b",
   "metadata": {},
   "outputs": [
    {
     "data": {
      "text/html": [
       "<div>\n",
       "<style scoped>\n",
       "    .dataframe tbody tr th:only-of-type {\n",
       "        vertical-align: middle;\n",
       "    }\n",
       "\n",
       "    .dataframe tbody tr th {\n",
       "        vertical-align: top;\n",
       "    }\n",
       "\n",
       "    .dataframe thead th {\n",
       "        text-align: right;\n",
       "    }\n",
       "</style>\n",
       "<table border=\"1\" class=\"dataframe\">\n",
       "  <thead>\n",
       "    <tr style=\"text-align: right;\">\n",
       "      <th></th>\n",
       "      <th>시군구</th>\n",
       "      <th>동</th>\n",
       "      <th>단지명</th>\n",
       "      <th>전월세구분</th>\n",
       "      <th>전용면적(㎡)</th>\n",
       "      <th>계약년월</th>\n",
       "      <th>층</th>\n",
       "      <th>건축년도</th>\n",
       "      <th>보증금(만원)</th>\n",
       "    </tr>\n",
       "  </thead>\n",
       "  <tbody>\n",
       "    <tr>\n",
       "      <th>0</th>\n",
       "      <td>서울특별시 강남구 개포동</td>\n",
       "      <td>개포동</td>\n",
       "      <td>개포6차우성아파트1동~8동</td>\n",
       "      <td>전세</td>\n",
       "      <td>79.97</td>\n",
       "      <td>202001</td>\n",
       "      <td>1</td>\n",
       "      <td>1987</td>\n",
       "      <td>43000</td>\n",
       "    </tr>\n",
       "    <tr>\n",
       "      <th>1</th>\n",
       "      <td>서울특별시 강남구 개포동</td>\n",
       "      <td>개포동</td>\n",
       "      <td>개포6차우성아파트1동~8동</td>\n",
       "      <td>전세</td>\n",
       "      <td>79.97</td>\n",
       "      <td>202001</td>\n",
       "      <td>5</td>\n",
       "      <td>1987</td>\n",
       "      <td>45000</td>\n",
       "    </tr>\n",
       "    <tr>\n",
       "      <th>2</th>\n",
       "      <td>서울특별시 강남구 개포동</td>\n",
       "      <td>개포동</td>\n",
       "      <td>개포6차우성아파트1동~8동</td>\n",
       "      <td>전세</td>\n",
       "      <td>79.97</td>\n",
       "      <td>202001</td>\n",
       "      <td>4</td>\n",
       "      <td>1987</td>\n",
       "      <td>44000</td>\n",
       "    </tr>\n",
       "    <tr>\n",
       "      <th>3</th>\n",
       "      <td>서울특별시 강남구 개포동</td>\n",
       "      <td>개포동</td>\n",
       "      <td>개포우성3차</td>\n",
       "      <td>전세</td>\n",
       "      <td>133.46</td>\n",
       "      <td>202001</td>\n",
       "      <td>11</td>\n",
       "      <td>1984</td>\n",
       "      <td>90000</td>\n",
       "    </tr>\n",
       "    <tr>\n",
       "      <th>4</th>\n",
       "      <td>서울특별시 강남구 개포동</td>\n",
       "      <td>개포동</td>\n",
       "      <td>개포우성3차</td>\n",
       "      <td>전세</td>\n",
       "      <td>133.46</td>\n",
       "      <td>202001</td>\n",
       "      <td>11</td>\n",
       "      <td>1984</td>\n",
       "      <td>85000</td>\n",
       "    </tr>\n",
       "  </tbody>\n",
       "</table>\n",
       "</div>"
      ],
      "text/plain": [
       "             시군구    동             단지명 전월세구분  전용면적(㎡)    계약년월   층  건축년도  \\\n",
       "0  서울특별시 강남구 개포동  개포동  개포6차우성아파트1동~8동    전세    79.97  202001   1  1987   \n",
       "1  서울특별시 강남구 개포동  개포동  개포6차우성아파트1동~8동    전세    79.97  202001   5  1987   \n",
       "2  서울특별시 강남구 개포동  개포동  개포6차우성아파트1동~8동    전세    79.97  202001   4  1987   \n",
       "3  서울특별시 강남구 개포동  개포동          개포우성3차    전세   133.46  202001  11  1984   \n",
       "4  서울특별시 강남구 개포동  개포동          개포우성3차    전세   133.46  202001  11  1984   \n",
       "\n",
       "   보증금(만원)  \n",
       "0    43000  \n",
       "1    45000  \n",
       "2    44000  \n",
       "3    90000  \n",
       "4    85000  "
      ]
     },
     "execution_count": 5,
     "metadata": {},
     "output_type": "execute_result"
    }
   ],
   "source": [
    "# 보증금(만원) 컬럼이 문자로 저장되어 있어 숫자로 변환\n",
    "df['보증금(만원)'] = df['보증금(만원)'].str.replace(\",\", \"\").astype(int)\n",
    "df.head()"
   ]
  },
  {
   "cell_type": "code",
   "execution_count": 6,
   "id": "781956c9",
   "metadata": {},
   "outputs": [
    {
     "data": {
      "text/html": [
       "<div>\n",
       "<style scoped>\n",
       "    .dataframe tbody tr th:only-of-type {\n",
       "        vertical-align: middle;\n",
       "    }\n",
       "\n",
       "    .dataframe tbody tr th {\n",
       "        vertical-align: top;\n",
       "    }\n",
       "\n",
       "    .dataframe thead th {\n",
       "        text-align: right;\n",
       "    }\n",
       "</style>\n",
       "<table border=\"1\" class=\"dataframe\">\n",
       "  <thead>\n",
       "    <tr style=\"text-align: right;\">\n",
       "      <th></th>\n",
       "      <th>시군구</th>\n",
       "      <th>동</th>\n",
       "      <th>단지명</th>\n",
       "      <th>전월세구분</th>\n",
       "      <th>전용면적</th>\n",
       "      <th>계약년월</th>\n",
       "      <th>층</th>\n",
       "      <th>건축년도</th>\n",
       "      <th>보증금</th>\n",
       "    </tr>\n",
       "  </thead>\n",
       "  <tbody>\n",
       "    <tr>\n",
       "      <th>0</th>\n",
       "      <td>서울특별시 강남구 개포동</td>\n",
       "      <td>개포동</td>\n",
       "      <td>개포6차우성아파트1동~8동</td>\n",
       "      <td>전세</td>\n",
       "      <td>79.97</td>\n",
       "      <td>202001</td>\n",
       "      <td>1</td>\n",
       "      <td>1987</td>\n",
       "      <td>43000</td>\n",
       "    </tr>\n",
       "    <tr>\n",
       "      <th>1</th>\n",
       "      <td>서울특별시 강남구 개포동</td>\n",
       "      <td>개포동</td>\n",
       "      <td>개포6차우성아파트1동~8동</td>\n",
       "      <td>전세</td>\n",
       "      <td>79.97</td>\n",
       "      <td>202001</td>\n",
       "      <td>5</td>\n",
       "      <td>1987</td>\n",
       "      <td>45000</td>\n",
       "    </tr>\n",
       "    <tr>\n",
       "      <th>2</th>\n",
       "      <td>서울특별시 강남구 개포동</td>\n",
       "      <td>개포동</td>\n",
       "      <td>개포6차우성아파트1동~8동</td>\n",
       "      <td>전세</td>\n",
       "      <td>79.97</td>\n",
       "      <td>202001</td>\n",
       "      <td>4</td>\n",
       "      <td>1987</td>\n",
       "      <td>44000</td>\n",
       "    </tr>\n",
       "    <tr>\n",
       "      <th>3</th>\n",
       "      <td>서울특별시 강남구 개포동</td>\n",
       "      <td>개포동</td>\n",
       "      <td>개포우성3차</td>\n",
       "      <td>전세</td>\n",
       "      <td>133.46</td>\n",
       "      <td>202001</td>\n",
       "      <td>11</td>\n",
       "      <td>1984</td>\n",
       "      <td>90000</td>\n",
       "    </tr>\n",
       "    <tr>\n",
       "      <th>4</th>\n",
       "      <td>서울특별시 강남구 개포동</td>\n",
       "      <td>개포동</td>\n",
       "      <td>개포우성3차</td>\n",
       "      <td>전세</td>\n",
       "      <td>133.46</td>\n",
       "      <td>202001</td>\n",
       "      <td>11</td>\n",
       "      <td>1984</td>\n",
       "      <td>85000</td>\n",
       "    </tr>\n",
       "  </tbody>\n",
       "</table>\n",
       "</div>"
      ],
      "text/plain": [
       "             시군구    동             단지명 전월세구분    전용면적    계약년월   층  건축년도    보증금\n",
       "0  서울특별시 강남구 개포동  개포동  개포6차우성아파트1동~8동    전세   79.97  202001   1  1987  43000\n",
       "1  서울특별시 강남구 개포동  개포동  개포6차우성아파트1동~8동    전세   79.97  202001   5  1987  45000\n",
       "2  서울특별시 강남구 개포동  개포동  개포6차우성아파트1동~8동    전세   79.97  202001   4  1987  44000\n",
       "3  서울특별시 강남구 개포동  개포동          개포우성3차    전세  133.46  202001  11  1984  90000\n",
       "4  서울특별시 강남구 개포동  개포동          개포우성3차    전세  133.46  202001  11  1984  85000"
      ]
     },
     "execution_count": 6,
     "metadata": {},
     "output_type": "execute_result"
    }
   ],
   "source": [
    "# 전용면적(㎡), 보증금(만원) 컬럼명에서 ()가 들어가 삭제함\n",
    "df.rename(columns={'전용면적(㎡)': '전용면적'}, inplace=True)\n",
    "df.rename(columns={'보증금(만원)': '보증금'}, inplace=True)\n",
    "df.head()"
   ]
  },
  {
   "cell_type": "markdown",
   "id": "b58b16f4",
   "metadata": {},
   "source": [
    "# EDA 1\n",
    "# 각 컬럼에 대한 특징 파악하기"
   ]
  },
  {
   "cell_type": "code",
   "execution_count": 7,
   "id": "cd55da5c",
   "metadata": {},
   "outputs": [
    {
     "data": {
      "text/plain": [
       "Index(['시군구', '동', '단지명', '전월세구분', '전용면적', '계약년월', '층', '건축년도', '보증금'], dtype='object')"
      ]
     },
     "execution_count": 7,
     "metadata": {},
     "output_type": "execute_result"
    }
   ],
   "source": [
    "# 1) 피처(Feature) 확인\n",
    "df.columns"
   ]
  },
  {
   "cell_type": "code",
   "execution_count": 8,
   "id": "3ac7bd99",
   "metadata": {},
   "outputs": [
    {
     "name": "stdout",
     "output_type": "stream",
     "text": [
      "<class 'pandas.core.frame.DataFrame'>\n",
      "Int64Index: 36245 entries, 0 to 51118\n",
      "Data columns (total 9 columns):\n",
      " #   Column  Non-Null Count  Dtype  \n",
      "---  ------  --------------  -----  \n",
      " 0   시군구     36245 non-null  object \n",
      " 1   동       36245 non-null  object \n",
      " 2   단지명     36245 non-null  object \n",
      " 3   전월세구분   36245 non-null  object \n",
      " 4   전용면적    36245 non-null  float64\n",
      " 5   계약년월    36245 non-null  int64  \n",
      " 6   층       36245 non-null  int64  \n",
      " 7   건축년도    36245 non-null  int64  \n",
      " 8   보증금     36245 non-null  int32  \n",
      "dtypes: float64(1), int32(1), int64(3), object(4)\n",
      "memory usage: 2.6+ MB\n"
     ]
    }
   ],
   "source": [
    "# 2) 데이터 프레임 정보 확인\n",
    "df.info()"
   ]
  },
  {
   "cell_type": "code",
   "execution_count": 9,
   "id": "d26eae22",
   "metadata": {},
   "outputs": [
    {
     "data": {
      "text/html": [
       "<div>\n",
       "<style scoped>\n",
       "    .dataframe tbody tr th:only-of-type {\n",
       "        vertical-align: middle;\n",
       "    }\n",
       "\n",
       "    .dataframe tbody tr th {\n",
       "        vertical-align: top;\n",
       "    }\n",
       "\n",
       "    .dataframe thead th {\n",
       "        text-align: right;\n",
       "    }\n",
       "</style>\n",
       "<table border=\"1\" class=\"dataframe\">\n",
       "  <thead>\n",
       "    <tr style=\"text-align: right;\">\n",
       "      <th></th>\n",
       "      <th>전용면적</th>\n",
       "      <th>계약년월</th>\n",
       "      <th>층</th>\n",
       "      <th>건축년도</th>\n",
       "      <th>보증금</th>\n",
       "    </tr>\n",
       "  </thead>\n",
       "  <tbody>\n",
       "    <tr>\n",
       "      <th>count</th>\n",
       "      <td>36245.000000</td>\n",
       "      <td>36245.000000</td>\n",
       "      <td>36245.000000</td>\n",
       "      <td>36245.000000</td>\n",
       "      <td>36245.000000</td>\n",
       "    </tr>\n",
       "    <tr>\n",
       "      <th>mean</th>\n",
       "      <td>74.303902</td>\n",
       "      <td>202001.957677</td>\n",
       "      <td>9.030956</td>\n",
       "      <td>2001.171913</td>\n",
       "      <td>44344.367223</td>\n",
       "    </tr>\n",
       "    <tr>\n",
       "      <th>std</th>\n",
       "      <td>27.652201</td>\n",
       "      <td>0.778871</td>\n",
       "      <td>6.013301</td>\n",
       "      <td>11.388459</td>\n",
       "      <td>25957.596688</td>\n",
       "    </tr>\n",
       "    <tr>\n",
       "      <th>min</th>\n",
       "      <td>10.321500</td>\n",
       "      <td>202001.000000</td>\n",
       "      <td>-1.000000</td>\n",
       "      <td>1965.000000</td>\n",
       "      <td>1000.000000</td>\n",
       "    </tr>\n",
       "    <tr>\n",
       "      <th>25%</th>\n",
       "      <td>59.580000</td>\n",
       "      <td>202001.000000</td>\n",
       "      <td>4.000000</td>\n",
       "      <td>1993.000000</td>\n",
       "      <td>28000.000000</td>\n",
       "    </tr>\n",
       "    <tr>\n",
       "      <th>50%</th>\n",
       "      <td>76.400000</td>\n",
       "      <td>202002.000000</td>\n",
       "      <td>8.000000</td>\n",
       "      <td>2001.000000</td>\n",
       "      <td>40000.000000</td>\n",
       "    </tr>\n",
       "    <tr>\n",
       "      <th>75%</th>\n",
       "      <td>84.950000</td>\n",
       "      <td>202003.000000</td>\n",
       "      <td>13.000000</td>\n",
       "      <td>2010.000000</td>\n",
       "      <td>55000.000000</td>\n",
       "    </tr>\n",
       "    <tr>\n",
       "      <th>max</th>\n",
       "      <td>257.260000</td>\n",
       "      <td>202003.000000</td>\n",
       "      <td>61.000000</td>\n",
       "      <td>2022.000000</td>\n",
       "      <td>350000.000000</td>\n",
       "    </tr>\n",
       "  </tbody>\n",
       "</table>\n",
       "</div>"
      ],
      "text/plain": [
       "               전용면적           계약년월             층          건축년도            보증금\n",
       "count  36245.000000   36245.000000  36245.000000  36245.000000   36245.000000\n",
       "mean      74.303902  202001.957677      9.030956   2001.171913   44344.367223\n",
       "std       27.652201       0.778871      6.013301     11.388459   25957.596688\n",
       "min       10.321500  202001.000000     -1.000000   1965.000000    1000.000000\n",
       "25%       59.580000  202001.000000      4.000000   1993.000000   28000.000000\n",
       "50%       76.400000  202002.000000      8.000000   2001.000000   40000.000000\n",
       "75%       84.950000  202003.000000     13.000000   2010.000000   55000.000000\n",
       "max      257.260000  202003.000000     61.000000   2022.000000  350000.000000"
      ]
     },
     "execution_count": 9,
     "metadata": {},
     "output_type": "execute_result"
    }
   ],
   "source": [
    "# 3) 데이터 프레임 통계값 (전체)\n",
    "df.describe()"
   ]
  },
  {
   "cell_type": "code",
   "execution_count": 10,
   "id": "4040497c",
   "metadata": {},
   "outputs": [
    {
     "data": {
      "text/plain": [
       "count     36245\n",
       "unique      295\n",
       "top         상계동\n",
       "freq       1378\n",
       "Name: 동, dtype: object"
      ]
     },
     "execution_count": 10,
     "metadata": {},
     "output_type": "execute_result"
    }
   ],
   "source": [
    "# 동 : 서울의 동을 나누었을 때 274개로 나누었으며(충무로1가, 장충동2가 등 포함) 가장 많은 거래(426건)가 상계동에서 있었다는 것을 알 수 있음\n",
    "df.동.describe()"
   ]
  },
  {
   "cell_type": "code",
   "execution_count": 11,
   "id": "e0f5723f",
   "metadata": {},
   "outputs": [
    {
     "data": {
      "text/plain": [
       "count      36245\n",
       "unique      3960\n",
       "top       고덕아르테온\n",
       "freq         361\n",
       "Name: 단지명, dtype: object"
      ]
     },
     "execution_count": 11,
     "metadata": {},
     "output_type": "execute_result"
    }
   ],
   "source": [
    "# 단지명 : 2580의 서로 다른 아파트들이 있다는 것을 알 수 있음 -> 아파트명이 많이 겹침\n",
    "df.단지명.describe()"
   ]
  },
  {
   "cell_type": "code",
   "execution_count": 12,
   "id": "8c21e27f",
   "metadata": {},
   "outputs": [
    {
     "data": {
      "text/plain": [
       "count    36245.000000\n",
       "mean        74.303902\n",
       "std         27.652201\n",
       "min         10.321500\n",
       "25%         59.580000\n",
       "50%         76.400000\n",
       "75%         84.950000\n",
       "max        257.260000\n",
       "Name: 전용면적, dtype: float64"
      ]
     },
     "execution_count": 12,
     "metadata": {},
     "output_type": "execute_result"
    }
   ],
   "source": [
    "# 전용면적 : 거래된 아파트 중 가장 작은 전용면적은 10.321500(㎡), 가장 넓은 전용면적은 244.770000(㎡) 임\n",
    "df.전용면적.describe()"
   ]
  },
  {
   "cell_type": "code",
   "execution_count": 13,
   "id": "82aeeeb9",
   "metadata": {},
   "outputs": [
    {
     "data": {
      "image/png": "[encoded data removed]",
      "text/plain": [
       "<Figure size 640x480 with 1 Axes>"
      ]
     },
     "metadata": {},
     "output_type": "display_data"
    }
   ],
   "source": [
    "plt.hist(df.전용면적.value_counts())\n",
    "plt.xlabel('AREA')\n",
    "plt.ylabel('COUNT')\n",
    "plt.show()\n",
    "# 전용면적을 보면 대부분의 거래가 50(㎡) 이하, 더 정확하게는 25(㎡)이하로 이루어지고 있음을 알 수 있음\n",
    "# 추가 설명: 동일 전용면적 데이터들을 count하여 막대형 그래프로 출력시킴."
   ]
  },
  {
   "cell_type": "code",
   "execution_count": 14,
   "id": "a814e0e2",
   "metadata": {},
   "outputs": [
    {
     "data": {
      "text/plain": [
       "count     36245.000000\n",
       "mean     202001.957677\n",
       "std           0.778871\n",
       "min      202001.000000\n",
       "25%      202001.000000\n",
       "50%      202002.000000\n",
       "75%      202003.000000\n",
       "max      202003.000000\n",
       "Name: 계약년월, dtype: float64"
      ]
     },
     "execution_count": 14,
     "metadata": {},
     "output_type": "execute_result"
    }
   ],
   "source": [
    "# 계약년월 : 현재는 2020.01 자료만 활용했기 때문에 맞게 나오고 있음\n",
    "df.계약년월.describe()"
   ]
  },
  {
   "cell_type": "code",
   "execution_count": 15,
   "id": "cfdf59c8",
   "metadata": {},
   "outputs": [
    {
     "data": {
      "text/plain": [
       "count    36245.000000\n",
       "mean         9.030956\n",
       "std          6.013301\n",
       "min         -1.000000\n",
       "25%          4.000000\n",
       "50%          8.000000\n",
       "75%         13.000000\n",
       "max         61.000000\n",
       "Name: 층, dtype: float64"
      ]
     },
     "execution_count": 15,
     "metadata": {},
     "output_type": "execute_result"
    }
   ],
   "source": [
    "# 층 : 1~61층까지 분포 (지하층이 있는지 확인)\n",
    "df.층.describe()"
   ]
  },
  {
   "cell_type": "code",
   "execution_count": 16,
   "id": "4272b2b9",
   "metadata": {},
   "outputs": [
    {
     "data": {
      "text/plain": [
       "count    36245.000000\n",
       "mean      2001.171913\n",
       "std         11.388459\n",
       "min       1965.000000\n",
       "25%       1993.000000\n",
       "50%       2001.000000\n",
       "75%       2010.000000\n",
       "max       2022.000000\n",
       "Name: 건축년도, dtype: float64"
      ]
     },
     "execution_count": 16,
     "metadata": {},
     "output_type": "execute_result"
    }
   ],
   "source": [
    "#건축년도 : 1968년도~2022년도 신축까지 다양함\n",
    "df.건축년도.describe()"
   ]
  },
  {
   "cell_type": "code",
   "execution_count": 17,
   "id": "4ecdca83",
   "metadata": {},
   "outputs": [
    {
     "data": {
      "text/plain": [
       "count     36245.000000\n",
       "mean      44344.367223\n",
       "std       25957.596688\n",
       "min        1000.000000\n",
       "25%       28000.000000\n",
       "50%       40000.000000\n",
       "75%       55000.000000\n",
       "max      350000.000000\n",
       "Name: 보증금, dtype: float64"
      ]
     },
     "execution_count": 17,
     "metadata": {},
     "output_type": "execute_result"
    }
   ],
   "source": [
    "# 보증금 : 제일 저렴한 것은 1600만원, 비싼 것은 300000만원이 나온다는 것을 알 수 있음 (추후 변수 EDA 중 그래프로 시각화)\n",
    "df.보증금.describe()"
   ]
  },
  {
   "cell_type": "code",
   "execution_count": 18,
   "id": "5fcb388c",
   "metadata": {},
   "outputs": [
    {
     "data": {
      "text/html": [
       "<div>\n",
       "<style scoped>\n",
       "    .dataframe tbody tr th:only-of-type {\n",
       "        vertical-align: middle;\n",
       "    }\n",
       "\n",
       "    .dataframe tbody tr th {\n",
       "        vertical-align: top;\n",
       "    }\n",
       "\n",
       "    .dataframe thead th {\n",
       "        text-align: right;\n",
       "    }\n",
       "</style>\n",
       "<table border=\"1\" class=\"dataframe\">\n",
       "  <thead>\n",
       "    <tr style=\"text-align: right;\">\n",
       "      <th></th>\n",
       "      <th>시군구</th>\n",
       "      <th>동</th>\n",
       "      <th>단지명</th>\n",
       "      <th>전월세구분</th>\n",
       "      <th>전용면적</th>\n",
       "      <th>계약년월</th>\n",
       "      <th>층</th>\n",
       "      <th>건축년도</th>\n",
       "      <th>보증금</th>\n",
       "    </tr>\n",
       "  </thead>\n",
       "  <tbody>\n",
       "    <tr>\n",
       "      <th>2762</th>\n",
       "      <td>서울특별시 강북구 번동</td>\n",
       "      <td>번동</td>\n",
       "      <td>주공1단지</td>\n",
       "      <td>전세</td>\n",
       "      <td>49.94</td>\n",
       "      <td>202001</td>\n",
       "      <td>11</td>\n",
       "      <td>1991</td>\n",
       "      <td>1600</td>\n",
       "    </tr>\n",
       "  </tbody>\n",
       "</table>\n",
       "</div>"
      ],
      "text/plain": [
       "               시군구   동    단지명 전월세구분   전용면적    계약년월   층  건축년도   보증금\n",
       "2762  서울특별시 강북구 번동  번동  주공1단지    전세  49.94  202001  11  1991  1600"
      ]
     },
     "execution_count": 18,
     "metadata": {},
     "output_type": "execute_result"
    }
   ],
   "source": [
    "#저렴한 곳\n",
    "df.loc[df['보증금']==1600]"
   ]
  },
  {
   "cell_type": "code",
   "execution_count": 19,
   "id": "72c0efe0",
   "metadata": {
    "scrolled": true
   },
   "outputs": [
    {
     "data": {
      "text/html": [
       "<div>\n",
       "<style scoped>\n",
       "    .dataframe tbody tr th:only-of-type {\n",
       "        vertical-align: middle;\n",
       "    }\n",
       "\n",
       "    .dataframe tbody tr th {\n",
       "        vertical-align: top;\n",
       "    }\n",
       "\n",
       "    .dataframe thead th {\n",
       "        text-align: right;\n",
       "    }\n",
       "</style>\n",
       "<table border=\"1\" class=\"dataframe\">\n",
       "  <thead>\n",
       "    <tr style=\"text-align: right;\">\n",
       "      <th></th>\n",
       "      <th>시군구</th>\n",
       "      <th>동</th>\n",
       "      <th>단지명</th>\n",
       "      <th>전월세구분</th>\n",
       "      <th>전용면적</th>\n",
       "      <th>계약년월</th>\n",
       "      <th>층</th>\n",
       "      <th>건축년도</th>\n",
       "      <th>보증금</th>\n",
       "    </tr>\n",
       "  </thead>\n",
       "  <tbody>\n",
       "    <tr>\n",
       "      <th>606</th>\n",
       "      <td>서울특별시 강남구 도곡동</td>\n",
       "      <td>도곡동</td>\n",
       "      <td>타워팰리스2</td>\n",
       "      <td>전세</td>\n",
       "      <td>244.040</td>\n",
       "      <td>202001</td>\n",
       "      <td>49</td>\n",
       "      <td>2003</td>\n",
       "      <td>300000</td>\n",
       "    </tr>\n",
       "    <tr>\n",
       "      <th>17372</th>\n",
       "      <td>서울특별시 강남구 삼성동</td>\n",
       "      <td>삼성동</td>\n",
       "      <td>아이파크</td>\n",
       "      <td>전세</td>\n",
       "      <td>195.388</td>\n",
       "      <td>202002</td>\n",
       "      <td>7</td>\n",
       "      <td>2004</td>\n",
       "      <td>300000</td>\n",
       "    </tr>\n",
       "  </tbody>\n",
       "</table>\n",
       "</div>"
      ],
      "text/plain": [
       "                 시군구    동     단지명 전월세구분     전용면적    계약년월   층  건축년도     보증금\n",
       "606    서울특별시 강남구 도곡동  도곡동  타워팰리스2    전세  244.040  202001  49  2003  300000\n",
       "17372  서울특별시 강남구 삼성동  삼성동    아이파크    전세  195.388  202002   7  2004  300000"
      ]
     },
     "execution_count": 19,
     "metadata": {},
     "output_type": "execute_result"
    }
   ],
   "source": [
    "#비싼곳\n",
    "df.loc[df['보증금']==300000]"
   ]
  },
  {
   "cell_type": "markdown",
   "id": "dcbfce15",
   "metadata": {},
   "source": [
    "## 데이터 전처리2 : 문자 데이터 수치화하기"
   ]
  },
  {
   "cell_type": "code",
   "execution_count": 20,
   "id": "5c10c278",
   "metadata": {},
   "outputs": [
    {
     "data": {
      "text/plain": [
       "고덕아르테온         361\n",
       "현대             305\n",
       "신동아            256\n",
       "두산             242\n",
       "고덕롯데캐슬베네루체     203\n",
       "우성             170\n",
       "은마             166\n",
       "벽산             161\n",
       "삼성래미안          158\n",
       "삼성             158\n",
       "주공아파트 5단지      153\n",
       "고덕센트럴IPARK     151\n",
       "한신             144\n",
       "이편한세상금호파크힐스    142\n",
       "주공2            139\n",
       "신내 데시앙포레       134\n",
       "잠실엘스           124\n",
       "데시앙            121\n",
       "신길센트럴자이아파트     119\n",
       "동아             113\n",
       "미성             113\n",
       "리센츠            111\n",
       "보라매에스케이뷰       110\n",
       "파크리오           108\n",
       "선사현대아파트        108\n",
       "노원센트럴푸르지오      108\n",
       "중앙하이츠          104\n",
       "삼환             102\n",
       "대림e-편한세상       101\n",
       "극동             101\n",
       "우성1            100\n",
       "삼익그린2차          98\n",
       "상계주공7(고층)       96\n",
       "쌍용              95\n",
       "대림              92\n",
       "목동신시가지7         91\n",
       "주공5             90\n",
       "현대1             89\n",
       "롯데캐슬            85\n",
       "목동신시가지14        84\n",
       "Name: 단지명, dtype: int64"
      ]
     },
     "execution_count": 20,
     "metadata": {},
     "output_type": "execute_result"
    }
   ],
   "source": [
    "# 단지명 기준 매매 많은 상위 40권 아파트 : 이름이 겹치는 곳이 많음 \n",
    "df['단지명'].value_counts()[:40] \n",
    "\n",
    "# 단어의 빈도수에 따라서 단어크기 다르게 하기."
   ]
  },
  {
   "cell_type": "code",
   "execution_count": 21,
   "id": "9d0e3516",
   "metadata": {},
   "outputs": [
    {
     "data": {
      "text/html": [
       "<div>\n",
       "<style scoped>\n",
       "    .dataframe tbody tr th:only-of-type {\n",
       "        vertical-align: middle;\n",
       "    }\n",
       "\n",
       "    .dataframe tbody tr th {\n",
       "        vertical-align: top;\n",
       "    }\n",
       "\n",
       "    .dataframe thead th {\n",
       "        text-align: right;\n",
       "    }\n",
       "</style>\n",
       "<table border=\"1\" class=\"dataframe\">\n",
       "  <thead>\n",
       "    <tr style=\"text-align: right;\">\n",
       "      <th></th>\n",
       "      <th>시군구</th>\n",
       "      <th>동</th>\n",
       "      <th>단지명</th>\n",
       "      <th>전월세구분</th>\n",
       "      <th>전용면적</th>\n",
       "      <th>계약년월</th>\n",
       "      <th>층</th>\n",
       "      <th>건축년도</th>\n",
       "      <th>보증금</th>\n",
       "      <th>apt_counts</th>\n",
       "    </tr>\n",
       "  </thead>\n",
       "  <tbody>\n",
       "    <tr>\n",
       "      <th>0</th>\n",
       "      <td>서울특별시 강남구 개포동</td>\n",
       "      <td>개포동</td>\n",
       "      <td>개포6차우성아파트1동~8동</td>\n",
       "      <td>전세</td>\n",
       "      <td>79.97</td>\n",
       "      <td>202001</td>\n",
       "      <td>1</td>\n",
       "      <td>1987</td>\n",
       "      <td>43000</td>\n",
       "      <td>6</td>\n",
       "    </tr>\n",
       "    <tr>\n",
       "      <th>1</th>\n",
       "      <td>서울특별시 강남구 개포동</td>\n",
       "      <td>개포동</td>\n",
       "      <td>개포6차우성아파트1동~8동</td>\n",
       "      <td>전세</td>\n",
       "      <td>79.97</td>\n",
       "      <td>202001</td>\n",
       "      <td>5</td>\n",
       "      <td>1987</td>\n",
       "      <td>45000</td>\n",
       "      <td>6</td>\n",
       "    </tr>\n",
       "    <tr>\n",
       "      <th>2</th>\n",
       "      <td>서울특별시 강남구 개포동</td>\n",
       "      <td>개포동</td>\n",
       "      <td>개포6차우성아파트1동~8동</td>\n",
       "      <td>전세</td>\n",
       "      <td>79.97</td>\n",
       "      <td>202001</td>\n",
       "      <td>4</td>\n",
       "      <td>1987</td>\n",
       "      <td>44000</td>\n",
       "      <td>6</td>\n",
       "    </tr>\n",
       "  </tbody>\n",
       "</table>\n",
       "</div>"
      ],
      "text/plain": [
       "             시군구    동             단지명 전월세구분   전용면적    계약년월  층  건축년도    보증금  \\\n",
       "0  서울특별시 강남구 개포동  개포동  개포6차우성아파트1동~8동    전세  79.97  202001  1  1987  43000   \n",
       "1  서울특별시 강남구 개포동  개포동  개포6차우성아파트1동~8동    전세  79.97  202001  5  1987  45000   \n",
       "2  서울특별시 강남구 개포동  개포동  개포6차우성아파트1동~8동    전세  79.97  202001  4  1987  44000   \n",
       "\n",
       "   apt_counts  \n",
       "0           6  \n",
       "1           6  \n",
       "2           6  "
      ]
     },
     "execution_count": 21,
     "metadata": {},
     "output_type": "execute_result"
    }
   ],
   "source": [
    "# 같은 아파트 이름을 갖는 수를 저장하는 apt_count 열 생성\n",
    "df['apt_counts'] = 0\n",
    "df.groupby('단지명')['apt_counts'].count()\n",
    "df = pd.merge(df, df.groupby('단지명')['apt_counts'].count(), on='단지명', how='left').drop('apt_counts_x', axis=1).rename(columns={'apt_counts_y':'apt_counts'})\n",
    "df.head(3)"
   ]
  },
  {
   "cell_type": "markdown",
   "id": "8ca4996b",
   "metadata": {},
   "source": [
    "* 시공사명이 아파트값에 영향을 줄 수 있다는 가설추가+  (재은)"
   ]
  },
  {
   "cell_type": "code",
   "execution_count": 22,
   "id": "e80a89b0",
   "metadata": {},
   "outputs": [
    {
     "data": {
      "text/html": [
       "<div>\n",
       "<style scoped>\n",
       "    .dataframe tbody tr th:only-of-type {\n",
       "        vertical-align: middle;\n",
       "    }\n",
       "\n",
       "    .dataframe tbody tr th {\n",
       "        vertical-align: top;\n",
       "    }\n",
       "\n",
       "    .dataframe thead th {\n",
       "        text-align: right;\n",
       "    }\n",
       "</style>\n",
       "<table border=\"1\" class=\"dataframe\">\n",
       "  <thead>\n",
       "    <tr style=\"text-align: right;\">\n",
       "      <th></th>\n",
       "      <th>시군구</th>\n",
       "      <th>동</th>\n",
       "      <th>단지명</th>\n",
       "      <th>전월세구분</th>\n",
       "      <th>전용면적</th>\n",
       "      <th>계약년월</th>\n",
       "      <th>층</th>\n",
       "      <th>건축년도</th>\n",
       "      <th>보증금</th>\n",
       "      <th>apt_counts</th>\n",
       "      <th>top10</th>\n",
       "    </tr>\n",
       "  </thead>\n",
       "  <tbody>\n",
       "    <tr>\n",
       "      <th>0</th>\n",
       "      <td>서울특별시 강남구 개포동</td>\n",
       "      <td>개포동</td>\n",
       "      <td>개포6차우성아파트1동~8동</td>\n",
       "      <td>전세</td>\n",
       "      <td>79.97</td>\n",
       "      <td>202001</td>\n",
       "      <td>1</td>\n",
       "      <td>1987</td>\n",
       "      <td>43000</td>\n",
       "      <td>6</td>\n",
       "      <td>0</td>\n",
       "    </tr>\n",
       "    <tr>\n",
       "      <th>1</th>\n",
       "      <td>서울특별시 강남구 개포동</td>\n",
       "      <td>개포동</td>\n",
       "      <td>개포6차우성아파트1동~8동</td>\n",
       "      <td>전세</td>\n",
       "      <td>79.97</td>\n",
       "      <td>202001</td>\n",
       "      <td>5</td>\n",
       "      <td>1987</td>\n",
       "      <td>45000</td>\n",
       "      <td>6</td>\n",
       "      <td>0</td>\n",
       "    </tr>\n",
       "    <tr>\n",
       "      <th>2</th>\n",
       "      <td>서울특별시 강남구 개포동</td>\n",
       "      <td>개포동</td>\n",
       "      <td>개포6차우성아파트1동~8동</td>\n",
       "      <td>전세</td>\n",
       "      <td>79.97</td>\n",
       "      <td>202001</td>\n",
       "      <td>4</td>\n",
       "      <td>1987</td>\n",
       "      <td>44000</td>\n",
       "      <td>6</td>\n",
       "      <td>0</td>\n",
       "    </tr>\n",
       "    <tr>\n",
       "      <th>3</th>\n",
       "      <td>서울특별시 강남구 개포동</td>\n",
       "      <td>개포동</td>\n",
       "      <td>개포우성3차</td>\n",
       "      <td>전세</td>\n",
       "      <td>133.46</td>\n",
       "      <td>202001</td>\n",
       "      <td>11</td>\n",
       "      <td>1984</td>\n",
       "      <td>90000</td>\n",
       "      <td>10</td>\n",
       "      <td>0</td>\n",
       "    </tr>\n",
       "    <tr>\n",
       "      <th>4</th>\n",
       "      <td>서울특별시 강남구 개포동</td>\n",
       "      <td>개포동</td>\n",
       "      <td>개포우성3차</td>\n",
       "      <td>전세</td>\n",
       "      <td>133.46</td>\n",
       "      <td>202001</td>\n",
       "      <td>11</td>\n",
       "      <td>1984</td>\n",
       "      <td>85000</td>\n",
       "      <td>10</td>\n",
       "      <td>0</td>\n",
       "    </tr>\n",
       "  </tbody>\n",
       "</table>\n",
       "</div>"
      ],
      "text/plain": [
       "             시군구    동             단지명 전월세구분    전용면적    계약년월   층  건축년도    보증금  \\\n",
       "0  서울특별시 강남구 개포동  개포동  개포6차우성아파트1동~8동    전세   79.97  202001   1  1987  43000   \n",
       "1  서울특별시 강남구 개포동  개포동  개포6차우성아파트1동~8동    전세   79.97  202001   5  1987  45000   \n",
       "2  서울특별시 강남구 개포동  개포동  개포6차우성아파트1동~8동    전세   79.97  202001   4  1987  44000   \n",
       "3  서울특별시 강남구 개포동  개포동          개포우성3차    전세  133.46  202001  11  1984  90000   \n",
       "4  서울특별시 강남구 개포동  개포동          개포우성3차    전세  133.46  202001  11  1984  85000   \n",
       "\n",
       "   apt_counts  top10  \n",
       "0           6      0  \n",
       "1           6      0  \n",
       "2           6      0  \n",
       "3          10      0  \n",
       "4          10      0  "
      ]
     },
     "execution_count": 22,
     "metadata": {},
     "output_type": "execute_result"
    }
   ],
   "source": [
    "# 비슷한 아파트들(숫자같은 것으로)끼리 여러번 나오는 것 방지, top시공사 10곳, 데이터에서 많이 나오는 아파트 25개의 이름 통일하기\n",
    "# top시공사 10곳은 2022년도 종합건설사업자 시공능력평가액 <토목건축공사업> 참고& 시공사들끼리 동일 아파트를 짓는 경우가 있어 시공사 및 아파트명으로 검색 진행\n",
    "'''\n",
    "삼성물산 주식회사 - 래미안\n",
    "현대건설(주) - 힐스테이트\n",
    "디엘이앤씨(주) - 이편한|e편한|e-편한\n",
    "(주)포스코건설 - 더샵\n",
    "지에스건설(주) - 자이\n",
    "(주)대우건설 - 푸르지오\n",
    "현대엔지니어링(주) - 아이파크|IPARK\n",
    "롯데건설(주) - 롯데캐슬\n",
    "에스케이에코플랜트(주) - sk|SK|에스케이\n",
    "에이치디씨현대산업개발(주)\n",
    "(주)태영건설 - 데시앙\n",
    "'''\n",
    "df['top10'] = 0\n",
    "top10 = ['자이', '푸르지오', '더샵', '롯데캐슬', '이편한|e편한|e-편한', '힐스테이트', '아이파크', '래미안', 'sk|SK|에스케이', '데시앙']\n",
    "\n",
    "df['단지명'] = df['단지명'].fillna('others')\n",
    "\n",
    "# top 10 시공사면 1, 아니면 0\n",
    "for i, brand in enumerate(top10):\n",
    "    df.loc[df['단지명'].str.contains(brand), 'top10'] = 1\n",
    "\n",
    "df.head(5)"
   ]
  },
  {
   "cell_type": "code",
   "execution_count": 23,
   "id": "baf328a9",
   "metadata": {},
   "outputs": [],
   "source": [
    "# 데이터에 많이 있는 아파트 대표 25개 리스트\n",
    "apt_names = ['고덕아르테온','현대','삼익그린2차','두산','신동아','은마','삼성','우성', '주공2', '한양수자인사가정파크','벽산','한신','주공아파트 5단지',\n",
    "                   '쌍용','목동신시가지7','동아','중앙하이츠','선사현대','고덕그라시움','북한산두산위브','잠실엘스','극동','미성','대림','목동신시가지14','삼환']\n",
    "# top 10 시공사 키워드와 25개 리스트를 통합\n",
    "apt_names_list = top10 + apt_names"
   ]
  },
  {
   "cell_type": "code",
   "execution_count": 24,
   "id": "c1f066d4",
   "metadata": {},
   "outputs": [],
   "source": [
    "# `apt_names_list`의 키워드에 해당하는 아파트명이 있는지 여부를 나타내는 새로운 컬럼 생성\n",
    "df['transformed'] = False"
   ]
  },
  {
   "cell_type": "code",
   "execution_count": 25,
   "id": "bc168828",
   "metadata": {},
   "outputs": [],
   "source": [
    "# `apt_names_list`의 키워드에 아파트명이 포함되면 해당 키워드로 아파트명 통일\n",
    "#  transformed` 컬럼값 True로 변경\n",
    "for a in (apt_names_list):\n",
    "    df.loc[df['단지명'].str.contains(a), '단지명'] = a #str.contains(): 지정한 문자열이 포함되어 있는지 확인\n",
    "    df.loc[df['단지명'].str.contains(a), 'transformed'] = True"
   ]
  },
  {
   "cell_type": "code",
   "execution_count": 26,
   "id": "95c90d08",
   "metadata": {},
   "outputs": [],
   "source": [
    "# 아파트 이름이 변경되지 않았을 경우(`transformed=False` 일 경우) 아파트명을 'others'로 변경\n",
    "for a in (apt_names):\n",
    "    df.loc[~df['transformed'], '단지명'] = 'others'"
   ]
  },
  {
   "cell_type": "code",
   "execution_count": 27,
   "id": "6a94f1cb",
   "metadata": {},
   "outputs": [
    {
     "data": {
      "text/plain": [
       "others          18572\n",
       "현대               2389\n",
       "래미안              1791\n",
       "우성               1023\n",
       "동아               1013\n",
       "푸르지오              969\n",
       "힐스테이트             908\n",
       "이편한|e편한|e-편한      796\n",
       "자이                774\n",
       "두산                745\n",
       "롯데캐슬              737\n",
       "한신                737\n",
       "삼성                692\n",
       "아이파크              623\n",
       "벽산                454\n",
       "대림                426\n",
       "sk|SK|에스케이        376\n",
       "고덕아르테온            361\n",
       "데시앙               361\n",
       "쌍용                359\n",
       "극동                323\n",
       "주공2               231\n",
       "중앙하이츠             210\n",
       "미성                195\n",
       "더샵                191\n",
       "은마                166\n",
       "주공아파트 5단지         153\n",
       "삼환                150\n",
       "잠실엘스              124\n",
       "삼익그린2차             98\n",
       "목동신시가지7            91\n",
       "목동신시가지14           84\n",
       "고덕그라시움             68\n",
       "한양수자인사가정파크         55\n",
       "Name: 단지명, dtype: int64"
      ]
     },
     "execution_count": 27,
     "metadata": {},
     "output_type": "execute_result"
    }
   ],
   "source": [
    "df['단지명'].value_counts()"
   ]
  },
  {
   "cell_type": "code",
   "execution_count": 28,
   "id": "069164da",
   "metadata": {},
   "outputs": [
    {
     "name": "stdout",
     "output_type": "stream",
     "text": [
      "변환전\n",
      " 단지명\n",
      "잠실엘스    92791.935484\n",
      "더샵      75327.460733\n",
      "자이      68306.320413\n",
      "래미안     63274.747069\n",
      "롯데캐슬    59696.305292\n",
      "Name: 보증금, dtype: float64\n"
     ]
    }
   ],
   "source": [
    "# 아파트별 가격 평균 내림차순으로 정렬\n",
    "apt_price = df.groupby('단지명')['보증금'].agg('mean').sort_values(ascending=False)\n",
    "print('변환전\\n', apt_price[:5])"
   ]
  },
  {
   "cell_type": "code",
   "execution_count": 29,
   "id": "60e391e5",
   "metadata": {},
   "outputs": [
    {
     "name": "stdout",
     "output_type": "stream",
     "text": [
      "변환후\n",
      " 단지명\n",
      "0    92791.935484\n",
      "1    75327.460733\n",
      "2    68306.320413\n",
      "3    63274.747069\n",
      "4    59696.305292\n",
      "Name: 보증금, dtype: float64\n"
     ]
    }
   ],
   "source": [
    "#가격별로 0~ 인코딩 해주기\n",
    "for i, a in enumerate(list(apt_price.index)):\n",
    "    df.loc[df['단지명'] == a, '단지명'] = i \n",
    "apt_price = df.groupby('단지명')['보증금'].agg('mean').sort_values(ascending=False)\n",
    "print('변환후\\n', apt_price[:5])"
   ]
  },
  {
   "cell_type": "code",
   "execution_count": 30,
   "id": "d31f9301",
   "metadata": {},
   "outputs": [
    {
     "name": "stdout",
     "output_type": "stream",
     "text": [
      "변환전\n",
      " [1987 1984 2004 1983 1993]\n",
      "변환후\n",
      " [22 19 39 18 28]\n"
     ]
    }
   ],
   "source": [
    "# 완공연도에서 최소연도 빼서 완공연도 라벨인코딩\n",
    "print('변환전\\n', df['건축년도'].unique()[:5])\n",
    "df['건축년도'] = df['건축년도'] - df['건축년도'].min()\n",
    "print('변환후\\n', df['건축년도'].unique()[:5])"
   ]
  },
  {
   "cell_type": "code",
   "execution_count": 31,
   "id": "52cb6e5f",
   "metadata": {},
   "outputs": [
    {
     "name": "stdout",
     "output_type": "stream",
     "text": [
      "train 변환후\n",
      " 0        0\n",
      "1        0\n",
      "2        0\n",
      "3        0\n",
      "4        0\n",
      "        ..\n",
      "36240    2\n",
      "36241    2\n",
      "36242    2\n",
      "36243    2\n",
      "36244    2\n",
      "Name: 계약년월, Length: 36245, dtype: int64\n",
      "test 변환후\n",
      " [0 1 2]\n"
     ]
    }
   ],
   "source": [
    "# 연월 증가하는 순으로 라벨 인코딩 : 계약년월\n",
    "le = LabelEncoder()\n",
    "df['계약년월'] = le.fit_transform(df['계약년월'])\n",
    "print('train 변환후\\n', df['계약년월'])\n",
    "print('test 변환후\\n', df['계약년월'].unique()[:5])"
   ]
  },
  {
   "cell_type": "code",
   "execution_count": 32,
   "id": "9b911be0",
   "metadata": {},
   "outputs": [
    {
     "data": {
      "text/html": [
       "<div>\n",
       "<style scoped>\n",
       "    .dataframe tbody tr th:only-of-type {\n",
       "        vertical-align: middle;\n",
       "    }\n",
       "\n",
       "    .dataframe tbody tr th {\n",
       "        vertical-align: top;\n",
       "    }\n",
       "\n",
       "    .dataframe thead th {\n",
       "        text-align: right;\n",
       "    }\n",
       "</style>\n",
       "<table border=\"1\" class=\"dataframe\">\n",
       "  <thead>\n",
       "    <tr style=\"text-align: right;\">\n",
       "      <th></th>\n",
       "      <th>시군구</th>\n",
       "      <th>동</th>\n",
       "      <th>단지명</th>\n",
       "      <th>전월세구분</th>\n",
       "      <th>전용면적</th>\n",
       "      <th>계약년월</th>\n",
       "      <th>층</th>\n",
       "      <th>건축년도</th>\n",
       "      <th>보증금</th>\n",
       "      <th>apt_counts</th>\n",
       "      <th>top10</th>\n",
       "      <th>transformed</th>\n",
       "    </tr>\n",
       "  </thead>\n",
       "  <tbody>\n",
       "    <tr>\n",
       "      <th>0</th>\n",
       "      <td>서울특별시 강남구 개포동</td>\n",
       "      <td>개포동</td>\n",
       "      <td>19</td>\n",
       "      <td>전세</td>\n",
       "      <td>79.97</td>\n",
       "      <td>0</td>\n",
       "      <td>1</td>\n",
       "      <td>22</td>\n",
       "      <td>43000</td>\n",
       "      <td>6</td>\n",
       "      <td>0</td>\n",
       "      <td>True</td>\n",
       "    </tr>\n",
       "    <tr>\n",
       "      <th>1</th>\n",
       "      <td>서울특별시 강남구 개포동</td>\n",
       "      <td>개포동</td>\n",
       "      <td>19</td>\n",
       "      <td>전세</td>\n",
       "      <td>79.97</td>\n",
       "      <td>0</td>\n",
       "      <td>5</td>\n",
       "      <td>22</td>\n",
       "      <td>45000</td>\n",
       "      <td>6</td>\n",
       "      <td>0</td>\n",
       "      <td>True</td>\n",
       "    </tr>\n",
       "    <tr>\n",
       "      <th>2</th>\n",
       "      <td>서울특별시 강남구 개포동</td>\n",
       "      <td>개포동</td>\n",
       "      <td>19</td>\n",
       "      <td>전세</td>\n",
       "      <td>79.97</td>\n",
       "      <td>0</td>\n",
       "      <td>4</td>\n",
       "      <td>22</td>\n",
       "      <td>44000</td>\n",
       "      <td>6</td>\n",
       "      <td>0</td>\n",
       "      <td>True</td>\n",
       "    </tr>\n",
       "    <tr>\n",
       "      <th>3</th>\n",
       "      <td>서울특별시 강남구 개포동</td>\n",
       "      <td>개포동</td>\n",
       "      <td>19</td>\n",
       "      <td>전세</td>\n",
       "      <td>133.46</td>\n",
       "      <td>0</td>\n",
       "      <td>11</td>\n",
       "      <td>19</td>\n",
       "      <td>90000</td>\n",
       "      <td>10</td>\n",
       "      <td>0</td>\n",
       "      <td>True</td>\n",
       "    </tr>\n",
       "    <tr>\n",
       "      <th>4</th>\n",
       "      <td>서울특별시 강남구 개포동</td>\n",
       "      <td>개포동</td>\n",
       "      <td>19</td>\n",
       "      <td>전세</td>\n",
       "      <td>133.46</td>\n",
       "      <td>0</td>\n",
       "      <td>11</td>\n",
       "      <td>19</td>\n",
       "      <td>85000</td>\n",
       "      <td>10</td>\n",
       "      <td>0</td>\n",
       "      <td>True</td>\n",
       "    </tr>\n",
       "  </tbody>\n",
       "</table>\n",
       "</div>"
      ],
      "text/plain": [
       "             시군구    동 단지명 전월세구분    전용면적  계약년월   층  건축년도    보증금  apt_counts  \\\n",
       "0  서울특별시 강남구 개포동  개포동  19    전세   79.97     0   1    22  43000           6   \n",
       "1  서울특별시 강남구 개포동  개포동  19    전세   79.97     0   5    22  45000           6   \n",
       "2  서울특별시 강남구 개포동  개포동  19    전세   79.97     0   4    22  44000           6   \n",
       "3  서울특별시 강남구 개포동  개포동  19    전세  133.46     0  11    19  90000          10   \n",
       "4  서울특별시 강남구 개포동  개포동  19    전세  133.46     0  11    19  85000          10   \n",
       "\n",
       "   top10  transformed  \n",
       "0      0         True  \n",
       "1      0         True  \n",
       "2      0         True  \n",
       "3      0         True  \n",
       "4      0         True  "
      ]
     },
     "execution_count": 32,
     "metadata": {},
     "output_type": "execute_result"
    }
   ],
   "source": [
    "df.head(5)"
   ]
  },
  {
   "cell_type": "code",
   "execution_count": 33,
   "id": "f1d90a0e",
   "metadata": {},
   "outputs": [
    {
     "data": {
      "text/plain": [
       "동\n",
       "회현동2가     127500.000000\n",
       "용산동5가     113888.888889\n",
       "하중동       106400.000000\n",
       "내수동       105000.000000\n",
       "남대문로5가    103750.000000\n",
       "도곡동        97773.874172\n",
       "청암동        95000.000000\n",
       "홍파동        91842.105263\n",
       "청담동        88545.981366\n",
       "대치동        87167.190776\n",
       "반포동        86524.005935\n",
       "평동         85768.750000\n",
       "사직동        83400.000000\n",
       "삼성동        82411.453744\n",
       "압구정동       80869.642857\n",
       "동빙고동       80000.000000\n",
       "한강로2가      79894.444444\n",
       "충무로4가      77666.666667\n",
       "서교동        75562.500000\n",
       "방배동        75219.208211\n",
       "Name: 보증금, dtype: float64"
      ]
     },
     "execution_count": 33,
     "metadata": {},
     "output_type": "execute_result"
    }
   ],
   "source": [
    "# 동 인코딩하기\n",
    "\n",
    "#동 EDA\n",
    "dong_price = df.groupby('동')['보증금'].agg('mean').sort_values(ascending=False)\n",
    "dong_price[:20]\n",
    "\n",
    "#현재 데이터에서는 가장 비싼 동은 종로구 내수동"
   ]
  },
  {
   "cell_type": "code",
   "execution_count": 34,
   "id": "702d1a04",
   "metadata": {
    "scrolled": true
   },
   "outputs": [
    {
     "data": {
      "text/html": [
       "<div>\n",
       "<style scoped>\n",
       "    .dataframe tbody tr th:only-of-type {\n",
       "        vertical-align: middle;\n",
       "    }\n",
       "\n",
       "    .dataframe tbody tr th {\n",
       "        vertical-align: top;\n",
       "    }\n",
       "\n",
       "    .dataframe thead th {\n",
       "        text-align: right;\n",
       "    }\n",
       "</style>\n",
       "<table border=\"1\" class=\"dataframe\">\n",
       "  <thead>\n",
       "    <tr style=\"text-align: right;\">\n",
       "      <th></th>\n",
       "      <th>시군구</th>\n",
       "      <th>동</th>\n",
       "      <th>단지명</th>\n",
       "      <th>전월세구분</th>\n",
       "      <th>전용면적</th>\n",
       "      <th>계약년월</th>\n",
       "      <th>층</th>\n",
       "      <th>건축년도</th>\n",
       "      <th>보증금</th>\n",
       "      <th>apt_counts</th>\n",
       "      <th>top10</th>\n",
       "      <th>transformed</th>\n",
       "    </tr>\n",
       "  </thead>\n",
       "  <tbody>\n",
       "    <tr>\n",
       "      <th>0</th>\n",
       "      <td>서울특별시 강남구 개포동</td>\n",
       "      <td>74</td>\n",
       "      <td>19</td>\n",
       "      <td>전세</td>\n",
       "      <td>79.97</td>\n",
       "      <td>0</td>\n",
       "      <td>1</td>\n",
       "      <td>22</td>\n",
       "      <td>43000</td>\n",
       "      <td>6</td>\n",
       "      <td>0</td>\n",
       "      <td>True</td>\n",
       "    </tr>\n",
       "    <tr>\n",
       "      <th>1</th>\n",
       "      <td>서울특별시 강남구 개포동</td>\n",
       "      <td>74</td>\n",
       "      <td>19</td>\n",
       "      <td>전세</td>\n",
       "      <td>79.97</td>\n",
       "      <td>0</td>\n",
       "      <td>5</td>\n",
       "      <td>22</td>\n",
       "      <td>45000</td>\n",
       "      <td>6</td>\n",
       "      <td>0</td>\n",
       "      <td>True</td>\n",
       "    </tr>\n",
       "    <tr>\n",
       "      <th>2</th>\n",
       "      <td>서울특별시 강남구 개포동</td>\n",
       "      <td>74</td>\n",
       "      <td>19</td>\n",
       "      <td>전세</td>\n",
       "      <td>79.97</td>\n",
       "      <td>0</td>\n",
       "      <td>4</td>\n",
       "      <td>22</td>\n",
       "      <td>44000</td>\n",
       "      <td>6</td>\n",
       "      <td>0</td>\n",
       "      <td>True</td>\n",
       "    </tr>\n",
       "    <tr>\n",
       "      <th>3</th>\n",
       "      <td>서울특별시 강남구 개포동</td>\n",
       "      <td>74</td>\n",
       "      <td>19</td>\n",
       "      <td>전세</td>\n",
       "      <td>133.46</td>\n",
       "      <td>0</td>\n",
       "      <td>11</td>\n",
       "      <td>19</td>\n",
       "      <td>90000</td>\n",
       "      <td>10</td>\n",
       "      <td>0</td>\n",
       "      <td>True</td>\n",
       "    </tr>\n",
       "    <tr>\n",
       "      <th>4</th>\n",
       "      <td>서울특별시 강남구 개포동</td>\n",
       "      <td>74</td>\n",
       "      <td>19</td>\n",
       "      <td>전세</td>\n",
       "      <td>133.46</td>\n",
       "      <td>0</td>\n",
       "      <td>11</td>\n",
       "      <td>19</td>\n",
       "      <td>85000</td>\n",
       "      <td>10</td>\n",
       "      <td>0</td>\n",
       "      <td>True</td>\n",
       "    </tr>\n",
       "    <tr>\n",
       "      <th>...</th>\n",
       "      <td>...</td>\n",
       "      <td>...</td>\n",
       "      <td>...</td>\n",
       "      <td>...</td>\n",
       "      <td>...</td>\n",
       "      <td>...</td>\n",
       "      <td>...</td>\n",
       "      <td>...</td>\n",
       "      <td>...</td>\n",
       "      <td>...</td>\n",
       "      <td>...</td>\n",
       "      <td>...</td>\n",
       "    </tr>\n",
       "    <tr>\n",
       "      <th>36240</th>\n",
       "      <td>서울특별시 중랑구 중화동</td>\n",
       "      <td>231</td>\n",
       "      <td>25</td>\n",
       "      <td>전세</td>\n",
       "      <td>59.76</td>\n",
       "      <td>2</td>\n",
       "      <td>19</td>\n",
       "      <td>33</td>\n",
       "      <td>29500</td>\n",
       "      <td>7</td>\n",
       "      <td>0</td>\n",
       "      <td>True</td>\n",
       "    </tr>\n",
       "    <tr>\n",
       "      <th>36241</th>\n",
       "      <td>서울특별시 중랑구 중화동</td>\n",
       "      <td>231</td>\n",
       "      <td>25</td>\n",
       "      <td>전세</td>\n",
       "      <td>59.76</td>\n",
       "      <td>2</td>\n",
       "      <td>19</td>\n",
       "      <td>32</td>\n",
       "      <td>32000</td>\n",
       "      <td>29</td>\n",
       "      <td>0</td>\n",
       "      <td>True</td>\n",
       "    </tr>\n",
       "    <tr>\n",
       "      <th>36242</th>\n",
       "      <td>서울특별시 중랑구 중화동</td>\n",
       "      <td>231</td>\n",
       "      <td>25</td>\n",
       "      <td>전세</td>\n",
       "      <td>59.76</td>\n",
       "      <td>2</td>\n",
       "      <td>8</td>\n",
       "      <td>32</td>\n",
       "      <td>29400</td>\n",
       "      <td>29</td>\n",
       "      <td>0</td>\n",
       "      <td>True</td>\n",
       "    </tr>\n",
       "    <tr>\n",
       "      <th>36243</th>\n",
       "      <td>서울특별시 중랑구 중화동</td>\n",
       "      <td>231</td>\n",
       "      <td>25</td>\n",
       "      <td>전세</td>\n",
       "      <td>50.37</td>\n",
       "      <td>2</td>\n",
       "      <td>7</td>\n",
       "      <td>32</td>\n",
       "      <td>28000</td>\n",
       "      <td>29</td>\n",
       "      <td>0</td>\n",
       "      <td>True</td>\n",
       "    </tr>\n",
       "    <tr>\n",
       "      <th>36244</th>\n",
       "      <td>서울특별시 중랑구 중화동</td>\n",
       "      <td>231</td>\n",
       "      <td>25</td>\n",
       "      <td>전세</td>\n",
       "      <td>50.37</td>\n",
       "      <td>2</td>\n",
       "      <td>20</td>\n",
       "      <td>32</td>\n",
       "      <td>28000</td>\n",
       "      <td>29</td>\n",
       "      <td>0</td>\n",
       "      <td>True</td>\n",
       "    </tr>\n",
       "  </tbody>\n",
       "</table>\n",
       "<p>36245 rows × 12 columns</p>\n",
       "</div>"
      ],
      "text/plain": [
       "                 시군구    동 단지명 전월세구분    전용면적  계약년월   층  건축년도    보증금  \\\n",
       "0      서울특별시 강남구 개포동   74  19    전세   79.97     0   1    22  43000   \n",
       "1      서울특별시 강남구 개포동   74  19    전세   79.97     0   5    22  45000   \n",
       "2      서울특별시 강남구 개포동   74  19    전세   79.97     0   4    22  44000   \n",
       "3      서울특별시 강남구 개포동   74  19    전세  133.46     0  11    19  90000   \n",
       "4      서울특별시 강남구 개포동   74  19    전세  133.46     0  11    19  85000   \n",
       "...              ...  ...  ..   ...     ...   ...  ..   ...    ...   \n",
       "36240  서울특별시 중랑구 중화동  231  25    전세   59.76     2  19    33  29500   \n",
       "36241  서울특별시 중랑구 중화동  231  25    전세   59.76     2  19    32  32000   \n",
       "36242  서울특별시 중랑구 중화동  231  25    전세   59.76     2   8    32  29400   \n",
       "36243  서울특별시 중랑구 중화동  231  25    전세   50.37     2   7    32  28000   \n",
       "36244  서울특별시 중랑구 중화동  231  25    전세   50.37     2  20    32  28000   \n",
       "\n",
       "       apt_counts  top10  transformed  \n",
       "0               6      0         True  \n",
       "1               6      0         True  \n",
       "2               6      0         True  \n",
       "3              10      0         True  \n",
       "4              10      0         True  \n",
       "...           ...    ...          ...  \n",
       "36240           7      0         True  \n",
       "36241          29      0         True  \n",
       "36242          29      0         True  \n",
       "36243          29      0         True  \n",
       "36244          29      0         True  \n",
       "\n",
       "[36245 rows x 12 columns]"
      ]
     },
     "execution_count": 34,
     "metadata": {},
     "output_type": "execute_result"
    }
   ],
   "source": [
    "# 동별 인코딩\n",
    "for i, d in enumerate(list(dong_price.index)): \n",
    "#enumerate() 함수: 인자로 넘어온 목록을 기준으로 인덱스와 원소를 차례대로 접근하게 해주는 반복자(iterator) 객체를 반환\n",
    "    df.loc[df['동'] == d, '동'] = i #loc[행, 열] => 라벨 가져오기\n",
    "\n",
    "df"
   ]
  },
  {
   "cell_type": "code",
   "execution_count": 35,
   "id": "d511f60d",
   "metadata": {},
   "outputs": [
    {
     "name": "stdout",
     "output_type": "stream",
     "text": [
      "[ 1  5  4 11 11]\n"
     ]
    }
   ],
   "source": [
    "# 층 수 확인\n",
    "print(df['층'].values[:5])"
   ]
  },
  {
   "cell_type": "code",
   "execution_count": 36,
   "id": "0c25f3ae",
   "metadata": {},
   "outputs": [
    {
     "data": {
      "text/html": [
       "<div>\n",
       "<style scoped>\n",
       "    .dataframe tbody tr th:only-of-type {\n",
       "        vertical-align: middle;\n",
       "    }\n",
       "\n",
       "    .dataframe tbody tr th {\n",
       "        vertical-align: top;\n",
       "    }\n",
       "\n",
       "    .dataframe thead th {\n",
       "        text-align: right;\n",
       "    }\n",
       "</style>\n",
       "<table border=\"1\" class=\"dataframe\">\n",
       "  <thead>\n",
       "    <tr style=\"text-align: right;\">\n",
       "      <th></th>\n",
       "      <th>동</th>\n",
       "      <th>단지명</th>\n",
       "      <th>전용면적</th>\n",
       "      <th>계약년월</th>\n",
       "      <th>층</th>\n",
       "      <th>건축년도</th>\n",
       "      <th>보증금</th>\n",
       "      <th>apt_counts</th>\n",
       "      <th>top10</th>\n",
       "      <th>transformed</th>\n",
       "    </tr>\n",
       "  </thead>\n",
       "  <tbody>\n",
       "    <tr>\n",
       "      <th>0</th>\n",
       "      <td>74</td>\n",
       "      <td>19</td>\n",
       "      <td>79.97</td>\n",
       "      <td>0</td>\n",
       "      <td>1</td>\n",
       "      <td>22</td>\n",
       "      <td>43000</td>\n",
       "      <td>6</td>\n",
       "      <td>0</td>\n",
       "      <td>True</td>\n",
       "    </tr>\n",
       "    <tr>\n",
       "      <th>1</th>\n",
       "      <td>74</td>\n",
       "      <td>19</td>\n",
       "      <td>79.97</td>\n",
       "      <td>0</td>\n",
       "      <td>5</td>\n",
       "      <td>22</td>\n",
       "      <td>45000</td>\n",
       "      <td>6</td>\n",
       "      <td>0</td>\n",
       "      <td>True</td>\n",
       "    </tr>\n",
       "    <tr>\n",
       "      <th>2</th>\n",
       "      <td>74</td>\n",
       "      <td>19</td>\n",
       "      <td>79.97</td>\n",
       "      <td>0</td>\n",
       "      <td>4</td>\n",
       "      <td>22</td>\n",
       "      <td>44000</td>\n",
       "      <td>6</td>\n",
       "      <td>0</td>\n",
       "      <td>True</td>\n",
       "    </tr>\n",
       "    <tr>\n",
       "      <th>3</th>\n",
       "      <td>74</td>\n",
       "      <td>19</td>\n",
       "      <td>133.46</td>\n",
       "      <td>0</td>\n",
       "      <td>11</td>\n",
       "      <td>19</td>\n",
       "      <td>90000</td>\n",
       "      <td>10</td>\n",
       "      <td>0</td>\n",
       "      <td>True</td>\n",
       "    </tr>\n",
       "    <tr>\n",
       "      <th>4</th>\n",
       "      <td>74</td>\n",
       "      <td>19</td>\n",
       "      <td>133.46</td>\n",
       "      <td>0</td>\n",
       "      <td>11</td>\n",
       "      <td>19</td>\n",
       "      <td>85000</td>\n",
       "      <td>10</td>\n",
       "      <td>0</td>\n",
       "      <td>True</td>\n",
       "    </tr>\n",
       "  </tbody>\n",
       "</table>\n",
       "</div>"
      ],
      "text/plain": [
       "    동 단지명    전용면적  계약년월   층  건축년도    보증금  apt_counts  top10  transformed\n",
       "0  74  19   79.97     0   1    22  43000           6      0         True\n",
       "1  74  19   79.97     0   5    22  45000           6      0         True\n",
       "2  74  19   79.97     0   4    22  44000           6      0         True\n",
       "3  74  19  133.46     0  11    19  90000          10      0         True\n",
       "4  74  19  133.46     0  11    19  85000          10      0         True"
      ]
     },
     "execution_count": 36,
     "metadata": {},
     "output_type": "execute_result"
    }
   ],
   "source": [
    "# 시군구,전세 컬럼 삭제\n",
    "df = df.drop(['시군구', '전월세구분'], axis=1)\n",
    "df.head()"
   ]
  },
  {
   "cell_type": "markdown",
   "id": "6fc762bc",
   "metadata": {},
   "source": [
    "# 상관분석"
   ]
  },
  {
   "cell_type": "code",
   "execution_count": 37,
   "id": "4eb5a458",
   "metadata": {},
   "outputs": [
    {
     "data": {
      "text/html": [
       "<div>\n",
       "<style scoped>\n",
       "    .dataframe tbody tr th:only-of-type {\n",
       "        vertical-align: middle;\n",
       "    }\n",
       "\n",
       "    .dataframe tbody tr th {\n",
       "        vertical-align: top;\n",
       "    }\n",
       "\n",
       "    .dataframe thead th {\n",
       "        text-align: right;\n",
       "    }\n",
       "</style>\n",
       "<table border=\"1\" class=\"dataframe\">\n",
       "  <thead>\n",
       "    <tr style=\"text-align: right;\">\n",
       "      <th></th>\n",
       "      <th>dong</th>\n",
       "      <th>apt_name</th>\n",
       "      <th>area</th>\n",
       "      <th>contract_month</th>\n",
       "      <th>floor</th>\n",
       "      <th>construction_year</th>\n",
       "      <th>top10</th>\n",
       "      <th>deposit</th>\n",
       "    </tr>\n",
       "  </thead>\n",
       "  <tbody>\n",
       "    <tr>\n",
       "      <th>0</th>\n",
       "      <td>74</td>\n",
       "      <td>19</td>\n",
       "      <td>79.97</td>\n",
       "      <td>0</td>\n",
       "      <td>1</td>\n",
       "      <td>22</td>\n",
       "      <td>0</td>\n",
       "      <td>43000</td>\n",
       "    </tr>\n",
       "    <tr>\n",
       "      <th>1</th>\n",
       "      <td>74</td>\n",
       "      <td>19</td>\n",
       "      <td>79.97</td>\n",
       "      <td>0</td>\n",
       "      <td>5</td>\n",
       "      <td>22</td>\n",
       "      <td>0</td>\n",
       "      <td>45000</td>\n",
       "    </tr>\n",
       "    <tr>\n",
       "      <th>2</th>\n",
       "      <td>74</td>\n",
       "      <td>19</td>\n",
       "      <td>79.97</td>\n",
       "      <td>0</td>\n",
       "      <td>4</td>\n",
       "      <td>22</td>\n",
       "      <td>0</td>\n",
       "      <td>44000</td>\n",
       "    </tr>\n",
       "    <tr>\n",
       "      <th>3</th>\n",
       "      <td>74</td>\n",
       "      <td>19</td>\n",
       "      <td>133.46</td>\n",
       "      <td>0</td>\n",
       "      <td>11</td>\n",
       "      <td>19</td>\n",
       "      <td>0</td>\n",
       "      <td>90000</td>\n",
       "    </tr>\n",
       "    <tr>\n",
       "      <th>4</th>\n",
       "      <td>74</td>\n",
       "      <td>19</td>\n",
       "      <td>133.46</td>\n",
       "      <td>0</td>\n",
       "      <td>11</td>\n",
       "      <td>19</td>\n",
       "      <td>0</td>\n",
       "      <td>85000</td>\n",
       "    </tr>\n",
       "  </tbody>\n",
       "</table>\n",
       "</div>"
      ],
      "text/plain": [
       "  dong apt_name    area  contract_month  floor  construction_year  top10  \\\n",
       "0   74       19   79.97               0      1                 22      0   \n",
       "1   74       19   79.97               0      5                 22      0   \n",
       "2   74       19   79.97               0      4                 22      0   \n",
       "3   74       19  133.46               0     11                 19      0   \n",
       "4   74       19  133.46               0     11                 19      0   \n",
       "\n",
       "   deposit  \n",
       "0    43000  \n",
       "1    45000  \n",
       "2    44000  \n",
       "3    90000  \n",
       "4    85000  "
      ]
     },
     "execution_count": 37,
     "metadata": {},
     "output_type": "execute_result"
    }
   ],
   "source": [
    "# 변수로 뽑은 동, 단지명, 전용면적, 계약년월, 층, 건축년도, 보증금 등을 모두 숫자화 함\n",
    "# 상관분석을 위해 df에서 시군구를 제외하고 동~ 다시 reframe진행함, 표를 보기 위해 영어로 변수 변경\n",
    "# 상관분석 데이터는 기존 데이터 복사본으로 진행 & 동, 단지명, 전용면적, 계약년월, 층, 건축년도, 추가한 top10, 보증금만 확인\n",
    "\n",
    "df_copy = df.copy()\n",
    "df_copy = df_copy[['동', '단지명', '전용면적', '계약년월', '층', '건축년도','top10', '보증금']]\n",
    "df_copy.columns = ['dong', 'apt_name', 'area', 'contract_month', 'floor', 'construction_year','top10', 'deposit']\n",
    "df_copy.head()"
   ]
  },
  {
   "cell_type": "code",
   "execution_count": 38,
   "id": "d9cde096",
   "metadata": {},
   "outputs": [
    {
     "name": "stderr",
     "output_type": "stream",
     "text": [
      "C:\\Users\\tjoeun\\AppData\\Local\\Temp\\ipykernel_15148\\2354315515.py:7: FutureWarning: The default value of numeric_only in DataFrame.corr is deprecated. In a future version, it will default to False. Select only valid columns or specify the value of numeric_only to silence this warning.\n",
      "  df_corr=df_copy.corr()\n"
     ]
    },
    {
     "data": {
      "image/png": "[encoded data removed]",
      "text/plain": [
       "<Figure size 1000x1000 with 1 Axes>"
      ]
     },
     "metadata": {},
     "output_type": "display_data"
    }
   ],
   "source": [
    "#상관 관계 행렬, \n",
    "# 'dong', 'apt_name' 가 범주형 값이기 때문에 더미코드 활용 : 이걸로 돌리면 무지하게 오래 걸립니다.\n",
    "# df_dummies = pd.get_dummies(df_copy, columns=['dong', 'apt_name'])\n",
    "# df_corr = df_dummies.corr()\n",
    "\n",
    "#퍼포먼스 저하로 일단 두가지 항목 제외한 히트맵 확인\n",
    "df_corr=df_copy.corr()\n",
    "\n",
    "\n",
    "#히트맵\n",
    "plt.figure(figsize=(10,10))\n",
    "sns.set(font_scale=0.8)\n",
    "sns.heatmap(df_corr, annot=True, cbar=False)\n",
    "plt.show()"
   ]
  },
  {
   "cell_type": "code",
   "execution_count": 39,
   "id": "13e84bce",
   "metadata": {},
   "outputs": [
    {
     "name": "stderr",
     "output_type": "stream",
     "text": [
      "C:\\Users\\tjoeun\\AppData\\Local\\Temp\\ipykernel_15148\\1288456240.py:2: FutureWarning: The default value of numeric_only in DataFrame.corr is deprecated. In a future version, it will default to False. Select only valid columns or specify the value of numeric_only to silence this warning.\n",
      "  corr_order = df_copy.corr().loc[:'top10', 'deposit'].abs().sort_values(ascending=False)\n"
     ]
    },
    {
     "data": {
      "text/plain": [
       "area                 0.653605\n",
       "top10                0.263250\n",
       "floor                0.192338\n",
       "construction_year    0.185093\n",
       "contract_month       0.031149\n",
       "Name: deposit, dtype: float64"
      ]
     },
     "execution_count": 39,
     "metadata": {},
     "output_type": "execute_result"
    }
   ],
   "source": [
    "# 보증금과 가장 상관관계가 높은 순으로 출력하기\n",
    "corr_order = df_copy.corr().loc[:'top10', 'deposit'].abs().sort_values(ascending=False)\n",
    "corr_order"
   ]
  },
  {
   "cell_type": "code",
   "execution_count": 40,
   "id": "6b6b48b2",
   "metadata": {},
   "outputs": [],
   "source": [
    "# 더미 적용 & 더미미적용 두 가지 일단 같은 값으로 나옴"
   ]
  },
  {
   "cell_type": "code",
   "execution_count": 41,
   "id": "735a325a",
   "metadata": {},
   "outputs": [
    {
     "data": {
      "text/html": [
       "<div>\n",
       "<style scoped>\n",
       "    .dataframe tbody tr th:only-of-type {\n",
       "        vertical-align: middle;\n",
       "    }\n",
       "\n",
       "    .dataframe tbody tr th {\n",
       "        vertical-align: top;\n",
       "    }\n",
       "\n",
       "    .dataframe thead th {\n",
       "        text-align: right;\n",
       "    }\n",
       "</style>\n",
       "<table border=\"1\" class=\"dataframe\">\n",
       "  <thead>\n",
       "    <tr style=\"text-align: right;\">\n",
       "      <th></th>\n",
       "      <th>deposit</th>\n",
       "      <th>area</th>\n",
       "      <th>top10</th>\n",
       "      <th>floor</th>\n",
       "      <th>construction_year</th>\n",
       "      <th>contract_month</th>\n",
       "    </tr>\n",
       "  </thead>\n",
       "  <tbody>\n",
       "    <tr>\n",
       "      <th>0</th>\n",
       "      <td>43000</td>\n",
       "      <td>79.97</td>\n",
       "      <td>0</td>\n",
       "      <td>1</td>\n",
       "      <td>22</td>\n",
       "      <td>0</td>\n",
       "    </tr>\n",
       "    <tr>\n",
       "      <th>1</th>\n",
       "      <td>45000</td>\n",
       "      <td>79.97</td>\n",
       "      <td>0</td>\n",
       "      <td>5</td>\n",
       "      <td>22</td>\n",
       "      <td>0</td>\n",
       "    </tr>\n",
       "    <tr>\n",
       "      <th>2</th>\n",
       "      <td>44000</td>\n",
       "      <td>79.97</td>\n",
       "      <td>0</td>\n",
       "      <td>4</td>\n",
       "      <td>22</td>\n",
       "      <td>0</td>\n",
       "    </tr>\n",
       "    <tr>\n",
       "      <th>3</th>\n",
       "      <td>90000</td>\n",
       "      <td>133.46</td>\n",
       "      <td>0</td>\n",
       "      <td>11</td>\n",
       "      <td>19</td>\n",
       "      <td>0</td>\n",
       "    </tr>\n",
       "    <tr>\n",
       "      <th>4</th>\n",
       "      <td>85000</td>\n",
       "      <td>133.46</td>\n",
       "      <td>0</td>\n",
       "      <td>11</td>\n",
       "      <td>19</td>\n",
       "      <td>0</td>\n",
       "    </tr>\n",
       "  </tbody>\n",
       "</table>\n",
       "</div>"
      ],
      "text/plain": [
       "   deposit    area  top10  floor  construction_year  contract_month\n",
       "0    43000   79.97      0      1                 22               0\n",
       "1    45000   79.97      0      5                 22               0\n",
       "2    44000   79.97      0      4                 22               0\n",
       "3    90000  133.46      0     11                 19               0\n",
       "4    85000  133.46      0     11                 19               0"
      ]
     },
     "execution_count": 41,
     "metadata": {},
     "output_type": "execute_result"
    }
   ],
   "source": [
    "# 시각화로 상관분석할 피처 정하기\n",
    "plot_cols = ['deposit', 'area','top10','floor','construction_year','contract_month']\n",
    "plot_df = df_copy.loc[:, plot_cols]\n",
    "\n",
    "plot_df.head()"
   ]
  },
  {
   "cell_type": "code",
   "execution_count": 42,
   "id": "42a8bf55",
   "metadata": {},
   "outputs": [
    {
     "data": {
      "image/png": "[encoded data removed]",
      "text/plain": [
       "<Figure size 1000x1000 with 5 Axes>"
      ]
     },
     "metadata": {},
     "output_type": "display_data"
    }
   ],
   "source": [
    "# regplot으로 선형회귀선 표시하기\n",
    "plt.figure(figsize=(10, 10))\n",
    "for idx, col in enumerate(plot_cols[1:]):\n",
    "  ax1 = plt.subplot(3, 2, idx + 1)\n",
    "  sns.regplot(x=col, y=plot_cols[0], data=plot_df, ax=ax1)\n",
    "plt.show()"
   ]
  },
  {
   "cell_type": "code",
   "execution_count": 43,
   "id": "168ce1a9",
   "metadata": {},
   "outputs": [],
   "source": [
    "# 보증금과 비교했을 시\n",
    "# 면적은 양의 상관관계가 있음\n",
    "# 층 역시 양의 상관관계가 보입\n",
    "# top10은 시각화했 시 연관성잘 보이지 않지만, 상관관계가 높은 순으로 출력하면 면적 다음으로 영향을 주는 것으로 나옴\n",
    "# contract_month, construction_year와 관련해서는 자료부족으로 조금 더 많은 분석이 필요함 "
   ]
  },
  {
   "cell_type": "markdown",
   "id": "69f8d3d7",
   "metadata": {},
   "source": [
    "# 전처리 3\n",
    "실제 값들이 정규분포를 이루고 있는지 확인(회귀모델의 전제는 값들이 정규분포를 이루고 있다는 것에서 시작함)"
   ]
  },
  {
   "cell_type": "code",
   "execution_count": 44,
   "id": "f2a07806",
   "metadata": {},
   "outputs": [
    {
     "name": "stderr",
     "output_type": "stream",
     "text": [
      "C:\\Users\\tjoeun\\anaconda3\\envs\\tf_cpu\\lib\\site-packages\\seaborn\\axisgrid.py:118: UserWarning: Glyph 48372 (\\N{HANGUL SYLLABLE BO}) missing from current font.\n",
      "  self._figure.tight_layout(*args, **kwargs)\n",
      "C:\\Users\\tjoeun\\anaconda3\\envs\\tf_cpu\\lib\\site-packages\\seaborn\\axisgrid.py:118: UserWarning: Glyph 51613 (\\N{HANGUL SYLLABLE JEUNG}) missing from current font.\n",
      "  self._figure.tight_layout(*args, **kwargs)\n",
      "C:\\Users\\tjoeun\\anaconda3\\envs\\tf_cpu\\lib\\site-packages\\seaborn\\axisgrid.py:118: UserWarning: Glyph 44552 (\\N{HANGUL SYLLABLE GEUM}) missing from current font.\n",
      "  self._figure.tight_layout(*args, **kwargs)\n"
     ]
    },
    {
     "data": {
      "text/plain": [
       "<Figure size 640x480 with 0 Axes>"
      ]
     },
     "metadata": {},
     "output_type": "display_data"
    },
    {
     "data": {
      "image/png": "[encoded data removed]",
      "text/plain": [
       "<Figure size 500x500 with 1 Axes>"
      ]
     },
     "metadata": {},
     "output_type": "display_data"
    }
   ],
   "source": [
    "# 보증금 EDA\n",
    "plt.figure()\n",
    "sns.displot(df['보증금'], bins=30)\n",
    "plt.xlabel('Price(10000 won)')\n",
    "plt.title('Distribution of Price')\n",
    "plt.show()"
   ]
  },
  {
   "cell_type": "code",
   "execution_count": 45,
   "id": "2816fe0e",
   "metadata": {},
   "outputs": [],
   "source": [
    "# 예상대로 왼쪽으로 엄청나게 많이 치우쳐 있음(왜도 왼쪽으로 치우침)\n",
    "# 타겟 변수의 이상치가 회귀모형을 사용한 예측에 큰 영향을 줄 수 있어 로그 변환후 추후 다시 역변환 하는 것으로"
   ]
  },
  {
   "cell_type": "markdown",
   "id": "2b8f6560",
   "metadata": {},
   "source": [
    "* 왜도 왼쪽으로 치우칠때 로그가 아니라 제곱으로 진행해야 하는건지...? --확인! "
   ]
  },
  {
   "cell_type": "code",
   "execution_count": 46,
   "id": "a71507e7",
   "metadata": {},
   "outputs": [
    {
     "data": {
      "text/html": [
       "<div>\n",
       "<style scoped>\n",
       "    .dataframe tbody tr th:only-of-type {\n",
       "        vertical-align: middle;\n",
       "    }\n",
       "\n",
       "    .dataframe tbody tr th {\n",
       "        vertical-align: top;\n",
       "    }\n",
       "\n",
       "    .dataframe thead th {\n",
       "        text-align: right;\n",
       "    }\n",
       "</style>\n",
       "<table border=\"1\" class=\"dataframe\">\n",
       "  <thead>\n",
       "    <tr style=\"text-align: right;\">\n",
       "      <th></th>\n",
       "      <th>동</th>\n",
       "      <th>단지명</th>\n",
       "      <th>전용면적</th>\n",
       "      <th>계약년월</th>\n",
       "      <th>층</th>\n",
       "      <th>건축년도</th>\n",
       "      <th>apt_counts</th>\n",
       "      <th>top10</th>\n",
       "      <th>transformed</th>\n",
       "      <th>log_price</th>\n",
       "    </tr>\n",
       "  </thead>\n",
       "  <tbody>\n",
       "    <tr>\n",
       "      <th>0</th>\n",
       "      <td>74</td>\n",
       "      <td>19</td>\n",
       "      <td>79.97</td>\n",
       "      <td>0</td>\n",
       "      <td>1</td>\n",
       "      <td>22</td>\n",
       "      <td>6</td>\n",
       "      <td>0</td>\n",
       "      <td>True</td>\n",
       "      <td>10.668979</td>\n",
       "    </tr>\n",
       "  </tbody>\n",
       "</table>\n",
       "</div>"
      ],
      "text/plain": [
       "    동 단지명   전용면적  계약년월  층  건축년도  apt_counts  top10  transformed  log_price\n",
       "0  74  19  79.97     0  1    22           6      0         True  10.668979"
      ]
     },
     "execution_count": 46,
     "metadata": {},
     "output_type": "execute_result"
    }
   ],
   "source": [
    "df['log_price'] = np.log1p(df['보증금'])\n",
    "real_price = df['보증금'] # 원래 가격\n",
    "df.drop('보증금', axis=1, inplace=True)\n",
    "df.head(1)"
   ]
  },
  {
   "cell_type": "code",
   "execution_count": 47,
   "id": "8c868d34",
   "metadata": {},
   "outputs": [
    {
     "data": {
      "image/png": "[encoded data removed]",
      "text/plain": [
       "<Figure size 1200x600 with 2 Axes>"
      ]
     },
     "metadata": {},
     "output_type": "display_data"
    }
   ],
   "source": [
    "f, (ax1, ax2) = plt.subplots(1,2,figsize=(12,6))\n",
    "\n",
    "ax1.hist(real_price, bins=30)\n",
    "ax1.set_title('Price Distribution')\n",
    "ax1.set_xlabel('Price')\n",
    "\n",
    "ax2.hist(df['log_price'], bins=30)\n",
    "ax2.set_title('Log Price Distribution')\n",
    "ax2.set_xlabel('Log Price')\n",
    "\n",
    "plt.show()"
   ]
  },
  {
   "cell_type": "code",
   "execution_count": 48,
   "id": "6bfa7df4",
   "metadata": {},
   "outputs": [],
   "source": [
    "# 나름 정규분포화 시킴(휴~)"
   ]
  },
  {
   "cell_type": "code",
   "execution_count": 49,
   "id": "398c3145",
   "metadata": {
    "scrolled": false
   },
   "outputs": [
    {
     "name": "stderr",
     "output_type": "stream",
     "text": [
      "C:\\Users\\tjoeun\\anaconda3\\envs\\tf_cpu\\lib\\site-packages\\seaborn\\axisgrid.py:118: UserWarning: Glyph 51204 (\\N{HANGUL SYLLABLE JEON}) missing from current font.\n",
      "  self._figure.tight_layout(*args, **kwargs)\n",
      "C:\\Users\\tjoeun\\anaconda3\\envs\\tf_cpu\\lib\\site-packages\\seaborn\\axisgrid.py:118: UserWarning: Glyph 50857 (\\N{HANGUL SYLLABLE YONG}) missing from current font.\n",
      "  self._figure.tight_layout(*args, **kwargs)\n",
      "C:\\Users\\tjoeun\\anaconda3\\envs\\tf_cpu\\lib\\site-packages\\seaborn\\axisgrid.py:118: UserWarning: Glyph 47732 (\\N{HANGUL SYLLABLE MYEON}) missing from current font.\n",
      "  self._figure.tight_layout(*args, **kwargs)\n",
      "C:\\Users\\tjoeun\\anaconda3\\envs\\tf_cpu\\lib\\site-packages\\seaborn\\axisgrid.py:118: UserWarning: Glyph 51201 (\\N{HANGUL SYLLABLE JEOG}) missing from current font.\n",
      "  self._figure.tight_layout(*args, **kwargs)\n"
     ]
    },
    {
     "data": {
      "text/plain": [
       "<Figure size 640x480 with 0 Axes>"
      ]
     },
     "metadata": {},
     "output_type": "display_data"
    },
    {
     "data": {
      "image/png": "[encoded data removed]",
      "text/plain": [
       "<Figure size 500x500 with 1 Axes>"
      ]
     },
     "metadata": {},
     "output_type": "display_data"
    }
   ],
   "source": [
    "# 전용면적 EDA\n",
    "plt.figure()\n",
    "sns.displot(df['전용면적'], bins=30)\n",
    "plt.xlabel('Area(Square meter)')\n",
    "plt.title('Distribution of Area')\n",
    "plt.show()"
   ]
  },
  {
   "cell_type": "code",
   "execution_count": 50,
   "id": "7525dddb",
   "metadata": {},
   "outputs": [
    {
     "data": {
      "text/html": [
       "<div>\n",
       "<style scoped>\n",
       "    .dataframe tbody tr th:only-of-type {\n",
       "        vertical-align: middle;\n",
       "    }\n",
       "\n",
       "    .dataframe tbody tr th {\n",
       "        vertical-align: top;\n",
       "    }\n",
       "\n",
       "    .dataframe thead th {\n",
       "        text-align: right;\n",
       "    }\n",
       "</style>\n",
       "<table border=\"1\" class=\"dataframe\">\n",
       "  <thead>\n",
       "    <tr style=\"text-align: right;\">\n",
       "      <th></th>\n",
       "      <th>동</th>\n",
       "      <th>단지명</th>\n",
       "      <th>계약년월</th>\n",
       "      <th>층</th>\n",
       "      <th>건축년도</th>\n",
       "      <th>apt_counts</th>\n",
       "      <th>top10</th>\n",
       "      <th>transformed</th>\n",
       "      <th>log_price</th>\n",
       "      <th>log_area</th>\n",
       "    </tr>\n",
       "  </thead>\n",
       "  <tbody>\n",
       "    <tr>\n",
       "      <th>0</th>\n",
       "      <td>74</td>\n",
       "      <td>19</td>\n",
       "      <td>0</td>\n",
       "      <td>1</td>\n",
       "      <td>22</td>\n",
       "      <td>6</td>\n",
       "      <td>0</td>\n",
       "      <td>True</td>\n",
       "      <td>10.668979</td>\n",
       "      <td>4.394079</td>\n",
       "    </tr>\n",
       "  </tbody>\n",
       "</table>\n",
       "</div>"
      ],
      "text/plain": [
       "    동 단지명  계약년월  층  건축년도  apt_counts  top10  transformed  log_price  log_area\n",
       "0  74  19     0  1    22           6      0         True  10.668979  4.394079"
      ]
     },
     "execution_count": 50,
     "metadata": {},
     "output_type": "execute_result"
    }
   ],
   "source": [
    "# 정규분포화 되어 있는건지 아닌지 애매해서 로그함수 이용해서 한 번 더 전처리 진행\n",
    "# 면적 로그 변환 후 원래 면적 따로 저장\n",
    "df['log_area'] = np.log1p(df['전용면적'])\n",
    "df['log_area'] = np.log1p(df['전용면적'])\n",
    "area = df['전용면적'] # 원래 전용면적\n",
    "df.drop('전용면적', axis=1, inplace=True)\n",
    "df.head(1)"
   ]
  },
  {
   "cell_type": "code",
   "execution_count": 51,
   "id": "f8047afb",
   "metadata": {},
   "outputs": [
    {
     "data": {
      "image/png": "[encoded data removed]",
      "text/plain": [
       "<Figure size 1200x600 with 2 Axes>"
      ]
     },
     "metadata": {},
     "output_type": "display_data"
    }
   ],
   "source": [
    "f, (ax1, ax2) = plt.subplots(1,2,figsize=(12,6))\n",
    "\n",
    "ax1.hist(area, bins=30)\n",
    "ax1.set_title('Distribution of Area')\n",
    "ax1.set_xlabel('Area')\n",
    "\n",
    "ax2.hist(df['log_area'], bins=30)\n",
    "ax2.set_title('Distribution of Log Area')\n",
    "ax2.set_xlabel('Area')\n",
    "\n",
    "plt.show()"
   ]
  },
  {
   "cell_type": "code",
   "execution_count": 52,
   "id": "28afd560",
   "metadata": {},
   "outputs": [],
   "source": [
    "# 조금 더 정규화되어 로그변환값으로 활용하는 것으로"
   ]
  },
  {
   "cell_type": "code",
   "execution_count": 53,
   "id": "3d902e41",
   "metadata": {},
   "outputs": [],
   "source": [
    "# 불필요한 컬럼 삭제2\n",
    "drop_col = ['apt_counts', 'transformed']\n",
    "df.drop(drop_col, axis=1, inplace=True)"
   ]
  },
  {
   "cell_type": "code",
   "execution_count": 54,
   "id": "b81fa56b",
   "metadata": {},
   "outputs": [
    {
     "name": "stdout",
     "output_type": "stream",
     "text": [
      "<class 'pandas.core.frame.DataFrame'>\n",
      "Int64Index: 36245 entries, 0 to 36244\n",
      "Data columns (total 8 columns):\n",
      " #   Column     Non-Null Count  Dtype  \n",
      "---  ------     --------------  -----  \n",
      " 0   동          36245 non-null  object \n",
      " 1   단지명        36245 non-null  object \n",
      " 2   계약년월       36245 non-null  int64  \n",
      " 3   층          36245 non-null  int64  \n",
      " 4   건축년도       36245 non-null  int64  \n",
      " 5   top10      36245 non-null  int64  \n",
      " 6   log_price  36245 non-null  float64\n",
      " 7   log_area   36245 non-null  float64\n",
      "dtypes: float64(2), int64(4), object(2)\n",
      "memory usage: 2.5+ MB\n"
     ]
    }
   ],
   "source": [
    "# 모든 자료 수치화된 것인지 확인\n",
    "df.info()"
   ]
  },
  {
   "cell_type": "code",
   "execution_count": 55,
   "id": "cc3d3151",
   "metadata": {},
   "outputs": [],
   "source": [
    "# 동과 단지명이 숫자화 되어 있지 않아 int형으로 변환 진행\n",
    "df['동'] = df['동'].astype('int64')\n",
    "df['단지명'] = df['단지명'].astype('int64')"
   ]
  },
  {
   "cell_type": "code",
   "execution_count": 56,
   "id": "b03ec2c2",
   "metadata": {},
   "outputs": [
    {
     "name": "stdout",
     "output_type": "stream",
     "text": [
      "<class 'pandas.core.frame.DataFrame'>\n",
      "Int64Index: 36245 entries, 0 to 36244\n",
      "Data columns (total 8 columns):\n",
      " #   Column     Non-Null Count  Dtype  \n",
      "---  ------     --------------  -----  \n",
      " 0   동          36245 non-null  int64  \n",
      " 1   단지명        36245 non-null  int64  \n",
      " 2   계약년월       36245 non-null  int64  \n",
      " 3   층          36245 non-null  int64  \n",
      " 4   건축년도       36245 non-null  int64  \n",
      " 5   top10      36245 non-null  int64  \n",
      " 6   log_price  36245 non-null  float64\n",
      " 7   log_area   36245 non-null  float64\n",
      "dtypes: float64(2), int64(6)\n",
      "memory usage: 2.5 MB\n"
     ]
    }
   ],
   "source": [
    "# 다시 확인\n",
    "df.info()"
   ]
  },
  {
   "cell_type": "code",
   "execution_count": 57,
   "id": "4adb3a47",
   "metadata": {},
   "outputs": [
    {
     "data": {
      "text/html": [
       "<div>\n",
       "<style scoped>\n",
       "    .dataframe tbody tr th:only-of-type {\n",
       "        vertical-align: middle;\n",
       "    }\n",
       "\n",
       "    .dataframe tbody tr th {\n",
       "        vertical-align: top;\n",
       "    }\n",
       "\n",
       "    .dataframe thead th {\n",
       "        text-align: right;\n",
       "    }\n",
       "</style>\n",
       "<table border=\"1\" class=\"dataframe\">\n",
       "  <thead>\n",
       "    <tr style=\"text-align: right;\">\n",
       "      <th></th>\n",
       "      <th>동</th>\n",
       "      <th>단지명</th>\n",
       "      <th>계약년월</th>\n",
       "      <th>층</th>\n",
       "      <th>건축년도</th>\n",
       "      <th>top10</th>\n",
       "      <th>log_price</th>\n",
       "      <th>log_area</th>\n",
       "    </tr>\n",
       "  </thead>\n",
       "  <tbody>\n",
       "    <tr>\n",
       "      <th>0</th>\n",
       "      <td>74</td>\n",
       "      <td>19</td>\n",
       "      <td>0</td>\n",
       "      <td>1</td>\n",
       "      <td>22</td>\n",
       "      <td>0</td>\n",
       "      <td>10.668979</td>\n",
       "      <td>4.394079</td>\n",
       "    </tr>\n",
       "    <tr>\n",
       "      <th>1</th>\n",
       "      <td>74</td>\n",
       "      <td>19</td>\n",
       "      <td>0</td>\n",
       "      <td>5</td>\n",
       "      <td>22</td>\n",
       "      <td>0</td>\n",
       "      <td>10.714440</td>\n",
       "      <td>4.394079</td>\n",
       "    </tr>\n",
       "    <tr>\n",
       "      <th>2</th>\n",
       "      <td>74</td>\n",
       "      <td>19</td>\n",
       "      <td>0</td>\n",
       "      <td>4</td>\n",
       "      <td>22</td>\n",
       "      <td>0</td>\n",
       "      <td>10.691968</td>\n",
       "      <td>4.394079</td>\n",
       "    </tr>\n",
       "    <tr>\n",
       "      <th>3</th>\n",
       "      <td>74</td>\n",
       "      <td>19</td>\n",
       "      <td>0</td>\n",
       "      <td>11</td>\n",
       "      <td>19</td>\n",
       "      <td>0</td>\n",
       "      <td>11.407576</td>\n",
       "      <td>4.901267</td>\n",
       "    </tr>\n",
       "    <tr>\n",
       "      <th>4</th>\n",
       "      <td>74</td>\n",
       "      <td>19</td>\n",
       "      <td>0</td>\n",
       "      <td>11</td>\n",
       "      <td>19</td>\n",
       "      <td>0</td>\n",
       "      <td>11.350418</td>\n",
       "      <td>4.901267</td>\n",
       "    </tr>\n",
       "  </tbody>\n",
       "</table>\n",
       "</div>"
      ],
      "text/plain": [
       "    동  단지명  계약년월   층  건축년도  top10  log_price  log_area\n",
       "0  74   19     0   1    22      0  10.668979  4.394079\n",
       "1  74   19     0   5    22      0  10.714440  4.394079\n",
       "2  74   19     0   4    22      0  10.691968  4.394079\n",
       "3  74   19     0  11    19      0  11.407576  4.901267\n",
       "4  74   19     0  11    19      0  11.350418  4.901267"
      ]
     },
     "execution_count": 57,
     "metadata": {},
     "output_type": "execute_result"
    }
   ],
   "source": [
    "df.head()"
   ]
  },
  {
   "cell_type": "markdown",
   "id": "01c1e813",
   "metadata": {},
   "source": [
    "# 전처리 4 \n",
    "스케일링 진행(정규화/표준화 진행)\n",
    "서로 영향 안주려면 더미코드 필요한가???? -> 의논"
   ]
  },
  {
   "cell_type": "code",
   "execution_count": 58,
   "id": "aac12af5",
   "metadata": {},
   "outputs": [
    {
     "name": "stderr",
     "output_type": "stream",
     "text": [
      "C:\\Users\\tjoeun\\AppData\\Local\\Temp\\ipykernel_15148\\3063686401.py:9: DeprecationWarning: In a future version, `df.iloc[:, i] = newvals` will attempt to set the values inplace instead of always setting a new array. To retain the old behavior, use either `df[df.columns[i]] = newvals` or, if columns are non-unique, `df.isetitem(i, newvals)`\n",
      "  df.iloc[:, :-1]=df_scaled[:, :]\n"
     ]
    },
    {
     "data": {
      "text/html": [
       "<div>\n",
       "<style scoped>\n",
       "    .dataframe tbody tr th:only-of-type {\n",
       "        vertical-align: middle;\n",
       "    }\n",
       "\n",
       "    .dataframe tbody tr th {\n",
       "        vertical-align: top;\n",
       "    }\n",
       "\n",
       "    .dataframe thead th {\n",
       "        text-align: right;\n",
       "    }\n",
       "</style>\n",
       "<table border=\"1\" class=\"dataframe\">\n",
       "  <thead>\n",
       "    <tr style=\"text-align: right;\">\n",
       "      <th></th>\n",
       "      <th>동</th>\n",
       "      <th>단지명</th>\n",
       "      <th>계약년월</th>\n",
       "      <th>층</th>\n",
       "      <th>건축년도</th>\n",
       "      <th>top10</th>\n",
       "      <th>log_price</th>\n",
       "      <th>log_area</th>\n",
       "    </tr>\n",
       "  </thead>\n",
       "  <tbody>\n",
       "    <tr>\n",
       "      <th>0</th>\n",
       "      <td>0.251701</td>\n",
       "      <td>0.575758</td>\n",
       "      <td>0.0</td>\n",
       "      <td>0.032258</td>\n",
       "      <td>0.385965</td>\n",
       "      <td>0.0</td>\n",
       "      <td>0.642012</td>\n",
       "      <td>4.394079</td>\n",
       "    </tr>\n",
       "    <tr>\n",
       "      <th>1</th>\n",
       "      <td>0.251701</td>\n",
       "      <td>0.575758</td>\n",
       "      <td>0.0</td>\n",
       "      <td>0.096774</td>\n",
       "      <td>0.385965</td>\n",
       "      <td>0.0</td>\n",
       "      <td>0.649774</td>\n",
       "      <td>4.394079</td>\n",
       "    </tr>\n",
       "    <tr>\n",
       "      <th>2</th>\n",
       "      <td>0.251701</td>\n",
       "      <td>0.575758</td>\n",
       "      <td>0.0</td>\n",
       "      <td>0.080645</td>\n",
       "      <td>0.385965</td>\n",
       "      <td>0.0</td>\n",
       "      <td>0.645937</td>\n",
       "      <td>4.394079</td>\n",
       "    </tr>\n",
       "    <tr>\n",
       "      <th>3</th>\n",
       "      <td>0.251701</td>\n",
       "      <td>0.575758</td>\n",
       "      <td>0.0</td>\n",
       "      <td>0.193548</td>\n",
       "      <td>0.333333</td>\n",
       "      <td>0.0</td>\n",
       "      <td>0.768118</td>\n",
       "      <td>4.901267</td>\n",
       "    </tr>\n",
       "    <tr>\n",
       "      <th>4</th>\n",
       "      <td>0.251701</td>\n",
       "      <td>0.575758</td>\n",
       "      <td>0.0</td>\n",
       "      <td>0.193548</td>\n",
       "      <td>0.333333</td>\n",
       "      <td>0.0</td>\n",
       "      <td>0.758360</td>\n",
       "      <td>4.901267</td>\n",
       "    </tr>\n",
       "  </tbody>\n",
       "</table>\n",
       "</div>"
      ],
      "text/plain": [
       "          동       단지명  계약년월         층      건축년도  top10  log_price  log_area\n",
       "0  0.251701  0.575758   0.0  0.032258  0.385965    0.0   0.642012  4.394079\n",
       "1  0.251701  0.575758   0.0  0.096774  0.385965    0.0   0.649774  4.394079\n",
       "2  0.251701  0.575758   0.0  0.080645  0.385965    0.0   0.645937  4.394079\n",
       "3  0.251701  0.575758   0.0  0.193548  0.333333    0.0   0.768118  4.901267\n",
       "4  0.251701  0.575758   0.0  0.193548  0.333333    0.0   0.758360  4.901267"
      ]
     },
     "execution_count": 58,
     "metadata": {},
     "output_type": "execute_result"
    }
   ],
   "source": [
    "scaler=MinMaxScaler()\n",
    "\n",
    "#마지막열임을 나타내는 -1은 포함하지 않음\n",
    "df_scaled=df.iloc[:, :-1]   \n",
    "scaler.fit(df_scaled)\n",
    "df_scaled=scaler.transform(df_scaled)\n",
    "\n",
    "#스케일링 변환된 값을 데이터프레임에 반영\n",
    "df.iloc[:, :-1]=df_scaled[:, :]\n",
    "df.head()"
   ]
  },
  {
   "cell_type": "markdown",
   "id": "6a990b35",
   "metadata": {},
   "source": [
    "# 모델 만들고 학습하기 - 회귀"
   ]
  },
  {
   "cell_type": "code",
   "execution_count": 59,
   "id": "1ac34289",
   "metadata": {},
   "outputs": [],
   "source": [
    "x_data=df.loc[:, ['동', '단지명', '계약년월', '층', '건축년도', 'top10', 'log_area']]\n",
    "y_data=df.loc[:, 'log_price']"
   ]
  },
  {
   "cell_type": "code",
   "execution_count": 60,
   "id": "cea48902",
   "metadata": {},
   "outputs": [
    {
     "name": "stdout",
     "output_type": "stream",
     "text": [
      "(28996, 7) (28996,)\n",
      "(7249, 7) (7249,)\n"
     ]
    }
   ],
   "source": [
    "# 학습 데이터와 테스트 데이터 나누기\n",
    "x_train, x_test, y_train, y_test=train_test_split(x_data,y_data, test_size=0.2, shuffle=True, random_state=12)\n",
    "print(x_train.shape, y_train.shape)\n",
    "print(x_test.shape, y_test.shape)"
   ]
  },
  {
   "cell_type": "markdown",
   "id": "85839386",
   "metadata": {},
   "source": [
    "# 다중선형회귀 적용"
   ]
  },
  {
   "cell_type": "code",
   "execution_count": 61,
   "id": "9c75b4cd",
   "metadata": {},
   "outputs": [],
   "source": [
    "#단순선형회귀: X의 값에 따라 Y값이 어떻게 달라질지 예측 ex) 임대료를 예측한다고 했을 때, 주택의 면적만 고려\n",
    "#다중선형회귀: y값을 예측할 때 여러 개의 변수 x를 고려하여 예측 ex) 임대료를 예측할 때 지하철이 얼마나 가까운지 등을 함께 고려\n",
    "# 1. 데이터 불러오기\n",
    "# 2. 데이터 셋 훈련과 시험데이터로 분리\n",
    "# 3. 모델 생성하기 (방법은 단순 선형회귀와 동일) \n",
    "#from sklearn.linear_model import LinearRegression\n",
    "#mlr = LinearRegression()\n",
    "#mlr.fit(x_train, y_train)\n",
    "\n",
    "#4.예측해보기\n",
    "#my_apartment = [[1, 1, 620, 16, 1, 98, 1, 0, 1, 0, 0, 1, 1, 0]]\n",
    "#my_predict = mlr.predict(my_apartment)\n",
    "\n",
    "#y_predict = mlr.predict(x_test)\n",
    "\n",
    "#5. 시각화를 통한 예측 확인\n",
    "#import matplotlib.pyplot as plt\n",
    "#plt.scatter(y_test, y_predict, alpha=0.4)\n",
    "#plt.xlabel(\"Actual Rent\")\n",
    "#plt.ylabel(\"Predicted Rent\")\n",
    "#plt.title(\"MULTIPLE LINEAR REGRESSION\")\n",
    "#plt.show()\n",
    "\n",
    "#6. 모델의 정확도 평가하기\n",
    "#print(mlr.score(x_train, y_train))"
   ]
  },
  {
   "cell_type": "code",
   "execution_count": 62,
   "id": "0072542e",
   "metadata": {},
   "outputs": [
    {
     "data": {
      "text/html": [
       "<style>#sk-container-id-1 {color: black;background-color: white;}#sk-container-id-1 pre{padding: 0;}#sk-container-id-1 div.sk-toggleable {background-color: white;}#sk-container-id-1 label.sk-toggleable__label {cursor: pointer;display: block;width: 100%;margin-bottom: 0;padding: 0.3em;box-sizing: border-box;text-align: center;}#sk-container-id-1 label.sk-toggleable__label-arrow:before {content: \"▸\";float: left;margin-right: 0.25em;color: #696969;}#sk-container-id-1 label.sk-toggleable__label-arrow:hover:before {color: black;}#sk-container-id-1 div.sk-estimator:hover label.sk-toggleable__label-arrow:before {color: black;}#sk-container-id-1 div.sk-toggleable__content {max-height: 0;max-width: 0;overflow: hidden;text-align: left;background-color: #f0f8ff;}#sk-container-id-1 div.sk-toggleable__content pre {margin: 0.2em;color: black;border-radius: 0.25em;background-color: #f0f8ff;}#sk-container-id-1 input.sk-toggleable__control:checked~div.sk-toggleable__content {max-height: 200px;max-width: 100%;overflow: auto;}#sk-container-id-1 input.sk-toggleable__control:checked~label.sk-toggleable__label-arrow:before {content: \"▾\";}#sk-container-id-1 div.sk-estimator input.sk-toggleable__control:checked~label.sk-toggleable__label {background-color: #d4ebff;}#sk-container-id-1 div.sk-label input.sk-toggleable__control:checked~label.sk-toggleable__label {background-color: #d4ebff;}#sk-container-id-1 input.sk-hidden--visually {border: 0;clip: rect(1px 1px 1px 1px);clip: rect(1px, 1px, 1px, 1px);height: 1px;margin: -1px;overflow: hidden;padding: 0;position: absolute;width: 1px;}#sk-container-id-1 div.sk-estimator {font-family: monospace;background-color: #f0f8ff;border: 1px dotted black;border-radius: 0.25em;box-sizing: border-box;margin-bottom: 0.5em;}#sk-container-id-1 div.sk-estimator:hover {background-color: #d4ebff;}#sk-container-id-1 div.sk-parallel-item::after {content: \"\";width: 100%;border-bottom: 1px solid gray;flex-grow: 1;}#sk-container-id-1 div.sk-label:hover label.sk-toggleable__label {background-color: #d4ebff;}#sk-container-id-1 div.sk-serial::before {content: \"\";position: absolute;border-left: 1px solid gray;box-sizing: border-box;top: 0;bottom: 0;left: 50%;z-index: 0;}#sk-container-id-1 div.sk-serial {display: flex;flex-direction: column;align-items: center;background-color: white;padding-right: 0.2em;padding-left: 0.2em;position: relative;}#sk-container-id-1 div.sk-item {position: relative;z-index: 1;}#sk-container-id-1 div.sk-parallel {display: flex;align-items: stretch;justify-content: center;background-color: white;position: relative;}#sk-container-id-1 div.sk-item::before, #sk-container-id-1 div.sk-parallel-item::before {content: \"\";position: absolute;border-left: 1px solid gray;box-sizing: border-box;top: 0;bottom: 0;left: 50%;z-index: -1;}#sk-container-id-1 div.sk-parallel-item {display: flex;flex-direction: column;z-index: 1;position: relative;background-color: white;}#sk-container-id-1 div.sk-parallel-item:first-child::after {align-self: flex-end;width: 50%;}#sk-container-id-1 div.sk-parallel-item:last-child::after {align-self: flex-start;width: 50%;}#sk-container-id-1 div.sk-parallel-item:only-child::after {width: 0;}#sk-container-id-1 div.sk-dashed-wrapped {border: 1px dashed gray;margin: 0 0.4em 0.5em 0.4em;box-sizing: border-box;padding-bottom: 0.4em;background-color: white;}#sk-container-id-1 div.sk-label label {font-family: monospace;font-weight: bold;display: inline-block;line-height: 1.2em;}#sk-container-id-1 div.sk-label-container {text-align: center;}#sk-container-id-1 div.sk-container {/* jupyter's `normalize.less` sets `[hidden] { display: none; }` but bootstrap.min.css set `[hidden] { display: none !important; }` so we also need the `!important` here to be able to override the default hidden behavior on the sphinx rendered scikit-learn.org. See: https://github.com/scikit-learn/scikit-learn/issues/21755 */display: inline-block !important;position: relative;}#sk-container-id-1 div.sk-text-repr-fallback {display: none;}</style><div id=\"sk-container-id-1\" class=\"sk-top-container\"><div class=\"sk-text-repr-fallback\"><pre>LinearRegression()</pre><b>In a Jupyter environment, please rerun this cell to show the HTML representation or trust the notebook. <br />On GitHub, the HTML representation is unable to render, please try loading this page with nbviewer.org.</b></div><div class=\"sk-container\" hidden><div class=\"sk-item\"><div class=\"sk-estimator sk-toggleable\"><input class=\"sk-toggleable__control sk-hidden--visually\" id=\"sk-estimator-id-1\" type=\"checkbox\" checked><label for=\"sk-estimator-id-1\" class=\"sk-toggleable__label sk-toggleable__label-arrow\">LinearRegression</label><div class=\"sk-toggleable__content\"><pre>LinearRegression()</pre></div></div></div></div></div>"
      ],
      "text/plain": [
       "LinearRegression()"
      ]
     },
     "execution_count": 62,
     "metadata": {},
     "output_type": "execute_result"
    }
   ],
   "source": [
    "mlr = LinearRegression()\n",
    "mlr.fit(x_train, y_train)"
   ]
  },
  {
   "cell_type": "code",
   "execution_count": 63,
   "id": "963196e7",
   "metadata": {},
   "outputs": [],
   "source": [
    "y_predict = mlr.predict(x_test)"
   ]
  },
  {
   "cell_type": "code",
   "execution_count": 64,
   "id": "fc764059",
   "metadata": {
    "scrolled": false
   },
   "outputs": [
    {
     "data": {
      "image/png": "[encoded data removed]",
      "text/plain": [
       "<Figure size 640x480 with 1 Axes>"
      ]
     },
     "metadata": {},
     "output_type": "display_data"
    }
   ],
   "source": [
    "#다중선형회귀 시각화\n",
    "import matplotlib.pyplot as plt\n",
    "\n",
    "minmax = np.array([min(y_predict), max(y_predict)]) # x축 최소값, 최대값\n",
    "\n",
    "plt.scatter(y_test, y_predict, alpha=0.4)\n",
    "\n",
    "sns.regplot(x=, y=)\n",
    "\n",
    "plt.xlabel(\"Actual Rent\")\n",
    "plt.ylabel(\"Predicted Rent\")\n",
    "\n",
    "plt.title(\"MULTIPLE LINEAR REGRESSION\")\n",
    "plt.show()"
   ]
  },
  {
   "cell_type": "code",
   "execution_count": 65,
   "id": "ffd3ad43",
   "metadata": {},
   "outputs": [
    {
     "name": "stdout",
     "output_type": "stream",
     "text": [
      "0.7247426477275676\n"
     ]
    }
   ],
   "source": [
    "print(mlr.score(x_train, y_train))"
   ]
  },
  {
   "cell_type": "code",
   "execution_count": 66,
   "id": "76a8ff31",
   "metadata": {},
   "outputs": [
    {
     "name": "stdout",
     "output_type": "stream",
     "text": [
      "기울기 a:  [-0.15136541 -0.05503429 -0.00114872  0.06658681  0.096751   -0.01719218\n",
      "  0.1298739 ]\n"
     ]
    }
   ],
   "source": [
    "print('기울기 a: ', mlr.coef_)"
   ]
  },
  {
   "cell_type": "code",
   "execution_count": 67,
   "id": "c478d51a",
   "metadata": {},
   "outputs": [
    {
     "name": "stdout",
     "output_type": "stream",
     "text": [
      "y절편 b 0.10875766173713608\n"
     ]
    }
   ],
   "source": [
    "print('y절편 b', mlr.intercept_)  "
   ]
  },
  {
   "cell_type": "code",
   "execution_count": 68,
   "id": "2fb81582",
   "metadata": {},
   "outputs": [
    {
     "name": "stderr",
     "output_type": "stream",
     "text": [
      "C:\\Users\\tjoeun\\AppData\\Local\\Temp\\ipykernel_15148\\3432558392.py:5: UserWarning: \n",
      "\n",
      "`distplot` is a deprecated function and will be removed in seaborn v0.14.0.\n",
      "\n",
      "Please adapt your code to use either `displot` (a figure-level function with\n",
      "similar flexibility) or `kdeplot` (an axes-level function for kernel density plots).\n",
      "\n",
      "For a guide to updating your code to use the new functions, please see\n",
      "https://gist.github.com/mwaskom/de44147ed2974457ad6372750bbe5751\n",
      "\n",
      "  ax1 = sns.distplot(y_data, hist=False, label=\"y_data\")\n",
      "C:\\Users\\tjoeun\\AppData\\Local\\Temp\\ipykernel_15148\\3432558392.py:6: UserWarning: \n",
      "\n",
      "`distplot` is a deprecated function and will be removed in seaborn v0.14.0.\n",
      "\n",
      "Please adapt your code to use either `displot` (a figure-level function with\n",
      "similar flexibility) or `kdeplot` (an axes-level function for kernel density plots).\n",
      "\n",
      "For a guide to updating your code to use the new functions, please see\n",
      "https://gist.github.com/mwaskom/de44147ed2974457ad6372750bbe5751\n",
      "\n",
      "  ax2 = sns.distplot(y_predict, hist=False, label=\"y_predict\", ax=ax1)\n"
     ]
    },
    {
     "data": {
      "image/png": "[encoded data removed]",
      "text/plain": [
       "<Figure size 1000x500 with 1 Axes>"
      ]
     },
     "metadata": {},
     "output_type": "display_data"
    }
   ],
   "source": [
    "#예측한 값 y_predict을 실제 값 y_data와 비교 \n",
    "\n",
    "plt.figure(figsize=(10, 5))   \n",
    "ax1 = sns.distplot(y_data, hist=False, label=\"y_data\")   \n",
    "ax2 = sns.distplot(y_predict, hist=False, label=\"y_predict\", ax=ax1)\n",
    "plt.show()\n",
    "plt.close()"
   ]
  },
  {
   "cell_type": "markdown",
   "id": "f2712cd7",
   "metadata": {},
   "source": [
    "# 신경망 선형회귀"
   ]
  },
  {
   "cell_type": "code",
   "execution_count": 69,
   "id": "d986ef40",
   "metadata": {},
   "outputs": [],
   "source": [
    "#실습에서 배운 신경망 선형회귀\n",
    "#1. 데이터 분리\n",
    "#x_data = data_scaler[:, :-1]\n",
    "#y_data = data_scaler[:, [-1]]\n",
    "#2. 신경망 생성\n",
    "#tf.model = tf.keras.Sequential()\n",
    "#3. 해당 신경망의 레이어 생성\n",
    "#tf.model.add(tf.keras.layers.Dense(input_dim=x_data.shape[1],\n",
    "#                                   units=y_data.shape[1],\n",
    "#                                   activation='linear'))\n",
    "#4. 신경망 설정\n",
    "#tf.model.compile(loss='mse',\n",
    "#                 optimizer=tf.keras.optimizers.SGD(learning_rate=1e-1)) #기본적으로 0.01\n",
    "#5. 모델 학습\n",
    "#loss = tf.model.fit(x_data, y_data, epochs=2000) \n",
    "#6. 모델 검증\n",
    "#predictions = tf.model.predict(x_data)\n",
    "# 모델의 최종적인 정답률과 loss 값 확인\n",
    "#score = tf.model.evaluate(x_data, y_data)\n",
    "\n",
    "\n",
    "\n",
    "#### 데이터 분리\n",
    "#x_data=df.loc[:, ['동', '단지명', '계약년월', '층', '건축년도', 'top10', 'log_area']]\n",
    "#y_data=df.loc[:, 'log_price']\n",
    "\n",
    "# 학습 데이터와 테스트 데이터 나누기\n",
    "#x_train, x_test, y_train, y_test=train_test_split(x_data,y_data, test_size=0.2, shuffle=True, random_state=12)\n",
    "#print(x_train.shape, y_train.shape)\n",
    "#print(x_test.shape, y_test.shape)"
   ]
  },
  {
   "cell_type": "code",
   "execution_count": 70,
   "id": "1a8a3218",
   "metadata": {},
   "outputs": [],
   "source": [
    "x_data1=df.loc[:, ['동', '단지명', '계약년월', '층', '건축년도', 'top10', 'log_area']]\n",
    "y_data1=df.loc[:, 'log_price']"
   ]
  },
  {
   "cell_type": "code",
   "execution_count": 71,
   "id": "110a99ba",
   "metadata": {},
   "outputs": [],
   "source": [
    "import numpy as np\n",
    "x_data1 = np.array(x_data1)\n",
    "y_data1 = np.array(y_data1)"
   ]
  },
  {
   "cell_type": "code",
   "execution_count": 72,
   "id": "9352a79a",
   "metadata": {},
   "outputs": [
    {
     "name": "stdout",
     "output_type": "stream",
     "text": [
      "<class 'numpy.ndarray'>\n",
      "(36245,)\n"
     ]
    }
   ],
   "source": [
    "print(type(x_data1))\n",
    "print(y_data1.shape)"
   ]
  },
  {
   "cell_type": "code",
   "execution_count": 73,
   "id": "32db9360",
   "metadata": {},
   "outputs": [
    {
     "data": {
      "text/plain": [
       "array([[0.25170068, 0.57575758, 0.        , ..., 0.38596491, 0.        ,\n",
       "        4.39407872],\n",
       "       [0.25170068, 0.57575758, 0.        , ..., 0.38596491, 0.        ,\n",
       "        4.39407872],\n",
       "       [0.25170068, 0.57575758, 0.        , ..., 0.38596491, 0.        ,\n",
       "        4.39407872],\n",
       "       ...,\n",
       "       [0.78571429, 0.75757576, 1.        , ..., 0.56140351, 0.        ,\n",
       "        4.10693168],\n",
       "       [0.78571429, 0.75757576, 1.        , ..., 0.56140351, 0.        ,\n",
       "        3.93905434],\n",
       "       [0.78571429, 0.75757576, 1.        , ..., 0.56140351, 0.        ,\n",
       "        3.93905434]])"
      ]
     },
     "execution_count": 73,
     "metadata": {},
     "output_type": "execute_result"
    }
   ],
   "source": [
    "x_data1"
   ]
  },
  {
   "cell_type": "code",
   "execution_count": 74,
   "id": "176d137c",
   "metadata": {},
   "outputs": [],
   "source": [
    "import tensorflow as tf\n",
    "\n",
    "tf.model = tf.keras.Sequential()\n",
    "tf.model.add(tf.keras.layers.Dense(input_dim=x_data1.shape[1],\n",
    "                                   units=1,\n",
    "                                   activation='linear'))"
   ]
  },
  {
   "cell_type": "code",
   "execution_count": 75,
   "id": "95568372",
   "metadata": {},
   "outputs": [],
   "source": [
    "tf.model.compile(loss='mse',\n",
    "                 optimizer=tf.keras.optimizers.SGD(learning_rate=0.001))\n",
    "\n",
    "#0.01 / 0.001"
   ]
  },
  {
   "cell_type": "code",
   "execution_count": 76,
   "id": "6f68d5eb",
   "metadata": {
    "scrolled": true
   },
   "outputs": [
    {
     "name": "stdout",
     "output_type": "stream",
     "text": [
      "Epoch 1/100\n",
      "1133/1133 [==============================] - 1s 674us/step - loss: 0.1535\n",
      "Epoch 2/100\n",
      "1133/1133 [==============================] - 1s 655us/step - loss: 0.0621\n",
      "Epoch 3/100\n",
      "1133/1133 [==============================] - 1s 646us/step - loss: 0.0364\n",
      "Epoch 4/100\n",
      "1133/1133 [==============================] - 1s 722us/step - loss: 0.0233\n",
      "Epoch 5/100\n",
      "1133/1133 [==============================] - 1s 674us/step - loss: 0.0163\n",
      "Epoch 6/100\n",
      "1133/1133 [==============================] - 1s 672us/step - loss: 0.0123\n",
      "Epoch 7/100\n",
      "1133/1133 [==============================] - 1s 693us/step - loss: 0.0100\n",
      "Epoch 8/100\n",
      "1133/1133 [==============================] - 1s 683us/step - loss: 0.0086\n",
      "Epoch 9/100\n",
      "1133/1133 [==============================] - 1s 695us/step - loss: 0.0076\n",
      "Epoch 10/100\n",
      "1133/1133 [==============================] - 1s 678us/step - loss: 0.0070\n",
      "Epoch 11/100\n",
      "1133/1133 [==============================] - 1s 663us/step - loss: 0.0066\n",
      "Epoch 12/100\n",
      "1133/1133 [==============================] - 1s 653us/step - loss: 0.0062\n",
      "Epoch 13/100\n",
      "1133/1133 [==============================] - 1s 670us/step - loss: 0.0060\n",
      "Epoch 14/100\n",
      "1133/1133 [==============================] - 1s 666us/step - loss: 0.0057\n",
      "Epoch 15/100\n",
      "1133/1133 [==============================] - 1s 655us/step - loss: 0.0056\n",
      "Epoch 16/100\n",
      "1133/1133 [==============================] - 1s 653us/step - loss: 0.0054\n",
      "Epoch 17/100\n",
      "1133/1133 [==============================] - 1s 702us/step - loss: 0.0053\n",
      "Epoch 18/100\n",
      "1133/1133 [==============================] - 1s 732us/step - loss: 0.0051\n",
      "Epoch 19/100\n",
      "1133/1133 [==============================] - 1s 714us/step - loss: 0.0050\n",
      "Epoch 20/100\n",
      "1133/1133 [==============================] - 1s 698us/step - loss: 0.0049\n",
      "Epoch 21/100\n",
      "1133/1133 [==============================] - 1s 706us/step - loss: 0.0048\n",
      "Epoch 22/100\n",
      "1133/1133 [==============================] - 1s 713us/step - loss: 0.0047\n",
      "Epoch 23/100\n",
      "1133/1133 [==============================] - 1s 676us/step - loss: 0.0046\n",
      "Epoch 24/100\n",
      "1133/1133 [==============================] - 1s 678us/step - loss: 0.0046\n",
      "Epoch 25/100\n",
      "1133/1133 [==============================] - 1s 681us/step - loss: 0.0045\n",
      "Epoch 26/100\n",
      "1133/1133 [==============================] - 1s 680us/step - loss: 0.0044\n",
      "Epoch 27/100\n",
      "1133/1133 [==============================] - 1s 677us/step - loss: 0.0043\n",
      "Epoch 28/100\n",
      "1133/1133 [==============================] - 1s 676us/step - loss: 0.0043\n",
      "Epoch 29/100\n",
      "1133/1133 [==============================] - 1s 679us/step - loss: 0.0042\n",
      "Epoch 30/100\n",
      "1133/1133 [==============================] - 1s 670us/step - loss: 0.0041\n",
      "Epoch 31/100\n",
      "1133/1133 [==============================] - 1s 673us/step - loss: 0.0041\n",
      "Epoch 32/100\n",
      "1133/1133 [==============================] - 1s 668us/step - loss: 0.0040\n",
      "Epoch 33/100\n",
      "1133/1133 [==============================] - 1s 669us/step - loss: 0.0040\n",
      "Epoch 34/100\n",
      "1133/1133 [==============================] - 1s 663us/step - loss: 0.0039\n",
      "Epoch 35/100\n",
      "1133/1133 [==============================] - 1s 686us/step - loss: 0.0039\n",
      "Epoch 36/100\n",
      "1133/1133 [==============================] - 1s 683us/step - loss: 0.0038\n",
      "Epoch 37/100\n",
      "1133/1133 [==============================] - 1s 676us/step - loss: 0.0038\n",
      "Epoch 38/100\n",
      "1133/1133 [==============================] - 1s 674us/step - loss: 0.0037\n",
      "Epoch 39/100\n",
      "1133/1133 [==============================] - 1s 661us/step - loss: 0.0037\n",
      "Epoch 40/100\n",
      "1133/1133 [==============================] - 1s 656us/step - loss: 0.0036\n",
      "Epoch 41/100\n",
      "1133/1133 [==============================] - 1s 661us/step - loss: 0.0036\n",
      "Epoch 42/100\n",
      "1133/1133 [==============================] - 1s 662us/step - loss: 0.0035\n",
      "Epoch 43/100\n",
      "1133/1133 [==============================] - 1s 656us/step - loss: 0.0035\n",
      "Epoch 44/100\n",
      "1133/1133 [==============================] - 1s 658us/step - loss: 0.0035\n",
      "Epoch 45/100\n",
      "1133/1133 [==============================] - 1s 673us/step - loss: 0.0034\n",
      "Epoch 46/100\n",
      "1133/1133 [==============================] - 1s 677us/step - loss: 0.0034\n",
      "Epoch 47/100\n",
      "1133/1133 [==============================] - 1s 662us/step - loss: 0.0034\n",
      "Epoch 48/100\n",
      "1133/1133 [==============================] - 1s 694us/step - loss: 0.0033\n",
      "Epoch 49/100\n",
      "1133/1133 [==============================] - 1s 678us/step - loss: 0.0033\n",
      "Epoch 50/100\n",
      "1133/1133 [==============================] - 1s 671us/step - loss: 0.0033\n",
      "Epoch 51/100\n",
      "1133/1133 [==============================] - 1s 675us/step - loss: 0.0033\n",
      "Epoch 52/100\n",
      "1133/1133 [==============================] - 1s 655us/step - loss: 0.0032\n",
      "Epoch 53/100\n",
      "1133/1133 [==============================] - 1s 651us/step - loss: 0.0032\n",
      "Epoch 54/100\n",
      "1133/1133 [==============================] - 1s 654us/step - loss: 0.0032\n",
      "Epoch 55/100\n",
      "1133/1133 [==============================] - 1s 647us/step - loss: 0.0032\n",
      "Epoch 56/100\n",
      "1133/1133 [==============================] - 1s 658us/step - loss: 0.0031\n",
      "Epoch 57/100\n",
      "1133/1133 [==============================] - 1s 655us/step - loss: 0.0031\n",
      "Epoch 58/100\n",
      "1133/1133 [==============================] - 1s 659us/step - loss: 0.0031\n",
      "Epoch 59/100\n",
      "1133/1133 [==============================] - 1s 676us/step - loss: 0.0031\n",
      "Epoch 60/100\n",
      "1133/1133 [==============================] - 1s 644us/step - loss: 0.0031\n",
      "Epoch 61/100\n",
      "1133/1133 [==============================] - 1s 679us/step - loss: 0.0030\n",
      "Epoch 62/100\n",
      "1133/1133 [==============================] - 1s 682us/step - loss: 0.0030\n",
      "Epoch 63/100\n",
      "1133/1133 [==============================] - 1s 657us/step - loss: 0.0030\n",
      "Epoch 64/100\n",
      "1133/1133 [==============================] - 1s 643us/step - loss: 0.0030\n",
      "Epoch 65/100\n",
      "1133/1133 [==============================] - 1s 673us/step - loss: 0.0030\n",
      "Epoch 66/100\n",
      "1133/1133 [==============================] - 1s 643us/step - loss: 0.0030\n",
      "Epoch 67/100\n",
      "1133/1133 [==============================] - 1s 657us/step - loss: 0.0029\n",
      "Epoch 68/100\n",
      "1133/1133 [==============================] - 1s 647us/step - loss: 0.0029\n",
      "Epoch 69/100\n",
      "1133/1133 [==============================] - 1s 651us/step - loss: 0.0029\n",
      "Epoch 70/100\n",
      "1133/1133 [==============================] - 1s 657us/step - loss: 0.0029\n",
      "Epoch 71/100\n",
      "1133/1133 [==============================] - 1s 666us/step - loss: 0.0029\n",
      "Epoch 72/100\n",
      "1133/1133 [==============================] - 1s 656us/step - loss: 0.0029\n",
      "Epoch 73/100\n",
      "1133/1133 [==============================] - 1s 660us/step - loss: 0.0029\n",
      "Epoch 74/100\n",
      "1133/1133 [==============================] - 1s 656us/step - loss: 0.0028\n",
      "Epoch 75/100\n",
      "1133/1133 [==============================] - 1s 664us/step - loss: 0.0028\n",
      "Epoch 76/100\n",
      "1133/1133 [==============================] - 1s 665us/step - loss: 0.0028\n",
      "Epoch 77/100\n",
      "1133/1133 [==============================] - 1s 675us/step - loss: 0.0028\n",
      "Epoch 78/100\n",
      "1133/1133 [==============================] - 1s 677us/step - loss: 0.0028\n",
      "Epoch 79/100\n",
      "1133/1133 [==============================] - 1s 674us/step - loss: 0.0028\n",
      "Epoch 80/100\n",
      "1133/1133 [==============================] - 1s 676us/step - loss: 0.0028\n",
      "Epoch 81/100\n",
      "1133/1133 [==============================] - 1s 672us/step - loss: 0.0028\n",
      "Epoch 82/100\n",
      "1133/1133 [==============================] - 1s 666us/step - loss: 0.0028\n",
      "Epoch 83/100\n",
      "1133/1133 [==============================] - 1s 664us/step - loss: 0.0028\n",
      "Epoch 84/100\n",
      "1133/1133 [==============================] - 1s 674us/step - loss: 0.0028\n",
      "Epoch 85/100\n",
      "1133/1133 [==============================] - 1s 682us/step - loss: 0.0027\n",
      "Epoch 86/100\n",
      "1133/1133 [==============================] - 1s 676us/step - loss: 0.0027\n",
      "Epoch 87/100\n",
      "1133/1133 [==============================] - 1s 681us/step - loss: 0.0027\n",
      "Epoch 88/100\n",
      "1133/1133 [==============================] - 1s 679us/step - loss: 0.0027\n",
      "Epoch 89/100\n",
      "1133/1133 [==============================] - 1s 679us/step - loss: 0.0027\n",
      "Epoch 90/100\n",
      "1133/1133 [==============================] - 1s 671us/step - loss: 0.0027\n",
      "Epoch 91/100\n",
      "1133/1133 [==============================] - 1s 675us/step - loss: 0.0027\n",
      "Epoch 92/100\n",
      "1133/1133 [==============================] - 1s 675us/step - loss: 0.0027\n",
      "Epoch 93/100\n",
      "1133/1133 [==============================] - 1s 676us/step - loss: 0.0027\n",
      "Epoch 94/100\n",
      "1133/1133 [==============================] - 1s 676us/step - loss: 0.0027\n",
      "Epoch 95/100\n"
     ]
    },
    {
     "name": "stdout",
     "output_type": "stream",
     "text": [
      "1133/1133 [==============================] - 1s 674us/step - loss: 0.0027\n",
      "Epoch 96/100\n",
      "1133/1133 [==============================] - 1s 672us/step - loss: 0.0027\n",
      "Epoch 97/100\n",
      "1133/1133 [==============================] - 1s 678us/step - loss: 0.0027\n",
      "Epoch 98/100\n",
      "1133/1133 [==============================] - 1s 677us/step - loss: 0.0027\n",
      "Epoch 99/100\n",
      "1133/1133 [==============================] - 1s 679us/step - loss: 0.0027\n",
      "Epoch 100/100\n",
      "1133/1133 [==============================] - 1s 670us/step - loss: 0.0027\n"
     ]
    }
   ],
   "source": [
    "loss = tf.model.fit(x_data1, y_data1, epochs=100) "
   ]
  },
  {
   "cell_type": "code",
   "execution_count": 77,
   "id": "343f21f4",
   "metadata": {},
   "outputs": [
    {
     "name": "stdout",
     "output_type": "stream",
     "text": [
      "1133/1133 [==============================] - 1s 587us/step\n"
     ]
    }
   ],
   "source": [
    "predictions = tf.model.predict(x_data)"
   ]
  },
  {
   "cell_type": "code",
   "execution_count": 78,
   "id": "5399810d",
   "metadata": {},
   "outputs": [
    {
     "name": "stdout",
     "output_type": "stream",
     "text": [
      "1133/1133 [==============================] - 1s 663us/step - loss: 0.0027\n"
     ]
    }
   ],
   "source": [
    "score = tf.model.evaluate(x_data, y_data)"
   ]
  },
  {
   "cell_type": "code",
   "execution_count": 79,
   "id": "f77f8077",
   "metadata": {
    "scrolled": true
   },
   "outputs": [
    {
     "name": "stdout",
     "output_type": "stream",
     "text": [
      "Prediction: \n",
      " [[0.63561213]\n",
      " [0.646561  ]\n",
      " [0.6438238 ]\n",
      " ...\n",
      " [0.54674166]\n",
      " [0.5208791 ]\n",
      " [0.5564631 ]]\n",
      "Cost :  0.0026677206624299288\n"
     ]
    }
   ],
   "source": [
    "print('Prediction: \\n', predictions)\n",
    "print('Cost : ', score) "
   ]
  },
  {
   "cell_type": "code",
   "execution_count": 80,
   "id": "85e8d26b",
   "metadata": {},
   "outputs": [
    {
     "name": "stderr",
     "output_type": "stream",
     "text": [
      "C:\\Users\\tjoeun\\AppData\\Local\\Temp\\ipykernel_15148\\4080666073.py:5: UserWarning: \n",
      "\n",
      "`distplot` is a deprecated function and will be removed in seaborn v0.14.0.\n",
      "\n",
      "Please adapt your code to use either `displot` (a figure-level function with\n",
      "similar flexibility) or `kdeplot` (an axes-level function for kernel density plots).\n",
      "\n",
      "For a guide to updating your code to use the new functions, please see\n",
      "https://gist.github.com/mwaskom/de44147ed2974457ad6372750bbe5751\n",
      "\n",
      "  ax1 = sns.distplot(y_data, hist=False, label=\"y_data\")\n",
      "C:\\Users\\tjoeun\\AppData\\Local\\Temp\\ipykernel_15148\\4080666073.py:6: UserWarning: \n",
      "\n",
      "`distplot` is a deprecated function and will be removed in seaborn v0.14.0.\n",
      "\n",
      "Please adapt your code to use either `displot` (a figure-level function with\n",
      "similar flexibility) or `kdeplot` (an axes-level function for kernel density plots).\n",
      "\n",
      "For a guide to updating your code to use the new functions, please see\n",
      "https://gist.github.com/mwaskom/de44147ed2974457ad6372750bbe5751\n",
      "\n",
      "  ax2 = sns.distplot(predictions, hist=False, label=\"predictions\", ax=ax1)\n"
     ]
    },
    {
     "data": {
      "image/png": "[encoded data removed]",
      "text/plain": [
       "<Figure size 1000x500 with 1 Axes>"
      ]
     },
     "metadata": {},
     "output_type": "display_data"
    }
   ],
   "source": [
    "#신경망 선형회귀 예측한 값 predictions을 실제 값 y_data와 비교 \n",
    "import seaborn as sns\n",
    "\n",
    "plt.figure(figsize=(10, 5))   \n",
    "ax1 = sns.distplot(y_data, hist=False, label=\"y_data\")   \n",
    "ax2 = sns.distplot(predictions, hist=False, label=\"predictions\", ax=ax1)\n",
    "plt.show()\n",
    "plt.close()"
   ]
  },
  {
   "cell_type": "code",
   "execution_count": null,
   "id": "9e2dc2f7",
   "metadata": {},
   "outputs": [],
   "source": []
  }
 ],
 "metadata": {
  "kernelspec": {
   "display_name": "Python [conda env:tf_cpu] *",
   "language": "python",
   "name": "conda-env-tf_cpu-py"
  },
  "language_info": {
   "codemirror_mode": {
    "name": "ipython",
    "version": 3
   },
   "file_extension": ".py",
   "mimetype": "text/x-python",
   "name": "python",
   "nbconvert_exporter": "python",
   "pygments_lexer": "ipython3",
   "version": "3.8.16"
  }
 },
 "nbformat": 4,
 "nbformat_minor": 5
}
