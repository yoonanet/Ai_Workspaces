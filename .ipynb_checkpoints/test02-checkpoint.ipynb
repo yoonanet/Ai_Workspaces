{
 "cells": [
  {
   "cell_type": "code",
   "execution_count": 1,
   "id": "06cebb94",
   "metadata": {
    "scrolled": true
   },
   "outputs": [
    {
     "name": "stderr",
     "output_type": "stream",
     "text": [
      "C:\\Users\\tjoeun\\AppData\\Local\\Temp\\ipykernel_10476\\554964952.py:5: DeprecationWarning: loadtxt(): Parsing an integer via a float is deprecated.  To avoid this warning, you can:\n",
      "    * make sure the original data is stored as integers.\n",
      "    * use the `converters=` keyword argument.  If you only use\n",
      "      NumPy 1.23 or later, `converters=float` will normally work.\n",
      "    * Use `np.loadtxt(...).astype(np.int64)` parsing the file as\n",
      "      floating point and then convert it.  (On all NumPy versions.)\n",
      "  (Deprecated NumPy 1.23)\n",
      "  data = np.loadtxt('test12.csv', delimiter=',', dtype=np.int64)\n"
     ]
    }
   ],
   "source": [
    "import numpy as np\n",
    "import pandas as pd\n",
    "import tensorflow as tf\n",
    "\n",
    "data = np.loadtxt('test12.csv', delimiter=',', dtype=np.int64)"
   ]
  },
  {
   "cell_type": "code",
   "execution_count": 2,
   "id": "2a9e2785",
   "metadata": {},
   "outputs": [],
   "source": [
    "data = data[(data[:,4] == 0)]\n",
    "data = np.delete(data,4,axis=1)"
   ]
  },
  {
   "cell_type": "code",
   "execution_count": 3,
   "id": "9387ec3e",
   "metadata": {
    "scrolled": true
   },
   "outputs": [
    {
     "data": {
      "text/plain": [
       "array([[   655,      2,     77, 202005,      5,   1988,  61500],\n",
       "       [   655,      2,     77, 202006,      7,   1988,  65000],\n",
       "       [   655,      2,     77, 202006,      4,   1988,  67000],\n",
       "       [   655,      2,     77, 202007,      9,   1988,  60000],\n",
       "       [   655,      2,     77, 202007,      1,   1988,  52500],\n",
       "       [   655,      2,     77, 202008,      8,   1988,  66000],\n",
       "       [   655,      2,     77, 202010,      9,   1988,  65000],\n",
       "       [   655,      2,     77, 202010,      2,   1988,  75000],\n",
       "       [   658,      1,     54, 202004,      4,   1987,  33000],\n",
       "       [   658,      1,     79, 202005,      4,   1987,  36000],\n",
       "       [   658,      1,     79, 202005,      4,   1987,  36000],\n",
       "       [   658,      1,     79, 202005,      4,   1987,  36000],\n",
       "       [   658,      1,     79, 202006,      4,   1987,  48000],\n",
       "       [   658,      1,     54, 202006,      5,   1987,  30000],\n",
       "       [   658,      1,     79, 202006,      2,   1987,  40000],\n",
       "       [   658,      1,     67, 202006,      4,   1987,  37500],\n",
       "       [   658,      1,     67, 202006,      4,   1987,  37000],\n",
       "       [   658,      1,     67, 202006,      4,   1987,  37500],\n",
       "       [   658,      1,     79, 202007,      4,   1987,  43000],\n",
       "       [   658,      1,     79, 202007,      2,   1987,  43000],\n",
       "       [   658,      1,     67, 202007,      1,   1987,  40000],\n",
       "       [   658,      1,     79, 202007,      5,   1987,  48000],\n",
       "       [   658,      1,     79, 202008,      5,   1987,  42000],\n",
       "       [   658,      1,     67, 202008,      1,   1987,  36000],\n",
       "       [   658,      1,     79, 202008,      2,   1987,  45000],\n",
       "       [   658,      1,     79, 202008,      3,   1987,  50000],\n",
       "       [   658,      1,     79, 202009,      4,   1987,  50000],\n",
       "       [   658,      1,     79, 202009,      2,   1987,  42000],\n",
       "       [   658,      1,     67, 202010,      5,   1987,  35000],\n",
       "       [   658,      1,     79, 202010,      5,   1987,  44000],\n",
       "       [   658,      1,     79, 202010,      4,   1987,  42000],\n",
       "       [   658,      1,     79, 202010,      3,   1987,  44500],\n",
       "       [   658,      1,     79, 202011,      3,   1987,  65000],\n",
       "       [   658,      1,     67, 202012,      2,   1987,  38000],\n",
       "       [  1282,      0,     59, 202004,     17,   2020,  75000],\n",
       "       [  1282,      0,    112, 202005,     26,   2020, 160000],\n",
       "       [  1282,      0,     84, 202005,      5,   2020, 100000],\n",
       "       [  1282,      0,     59, 202005,      7,   2020,  77000],\n",
       "       [  1282,      0,     84, 202006,     23,   2020, 105000],\n",
       "       [  1282,      0,     96, 202006,      7,   2020, 130000],\n",
       "       [  1282,      0,     59, 202006,      5,   2020,  80000],\n",
       "       [  1282,      0,    102, 202006,     27,   2020, 170000],\n",
       "       [  1282,      0,     49, 202006,     12,   2020,  75000],\n",
       "       [  1282,      0,     49, 202006,     12,   2020,  75000],\n",
       "       [  1282,      0,     84, 202006,      8,   2020, 110000],\n",
       "       [  1282,      0,     59, 202006,     21,   2020,  85000],\n",
       "       [  1282,      0,     49, 202006,     13,   2020,  70000],\n",
       "       [  1282,      0,     84, 202007,     21,   2020,  89000],\n",
       "       [  1282,      0,     84, 202007,     19,   2020, 125000],\n",
       "       [  1282,      0,     59, 202007,     11,   2020,  80000],\n",
       "       [  1282,      0,     59, 202007,      6,   2020,  80000],\n",
       "       [  1282,      0,     49, 202007,     12,   2020,  72000],\n",
       "       [  1282,      0,     59, 202007,     11,   2020,  80000],\n",
       "       [  1282,      0,     59, 202007,     12,   2020,  90000],\n",
       "       [  1282,      0,     59, 202007,      5,   2020,  87000],\n",
       "       [  1282,      0,     59, 202007,      8,   2020,  83000],\n",
       "       [  1282,      0,    112, 202007,     12,   2020, 180000],\n",
       "       [  1282,      0,     49, 202007,      9,   2020,  70000],\n",
       "       [  1282,      0,     59, 202007,      6,   2020,  79000],\n",
       "       [  1282,      0,     59, 202007,      6,   2020,  79000],\n",
       "       [  1282,      0,     74, 202007,      9,   2020, 110000],\n",
       "       [  1282,      0,     49, 202007,      7,   2020,  75000],\n",
       "       [  1282,      0,     84, 202007,     22,   2020, 130000],\n",
       "       [  1282,      0,     59, 202007,      5,   2020,  85000],\n",
       "       [  1282,      0,     59, 202007,      7,   2020,  90000],\n",
       "       [  1282,      0,     59, 202007,      2,   2020,  80000],\n",
       "       [  1282,      0,     59, 202007,      9,   2020,  90000],\n",
       "       [  1282,      0,     49, 202007,     12,   2020,  77000],\n",
       "       [  1282,      0,     74, 202007,      2,   2020, 103000],\n",
       "       [  1282,      0,     59, 202007,     17,   2020,  80000],\n",
       "       [  1282,      0,     59, 202007,      6,   2020,  90000],\n",
       "       [  1282,      0,     49, 202007,      5,   2020,  75000]],\n",
       "      dtype=int64)"
      ]
     },
     "execution_count": 3,
     "metadata": {},
     "output_type": "execute_result"
    }
   ],
   "source": [
    "data"
   ]
  },
  {
   "cell_type": "code",
   "execution_count": 4,
   "id": "0c53495e",
   "metadata": {},
   "outputs": [
    {
     "data": {
      "text/plain": [
       "array([[ 62979.93888798],\n",
       "       [124794.49784684],\n",
       "       [ 49677.76076999],\n",
       "       [ 63860.11291176],\n",
       "       [ 36651.31788504],\n",
       "       [ 83441.27616584],\n",
       "       [ 48339.03436935],\n",
       "       [ 87535.16273198],\n",
       "       [ 49008.39756969],\n",
       "       [ 82886.55105975],\n",
       "       [124239.77274075],\n",
       "       [ 51131.12526488],\n",
       "       [ 48339.03436935],\n",
       "       [ 91092.78955707],\n",
       "       [ 67532.37783107]])"
      ]
     },
     "execution_count": 4,
     "metadata": {},
     "output_type": "execute_result"
    }
   ],
   "source": [
    "from sklearn.model_selection import train_test_split\n",
    "\n",
    "X = data_x = data[:,0:6]\n",
    "y = data_y = data[:,[6]]\n",
    "\n",
    "X_train, X_test, y_train, y_test = train_test_split(X, y, test_size=0.2, random_state=42)\n",
    "\n",
    "from sklearn.linear_model import LinearRegression\n",
    "\n",
    "reg = LinearRegression()\n",
    "reg.fit(X_train, y_train)\n",
    "y_pred = reg.predict(X_test)\n",
    "y_pred"
   ]
  },
  {
   "cell_type": "code",
   "execution_count": 5,
   "id": "19e72d3c",
   "metadata": {},
   "outputs": [
    {
     "data": {
      "text/plain": [
       "array([[ 52500],\n",
       "       [130000],\n",
       "       [ 43000],\n",
       "       [ 61500],\n",
       "       [ 35000],\n",
       "       [ 80000],\n",
       "       [ 36000],\n",
       "       [ 75000],\n",
       "       [ 48000],\n",
       "       [ 87000],\n",
       "       [ 89000],\n",
       "       [ 44500],\n",
       "       [ 36000],\n",
       "       [ 85000],\n",
       "       [ 66000]], dtype=int64)"
      ]
     },
     "execution_count": 5,
     "metadata": {},
     "output_type": "execute_result"
    }
   ],
   "source": [
    "y_test"
   ]
  },
  {
   "cell_type": "code",
   "execution_count": 6,
   "id": "61ece183",
   "metadata": {},
   "outputs": [
    {
     "data": {
      "text/plain": [
       "array([[ 52500],\n",
       "       [130000],\n",
       "       [ 43000],\n",
       "       [ 61500],\n",
       "       [ 35000],\n",
       "       [ 80000],\n",
       "       [ 36000],\n",
       "       [ 75000],\n",
       "       [ 48000],\n",
       "       [ 87000],\n",
       "       [ 89000],\n",
       "       [ 44500],\n",
       "       [ 36000],\n",
       "       [ 85000],\n",
       "       [ 66000]], dtype=int64)"
      ]
     },
     "execution_count": 6,
     "metadata": {},
     "output_type": "execute_result"
    }
   ],
   "source": [
    "y_test"
   ]
  },
  {
   "cell_type": "code",
   "execution_count": 7,
   "id": "5899a47d",
   "metadata": {},
   "outputs": [
    {
     "data": {
      "image/png": "[encoded data removed]",
      "text/plain": [
       "<Figure size 640x480 with 1 Axes>"
      ]
     },
     "metadata": {},
     "output_type": "display_data"
    }
   ],
   "source": [
    "import matplotlib.pyplot as plt\n",
    "%matplotlib inline\n",
    "\n",
    "#실제 실거래가과 예측한\n",
    "\n",
    "plt.scatter(y_test, y_pred, alpha=0.4)\n",
    "plt.xlabel(\"Actual Price\")\n",
    "plt.ylabel(\"Predicted Price\")\n",
    "plt.title(\"LINEAR REGRESSION\")\n",
    "plt.show()"
   ]
  },
  {
   "cell_type": "code",
   "execution_count": null,
   "id": "41f22bac",
   "metadata": {},
   "outputs": [],
   "source": []
  },
  {
   "cell_type": "code",
   "execution_count": null,
   "id": "76c94144",
   "metadata": {},
   "outputs": [],
   "source": []
  },
  {
   "cell_type": "code",
   "execution_count": null,
   "id": "0608024e",
   "metadata": {},
   "outputs": [],
   "source": []
  },
  {
   "cell_type": "code",
   "execution_count": null,
   "id": "44461126",
   "metadata": {},
   "outputs": [],
   "source": []
  },
  {
   "cell_type": "code",
   "execution_count": null,
   "id": "9cafea8f",
   "metadata": {},
   "outputs": [],
   "source": []
  },
  {
   "cell_type": "code",
   "execution_count": null,
   "id": "0e08d69a",
   "metadata": {},
   "outputs": [],
   "source": []
  },
  {
   "cell_type": "code",
   "execution_count": null,
   "id": "93e1e16c",
   "metadata": {},
   "outputs": [],
   "source": []
  },
  {
   "cell_type": "code",
   "execution_count": null,
   "id": "ecfee537",
   "metadata": {},
   "outputs": [],
   "source": []
  },
  {
   "cell_type": "code",
   "execution_count": null,
   "id": "79e5d9d8",
   "metadata": {},
   "outputs": [],
   "source": []
  },
  {
   "cell_type": "code",
   "execution_count": null,
   "id": "1a3be232",
   "metadata": {},
   "outputs": [],
   "source": []
  },
  {
   "cell_type": "code",
   "execution_count": null,
   "id": "b786cf50",
   "metadata": {},
   "outputs": [],
   "source": []
  },
  {
   "cell_type": "code",
   "execution_count": null,
   "id": "ebb42f15",
   "metadata": {},
   "outputs": [],
   "source": []
  },
  {
   "cell_type": "code",
   "execution_count": null,
   "id": "2dd2036d",
   "metadata": {},
   "outputs": [],
   "source": []
  },
  {
   "cell_type": "code",
   "execution_count": null,
   "id": "a21238ba",
   "metadata": {},
   "outputs": [],
   "source": []
  },
  {
   "cell_type": "code",
   "execution_count": null,
   "id": "de3d1c30",
   "metadata": {},
   "outputs": [],
   "source": []
  },
  {
   "cell_type": "code",
   "execution_count": null,
   "id": "8d4146fb",
   "metadata": {},
   "outputs": [],
   "source": []
  },
  {
   "cell_type": "code",
   "execution_count": null,
   "id": "ef85b962",
   "metadata": {},
   "outputs": [],
   "source": []
  }
 ],
 "metadata": {
  "kernelspec": {
   "display_name": "Python [conda env:tf_cpu] *",
   "language": "python",
   "name": "conda-env-tf_cpu-py"
  },
  "language_info": {
   "codemirror_mode": {
    "name": "ipython",
    "version": 3
   },
   "file_extension": ".py",
   "mimetype": "text/x-python",
   "name": "python",
   "nbconvert_exporter": "python",
   "pygments_lexer": "ipython3",
   "version": "3.8.16"
  }
 },
 "nbformat": 4,
 "nbformat_minor": 5
}
