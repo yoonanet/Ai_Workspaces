{
 "cells": [
  {
   "cell_type": "markdown",
   "id": "91cbdfc6",
   "metadata": {},
   "source": [
    "# 데이터 분석에 유용한 기능들...\n",
    "## - list comprehension 기본 구조"
   ]
  },
  {
   "cell_type": "code",
   "execution_count": 1,
   "id": "761b62d1",
   "metadata": {},
   "outputs": [],
   "source": [
    "numbers = [1, 2, 3, 4, 5] #파이썬은 배열의 자료형 자체를 제공하고 있지 않음. 따라서 리스트를 배열로 오해하면 안됨!!\n",
    "square1 = [] #자료형 선언 -> 다른데이터가 저장되기 전까지는 데이터가 리스트의 형태로 표현되어짐\n",
    "#자료형을 고정시킨 다음에 자료형에서 제공해주는 기능을 사용하기 위해서 변수에 자료형을 선언만 해주고 있었던 것임."
   ]
  },
  {
   "cell_type": "code",
   "execution_count": 2,
   "id": "91e5523b",
   "metadata": {},
   "outputs": [
    {
     "data": {
      "text/plain": [
       "[1, 4, 9, 16, 25]"
      ]
     },
     "execution_count": 2,
     "metadata": {},
     "output_type": "execute_result"
    }
   ],
   "source": [
    "for i in numbers:\n",
    "    square1.append(i ** 2)\n",
    "\n",
    "square1"
   ]
  },
  {
   "cell_type": "code",
   "execution_count": 3,
   "id": "2fc55323",
   "metadata": {},
   "outputs": [
    {
     "data": {
      "text/plain": [
       "[1, 4, 9, 16, 25]"
      ]
     },
     "execution_count": 3,
     "metadata": {},
     "output_type": "execute_result"
    }
   ],
   "source": [
    "square2 = [i ** 2 for i in numbers] \n",
    "square2"
   ]
  },
  {
   "cell_type": "code",
   "execution_count": 4,
   "id": "064b3c59",
   "metadata": {},
   "outputs": [
    {
     "data": {
      "text/plain": [
       "[9, 16, 25]"
      ]
     },
     "execution_count": 4,
     "metadata": {},
     "output_type": "execute_result"
    }
   ],
   "source": [
    "square3 = []\n",
    "\n",
    "for i in numbers:\n",
    "    if i >= 3: #조건을 만족하는 3부터\n",
    "        square3.append(i ** 2) #이 코드가 실행되어지면서 데이터가 담겨질 것임\n",
    "\n",
    "square3"
   ]
  },
  {
   "cell_type": "code",
   "execution_count": 6,
   "id": "5beeaf3c",
   "metadata": {},
   "outputs": [
    {
     "data": {
      "text/plain": [
       "[9, 16, 25]"
      ]
     },
     "execution_count": 6,
     "metadata": {},
     "output_type": "execute_result"
    }
   ],
   "source": [
    "square4 = [i ** 2 for i in numbers if i >= 3] #조건에 의해 만족하는 연산구문 반복문 조건문 => 실행된 데이터들이 list로 추가하여 넣어짐\n",
    "square4\n",
    "#데이터분석에서 전처리의 과정으로 빈번하게 만나게 될 코드임."
   ]
  },
  {
   "cell_type": "markdown",
   "id": "7eebcec4",
   "metadata": {},
   "source": [
    "### * List comprehension : 리스트 변환하는 표현식으로 유용한 기능"
   ]
  },
  {
   "cell_type": "code",
   "execution_count": 7,
   "id": "fc27e585",
   "metadata": {},
   "outputs": [
    {
     "name": "stdout",
     "output_type": "stream",
     "text": [
      "['mon', 'tue', 'wed', 'thu', 'fri', 'sat', 'sun']\n"
     ]
    }
   ],
   "source": [
    "day = ['mon', 'tue', 'wed', 'thu', 'fri', 'sat', 'sun']\n",
    "\n",
    "print([x for x in day]) #결과 예측: day에 담긴 데이터들이 출력될 것임"
   ]
  },
  {
   "cell_type": "code",
   "execution_count": 8,
   "id": "b3d166e4",
   "metadata": {},
   "outputs": [
    {
     "name": "stdout",
     "output_type": "stream",
     "text": [
      "[35, 56, 45, 27, 8]\n"
     ]
    }
   ],
   "source": [
    "data = [35, 56, -53, 45, 27, -28, 8, -12]\n",
    "print([x for x in data if x >= 0]) #결과 예측: 양수만 출력될 것임"
   ]
  },
  {
   "cell_type": "code",
   "execution_count": 9,
   "id": "30a9fb35",
   "metadata": {},
   "outputs": [
    {
     "name": "stdout",
     "output_type": "stream",
     "text": [
      "[1225, 3136, 2025, 729, 64]\n"
     ]
    }
   ],
   "source": [
    "print([x ** 2 for x in data if x >= 0])"
   ]
  },
  {
   "cell_type": "markdown",
   "id": "c03522ef",
   "metadata": {},
   "source": [
    "### - split(구분자) : 구분자로 구분, 기본값은 공백 "
   ]
  },
  {
   "cell_type": "code",
   "execution_count": 10,
   "id": "636c91b5",
   "metadata": {},
   "outputs": [
    {
     "data": {
      "text/plain": [
       "['the', 'joeun', 'computer', 'with', 'python']"
      ]
     },
     "execution_count": 10,
     "metadata": {},
     "output_type": "execute_result"
    }
   ],
   "source": [
    "test_text = \"the-joeun-computer-with-python\"\n",
    "\n",
    "result = test_text.split('-') #문자열의 데이터를 통해서 기능을 호출 가능 / (문자열 데이터의 구분자)\n",
    "result #리스트형태로 결과를 반환해주면서 입력으로 전달한 구분자 단위로 데이터들을 각각 구별해서 출력해주고 있는 것을 확인할 수 있다."
   ]
  },
  {
   "cell_type": "markdown",
   "id": "fab1e446",
   "metadata": {},
   "source": [
    "### * 구분자.join(리스트) : split 메소드와 반대로 구분자를 붙인다. "
   ]
  },
  {
   "cell_type": "code",
   "execution_count": 13,
   "id": "00e7ea0a",
   "metadata": {},
   "outputs": [
    {
     "name": "stdout",
     "output_type": "stream",
     "text": [
      "the-joeun-computer-with-python\n"
     ]
    }
   ],
   "source": [
    "#test_text #유의) 메소드를 수행했을 때 원래 데이터에 담긴 값을 변경을 시켜주는지, 특성에 맞는 결과만 리턴을 해주는지 구분해서 체크를 해야한다.\n",
    "#split()메소드를 수행하고, 메소드 수행시 사용했던 데이터를 다시 출력했을 때 원본 데이터 자체를 보존해주고 있는 것을 확인할 수 있다.\n",
    "#대표적으로 본래 값을 변경해주는 메소드는 solt메소드로 데이터를 정렬해서 내 자신에 데이터를 변경하여 저장을 해주고 있었다.\n",
    "\n",
    "test_text = ['the', 'joeun', 'computer', 'with', 'python']\n",
    "\n",
    "result = '-'.join(test_text) #리스트로 분리된 데이터를 하나의 데이터로 결합시키고 싶을 때 join메소드를 활용하면 됨 \n",
    "#구분자로 지정해준 데이터를 기준으로 리스트에 하나하나의 데이터를 합쳐주고 있음.\n",
    "print(result) "
   ]
  },
  {
   "cell_type": "markdown",
   "id": "879dee18",
   "metadata": {},
   "source": [
    "### * split()와 join()의 응용"
   ]
  },
  {
   "cell_type": "code",
   "execution_count": 14,
   "id": "89dd3db7",
   "metadata": {},
   "outputs": [
    {
     "data": {
      "text/plain": [
       "'345-234-6789'"
      ]
     },
     "execution_count": 14,
     "metadata": {},
     "output_type": "execute_result"
    }
   ],
   "source": [
    "result = '-'.join('345.234.6789'.split('.')) \n",
    "#구분자를 내가 원하는 형태로 변경하고자 할 때 split과 join을 결합을 하여 한번에 처리를 수행하도록 한다.\n",
    "result"
   ]
  },
  {
   "cell_type": "markdown",
   "id": "335fdf0e",
   "metadata": {},
   "source": [
    "## - enumerate(list) : 인덱스와 값을 함께 반환\n",
    "#클래스로 정의되어져 있는 것임. (첫 글자가 대문자로 지정되어있지 않기 때문에 헷갈릴 수 있기 때문에 유의하도록 해야함)"
   ]
  },
  {
   "cell_type": "code",
   "execution_count": 15,
   "id": "b0e12d3d",
   "metadata": {},
   "outputs": [
    {
     "name": "stdout",
     "output_type": "stream",
     "text": [
      "0 a\n",
      "1 b\n",
      "2 c\n",
      "3 d\n"
     ]
    }
   ],
   "source": [
    "#enumerate클래스(파이썬의 내장클래스이다.)는 반복문에서 많이 활용됨!!\n",
    "#반복문에서 range는 내장클래스로 정의를 해서 제공을 해주고 있었음. range는 데이터를 리스트로 넣어주면 하나하나씩 꺼내와주도록 동작됐음.\n",
    "for i, name in enumerate(['a', 'b', 'c', 'd']):\n",
    "    print(i, name)\n",
    "    #enumerate를 반복문으로 출력하면 데이터를 읽어오면서 인덱스를 부여해준다. 인덱스와 함께 enumerate가 관리하는 데이터를 출력해준다.\n",
    "    # => 마치 key와 value형태처럼 결과값을 리턴해주고 있는 것을 확인할 수 있다.\n",
    "    #    ***enumerate는 디폴트로 인덱스이름을 추가적으로 부여하는 것임."
   ]
  },
  {
   "cell_type": "code",
   "execution_count": 17,
   "id": "e42bb628",
   "metadata": {},
   "outputs": [
    {
     "data": {
      "text/plain": [
       "{0: 'mon', 1: 'tue', 2: 'wed', 3: 'thu', 4: 'fri', 5: 'sat', 6: 'sun'}"
      ]
     },
     "execution_count": 17,
     "metadata": {},
     "output_type": "execute_result"
    }
   ],
   "source": [
    "seq = ['mon', 'tue', 'wed', 'thu', 'fri', 'sat', 'sun']\n",
    "dict(enumerate(seq)) #dict: 입력으로 넣어준 데이터를 딕셔너리의 자료형으로 형변환을 해주는 함수임\n",
    "#다이렉트로 딕셔너리에 대한 데이터를 생성할 수 있지만 \n",
    "#리스트에 데이터가 주어져 있을 때 리스트에 데이터를 바로 딕셔너리의 자료구조로 형변환을 해주고 싶다고 할 때 응용되어지는 클래스 중에 하나이다!!"
   ]
  },
  {
   "cell_type": "code",
   "execution_count": 18,
   "id": "689ce247",
   "metadata": {},
   "outputs": [
    {
     "data": {
      "text/plain": [
       "{'a': 'mon',\n",
       " 'b': 'tue',\n",
       " 'c': 'wed',\n",
       " 'd': 'thu',\n",
       " 'e': 'fri',\n",
       " 'f': 'sat',\n",
       " 'g': 'sun'}"
      ]
     },
     "execution_count": 18,
     "metadata": {},
     "output_type": "execute_result"
    }
   ],
   "source": [
    "key_seq = 'abcdefg'\n",
    "value_seq = ['mon', 'tue', 'wed', 'thu', 'fri', 'sat', 'sun']\n",
    "\n",
    "#알파벳(별도로 key값 부여)으로 key값을 매핑시켜서 딕셔너리 데이터로 형변환 처리를 하고 싶다고 할 때 zip메소드를 활용\n",
    "dict(zip(key_seq, value_seq)) #zip메소드는 첫번째 매개변수 데이터와 두번째 매개변수 데이터를 지퍼처럼 묶어주는 역할을 해준다.\n",
    "#묶어준 데이터를 딕셔너리 형태로 변환해달라고 한다면 결과적으로 데이터가 서로 매핑되면서 출력되는 것을 확인할 수 있다."
   ]
  },
  {
   "cell_type": "markdown",
   "id": "768b7368",
   "metadata": {},
   "source": [
    "## - Counter를 이용한 카운팅\n",
    "### * count는 아이템의 갯수를 자동으로 카운팅해주는 기능이다."
   ]
  },
  {
   "cell_type": "code",
   "execution_count": 21,
   "id": "8065ae9b",
   "metadata": {},
   "outputs": [],
   "source": [
    "from collections import Counter # collections모듈의 Counter자료형을 사용할 수 있도록 import하도록 함 -> 내장 모듈 활용"
   ]
  },
  {
   "cell_type": "code",
   "execution_count": 22,
   "id": "2c3c99c7",
   "metadata": {},
   "outputs": [],
   "source": [
    "message = \"\"\"\n",
    "But I must explain to you how all this mistaken idea of denouncing pleasure and \n",
    "praising pain was born and I will give you a complete account of the system, and \n",
    "expound the actual teachings of the great explorer of the truth, the master-builder \n",
    "of human happiness. No one rejects, dislikes, or avoids pleasure itself, because \n",
    "it is pleasure, but because those who do not know how to pursue pleasure rationally \n",
    "encounter consequences that are extremely painful. Nor again is there anyone who loves\n",
    "or pursues or desires to obtain pain of itself, because it is pain, but because \n",
    "occasionally circumstances occur in which toil and pain can procure him some great \n",
    "pleasure. To take a trivial example, which of us ever undertakes laborious physical \n",
    "exercise, except to obtain some advantage from it? But who has any right to find \n",
    "fault with a man who chooses to enjoy a pleasure that has no annoying consequences, \n",
    "or one who avoids a pain that produces no resultant pleasure?\n",
    "\"\"\" #변수에 텍스트 데이터 문자열을 저장"
   ]
  },
  {
   "cell_type": "code",
   "execution_count": 23,
   "id": "7fb217fa",
   "metadata": {},
   "outputs": [
    {
     "data": {
      "text/plain": [
       "['But',\n",
       " 'I',\n",
       " 'must',\n",
       " 'explain',\n",
       " 'to',\n",
       " 'you',\n",
       " 'how',\n",
       " 'all',\n",
       " 'this',\n",
       " 'mistaken',\n",
       " 'idea',\n",
       " 'of',\n",
       " 'denouncing',\n",
       " 'pleasure',\n",
       " 'and',\n",
       " 'praising',\n",
       " 'pain',\n",
       " 'was',\n",
       " 'born',\n",
       " 'and',\n",
       " 'I',\n",
       " 'will',\n",
       " 'give',\n",
       " 'you',\n",
       " 'a',\n",
       " 'complete',\n",
       " 'account',\n",
       " 'of',\n",
       " 'the',\n",
       " 'system,',\n",
       " 'and',\n",
       " 'expound',\n",
       " 'the',\n",
       " 'actual',\n",
       " 'teachings',\n",
       " 'of',\n",
       " 'the',\n",
       " 'great',\n",
       " 'explorer',\n",
       " 'of',\n",
       " 'the',\n",
       " 'truth,',\n",
       " 'the',\n",
       " 'master-builder',\n",
       " 'of',\n",
       " 'human',\n",
       " 'happiness.',\n",
       " 'No',\n",
       " 'one',\n",
       " 'rejects,',\n",
       " 'dislikes,',\n",
       " 'or',\n",
       " 'avoids',\n",
       " 'pleasure',\n",
       " 'itself,',\n",
       " 'because',\n",
       " 'it',\n",
       " 'is',\n",
       " 'pleasure,',\n",
       " 'but',\n",
       " 'because',\n",
       " 'those',\n",
       " 'who',\n",
       " 'do',\n",
       " 'not',\n",
       " 'know',\n",
       " 'how',\n",
       " 'to',\n",
       " 'pursue',\n",
       " 'pleasure',\n",
       " 'rationally',\n",
       " 'encounter',\n",
       " 'consequences',\n",
       " 'that',\n",
       " 'are',\n",
       " 'extremely',\n",
       " 'painful.',\n",
       " 'Nor',\n",
       " 'again',\n",
       " 'is',\n",
       " 'there',\n",
       " 'anyone',\n",
       " 'who',\n",
       " 'loves',\n",
       " 'or',\n",
       " 'pursues',\n",
       " 'or',\n",
       " 'desires',\n",
       " 'to',\n",
       " 'obtain',\n",
       " 'pain',\n",
       " 'of',\n",
       " 'itself,',\n",
       " 'because',\n",
       " 'it',\n",
       " 'is',\n",
       " 'pain,',\n",
       " 'but',\n",
       " 'because',\n",
       " 'occasionally',\n",
       " 'circumstances',\n",
       " 'occur',\n",
       " 'in',\n",
       " 'which',\n",
       " 'toil',\n",
       " 'and',\n",
       " 'pain',\n",
       " 'can',\n",
       " 'procure',\n",
       " 'him',\n",
       " 'some',\n",
       " 'great',\n",
       " 'pleasure.',\n",
       " 'To',\n",
       " 'take',\n",
       " 'a',\n",
       " 'trivial',\n",
       " 'example,',\n",
       " 'which',\n",
       " 'of',\n",
       " 'us',\n",
       " 'ever',\n",
       " 'undertakes',\n",
       " 'laborious',\n",
       " 'physical',\n",
       " 'exercise,',\n",
       " 'except',\n",
       " 'to',\n",
       " 'obtain',\n",
       " 'some',\n",
       " 'advantage',\n",
       " 'from',\n",
       " 'it?',\n",
       " 'But',\n",
       " 'who',\n",
       " 'has',\n",
       " 'any',\n",
       " 'right',\n",
       " 'to',\n",
       " 'find',\n",
       " 'fault',\n",
       " 'with',\n",
       " 'a',\n",
       " 'man',\n",
       " 'who',\n",
       " 'chooses',\n",
       " 'to',\n",
       " 'enjoy',\n",
       " 'a',\n",
       " 'pleasure',\n",
       " 'that',\n",
       " 'has',\n",
       " 'no',\n",
       " 'annoying',\n",
       " 'consequences,',\n",
       " 'or',\n",
       " 'one',\n",
       " 'who',\n",
       " 'avoids',\n",
       " 'a',\n",
       " 'pain',\n",
       " 'that',\n",
       " 'produces',\n",
       " 'no',\n",
       " 'resultant',\n",
       " 'pleasure?']"
      ]
     },
     "execution_count": 23,
     "metadata": {},
     "output_type": "execute_result"
    }
   ],
   "source": [
    "result = message.split() #별도로 구분자를 지정하지 않으면 디폴트가 여백(스페이스)로 인식을 하게 된다.\n",
    "result #리스트의 형태로 출력"
   ]
  },
  {
   "cell_type": "code",
   "execution_count": 24,
   "id": "f11773d0",
   "metadata": {},
   "outputs": [
    {
     "name": "stdout",
     "output_type": "stream",
     "text": [
      "Counter({'of': 7, 'to': 6, 'a': 5, 'the': 5, 'who': 5, 'pleasure': 4, 'and': 4, 'pain': 4, 'or': 4, 'because': 4, 'is': 3, 'that': 3, 'But': 2, 'I': 2, 'you': 2, 'how': 2, 'great': 2, 'one': 2, 'avoids': 2, 'itself,': 2, 'it': 2, 'but': 2, 'obtain': 2, 'which': 2, 'some': 2, 'has': 2, 'no': 2, 'must': 1, 'explain': 1, 'all': 1, 'this': 1, 'mistaken': 1, 'idea': 1, 'denouncing': 1, 'praising': 1, 'was': 1, 'born': 1, 'will': 1, 'give': 1, 'complete': 1, 'account': 1, 'system,': 1, 'expound': 1, 'actual': 1, 'teachings': 1, 'explorer': 1, 'truth,': 1, 'master-builder': 1, 'human': 1, 'happiness.': 1, 'No': 1, 'rejects,': 1, 'dislikes,': 1, 'pleasure,': 1, 'those': 1, 'do': 1, 'not': 1, 'know': 1, 'pursue': 1, 'rationally': 1, 'encounter': 1, 'consequences': 1, 'are': 1, 'extremely': 1, 'painful.': 1, 'Nor': 1, 'again': 1, 'there': 1, 'anyone': 1, 'loves': 1, 'pursues': 1, 'desires': 1, 'pain,': 1, 'occasionally': 1, 'circumstances': 1, 'occur': 1, 'in': 1, 'toil': 1, 'can': 1, 'procure': 1, 'him': 1, 'pleasure.': 1, 'To': 1, 'take': 1, 'trivial': 1, 'example,': 1, 'us': 1, 'ever': 1, 'undertakes': 1, 'laborious': 1, 'physical': 1, 'exercise,': 1, 'except': 1, 'advantage': 1, 'from': 1, 'it?': 1, 'any': 1, 'right': 1, 'find': 1, 'fault': 1, 'with': 1, 'man': 1, 'chooses': 1, 'enjoy': 1, 'annoying': 1, 'consequences,': 1, 'produces': 1, 'resultant': 1, 'pleasure?': 1})\n"
     ]
    }
   ],
   "source": [
    "counter = Counter(message.split()) \n",
    "#리스트로 반환된 값을 Counter클래스를 이용해서 연결을 해주게 되면 결과를 확인해봤을 때 딕셔너리형태로 출력해주고 있음\n",
    "#각 단어별로 빈도수를 카운팅하여 출력. (단어: key, 빈도값: value)\n",
    "#알고리즘을 적용하기 전에 많이 활용되어지는 기능이다.\n",
    "print(counter)"
   ]
  },
  {
   "cell_type": "code",
   "execution_count": 26,
   "id": "4fa50aa9",
   "metadata": {},
   "outputs": [
    {
     "name": "stdout",
     "output_type": "stream",
     "text": [
      "<class 'collections.Counter'>\n"
     ]
    }
   ],
   "source": [
    "print(type(counter)) # <class 'collections.Counter'> 패키지 모듈의 이름과 함께 자료형에 대한 인폼을 클래스라고 알려주고 있음"
   ]
  },
  {
   "cell_type": "markdown",
   "id": "6be69267",
   "metadata": {},
   "source": [
    "### * Counter(dict) -> list 형태로 반환.\n",
    "#기존에는 Counter를 실행하면 dict형태인 class 'collections.Counter'로 반환해줬었음. 이때 list형태로 반환받고자 한다."
   ]
  },
  {
   "cell_type": "code",
   "execution_count": 27,
   "id": "6cfd2f78",
   "metadata": {},
   "outputs": [
    {
     "name": "stdout",
     "output_type": "stream",
     "text": [
      "[('of', 7), ('to', 6), ('a', 5), ('the', 5), ('who', 5), ('pleasure', 4), ('and', 4), ('pain', 4), ('or', 4), ('because', 4), ('is', 3), ('that', 3), ('But', 2), ('I', 2), ('you', 2), ('how', 2), ('great', 2), ('one', 2), ('avoids', 2), ('itself,', 2), ('it', 2), ('but', 2), ('obtain', 2), ('which', 2), ('some', 2), ('has', 2), ('no', 2), ('must', 1), ('explain', 1), ('all', 1), ('this', 1), ('mistaken', 1), ('idea', 1), ('denouncing', 1), ('praising', 1), ('was', 1), ('born', 1), ('will', 1), ('give', 1), ('complete', 1), ('account', 1), ('system,', 1), ('expound', 1), ('actual', 1), ('teachings', 1), ('explorer', 1), ('truth,', 1), ('master-builder', 1), ('human', 1), ('happiness.', 1), ('No', 1), ('rejects,', 1), ('dislikes,', 1), ('pleasure,', 1), ('those', 1), ('do', 1), ('not', 1), ('know', 1), ('pursue', 1), ('rationally', 1), ('encounter', 1), ('consequences', 1), ('are', 1), ('extremely', 1), ('painful.', 1), ('Nor', 1), ('again', 1), ('there', 1), ('anyone', 1), ('loves', 1), ('pursues', 1), ('desires', 1), ('pain,', 1), ('occasionally', 1), ('circumstances', 1), ('occur', 1), ('in', 1), ('toil', 1), ('can', 1), ('procure', 1), ('him', 1), ('pleasure.', 1), ('To', 1), ('take', 1), ('trivial', 1), ('example,', 1), ('us', 1), ('ever', 1), ('undertakes', 1), ('laborious', 1), ('physical', 1), ('exercise,', 1), ('except', 1), ('advantage', 1), ('from', 1), ('it?', 1), ('any', 1), ('right', 1), ('find', 1), ('fault', 1), ('with', 1), ('man', 1), ('chooses', 1), ('enjoy', 1), ('annoying', 1), ('consequences,', 1), ('produces', 1), ('resultant', 1), ('pleasure?', 1)]\n"
     ]
    }
   ],
   "source": [
    "print(counter.most_common()) #기존에 dict형태로 반환했었던 값들을 각 튜플에 담아서 리스트 형태로 반환받고자 할 때 most_common메소드를 활용하도록 하면 된다."
   ]
  },
  {
   "cell_type": "markdown",
   "id": "9fe9d148",
   "metadata": {},
   "source": [
    "### * list -> dict 형태로 변환"
   ]
  },
  {
   "cell_type": "code",
   "execution_count": 28,
   "id": "61c784a9",
   "metadata": {},
   "outputs": [
    {
     "name": "stdout",
     "output_type": "stream",
     "text": [
      "{'of': 7, 'to': 6, 'a': 5, 'the': 5, 'who': 5, 'pleasure': 4, 'and': 4, 'pain': 4, 'or': 4, 'because': 4, 'is': 3, 'that': 3, 'But': 2, 'I': 2, 'you': 2, 'how': 2, 'great': 2, 'one': 2, 'avoids': 2, 'itself,': 2, 'it': 2, 'but': 2, 'obtain': 2, 'which': 2, 'some': 2, 'has': 2, 'no': 2, 'must': 1, 'explain': 1, 'all': 1, 'this': 1, 'mistaken': 1, 'idea': 1, 'denouncing': 1, 'praising': 1, 'was': 1, 'born': 1, 'will': 1, 'give': 1, 'complete': 1, 'account': 1, 'system,': 1, 'expound': 1, 'actual': 1, 'teachings': 1, 'explorer': 1, 'truth,': 1, 'master-builder': 1, 'human': 1, 'happiness.': 1, 'No': 1, 'rejects,': 1, 'dislikes,': 1, 'pleasure,': 1, 'those': 1, 'do': 1, 'not': 1, 'know': 1, 'pursue': 1, 'rationally': 1, 'encounter': 1, 'consequences': 1, 'are': 1, 'extremely': 1, 'painful.': 1, 'Nor': 1, 'again': 1, 'there': 1, 'anyone': 1, 'loves': 1, 'pursues': 1, 'desires': 1, 'pain,': 1, 'occasionally': 1, 'circumstances': 1, 'occur': 1, 'in': 1, 'toil': 1, 'can': 1, 'procure': 1, 'him': 1, 'pleasure.': 1, 'To': 1, 'take': 1, 'trivial': 1, 'example,': 1, 'us': 1, 'ever': 1, 'undertakes': 1, 'laborious': 1, 'physical': 1, 'exercise,': 1, 'except': 1, 'advantage': 1, 'from': 1, 'it?': 1, 'any': 1, 'right': 1, 'find': 1, 'fault': 1, 'with': 1, 'man': 1, 'chooses': 1, 'enjoy': 1, 'annoying': 1, 'consequences,': 1, 'produces': 1, 'resultant': 1, 'pleasure?': 1}\n"
     ]
    }
   ],
   "source": [
    "dict_msg = dict(counter.most_common()) #기존에는 collections.Counter자료형이였었는데 most_common함수에서 list로 변환했고, 한번 더 dict형태로 형변환하고자 함\n",
    "print(dict_msg) #순수한 딕셔너리 형태로 출력이 되어지고 있음"
   ]
  },
  {
   "cell_type": "code",
   "execution_count": 30,
   "id": "ce308026",
   "metadata": {},
   "outputs": [
    {
     "name": "stdout",
     "output_type": "stream",
     "text": [
      "6\n",
      "4\n"
     ]
    }
   ],
   "source": [
    "print(dict_msg['to']) #key(단어)를 통해 value(빈도수)를 출력시킬 수 있음\n",
    "print(dict_msg['pain']) #검색하고 싶은 단어의 등장 갯수를 바로 확인할 수 있는 것임.\n",
    "#머신러닝 딥러닝을 사용할 때 전처리 과정에 유용하게 활용되어지는 기능들임."
   ]
  },
  {
   "cell_type": "code",
   "execution_count": null,
   "id": "aef117f8",
   "metadata": {},
   "outputs": [],
   "source": []
  }
 ],
 "metadata": {
  "kernelspec": {
   "display_name": "Python [conda env:tf_cpu] *",
   "language": "python",
   "name": "conda-env-tf_cpu-py"
  },
  "language_info": {
   "codemirror_mode": {
    "name": "ipython",
    "version": 3
   },
   "file_extension": ".py",
   "mimetype": "text/x-python",
   "name": "python",
   "nbconvert_exporter": "python",
   "pygments_lexer": "ipython3",
   "version": "3.8.16"
  }
 },
 "nbformat": 4,
 "nbformat_minor": 5
}
