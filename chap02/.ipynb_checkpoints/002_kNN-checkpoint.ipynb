{
 "cells": [
  {
   "cell_type": "markdown",
   "id": "9fae27a6",
   "metadata": {},
   "source": [
    "# 라이브러리 import"
   ]
  },
  {
   "cell_type": "code",
   "execution_count": 1,
   "id": "cd8aa3c2",
   "metadata": {},
   "outputs": [],
   "source": [
    "import numpy as np\n",
    "import pandas as pd\n",
    "import matplotlib.pyplot as plt\n",
    "import seaborn as sns\n",
    "\n",
    "np.random.seed(5) # numpy를 통하여 랜덤변수를 가져올 때 적용"
   ]
  },
  {
   "cell_type": "markdown",
   "id": "58481af0",
   "metadata": {},
   "source": [
    "# 데이터 불러오기(학습 데이터 / 테스트 데이터)\n",
    "* 데이터 분석 단계에서 생성한 농구 선수 포지션 예측하기의 학습 데이터 및 테스트 데이터를 불러오기"
   ]
  },
  {
   "cell_type": "code",
   "execution_count": 2,
   "id": "45feb7e2",
   "metadata": {},
   "outputs": [],
   "source": [
    "train = pd.read_csv('data/csv/basketball_train.csv')\n",
    "test = pd.read_csv('data/csv/basketball_test.csv')"
   ]
  },
  {
   "cell_type": "code",
   "execution_count": 4,
   "id": "5a1c1050",
   "metadata": {},
   "outputs": [
    {
     "name": "stdout",
     "output_type": "stream",
     "text": [
      "80\n",
      "5\n",
      "20\n",
      "5\n"
     ]
    }
   ],
   "source": [
    "print(train.shape[0]) # 훈련용 데이터 셋 갯수\n",
    "print(train.shape[1]) #     \"     feature의 갯수\n",
    "\n",
    "print(test.shape[0]) # 테스트용 데이터 셋 갯수\n",
    "print(test.shape[1]) #     \"     feature의 갯수"
   ]
  },
  {
   "cell_type": "markdown",
   "id": "e83a7d8b",
   "metadata": {},
   "source": [
    "# 3. 모델 구현 및 검증\n",
    "### - 최적의 k 찾기(cross validation-교차검증)"
   ]
  },
  {
   "cell_type": "code",
   "execution_count": null,
   "id": "006e0fbb",
   "metadata": {},
   "outputs": [],
   "source": [
    "#knn알고리즘의 핵심: k를 어떻게 잡아줄 것인지(분석하고자 하는 데이터에 따라서 최적의 k값을 달라질 것이다.)\n",
    "#원래는 최적의 k값을 찾아내려면 일일히 값을 변경하는 작업이 필요하다.\n",
    "#데이터가 5개가 있다면 최소 몇번 정도 변경해봐야 k값을 찾을 수 있을까? 1, 3으로 두번이다.\n",
    "#그렇다면 1과 3을 알고리즘에 넣어서 정확도가 높은 값을 구별해내도록 해야할 것이다.\n",
    "#데이터가 많아지면 많아질수록 기준으로 삼는 데이터에 대한 구별의 반복이 많아지게 될 것이다.\n",
    "#그렇게 찾다보면 어떻게 다 계산을 할 수 있을 것인가. 이때 파이썬에서는 이미 구현하여 기능으로 제공해주고 있음!! \n",
    "\n",
    "#knn알고리즘: 현재 기준이 되는 데이터에 가장 가까이에 있는 데이터의 거리로 계산을 하여 판단하는 것이 핵심 아이디어임\n",
    "#             포인트) 최적의 k값을 찾는 것이다!!\n",
    "\n",
    "#80개를 훈련용으로 사용하면서 자체적으로 훈련모델을 만들면 이 모델이 얼마만큼의 정확도를 가지고 있는지를 알아야 개선도 할 수 있을 것임\n",
    "#80개의 훈련용 데이터는 자체적으로 학습하면서 개선이 되어야 하는데 내부적으로 훈련용과 검증용으로 나눠야 함 -> 사이킷런이 분류해줌\n",
    "# train 데이터 내에서도 8 : 2로 데이터를 나눔. 8은 train용, 2는 정확도를 위한 검증용\n",
    "# 문제는 위처럼 데이터를 나누게 되면 실제 학습 데이터는 64개밖에 안 됨. \n",
    "# 학습데이터가 작으면 작을 수록 아무리 학습을 많이 시킨다고 하더라도 지적수준은 향상되지 않을 것임. \n",
    "# 새로운 내용들을 더 배워가는 것이 아니기 때문임 => 이때, k - folder를 활용하도록 한다!\n",
    "\n",
    "#데이터가 작을 때는 데이터를 분리시키는 것이 아니라 k -folder를 통해서 데이터를 나누도록 한다.\n",
    "\n",
    "# k-folder 교차검증: 훈련용 / 검증용 데이터가 주어져 있을 때 골고루 적용할 수 있게끔 해줌\n",
    "#                    k 값을 잡아주는 것은 분석가의 마음이다. \n",
    "# k-folder는 kNN에서 거의 필수적으로 사용\n",
    "\n",
    "# ex. k = 8로 잡음 : 데이터 셋(80개)을 8등분해서 첫번째 등분은 검증용 / 나머지는 학습용으로 사용\n",
    "# 학습 후 정확도가 나오면 두번째 등분을 검증용 / 나머지를 학습용으로 사용 => 반복!\n",
    "# 8등분을 했으므로 반복을 8번 => 정확도가 8개. 정확도의 평균을 반환. (이때의 평균값으로 평가를 하는 것임)\n",
    "\n",
    "# 장점1 : 테스트 데이터가 반드시 한 번은 쓰이므로 한쪽으로 치우치는 것이 최소화 됨 \n",
    "# 장점2 : 분리하지 않고 전체를 가지고 학습데이터로 사용할 수 있게 해줌\n",
    "# 연산은 많아지지만 컴퓨터가 수행. 시간이 걸리더라도 안정적인 모델을 생성할 가능성이 높아짐\n",
    "\n",
    "# 그렇다면 몇 등분이 가장 높은 정확도를 반환해주는가? 이것도 알고리즘이 제공\n",
    "\n",
    "#머신러닝에 특화된 패키지 => 사이킷런(머신러닝의 알고리즘이 다 구현됨) / 딥러닝에 특화된 패키지 => 텐서플로우(구글제공이 절대적임), 파이토치 등"
   ]
  },
  {
   "cell_type": "code",
   "execution_count": 6,
   "id": "989a5659",
   "metadata": {},
   "outputs": [
    {
     "data": {
      "text/plain": [
       "[0.8875,\n",
       " 0.875,\n",
       " 0.875,\n",
       " 0.8625,\n",
       " 0.875,\n",
       " 0.8625,\n",
       " 0.8625,\n",
       " 0.8625,\n",
       " 0.8625,\n",
       " 0.875,\n",
       " 0.875,\n",
       " 0.875,\n",
       " 0.8625,\n",
       " 0.8625,\n",
       " 0.85,\n",
       " 0.85,\n",
       " 0.825,\n",
       " 0.8,\n",
       " 0.8]"
      ]
     },
     "execution_count": 6,
     "metadata": {},
     "output_type": "execute_result"
    }
   ],
   "source": [
    "from sklearn.neighbors import KNeighborsClassifier # kNN 알고리즘을 정의하여 제공해주는 클래스\n",
    "from sklearn.model_selection import cross_val_score # kNN 알고리즘의 최적의 k값을 찾아주는 함수\n",
    "\n",
    "# 최적의 k값 찾기\n",
    "# - k값은 홀수여야하고 최소 3부터 찾는 것이 일반적\n",
    "# - 10000개의 데이터가 있다면, k값은 3~9999까지 홀수값을 하나하나씩 넣고 비교해야함 => 실행의 결과 피드백이 늦는 단점 존재\n",
    "\n",
    "# - 하지만 꼭 9999까지 데이터를 비교할 필요성은 없음. \n",
    "# - 일반적으로 최대 몇개까지의 기준을 잡을 것인가는 데이터의 절반 이하로 잡음. 현재 데이터는 80개이므로 40 이하 값까지 갯수를 체크.\n",
    "# - 절반도 아니여도 5분의 2만 넘어가도 OK!\n",
    "# - Q. 왜 전체의 반까지만 해도 충분한가? \n",
    "# - A. 데이터는 보통 1:1 비율(2진분류)로 존재 (SG / C). \n",
    "#   비율이 일정하면 반을 넘어가면서부터는 확률적으로 균등하게 들어올 확률이 높아짐 = 큰 변화가 발생할 가능성이 낮아짐\n",
    "\n",
    "# 결론 : k값의 범위는 3 ~ 데이터 수/2\n",
    "\n",
    "max_k_range = train.shape[0] // 2 # // = 몫만 반환. 3 ~ 39까지의 홀수\n",
    "k_list = []\n",
    "\n",
    "for i in range(3, max_k_range, 2):\n",
    "    k_list.append(i) # 3, 5, 7,....39\n",
    "    \n",
    "# 정확도 데이터들 보관할 변수\n",
    "cross_validation_scores = []\n",
    "x_train = train[['3P', 'BLK', 'TRB']] # 훈련에 사용할 feature = Pos를 구분하는 데 영향을 크게 끼친 feature = 학습 시킬 때 입력으로 넣어줄 데이터\n",
    "y_train = train[['Pos']] # 정답 데이터 (SG / C)\n",
    "\n",
    "# 10-fold(10등분) 교차 검증을 이용하여 최적의 k값 찾기\n",
    "for k in k_list:\n",
    "    knn = KNeighborsClassifier(n_neighbors = k) # KNeighborsClassifier 클래스로 모델 생성\n",
    "    # 처음 실행 시 3nn모델 생성. 다시 반복하면 5nn모델 생성. ~ 39nn 모델까지 생성\n",
    "    # 80개의 데이터를 10등분. 첫 등분을 검증용으로 빼놓고 나머지를 생성한 3nn모델에 적용. (세 개의 데이터가 들어올 때까지의 거리를 일일히 72번 계산)\n",
    "    # 적용 후 두 번째 등분을 검증용으로 빼놓고 나머지를 적용 ....총 10번 반복 => 그만큼 머신러닝이 학습\n",
    "    # 이렇게 연산이 엄청나게 많음. 그래서 예전에는 하드웨어가 딸려서 연산이 안됐음\n",
    "    scores = cross_val_score(knn, x_train, y_train.values.ravel(), cv = 10, scoring = 'accuracy') \n",
    "    # 첫번째 매개변수 = knn 알고리즘의 최적의 k값을 찾아달라\n",
    "    # 두번째 매개변수 = 훈련한 결과를 x-train에 담아달라(2차원 데이터로 전달받게끔 정의) -> 80행 3열의 결과가 나올 것\n",
    "    # 세번째 매개변수 = 정답 데이터 알려주기 \n",
    "    #  -주의: y_train은 80행 1열 = 2차원. 정답을 알려줄 때는 1차원으로 알려줘야함\n",
    "    #  - ravel() : 다차원의 배열을 순서대로 1차원(vector)로 담아줌\n",
    "    # 네번째 매개변수 = cross validation = 몇등분 할 것인지에 대한 info\n",
    "    # 다섯번째 매개변수 = 정확도를 계산해달라\n",
    "    # - 머신러닝에 의해 모델이 만들어지면 검증 데이터 8개를 넣고 10번 반복. 정답과 예측모델의 결과를 비교 = 정확도\n",
    "    # 8개 중 8개를 맞췄다면 8/8 = 1. 8개 중 7개를 맞췄다면 7/8\n",
    "    # 교차 검증을 10번할 것임. 정확도도 10가지나올 것 -> k = 3일 때 정확도 10가지 나옴 -> 그 다음 k = 5일 때 또 반복.....39까지\n",
    "    # 정확도 평균이 가장 높은 kNN 알고리즘을 선택하면 됨\n",
    "    \n",
    "    # 머신 러닝 = 우리는 입력값과 결과(정답)을 알려주면 규칙을 컴퓨터가 발견해서 생성.\n",
    "\n",
    "    # 80개 10등분 이후 첫 등분을 검증용, 나머지를 훈련용. 훈련용으로 모델 만들고 검증용 데이터로 예측 결과 데이터 생성\n",
    "    # 결과 데이터와 정답을 비교하여 정확도를 계산하여 return.\n",
    "    #  => 이 과정을 10번 반복!\n",
    "    # cross_val_score = 10번 반복한 10개의 정확도를 return 해줌 => return 되는 정확도는 k_list 데이터 갯수가 19개이므로 19개 정확도가 나올 것\n",
    "    \n",
    "    cross_validation_scores.append(scores.mean())\n",
    "    # scores.mean = 10개의 정확도 평균 -> 총 19개의 평균이 cross_validation_scores에 보관될 것\n",
    "    # 최적의 평균값을 가지고 있는 kNN알고리즘을 찾는 것이 목표\n",
    "cross_validation_scores # 가장 큰 값이 최적의 평균값"
   ]
  },
  {
   "cell_type": "code",
   "execution_count": 9,
   "id": "1fae19a1",
   "metadata": {},
   "outputs": [
    {
     "data": {
      "image/png": "[encoded data removed]",
      "text/plain": [
       "<Figure size 640x480 with 1 Axes>"
      ]
     },
     "metadata": {},
     "output_type": "display_data"
    }
   ],
   "source": [
    "# 시각화\n",
    "plt.plot(k_list, cross_validation_scores)\n",
    "plt.xlabel('The number of k')\n",
    "plt.ylabel('Accuracy')\n",
    "plt.show() # k가 3일 때 정확도가 제일 높다는 것을 알 수 있음\n",
    "# k값의 범위를 넉넉잡아 전체 데이터 갯수의 반을 잡은 것일 뿐, 전체 데이터의 2/5 만 넘어가도 정확도는 떨어짐"
   ]
  },
  {
   "cell_type": "code",
   "execution_count": 11,
   "id": "5b846e99",
   "metadata": {},
   "outputs": [
    {
     "name": "stdout",
     "output_type": "stream",
     "text": [
      "The best number of k: 3\n"
     ]
    }
   ],
   "source": [
    "# 최적의 k 값\n",
    "\n",
    "csv = cross_validation_scores\n",
    "k = k_list[csv.index(max(cross_validation_scores))] # cross_validation_scores의 가장 큰 데이터 값의 index 출력\n",
    "print('The best number of k: '+ str(k))"
   ]
  },
  {
   "cell_type": "markdown",
   "id": "7fa7829c",
   "metadata": {},
   "source": [
    "# 4. 테스트 단계\n",
    "### - 2개의 특징으로 예측하기 (3점슛, 블로킹)"
   ]
  },
  {
   "cell_type": "code",
   "execution_count": 12,
   "id": "8fe86993",
   "metadata": {},
   "outputs": [
    {
     "data": {
      "text/html": [
       "<style>#sk-container-id-1 {color: black;background-color: white;}#sk-container-id-1 pre{padding: 0;}#sk-container-id-1 div.sk-toggleable {background-color: white;}#sk-container-id-1 label.sk-toggleable__label {cursor: pointer;display: block;width: 100%;margin-bottom: 0;padding: 0.3em;box-sizing: border-box;text-align: center;}#sk-container-id-1 label.sk-toggleable__label-arrow:before {content: \"▸\";float: left;margin-right: 0.25em;color: #696969;}#sk-container-id-1 label.sk-toggleable__label-arrow:hover:before {color: black;}#sk-container-id-1 div.sk-estimator:hover label.sk-toggleable__label-arrow:before {color: black;}#sk-container-id-1 div.sk-toggleable__content {max-height: 0;max-width: 0;overflow: hidden;text-align: left;background-color: #f0f8ff;}#sk-container-id-1 div.sk-toggleable__content pre {margin: 0.2em;color: black;border-radius: 0.25em;background-color: #f0f8ff;}#sk-container-id-1 input.sk-toggleable__control:checked~div.sk-toggleable__content {max-height: 200px;max-width: 100%;overflow: auto;}#sk-container-id-1 input.sk-toggleable__control:checked~label.sk-toggleable__label-arrow:before {content: \"▾\";}#sk-container-id-1 div.sk-estimator input.sk-toggleable__control:checked~label.sk-toggleable__label {background-color: #d4ebff;}#sk-container-id-1 div.sk-label input.sk-toggleable__control:checked~label.sk-toggleable__label {background-color: #d4ebff;}#sk-container-id-1 input.sk-hidden--visually {border: 0;clip: rect(1px 1px 1px 1px);clip: rect(1px, 1px, 1px, 1px);height: 1px;margin: -1px;overflow: hidden;padding: 0;position: absolute;width: 1px;}#sk-container-id-1 div.sk-estimator {font-family: monospace;background-color: #f0f8ff;border: 1px dotted black;border-radius: 0.25em;box-sizing: border-box;margin-bottom: 0.5em;}#sk-container-id-1 div.sk-estimator:hover {background-color: #d4ebff;}#sk-container-id-1 div.sk-parallel-item::after {content: \"\";width: 100%;border-bottom: 1px solid gray;flex-grow: 1;}#sk-container-id-1 div.sk-label:hover label.sk-toggleable__label {background-color: #d4ebff;}#sk-container-id-1 div.sk-serial::before {content: \"\";position: absolute;border-left: 1px solid gray;box-sizing: border-box;top: 0;bottom: 0;left: 50%;z-index: 0;}#sk-container-id-1 div.sk-serial {display: flex;flex-direction: column;align-items: center;background-color: white;padding-right: 0.2em;padding-left: 0.2em;position: relative;}#sk-container-id-1 div.sk-item {position: relative;z-index: 1;}#sk-container-id-1 div.sk-parallel {display: flex;align-items: stretch;justify-content: center;background-color: white;position: relative;}#sk-container-id-1 div.sk-item::before, #sk-container-id-1 div.sk-parallel-item::before {content: \"\";position: absolute;border-left: 1px solid gray;box-sizing: border-box;top: 0;bottom: 0;left: 50%;z-index: -1;}#sk-container-id-1 div.sk-parallel-item {display: flex;flex-direction: column;z-index: 1;position: relative;background-color: white;}#sk-container-id-1 div.sk-parallel-item:first-child::after {align-self: flex-end;width: 50%;}#sk-container-id-1 div.sk-parallel-item:last-child::after {align-self: flex-start;width: 50%;}#sk-container-id-1 div.sk-parallel-item:only-child::after {width: 0;}#sk-container-id-1 div.sk-dashed-wrapped {border: 1px dashed gray;margin: 0 0.4em 0.5em 0.4em;box-sizing: border-box;padding-bottom: 0.4em;background-color: white;}#sk-container-id-1 div.sk-label label {font-family: monospace;font-weight: bold;display: inline-block;line-height: 1.2em;}#sk-container-id-1 div.sk-label-container {text-align: center;}#sk-container-id-1 div.sk-container {/* jupyter's `normalize.less` sets `[hidden] { display: none; }` but bootstrap.min.css set `[hidden] { display: none !important; }` so we also need the `!important` here to be able to override the default hidden behavior on the sphinx rendered scikit-learn.org. See: https://github.com/scikit-learn/scikit-learn/issues/21755 */display: inline-block !important;position: relative;}#sk-container-id-1 div.sk-text-repr-fallback {display: none;}</style><div id=\"sk-container-id-1\" class=\"sk-top-container\"><div class=\"sk-text-repr-fallback\"><pre>KNeighborsClassifier(n_neighbors=3)</pre><b>In a Jupyter environment, please rerun this cell to show the HTML representation or trust the notebook. <br />On GitHub, the HTML representation is unable to render, please try loading this page with nbviewer.org.</b></div><div class=\"sk-container\" hidden><div class=\"sk-item\"><div class=\"sk-estimator sk-toggleable\"><input class=\"sk-toggleable__control sk-hidden--visually\" id=\"sk-estimator-id-1\" type=\"checkbox\" checked><label for=\"sk-estimator-id-1\" class=\"sk-toggleable__label sk-toggleable__label-arrow\">KNeighborsClassifier</label><div class=\"sk-toggleable__content\"><pre>KNeighborsClassifier(n_neighbors=3)</pre></div></div></div></div></div>"
      ],
      "text/plain": [
       "KNeighborsClassifier(n_neighbors=3)"
      ]
     },
     "execution_count": 12,
     "metadata": {},
     "output_type": "execute_result"
    }
   ],
   "source": [
    "# kNN의 최적의 k값이 3이라는 것을 확인!\n",
    "# k = 3 저장되어 있음\n",
    "knn = KNeighborsClassifier(n_neighbors = k)\n",
    "\n",
    "# kNN 알고리즘으로 학습시키기 = 머신러닝 시키기\n",
    "x_train = train[['3P', 'BLK']] # 훈련 데이터\n",
    "y_train = train[['Pos']] # 정답 데이터\n",
    "\n",
    "knn.fit(x_train, y_train.values.ravel()) \n",
    "# 사이킷런에서 제공해주는 학습용 fit 메소드. 다른 머신러닝 알고리즘도 fit 메소드 동일하게 제공\n",
    "# 이 때도 정답 데이터는 1차원으로 입력해야함!!\n",
    "# fit하는 순간 학습을 진행하며 knn에 최적의 모델을 생성해놓음 \n",
    "# 입력되는 데이터에 따라 규칙이 계속 달라지므로 우리는 규칙을 알 수 없음 = 인간이 AI가 생성한 규칙을 역추적해가야함"
   ]
  },
  {
   "cell_type": "code",
   "execution_count": 13,
   "id": "a7677e7b",
   "metadata": {},
   "outputs": [],
   "source": [
    "# test 데이터로 3nn 모델을 검증하기\n",
    "x_test = test[['3P', 'BLK']]\n",
    "y_test = test[['Pos']]\n",
    "\n",
    "pred = knn.predict(x_test) # predict 함수 = 결과를 예측하라! : 입력으로 test 데이터 전달해주면 예측한 결과를 반환\n",
    "# 정답과 예측값을 확인해보면 정확도를 알 수 있음 => 이 정확도를 높이는 것이 머신러닝 알고리즘의 최종 목표\n",
    "# x_test는 데이터 갯수가 20개 => 예측결과도 20개를 1차원으로 반환\n",
    "\n",
    "# knn 알고리즘의 feature 개수는 무궁무진하게 늘어날 수 있음. => 어떤 feature를 넣느냐에 따라서 정확도는 달라짐."
   ]
  },
  {
   "cell_type": "code",
   "execution_count": 15,
   "id": "9f9db145",
   "metadata": {},
   "outputs": [
    {
     "data": {
      "text/html": [
       "<div>\n",
       "<style scoped>\n",
       "    .dataframe tbody tr th:only-of-type {\n",
       "        vertical-align: middle;\n",
       "    }\n",
       "\n",
       "    .dataframe tbody tr th {\n",
       "        vertical-align: top;\n",
       "    }\n",
       "\n",
       "    .dataframe thead th {\n",
       "        text-align: right;\n",
       "    }\n",
       "</style>\n",
       "<table border=\"1\" class=\"dataframe\">\n",
       "  <thead>\n",
       "    <tr style=\"text-align: right;\">\n",
       "      <th></th>\n",
       "      <th>prediction</th>\n",
       "      <th>answer</th>\n",
       "    </tr>\n",
       "  </thead>\n",
       "  <tbody>\n",
       "    <tr>\n",
       "      <th>0</th>\n",
       "      <td>C</td>\n",
       "      <td>C</td>\n",
       "    </tr>\n",
       "    <tr>\n",
       "      <th>1</th>\n",
       "      <td>SG</td>\n",
       "      <td>SG</td>\n",
       "    </tr>\n",
       "    <tr>\n",
       "      <th>2</th>\n",
       "      <td>C</td>\n",
       "      <td>C</td>\n",
       "    </tr>\n",
       "    <tr>\n",
       "      <th>3</th>\n",
       "      <td>SG</td>\n",
       "      <td>SG</td>\n",
       "    </tr>\n",
       "    <tr>\n",
       "      <th>4</th>\n",
       "      <td>C</td>\n",
       "      <td>C</td>\n",
       "    </tr>\n",
       "    <tr>\n",
       "      <th>5</th>\n",
       "      <td>C</td>\n",
       "      <td>C</td>\n",
       "    </tr>\n",
       "    <tr>\n",
       "      <th>6</th>\n",
       "      <td>C</td>\n",
       "      <td>C</td>\n",
       "    </tr>\n",
       "    <tr>\n",
       "      <th>7</th>\n",
       "      <td>SG</td>\n",
       "      <td>SG</td>\n",
       "    </tr>\n",
       "    <tr>\n",
       "      <th>8</th>\n",
       "      <td>SG</td>\n",
       "      <td>SG</td>\n",
       "    </tr>\n",
       "    <tr>\n",
       "      <th>9</th>\n",
       "      <td>C</td>\n",
       "      <td>C</td>\n",
       "    </tr>\n",
       "    <tr>\n",
       "      <th>10</th>\n",
       "      <td>SG</td>\n",
       "      <td>SG</td>\n",
       "    </tr>\n",
       "    <tr>\n",
       "      <th>11</th>\n",
       "      <td>C</td>\n",
       "      <td>C</td>\n",
       "    </tr>\n",
       "    <tr>\n",
       "      <th>12</th>\n",
       "      <td>SG</td>\n",
       "      <td>SG</td>\n",
       "    </tr>\n",
       "    <tr>\n",
       "      <th>13</th>\n",
       "      <td>C</td>\n",
       "      <td>C</td>\n",
       "    </tr>\n",
       "    <tr>\n",
       "      <th>14</th>\n",
       "      <td>C</td>\n",
       "      <td>C</td>\n",
       "    </tr>\n",
       "    <tr>\n",
       "      <th>15</th>\n",
       "      <td>SG</td>\n",
       "      <td>SG</td>\n",
       "    </tr>\n",
       "    <tr>\n",
       "      <th>16</th>\n",
       "      <td>SG</td>\n",
       "      <td>SG</td>\n",
       "    </tr>\n",
       "    <tr>\n",
       "      <th>17</th>\n",
       "      <td>C</td>\n",
       "      <td>C</td>\n",
       "    </tr>\n",
       "    <tr>\n",
       "      <th>18</th>\n",
       "      <td>SG</td>\n",
       "      <td>SG</td>\n",
       "    </tr>\n",
       "    <tr>\n",
       "      <th>19</th>\n",
       "      <td>C</td>\n",
       "      <td>C</td>\n",
       "    </tr>\n",
       "  </tbody>\n",
       "</table>\n",
       "</div>"
      ],
      "text/plain": [
       "   prediction answer\n",
       "0           C      C\n",
       "1          SG     SG\n",
       "2           C      C\n",
       "3          SG     SG\n",
       "4           C      C\n",
       "5           C      C\n",
       "6           C      C\n",
       "7          SG     SG\n",
       "8          SG     SG\n",
       "9           C      C\n",
       "10         SG     SG\n",
       "11          C      C\n",
       "12         SG     SG\n",
       "13          C      C\n",
       "14          C      C\n",
       "15         SG     SG\n",
       "16         SG     SG\n",
       "17          C      C\n",
       "18         SG     SG\n",
       "19          C      C"
      ]
     },
     "execution_count": 15,
     "metadata": {},
     "output_type": "execute_result"
    }
   ],
   "source": [
    "comparison = pd.DataFrame({'prediction':pred, 'answer':y_test.values.ravel()})\n",
    "comparison # 정확도 100% "
   ]
  },
  {
   "cell_type": "code",
   "execution_count": 16,
   "id": "cadde7c5",
   "metadata": {},
   "outputs": [
    {
     "name": "stdout",
     "output_type": "stream",
     "text": [
      "accuracy: 1.0\n"
     ]
    }
   ],
   "source": [
    "from sklearn.metrics import accuracy_score\n",
    "\n",
    "print('accuracy: ' + str(accuracy_score(pred, y_test.values.ravel())))\n",
    "# accuracy_score 함수가 정확도를 계산하여 결과를 feedback해줌"
   ]
  },
  {
   "cell_type": "markdown",
   "id": "4a09292b",
   "metadata": {},
   "source": [
    "### - 3개의 특징으로 예측하기 (3점슛, 블로킹, 리바운드)"
   ]
  },
  {
   "cell_type": "code",
   "execution_count": 17,
   "id": "1118c126",
   "metadata": {},
   "outputs": [
    {
     "data": {
      "text/html": [
       "<style>#sk-container-id-2 {color: black;background-color: white;}#sk-container-id-2 pre{padding: 0;}#sk-container-id-2 div.sk-toggleable {background-color: white;}#sk-container-id-2 label.sk-toggleable__label {cursor: pointer;display: block;width: 100%;margin-bottom: 0;padding: 0.3em;box-sizing: border-box;text-align: center;}#sk-container-id-2 label.sk-toggleable__label-arrow:before {content: \"▸\";float: left;margin-right: 0.25em;color: #696969;}#sk-container-id-2 label.sk-toggleable__label-arrow:hover:before {color: black;}#sk-container-id-2 div.sk-estimator:hover label.sk-toggleable__label-arrow:before {color: black;}#sk-container-id-2 div.sk-toggleable__content {max-height: 0;max-width: 0;overflow: hidden;text-align: left;background-color: #f0f8ff;}#sk-container-id-2 div.sk-toggleable__content pre {margin: 0.2em;color: black;border-radius: 0.25em;background-color: #f0f8ff;}#sk-container-id-2 input.sk-toggleable__control:checked~div.sk-toggleable__content {max-height: 200px;max-width: 100%;overflow: auto;}#sk-container-id-2 input.sk-toggleable__control:checked~label.sk-toggleable__label-arrow:before {content: \"▾\";}#sk-container-id-2 div.sk-estimator input.sk-toggleable__control:checked~label.sk-toggleable__label {background-color: #d4ebff;}#sk-container-id-2 div.sk-label input.sk-toggleable__control:checked~label.sk-toggleable__label {background-color: #d4ebff;}#sk-container-id-2 input.sk-hidden--visually {border: 0;clip: rect(1px 1px 1px 1px);clip: rect(1px, 1px, 1px, 1px);height: 1px;margin: -1px;overflow: hidden;padding: 0;position: absolute;width: 1px;}#sk-container-id-2 div.sk-estimator {font-family: monospace;background-color: #f0f8ff;border: 1px dotted black;border-radius: 0.25em;box-sizing: border-box;margin-bottom: 0.5em;}#sk-container-id-2 div.sk-estimator:hover {background-color: #d4ebff;}#sk-container-id-2 div.sk-parallel-item::after {content: \"\";width: 100%;border-bottom: 1px solid gray;flex-grow: 1;}#sk-container-id-2 div.sk-label:hover label.sk-toggleable__label {background-color: #d4ebff;}#sk-container-id-2 div.sk-serial::before {content: \"\";position: absolute;border-left: 1px solid gray;box-sizing: border-box;top: 0;bottom: 0;left: 50%;z-index: 0;}#sk-container-id-2 div.sk-serial {display: flex;flex-direction: column;align-items: center;background-color: white;padding-right: 0.2em;padding-left: 0.2em;position: relative;}#sk-container-id-2 div.sk-item {position: relative;z-index: 1;}#sk-container-id-2 div.sk-parallel {display: flex;align-items: stretch;justify-content: center;background-color: white;position: relative;}#sk-container-id-2 div.sk-item::before, #sk-container-id-2 div.sk-parallel-item::before {content: \"\";position: absolute;border-left: 1px solid gray;box-sizing: border-box;top: 0;bottom: 0;left: 50%;z-index: -1;}#sk-container-id-2 div.sk-parallel-item {display: flex;flex-direction: column;z-index: 1;position: relative;background-color: white;}#sk-container-id-2 div.sk-parallel-item:first-child::after {align-self: flex-end;width: 50%;}#sk-container-id-2 div.sk-parallel-item:last-child::after {align-self: flex-start;width: 50%;}#sk-container-id-2 div.sk-parallel-item:only-child::after {width: 0;}#sk-container-id-2 div.sk-dashed-wrapped {border: 1px dashed gray;margin: 0 0.4em 0.5em 0.4em;box-sizing: border-box;padding-bottom: 0.4em;background-color: white;}#sk-container-id-2 div.sk-label label {font-family: monospace;font-weight: bold;display: inline-block;line-height: 1.2em;}#sk-container-id-2 div.sk-label-container {text-align: center;}#sk-container-id-2 div.sk-container {/* jupyter's `normalize.less` sets `[hidden] { display: none; }` but bootstrap.min.css set `[hidden] { display: none !important; }` so we also need the `!important` here to be able to override the default hidden behavior on the sphinx rendered scikit-learn.org. See: https://github.com/scikit-learn/scikit-learn/issues/21755 */display: inline-block !important;position: relative;}#sk-container-id-2 div.sk-text-repr-fallback {display: none;}</style><div id=\"sk-container-id-2\" class=\"sk-top-container\"><div class=\"sk-text-repr-fallback\"><pre>KNeighborsClassifier(n_neighbors=3)</pre><b>In a Jupyter environment, please rerun this cell to show the HTML representation or trust the notebook. <br />On GitHub, the HTML representation is unable to render, please try loading this page with nbviewer.org.</b></div><div class=\"sk-container\" hidden><div class=\"sk-item\"><div class=\"sk-estimator sk-toggleable\"><input class=\"sk-toggleable__control sk-hidden--visually\" id=\"sk-estimator-id-2\" type=\"checkbox\" checked><label for=\"sk-estimator-id-2\" class=\"sk-toggleable__label sk-toggleable__label-arrow\">KNeighborsClassifier</label><div class=\"sk-toggleable__content\"><pre>KNeighborsClassifier(n_neighbors=3)</pre></div></div></div></div></div>"
      ],
      "text/plain": [
       "KNeighborsClassifier(n_neighbors=3)"
      ]
     },
     "execution_count": 17,
     "metadata": {},
     "output_type": "execute_result"
    }
   ],
   "source": [
    "knn = KNeighborsClassifier(n_neighbors = k)\n",
    "\n",
    "x_train = train[['3P', 'BLK', 'TRB']] # 훈련 데이터\n",
    "y_train = train[['Pos']] # 정답 데이터\n",
    "\n",
    "knn.fit(x_train, y_train.values.ravel()) "
   ]
  },
  {
   "cell_type": "code",
   "execution_count": 18,
   "id": "2b985d7c",
   "metadata": {},
   "outputs": [],
   "source": [
    "x_test = test[['3P', 'BLK', 'TRB']]\n",
    "y_test = test[['Pos']]\n",
    "\n",
    "pred = knn.predict(x_test)"
   ]
  },
  {
   "cell_type": "code",
   "execution_count": 19,
   "id": "921f3344",
   "metadata": {},
   "outputs": [
    {
     "data": {
      "text/html": [
       "<div>\n",
       "<style scoped>\n",
       "    .dataframe tbody tr th:only-of-type {\n",
       "        vertical-align: middle;\n",
       "    }\n",
       "\n",
       "    .dataframe tbody tr th {\n",
       "        vertical-align: top;\n",
       "    }\n",
       "\n",
       "    .dataframe thead th {\n",
       "        text-align: right;\n",
       "    }\n",
       "</style>\n",
       "<table border=\"1\" class=\"dataframe\">\n",
       "  <thead>\n",
       "    <tr style=\"text-align: right;\">\n",
       "      <th></th>\n",
       "      <th>prediction</th>\n",
       "      <th>answer</th>\n",
       "    </tr>\n",
       "  </thead>\n",
       "  <tbody>\n",
       "    <tr>\n",
       "      <th>0</th>\n",
       "      <td>C</td>\n",
       "      <td>C</td>\n",
       "    </tr>\n",
       "    <tr>\n",
       "      <th>1</th>\n",
       "      <td>SG</td>\n",
       "      <td>SG</td>\n",
       "    </tr>\n",
       "    <tr>\n",
       "      <th>2</th>\n",
       "      <td>C</td>\n",
       "      <td>C</td>\n",
       "    </tr>\n",
       "    <tr>\n",
       "      <th>3</th>\n",
       "      <td>SG</td>\n",
       "      <td>SG</td>\n",
       "    </tr>\n",
       "    <tr>\n",
       "      <th>4</th>\n",
       "      <td>C</td>\n",
       "      <td>C</td>\n",
       "    </tr>\n",
       "    <tr>\n",
       "      <th>5</th>\n",
       "      <td>C</td>\n",
       "      <td>C</td>\n",
       "    </tr>\n",
       "    <tr>\n",
       "      <th>6</th>\n",
       "      <td>C</td>\n",
       "      <td>C</td>\n",
       "    </tr>\n",
       "    <tr>\n",
       "      <th>7</th>\n",
       "      <td>SG</td>\n",
       "      <td>SG</td>\n",
       "    </tr>\n",
       "    <tr>\n",
       "      <th>8</th>\n",
       "      <td>SG</td>\n",
       "      <td>SG</td>\n",
       "    </tr>\n",
       "    <tr>\n",
       "      <th>9</th>\n",
       "      <td>C</td>\n",
       "      <td>C</td>\n",
       "    </tr>\n",
       "    <tr>\n",
       "      <th>10</th>\n",
       "      <td>SG</td>\n",
       "      <td>SG</td>\n",
       "    </tr>\n",
       "    <tr>\n",
       "      <th>11</th>\n",
       "      <td>SG</td>\n",
       "      <td>C</td>\n",
       "    </tr>\n",
       "    <tr>\n",
       "      <th>12</th>\n",
       "      <td>SG</td>\n",
       "      <td>SG</td>\n",
       "    </tr>\n",
       "    <tr>\n",
       "      <th>13</th>\n",
       "      <td>C</td>\n",
       "      <td>C</td>\n",
       "    </tr>\n",
       "    <tr>\n",
       "      <th>14</th>\n",
       "      <td>C</td>\n",
       "      <td>C</td>\n",
       "    </tr>\n",
       "    <tr>\n",
       "      <th>15</th>\n",
       "      <td>SG</td>\n",
       "      <td>SG</td>\n",
       "    </tr>\n",
       "    <tr>\n",
       "      <th>16</th>\n",
       "      <td>SG</td>\n",
       "      <td>SG</td>\n",
       "    </tr>\n",
       "    <tr>\n",
       "      <th>17</th>\n",
       "      <td>C</td>\n",
       "      <td>C</td>\n",
       "    </tr>\n",
       "    <tr>\n",
       "      <th>18</th>\n",
       "      <td>SG</td>\n",
       "      <td>SG</td>\n",
       "    </tr>\n",
       "    <tr>\n",
       "      <th>19</th>\n",
       "      <td>C</td>\n",
       "      <td>C</td>\n",
       "    </tr>\n",
       "  </tbody>\n",
       "</table>\n",
       "</div>"
      ],
      "text/plain": [
       "   prediction answer\n",
       "0           C      C\n",
       "1          SG     SG\n",
       "2           C      C\n",
       "3          SG     SG\n",
       "4           C      C\n",
       "5           C      C\n",
       "6           C      C\n",
       "7          SG     SG\n",
       "8          SG     SG\n",
       "9           C      C\n",
       "10         SG     SG\n",
       "11         SG      C\n",
       "12         SG     SG\n",
       "13          C      C\n",
       "14          C      C\n",
       "15         SG     SG\n",
       "16         SG     SG\n",
       "17          C      C\n",
       "18         SG     SG\n",
       "19          C      C"
      ]
     },
     "execution_count": 19,
     "metadata": {},
     "output_type": "execute_result"
    }
   ],
   "source": [
    "comparison = pd.DataFrame({'prediction':pred, 'answer':y_test.values.ravel()})\n",
    "comparison"
   ]
  },
  {
   "cell_type": "code",
   "execution_count": 20,
   "id": "44b0941f",
   "metadata": {},
   "outputs": [
    {
     "name": "stdout",
     "output_type": "stream",
     "text": [
      "accuracy: 0.95\n"
     ]
    }
   ],
   "source": [
    "print('accuracy: ' + str(accuracy_score(pred, y_test.values.ravel()))) # 2개로 예측했을 때가 더 정확함"
   ]
  },
  {
   "cell_type": "code",
   "execution_count": null,
   "id": "3d0aa3e6",
   "metadata": {},
   "outputs": [],
   "source": [
    "# 서포트 벡터머신(SVM) = 현재도 많이 사용되는 알고리즘\n",
    "#  - 데이터 분류를 위한 지도학습 머신러닝 알고리즘 (kNN과 동일)\n",
    "#  - kNN : 내 데이터를 기준으로 가장 가까이에 있는 k개수만큼의 데이터들을 찾아서 해당 데이터들의 다수의 분류를 따라감\n",
    "#  - SVM : 결정 경계(decision boundary) / 서포트 벡터(support vector) / 마진(margin) \n",
    "#  => 이 용어들을 이해해야 알고리즘을 이해! (한 + 영문 혼용하기 때문에 둘 다 알자)"
   ]
  },
  {
   "cell_type": "code",
   "execution_count": null,
   "id": "f1cd7132",
   "metadata": {},
   "outputs": [],
   "source": []
  },
  {
   "cell_type": "code",
   "execution_count": null,
   "id": "7c01926d",
   "metadata": {},
   "outputs": [],
   "source": []
  },
  {
   "cell_type": "code",
   "execution_count": null,
   "id": "a5c51ab5",
   "metadata": {},
   "outputs": [],
   "source": []
  }
 ],
 "metadata": {
  "kernelspec": {
   "display_name": "Python [conda env:tf_cpu] *",
   "language": "python",
   "name": "conda-env-tf_cpu-py"
  },
  "language_info": {
   "codemirror_mode": {
    "name": "ipython",
    "version": 3
   },
   "file_extension": ".py",
   "mimetype": "text/x-python",
   "name": "python",
   "nbconvert_exporter": "python",
   "pygments_lexer": "ipython3",
   "version": "3.8.16"
  }
 },
 "nbformat": 4,
 "nbformat_minor": 5
}
