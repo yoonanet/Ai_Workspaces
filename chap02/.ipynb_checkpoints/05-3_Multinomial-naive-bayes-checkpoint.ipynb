{
 "cells": [
  {
   "cell_type": "code",
   "execution_count": 1,
   "id": "e401d2a3",
   "metadata": {},
   "outputs": [],
   "source": [
    "import numpy as np\n",
    "import pandas as pd\n",
    "\n",
    "from sklearn.metrics import accuracy_score\n",
    "\n",
    "# 다항분포 나이브베이즈를 위한 라이브러리를 임포트.\n",
    "from sklearn.feature_extraction.text import CountVectorizer\n",
    "from sklearn.naive_bayes import MultinomialNB\n",
    "\n",
    "np.random.seed(5)"
   ]
  },
  {
   "cell_type": "markdown",
   "id": "5ac3d3ad",
   "metadata": {},
   "source": [
    "# 문제 정의 \n",
    "* 영화 리뷰에 다항분포 나이브베이즈 분류를 활용해 영화 리뷰가 긍정인지 부정적인지를 분류해 보겠습니다."
   ]
  },
  {
   "cell_type": "markdown",
   "id": "628fa4b3",
   "metadata": {},
   "source": [
    "# 데이터 수집"
   ]
  },
  {
   "cell_type": "code",
   "execution_count": 2,
   "id": "cf8aafd7",
   "metadata": {},
   "outputs": [
    {
     "data": {
      "text/html": [
       "<div>\n",
       "<style scoped>\n",
       "    .dataframe tbody tr th:only-of-type {\n",
       "        vertical-align: middle;\n",
       "    }\n",
       "\n",
       "    .dataframe tbody tr th {\n",
       "        vertical-align: top;\n",
       "    }\n",
       "\n",
       "    .dataframe thead th {\n",
       "        text-align: right;\n",
       "    }\n",
       "</style>\n",
       "<table border=\"1\" class=\"dataframe\">\n",
       "  <thead>\n",
       "    <tr style=\"text-align: right;\">\n",
       "      <th></th>\n",
       "      <th>movie_review</th>\n",
       "      <th>type</th>\n",
       "    </tr>\n",
       "  </thead>\n",
       "  <tbody>\n",
       "    <tr>\n",
       "      <th>0</th>\n",
       "      <td>this is great great movie. I will watch again</td>\n",
       "      <td>positive</td>\n",
       "    </tr>\n",
       "    <tr>\n",
       "      <th>1</th>\n",
       "      <td>I like this movie</td>\n",
       "      <td>positive</td>\n",
       "    </tr>\n",
       "    <tr>\n",
       "      <th>2</th>\n",
       "      <td>amazing movie in this year</td>\n",
       "      <td>positive</td>\n",
       "    </tr>\n",
       "    <tr>\n",
       "      <th>3</th>\n",
       "      <td>cool my boyfriend also said the movie is cool</td>\n",
       "      <td>positive</td>\n",
       "    </tr>\n",
       "    <tr>\n",
       "      <th>4</th>\n",
       "      <td>awesome of the awesome movie ever</td>\n",
       "      <td>positive</td>\n",
       "    </tr>\n",
       "    <tr>\n",
       "      <th>5</th>\n",
       "      <td>shame I wasted money and time</td>\n",
       "      <td>negative</td>\n",
       "    </tr>\n",
       "    <tr>\n",
       "      <th>6</th>\n",
       "      <td>regret on this move. I will never never what m...</td>\n",
       "      <td>negative</td>\n",
       "    </tr>\n",
       "    <tr>\n",
       "      <th>7</th>\n",
       "      <td>I do not like this movie</td>\n",
       "      <td>negative</td>\n",
       "    </tr>\n",
       "    <tr>\n",
       "      <th>8</th>\n",
       "      <td>I do not like actors in this movie</td>\n",
       "      <td>negative</td>\n",
       "    </tr>\n",
       "    <tr>\n",
       "      <th>9</th>\n",
       "      <td>boring boring sleeping movie</td>\n",
       "      <td>negative</td>\n",
       "    </tr>\n",
       "  </tbody>\n",
       "</table>\n",
       "</div>"
      ],
      "text/plain": [
       "                                        movie_review      type\n",
       "0      this is great great movie. I will watch again  positive\n",
       "1                                  I like this movie  positive\n",
       "2                         amazing movie in this year  positive\n",
       "3      cool my boyfriend also said the movie is cool  positive\n",
       "4                  awesome of the awesome movie ever  positive\n",
       "5                      shame I wasted money and time  negative\n",
       "6  regret on this move. I will never never what m...  negative\n",
       "7                           I do not like this movie  negative\n",
       "8                 I do not like actors in this movie  negative\n",
       "9                       boring boring sleeping movie  negative"
      ]
     },
     "execution_count": 2,
     "metadata": {},
     "output_type": "execute_result"
    }
   ],
   "source": [
    "#데이터의 표현과 최종적으로 이끌어낼 데이터의 타입에 따라서 다항분포 나이브베이즈와 베르누이 나이브베이즈로 나뉘고 판단하면 됨\n",
    "#다항분포 나이브베이즈에서 데이터를 어떻게 체크할까? \n",
    "#지금의 감상평은 긍정적인 경우, 부정적인 경우에 그 단어에 대한 빈도수까지를 고려해서 \n",
    "#긍정에 많이 등장하는 단어, 부정에 많이 등장하는 단어들로써 학습시킨다고 했을 때 \n",
    "#긍정과 부정에 가중치가 더 적용되어지게끔 하면서 정확도를 높여갈 수 있지 않을까하는 것임.\n",
    "#등장하는 단어에 갯수까지 의미를 부여해서 학습을 시키는 것!!\n",
    "#==>스팸에 등장하는 단어는 일반단어나 스팸단어에서 기본적으로 등장하는 단어로 나뉘어질 수 없음.\n",
    "\n",
    "review_list = [ # 학습 데이터\n",
    "                {'movie_review': 'this is great great movie. I will watch again', 'type': 'positive'},\n",
    "                {'movie_review': 'I like this movie', 'type': 'positive'},\n",
    "                {'movie_review': 'amazing movie in this year', 'type': 'positive'},\n",
    "                {'movie_review': 'cool my boyfriend also said the movie is cool', 'type': 'positive'},\n",
    "                {'movie_review': 'awesome of the awesome movie ever', 'type': 'positive'},\n",
    "                {'movie_review': 'shame I wasted money and time', 'type': 'negative'},\n",
    "                {'movie_review': 'regret on this move. I will never never what movie from this director', 'type': 'negative'},\n",
    "                {'movie_review': 'I do not like this movie', 'type': 'negative'},\n",
    "                {'movie_review': 'I do not like actors in this movie', 'type': 'negative'},\n",
    "                {'movie_review': 'boring boring sleeping movie', 'type': 'negative'}\n",
    "             ] \n",
    "\n",
    "df = pd.DataFrame(review_list)\n",
    "df "
   ]
  },
  {
   "cell_type": "code",
   "execution_count": 3,
   "id": "dde43398",
   "metadata": {},
   "outputs": [
    {
     "data": {
      "text/html": [
       "<div>\n",
       "<style scoped>\n",
       "    .dataframe tbody tr th:only-of-type {\n",
       "        vertical-align: middle;\n",
       "    }\n",
       "\n",
       "    .dataframe tbody tr th {\n",
       "        vertical-align: top;\n",
       "    }\n",
       "\n",
       "    .dataframe thead th {\n",
       "        text-align: right;\n",
       "    }\n",
       "</style>\n",
       "<table border=\"1\" class=\"dataframe\">\n",
       "  <thead>\n",
       "    <tr style=\"text-align: right;\">\n",
       "      <th></th>\n",
       "      <th>movie_review</th>\n",
       "      <th>type</th>\n",
       "      <th>label</th>\n",
       "    </tr>\n",
       "  </thead>\n",
       "  <tbody>\n",
       "    <tr>\n",
       "      <th>0</th>\n",
       "      <td>this is great great movie. I will watch again</td>\n",
       "      <td>positive</td>\n",
       "      <td>1</td>\n",
       "    </tr>\n",
       "    <tr>\n",
       "      <th>1</th>\n",
       "      <td>I like this movie</td>\n",
       "      <td>positive</td>\n",
       "      <td>1</td>\n",
       "    </tr>\n",
       "    <tr>\n",
       "      <th>2</th>\n",
       "      <td>amazing movie in this year</td>\n",
       "      <td>positive</td>\n",
       "      <td>1</td>\n",
       "    </tr>\n",
       "    <tr>\n",
       "      <th>3</th>\n",
       "      <td>cool my boyfriend also said the movie is cool</td>\n",
       "      <td>positive</td>\n",
       "      <td>1</td>\n",
       "    </tr>\n",
       "    <tr>\n",
       "      <th>4</th>\n",
       "      <td>awesome of the awesome movie ever</td>\n",
       "      <td>positive</td>\n",
       "      <td>1</td>\n",
       "    </tr>\n",
       "    <tr>\n",
       "      <th>5</th>\n",
       "      <td>shame I wasted money and time</td>\n",
       "      <td>negative</td>\n",
       "      <td>0</td>\n",
       "    </tr>\n",
       "    <tr>\n",
       "      <th>6</th>\n",
       "      <td>regret on this move. I will never never what m...</td>\n",
       "      <td>negative</td>\n",
       "      <td>0</td>\n",
       "    </tr>\n",
       "    <tr>\n",
       "      <th>7</th>\n",
       "      <td>I do not like this movie</td>\n",
       "      <td>negative</td>\n",
       "      <td>0</td>\n",
       "    </tr>\n",
       "    <tr>\n",
       "      <th>8</th>\n",
       "      <td>I do not like actors in this movie</td>\n",
       "      <td>negative</td>\n",
       "      <td>0</td>\n",
       "    </tr>\n",
       "    <tr>\n",
       "      <th>9</th>\n",
       "      <td>boring boring sleeping movie</td>\n",
       "      <td>negative</td>\n",
       "      <td>0</td>\n",
       "    </tr>\n",
       "  </tbody>\n",
       "</table>\n",
       "</div>"
      ],
      "text/plain": [
       "                                        movie_review      type  label\n",
       "0      this is great great movie. I will watch again  positive      1\n",
       "1                                  I like this movie  positive      1\n",
       "2                         amazing movie in this year  positive      1\n",
       "3      cool my boyfriend also said the movie is cool  positive      1\n",
       "4                  awesome of the awesome movie ever  positive      1\n",
       "5                      shame I wasted money and time  negative      0\n",
       "6  regret on this move. I will never never what m...  negative      0\n",
       "7                           I do not like this movie  negative      0\n",
       "8                 I do not like actors in this movie  negative      0\n",
       "9                       boring boring sleeping movie  negative      0"
      ]
     },
     "execution_count": 3,
     "metadata": {},
     "output_type": "execute_result"
    }
   ],
   "source": [
    "df['label'] = df['type'].map({\"positive\":1, \"negative\":0})\n",
    "df"
   ]
  },
  {
   "cell_type": "code",
   "execution_count": 4,
   "id": "e437326f",
   "metadata": {},
   "outputs": [],
   "source": [
    "df_x = df['movie_review']\n",
    "df_y = df['label']"
   ]
  },
  {
   "cell_type": "code",
   "execution_count": 5,
   "id": "5b6aa0ed",
   "metadata": {},
   "outputs": [],
   "source": [
    "cv = CountVectorizer() #숫자로 변환시 활용 -> 이전에는 binary를 true로 해줬었음. (표시해달라는 의미)\n",
    "                       #default로 냅두면 숫자로 변환하면서 누적을 해주는 것임. \n",
    "x_traincv = cv.fit_transform(df_x)"
   ]
  },
  {
   "cell_type": "code",
   "execution_count": 6,
   "id": "a12a8af5",
   "metadata": {},
   "outputs": [
    {
     "data": {
      "text/plain": [
       "array(['actors', 'again', 'also', 'amazing', 'and', 'awesome', 'boring',\n",
       "       'boyfriend', 'cool', 'director', 'do', 'ever', 'from', 'great',\n",
       "       'in', 'is', 'like', 'money', 'move', 'movie', 'my', 'never', 'not',\n",
       "       'of', 'on', 'regret', 'said', 'shame', 'sleeping', 'the', 'this',\n",
       "       'time', 'wasted', 'watch', 'what', 'will', 'year'], dtype=object)"
      ]
     },
     "execution_count": 6,
     "metadata": {},
     "output_type": "execute_result"
    }
   ],
   "source": [
    "cv.get_feature_names_out() #현재 등장한 모든 단어를 알파벳순서로 매핑한 것을 반환해줌 37딘어"
   ]
  },
  {
   "cell_type": "code",
   "execution_count": 7,
   "id": "996abb6a",
   "metadata": {},
   "outputs": [
    {
     "data": {
      "text/plain": [
       "array([[0, 1, 0, 0, 0, 0, 0, 0, 0, 0, 0, 0, 0, 2, 0, 1, 0, 0, 0, 1, 0, 0,\n",
       "        0, 0, 0, 0, 0, 0, 0, 0, 1, 0, 0, 1, 0, 1, 0],\n",
       "       [0, 0, 0, 0, 0, 0, 0, 0, 0, 0, 0, 0, 0, 0, 0, 0, 1, 0, 0, 1, 0, 0,\n",
       "        0, 0, 0, 0, 0, 0, 0, 0, 1, 0, 0, 0, 0, 0, 0],\n",
       "       [0, 0, 0, 1, 0, 0, 0, 0, 0, 0, 0, 0, 0, 0, 1, 0, 0, 0, 0, 1, 0, 0,\n",
       "        0, 0, 0, 0, 0, 0, 0, 0, 1, 0, 0, 0, 0, 0, 1],\n",
       "       [0, 0, 1, 0, 0, 0, 0, 1, 2, 0, 0, 0, 0, 0, 0, 1, 0, 0, 0, 1, 1, 0,\n",
       "        0, 0, 0, 0, 1, 0, 0, 1, 0, 0, 0, 0, 0, 0, 0],\n",
       "       [0, 0, 0, 0, 0, 2, 0, 0, 0, 0, 0, 1, 0, 0, 0, 0, 0, 0, 0, 1, 0, 0,\n",
       "        0, 1, 0, 0, 0, 0, 0, 1, 0, 0, 0, 0, 0, 0, 0],\n",
       "       [0, 0, 0, 0, 1, 0, 0, 0, 0, 0, 0, 0, 0, 0, 0, 0, 0, 1, 0, 0, 0, 0,\n",
       "        0, 0, 0, 0, 0, 1, 0, 0, 0, 1, 1, 0, 0, 0, 0],\n",
       "       [0, 0, 0, 0, 0, 0, 0, 0, 0, 1, 0, 0, 1, 0, 0, 0, 0, 0, 1, 1, 0, 2,\n",
       "        0, 0, 1, 1, 0, 0, 0, 0, 2, 0, 0, 0, 1, 1, 0],\n",
       "       [0, 0, 0, 0, 0, 0, 0, 0, 0, 0, 1, 0, 0, 0, 0, 0, 1, 0, 0, 1, 0, 0,\n",
       "        1, 0, 0, 0, 0, 0, 0, 0, 1, 0, 0, 0, 0, 0, 0],\n",
       "       [1, 0, 0, 0, 0, 0, 0, 0, 0, 0, 1, 0, 0, 0, 1, 0, 1, 0, 0, 1, 0, 0,\n",
       "        1, 0, 0, 0, 0, 0, 0, 0, 1, 0, 0, 0, 0, 0, 0],\n",
       "       [0, 0, 0, 0, 0, 0, 2, 0, 0, 0, 0, 0, 0, 0, 0, 0, 0, 0, 0, 1, 0, 0,\n",
       "        0, 0, 0, 0, 0, 0, 1, 0, 0, 0, 0, 0, 0, 0, 0]], dtype=int64)"
      ]
     },
     "execution_count": 7,
     "metadata": {},
     "output_type": "execute_result"
    }
   ],
   "source": [
    "#반환되어진 실제 데이터를 확인\n",
    "encoded_input = x_traincv.toarray()\n",
    "encoded_input #단어가 등장한 횟수에 따라서 매핑이 되고 있음"
   ]
  },
  {
   "cell_type": "code",
   "execution_count": 8,
   "id": "71296290",
   "metadata": {},
   "outputs": [
    {
     "data": {
      "text/plain": [
       "[array(['again', 'great', 'is', 'movie', 'this', 'watch', 'will'],\n",
       "       dtype='<U9')]"
      ]
     },
     "execution_count": 8,
     "metadata": {},
     "output_type": "execute_result"
    }
   ],
   "source": [
    "#기존 문장으로 다시 복원\n",
    "cv.inverse_transform(encoded_input[[0]]) #주의) 리스트자료형으로 넣어줘야 한다."
   ]
  },
  {
   "cell_type": "markdown",
   "id": "1ef918c8",
   "metadata": {},
   "source": [
    "## 다항 분포 나이브베이즈 분류"
   ]
  },
  {
   "cell_type": "code",
   "execution_count": 9,
   "id": "401a2895",
   "metadata": {},
   "outputs": [
    {
     "data": {
      "text/html": [
       "<style>#sk-container-id-1 {color: black;background-color: white;}#sk-container-id-1 pre{padding: 0;}#sk-container-id-1 div.sk-toggleable {background-color: white;}#sk-container-id-1 label.sk-toggleable__label {cursor: pointer;display: block;width: 100%;margin-bottom: 0;padding: 0.3em;box-sizing: border-box;text-align: center;}#sk-container-id-1 label.sk-toggleable__label-arrow:before {content: \"▸\";float: left;margin-right: 0.25em;color: #696969;}#sk-container-id-1 label.sk-toggleable__label-arrow:hover:before {color: black;}#sk-container-id-1 div.sk-estimator:hover label.sk-toggleable__label-arrow:before {color: black;}#sk-container-id-1 div.sk-toggleable__content {max-height: 0;max-width: 0;overflow: hidden;text-align: left;background-color: #f0f8ff;}#sk-container-id-1 div.sk-toggleable__content pre {margin: 0.2em;color: black;border-radius: 0.25em;background-color: #f0f8ff;}#sk-container-id-1 input.sk-toggleable__control:checked~div.sk-toggleable__content {max-height: 200px;max-width: 100%;overflow: auto;}#sk-container-id-1 input.sk-toggleable__control:checked~label.sk-toggleable__label-arrow:before {content: \"▾\";}#sk-container-id-1 div.sk-estimator input.sk-toggleable__control:checked~label.sk-toggleable__label {background-color: #d4ebff;}#sk-container-id-1 div.sk-label input.sk-toggleable__control:checked~label.sk-toggleable__label {background-color: #d4ebff;}#sk-container-id-1 input.sk-hidden--visually {border: 0;clip: rect(1px 1px 1px 1px);clip: rect(1px, 1px, 1px, 1px);height: 1px;margin: -1px;overflow: hidden;padding: 0;position: absolute;width: 1px;}#sk-container-id-1 div.sk-estimator {font-family: monospace;background-color: #f0f8ff;border: 1px dotted black;border-radius: 0.25em;box-sizing: border-box;margin-bottom: 0.5em;}#sk-container-id-1 div.sk-estimator:hover {background-color: #d4ebff;}#sk-container-id-1 div.sk-parallel-item::after {content: \"\";width: 100%;border-bottom: 1px solid gray;flex-grow: 1;}#sk-container-id-1 div.sk-label:hover label.sk-toggleable__label {background-color: #d4ebff;}#sk-container-id-1 div.sk-serial::before {content: \"\";position: absolute;border-left: 1px solid gray;box-sizing: border-box;top: 0;bottom: 0;left: 50%;z-index: 0;}#sk-container-id-1 div.sk-serial {display: flex;flex-direction: column;align-items: center;background-color: white;padding-right: 0.2em;padding-left: 0.2em;position: relative;}#sk-container-id-1 div.sk-item {position: relative;z-index: 1;}#sk-container-id-1 div.sk-parallel {display: flex;align-items: stretch;justify-content: center;background-color: white;position: relative;}#sk-container-id-1 div.sk-item::before, #sk-container-id-1 div.sk-parallel-item::before {content: \"\";position: absolute;border-left: 1px solid gray;box-sizing: border-box;top: 0;bottom: 0;left: 50%;z-index: -1;}#sk-container-id-1 div.sk-parallel-item {display: flex;flex-direction: column;z-index: 1;position: relative;background-color: white;}#sk-container-id-1 div.sk-parallel-item:first-child::after {align-self: flex-end;width: 50%;}#sk-container-id-1 div.sk-parallel-item:last-child::after {align-self: flex-start;width: 50%;}#sk-container-id-1 div.sk-parallel-item:only-child::after {width: 0;}#sk-container-id-1 div.sk-dashed-wrapped {border: 1px dashed gray;margin: 0 0.4em 0.5em 0.4em;box-sizing: border-box;padding-bottom: 0.4em;background-color: white;}#sk-container-id-1 div.sk-label label {font-family: monospace;font-weight: bold;display: inline-block;line-height: 1.2em;}#sk-container-id-1 div.sk-label-container {text-align: center;}#sk-container-id-1 div.sk-container {/* jupyter's `normalize.less` sets `[hidden] { display: none; }` but bootstrap.min.css set `[hidden] { display: none !important; }` so we also need the `!important` here to be able to override the default hidden behavior on the sphinx rendered scikit-learn.org. See: https://github.com/scikit-learn/scikit-learn/issues/21755 */display: inline-block !important;position: relative;}#sk-container-id-1 div.sk-text-repr-fallback {display: none;}</style><div id=\"sk-container-id-1\" class=\"sk-top-container\"><div class=\"sk-text-repr-fallback\"><pre>MultinomialNB()</pre><b>In a Jupyter environment, please rerun this cell to show the HTML representation or trust the notebook. <br />On GitHub, the HTML representation is unable to render, please try loading this page with nbviewer.org.</b></div><div class=\"sk-container\" hidden><div class=\"sk-item\"><div class=\"sk-estimator sk-toggleable\"><input class=\"sk-toggleable__control sk-hidden--visually\" id=\"sk-estimator-id-1\" type=\"checkbox\" checked><label for=\"sk-estimator-id-1\" class=\"sk-toggleable__label sk-toggleable__label-arrow\">MultinomialNB</label><div class=\"sk-toggleable__content\"><pre>MultinomialNB()</pre></div></div></div></div></div>"
      ],
      "text/plain": [
       "MultinomialNB()"
      ]
     },
     "execution_count": 9,
     "metadata": {},
     "output_type": "execute_result"
    }
   ],
   "source": [
    "# 기존의 데이터로 학습을 진행.\n",
    "mnb = MultinomialNB()\n",
    "\n",
    "y_train = df_y.astype('int') #int형으로 변환되어져 있을지라도 다시 변환을 꼭 해주도록 하자.\n",
    "mnb.fit(x_traincv, y_train)"
   ]
  },
  {
   "cell_type": "code",
   "execution_count": 12,
   "id": "5d1f0d01",
   "metadata": {},
   "outputs": [],
   "source": [
    "test_feedback_list = [  #테스트 데이터\n",
    "                {'movie_review': 'great great great movie ever', 'type': 'positive'},\n",
    "                {'movie_review': 'I like this amazing movie', 'type': 'positive'},\n",
    "                {'movie_review': 'my boyfriend said great movie ever', 'type': 'positive'},\n",
    "                {'movie_review': 'cool cool cool', 'type': 'positive'},\n",
    "                {'movie_review': 'awesome boyfriend said cool movie ever', 'type': 'positive'},\n",
    "                {'movie_review': 'shame shame shame', 'type': 'negative'},\n",
    "                {'movie_review': 'awesome director shame movie boring movie', 'type': 'negative'},\n",
    "                {'movie_review': 'do not like this movie', 'type': 'negative'},\n",
    "                {'movie_review': 'I do not like this boring movie', 'type': 'negative'},\n",
    "                {'movie_review': 'aweful terrible boring movie', 'type': 'negative'}\n",
    "             ] \n",
    "\n",
    "test_df = pd.DataFrame(test_feedback_list)\n",
    "test_df['label'] = test_df['type'].map({'positive':1, 'negative':0})\n",
    "\n",
    "#훈련데이터와 정답데이터로 나누어서 변수에 담아주도록 한다.\n",
    "test_x = test_df['movie_review']\n",
    "test_y = test_df['label']\n",
    "\n",
    "x_testcv = cv.transform(test_x) #***훈련을 시키면 안됨!! 기존에 반영한 그대로 사용을 해야함!!"
   ]
  },
  {
   "cell_type": "markdown",
   "id": "df6a8f0e",
   "metadata": {},
   "source": [
    "# 테스트"
   ]
  },
  {
   "cell_type": "code",
   "execution_count": 13,
   "id": "4529df2f",
   "metadata": {},
   "outputs": [],
   "source": [
    "predicted = mnb.predict(x_testcv) "
   ]
  },
  {
   "cell_type": "markdown",
   "id": "17453e72",
   "metadata": {},
   "source": [
    "# 정확도(accuracy)"
   ]
  },
  {
   "cell_type": "code",
   "execution_count": 14,
   "id": "c691a352",
   "metadata": {},
   "outputs": [
    {
     "data": {
      "text/plain": [
       "1.0"
      ]
     },
     "execution_count": 14,
     "metadata": {},
     "output_type": "execute_result"
    }
   ],
   "source": [
    "accuracy_score(test_y, predicted)"
   ]
  },
  {
   "cell_type": "code",
   "execution_count": null,
   "id": "5d6b1a06",
   "metadata": {},
   "outputs": [],
   "source": []
  }
 ],
 "metadata": {
  "kernelspec": {
   "display_name": "Python [conda env:tf_cpu] *",
   "language": "python",
   "name": "conda-env-tf_cpu-py"
  },
  "language_info": {
   "codemirror_mode": {
    "name": "ipython",
    "version": 3
   },
   "file_extension": ".py",
   "mimetype": "text/x-python",
   "name": "python",
   "nbconvert_exporter": "python",
   "pygments_lexer": "ipython3",
   "version": "3.8.16"
  }
 },
 "nbformat": 4,
 "nbformat_minor": 5
}
