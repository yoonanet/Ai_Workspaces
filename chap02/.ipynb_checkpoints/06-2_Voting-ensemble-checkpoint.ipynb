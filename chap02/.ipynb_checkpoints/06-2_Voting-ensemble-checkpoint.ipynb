{
 "cells": [
  {
   "cell_type": "markdown",
   "id": "53406957",
   "metadata": {},
   "source": [
    "# 보팅 앙상블\n",
    "* 앙상블의 최종적인 결과의 평가(판단) 방법 -> 보팅(하드보팅, 소프트보팅)\n",
    "* 단일 모델을 앙상블하여 더 나은 예측을 하는 앙상블 모델을 만들어 봄."
   ]
  },
  {
   "cell_type": "code",
   "execution_count": 1,
   "id": "9cffa825",
   "metadata": {},
   "outputs": [],
   "source": [
    "#앙상블: 여러 모델을 생성해서 모델별 결과 값을 각각의 입력데이터를 가지고 독자적인 결과를 계산하게끔 하여 판단\n",
    "\n",
    "from sklearn import datasets\n",
    "from sklearn.tree import DecisionTreeClassifier\n",
    "from sklearn.neighbors import KNeighborsClassifier #knn알고리즘 적용 클래스\n",
    "from sklearn.svm import SVC #서포트벡터클래스파이어로 하여 서포트벡터머신알고리즘을 제공\n",
    "from sklearn.ensemble import VotingClassifier\n",
    "from sklearn.model_selection import train_test_split #훈련데이터와 테스트데이터에 대한 분리를 하도록 함\n",
    "from sklearn.metrics import accuracy_score #모델에 대한 최종적인 판단을 위해서 정확도를 계산해서 피드백해주는 모델을 import\n",
    "\n",
    "import numpy as np\n",
    "import pandas as pd\n",
    "\n",
    "np.random.seed(5)"
   ]
  },
  {
   "cell_type": "markdown",
   "id": "55c39f7b",
   "metadata": {},
   "source": [
    "# 손글씨 데이터 로드"
   ]
  },
  {
   "cell_type": "code",
   "execution_count": 2,
   "id": "39e91f18",
   "metadata": {},
   "outputs": [],
   "source": [
    "mnist = datasets.load_digits()\n",
    "features, labels = mnist.data, mnist.target\n",
    "\n",
    "X_train, X_test, y_train, y_test = train_test_split(features, labels, test_size=0.2) \n",
    "#최종적인 데이터와 정답데이터를 입력으로 넣어줌 / 20%의 데이터를 테스트 데이터로 꺼내오도록 함 \n",
    "# => 훈련과 테스트로 데이터를 각각 반환해주게 된다."
   ]
  },
  {
   "cell_type": "markdown",
   "id": "afbbf374",
   "metadata": {},
   "source": [
    "# 단일 모델 정확도 측정\n",
    "* 의사결정트리, knn, svm 모델의 정확도를 측정."
   ]
  },
  {
   "cell_type": "code",
   "execution_count": 3,
   "id": "df54c2cb",
   "metadata": {},
   "outputs": [],
   "source": [
    "# 의사결정트리\n",
    "dtree = DecisionTreeClassifier(criterion='gini', max_depth=8, max_features=32, random_state=35).fit(X_train, y_train) \n",
    "#적용은 gini계수의 알고리즘을 적용하고, 8단계의 가지로 구성하도록 함 / random_state가 숫자의 의미가 없이 고정되는 seed값을 의미한다.\n",
    "# max_features로 셋팅된 값을 통해서 최대 뻗어갈 핏쳐의 개체수를 지정해주 것이다.\n",
    "#  - 정보이론에서는 크기 단위를 불확실성의 값으로 엔트로피로 정의해서 계산할 수 있도록 함\n",
    "#   엔트로피는 연산에 수식이 많다보니 그와 동일한 개념으로 처리가 되어지는 알고리즘이 지니계수임!!\n",
    "\n",
    "dtree_predicted = dtree.predict(X_test) #예측함수 호출"
   ]
  },
  {
   "cell_type": "code",
   "execution_count": 4,
   "id": "550986ea",
   "metadata": {},
   "outputs": [],
   "source": [
    "# kNN \n",
    "knn = KNeighborsClassifier(n_neighbors=299).fit(X_train, y_train) \n",
    "#최적의 k값을 찾아야 함 -> mnist는 k값이 299일 때 최적의 정확도를 보여주게 됨(n_neighbors파라메타 지정)\n",
    "\n",
    "knn_predicted = knn.predict(X_test) #최종적인 예측의 값을 반환받도록 함"
   ]
  },
  {
   "cell_type": "code",
   "execution_count": 5,
   "id": "f4969ff6",
   "metadata": {},
   "outputs": [],
   "source": [
    "# svm \n",
    "svm = SVC(C=0.1, gamma=0.003, probability=True, random_state=35).fit(X_train, y_train)\n",
    "\n",
    "svm_predicted = svm.predict(X_test)"
   ]
  },
  {
   "cell_type": "code",
   "execution_count": 7,
   "id": "8b8a6a68",
   "metadata": {},
   "outputs": [
    {
     "name": "stdout",
     "output_type": "stream",
     "text": [
      "[accuracy]\n",
      "d-tree:  0.8277777777777777\n",
      "knn:  0.8944444444444445\n",
      "svm:  0.8916666666666667\n"
     ]
    }
   ],
   "source": [
    "print('[accuracy]')\n",
    "print('d-tree: ', accuracy_score(y_test, dtree_predicted))\n",
    "print('knn: ', accuracy_score(y_test, knn_predicted))\n",
    "print('svm: ', accuracy_score(y_test, svm_predicted))"
   ]
  },
  {
   "cell_type": "markdown",
   "id": "13ad2362",
   "metadata": {},
   "source": [
    "* 앙상블은 여러 모델들에 대한 결과에 보팅을 적용해서 분류 알고리즘의 결과를 최종적으로 섞어서 사용할 수 있음\n",
    "- 하드보팅 또는 소프트보팅은 sklearn의 voting classifier를 사용하여 쉽게 구현할 수 있다.     \n",
    "  직접 소프트 보팅을 구현하실 때는 predict_proba 함수를 사용하여 테스트 수행 시 측정된 분류값 별 확률을 사용하면 된다."
   ]
  },
  {
   "cell_type": "code",
   "execution_count": 8,
   "id": "cb40e59f",
   "metadata": {},
   "outputs": [
    {
     "name": "stdout",
     "output_type": "stream",
     "text": [
      "[[0.00129293 0.00434548 0.00446459 0.00248053 0.00336731 0.93848315\n",
      "  0.00127073 0.00448341 0.02477231 0.01503956]\n",
      " [0.00189233 0.00631647 0.92958418 0.00345522 0.0030971  0.00828454\n",
      "  0.00186869 0.0048112  0.03092707 0.0097632 ]]\n"
     ]
    }
   ],
   "source": [
    "svm_proba = svm.predict_proba(X_test) #predict_proba는 모든 알고리즘의 결과값을 확률로 반환\n",
    "print(svm_proba[0:2])\n",
    "#모델을 훈련하게 되면 숫자를 예측하는 모델이 생성될 것임. 내부에서는 확률값으로 결과 예측에 대한 값이 출력됨!! \n",
    "#가장 높은 확률값을 끄집어내오면 판단의 기준을 하드보팅이라고 하는 것이다. / 소프트보팅은 확률값으로 판단을 하겠다는 것이다.\n",
    "\n",
    "#앙상블에서 하드보팅은 무엇이냐? 예를 들어 결과가 나올 때 의사결정 트리는 5라는 이미지 데이터라고 판단, knn도 5라고 판단, svm은 2라고 판단\n",
    "#                                이때 앙상블의 하드보팅은 5라고 판단한 것이 다수로 많다면 5를 적용하는 것이다.\n",
    "#예측된 결과에서 다수결로 최종판단을 하는 결과의 확률방법이 하드보팅인 것이다. (결과로써 다수결을 판단하고 있음)\n",
    "\n",
    "#계산된 확률값을 통해서 판단하는 것이 소프트보팅 -> 소프트보팅의 확률은 어떻게 계산하는 것일까?\n",
    "#지금은 현재 첫번째(5로 예측)와 두번째(2로 예측) 테스트 이미지에 대한 0-9까지의 경우의 수를 통해서 확률로써 판단하여 반환해주고 있는 것이다.\n",
    "#즉, 가장 높은 확률값으로 최종 값으로 판단하는 것이다. \n",
    "# 자세히 설명 => 각각의 계산 값을 확률로써 보여주고 있음 -> 모델이 예측한 확률값을 전부 다 더함 (ex) 1이라면 0.9 + 0.4)\n",
    "#                그렇게 각각의 확률값에서 가장 높은 값으로 최종 예측이 되는 것이다.\n",
    "\n",
    "#내가 확률값을 다 더해서 계산을 하려면 predict_proba함수를 활용하면 되는데\n",
    "#하드보팅이든 소프트보팅을 계산할 수 있도록 하려면 voting classifier을 사이킷런에서 제공해주고 있는 것임."
   ]
  },
  {
   "cell_type": "markdown",
   "id": "838d26c5",
   "metadata": {},
   "source": [
    "## 하드 보팅\n",
    "* 하드보팅은 일반적인 투표와 같이, 각각의 분류기의 예측값을 모아, 가장 많은 득표를 받은 예측값으로 최종 결론을 내는 방식"
   ]
  },
  {
   "cell_type": "code",
   "execution_count": 11,
   "id": "dc2a180d",
   "metadata": {},
   "outputs": [
    {
     "data": {
      "text/plain": [
       "0.9222222222222223"
      ]
     },
     "execution_count": 11,
     "metadata": {},
     "output_type": "execute_result"
    }
   ],
   "source": [
    "#앙상블로 여러 알고리즘들을 적용해서 피드백 되어진 결과값을 하드보팅이나 소프트보팅으로 판단하여 결과값을 높여보고자 함\n",
    "voting_clf = VotingClassifier(estimators=[('decision_tree', dtree), ('knn', knn), ('svm', svm)],\n",
    "                              weights=[1, 1, 1], voting='hard').fit(X_train, y_train) \n",
    "#앙상블로 적용하고자 하는 알고리즘은 estimators파라메타에 넣어주면 된다. => 튜플에 담아서 알려주면 됨\n",
    "#weights: 알고리즘에 대한 가중치를 주도록 함 -> 1로써 동일하게 부여했음(우선순위 개념 없도록 함) / 결과 예측 지정 => voting\n",
    "\n",
    "hard_voting_predicted = voting_clf.predict(X_test)\n",
    "accuracy_score(y_test, hard_voting_predicted) \n",
    "#각각의 알고리즘으로 적용하는 것보다 여러 알고리즘들을 동시에 적용해서 다수결의 결과를 얻는 것이 확률값으로 높게 나오는 것을 확인할 수 있음"
   ]
  },
  {
   "cell_type": "markdown",
   "id": "ec54c8c2",
   "metadata": {},
   "source": [
    "## 소프트 보팅\n",
    "* 소프트 보팅은 각각의 분류 모델의 predict_proba을 활용하여, 모든 분류값들의 확률들을 더해서,     \n",
    "  가장 높은 점수를 획득한 분류값으로 최종 결론을 내는 방식"
   ]
  },
  {
   "cell_type": "code",
   "execution_count": 12,
   "id": "72a8a00e",
   "metadata": {},
   "outputs": [
    {
     "data": {
      "text/plain": [
       "0.8888888888888888"
      ]
     },
     "execution_count": 12,
     "metadata": {},
     "output_type": "execute_result"
    }
   ],
   "source": [
    "voting_clf = VotingClassifier(estimators=[('decision_tree', dtree), ('knn', knn), ('svm', svm)],\n",
    "                              weights=[1, 1, 1], voting='soft').fit(X_train, y_train) \n",
    "\n",
    "soft_voting_predicted = voting_clf.predict(X_test)\n",
    "accuracy_score(y_test, soft_voting_predicted) #하드보팅이 더 높은 결과를 출력해주고 있음 -> 하드보팅을 선택하면 됨.(프로젝트도 동일) "
   ]
  },
  {
   "cell_type": "markdown",
   "id": "bfbfcc1c",
   "metadata": {},
   "source": [
    "### 정확도 비교 시각화"
   ]
  },
  {
   "cell_type": "code",
   "execution_count": 13,
   "id": "03b488c5",
   "metadata": {},
   "outputs": [
    {
     "data": {
      "text/plain": [
       "([<matplotlib.axis.XTick at 0x25ccaee13a0>,\n",
       "  <matplotlib.axis.XTick at 0x25ccaee1370>,\n",
       "  <matplotlib.axis.XTick at 0x25ccaebda60>,\n",
       "  <matplotlib.axis.XTick at 0x25ccaf20f70>,\n",
       "  <matplotlib.axis.XTick at 0x25ccaf38ca0>],\n",
       " [Text(0, 0, 'decision tree'),\n",
       "  Text(1, 0, 'knn'),\n",
       "  Text(2, 0, 'svm'),\n",
       "  Text(3, 0, 'hard voting'),\n",
       "  Text(4, 0, 'soft voting')])"
      ]
     },
     "execution_count": 13,
     "metadata": {},
     "output_type": "execute_result"
    },
    {
     "data": {
      "image/png": "[encoded data removed]",
      "text/plain": [
       "<Figure size 640x480 with 1 Axes>"
      ]
     },
     "metadata": {},
     "output_type": "display_data"
    }
   ],
   "source": [
    "import matplotlib.pyplot as plt\n",
    "\n",
    "x = np.arange(5)\n",
    "\n",
    "plt.bar(x, height = [accuracy_score(y_test, dtree_predicted),\n",
    "                     accuracy_score(y_test, knn_predicted),\n",
    "                     accuracy_score(y_test, svm_predicted),\n",
    "                     accuracy_score(y_test, hard_voting_predicted),\n",
    "                     accuracy_score(y_test, soft_voting_predicted)])\n",
    "\n",
    "plt.xticks(x, ['decision tree', 'knn', 'svm', 'hard voting', 'soft voting'])\n",
    "#각각의 알고리즘별 정확도를 시각화하여 확인해볼 수 있다."
   ]
  },
  {
   "cell_type": "code",
   "execution_count": null,
   "id": "f50cc0ee",
   "metadata": {},
   "outputs": [],
   "source": []
  }
 ],
 "metadata": {
  "kernelspec": {
   "display_name": "Python [conda env:tf_cpu] *",
   "language": "python",
   "name": "conda-env-tf_cpu-py"
  },
  "language_info": {
   "codemirror_mode": {
    "name": "ipython",
    "version": 3
   },
   "file_extension": ".py",
   "mimetype": "text/x-python",
   "name": "python",
   "nbconvert_exporter": "python",
   "pygments_lexer": "ipython3",
   "version": "3.8.16"
  }
 },
 "nbformat": 4,
 "nbformat_minor": 5
}
