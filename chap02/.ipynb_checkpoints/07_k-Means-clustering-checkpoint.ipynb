{
 "cells": [
  {
   "cell_type": "code",
   "execution_count": null,
   "id": "22721932",
   "metadata": {},
   "outputs": [],
   "source": [
    "#기계학습을 시키는 방법의 종류가 지도학습과 비지도학습(군집화, 주성분분석_상관분석과 연관분석을 살펴볼 때 등장했던 분석법이였음)으로 나눌 수 있음\n",
    "#비지도학습: 데이터만을 전달해주면서 정답을 알려주지 않고 처음부터 알고리즘이 데이터를 분류하도록 함/ 인간의 개입이 최소화하는 것.\n",
    "#비지도학습이 최근에는 지도학습보다 정확도가 높아지고 있는 추세임\n",
    "\n",
    "#군집화(Clustering) : 대표적인 군집화 알고리즘 - K 평균 알고리즘\n",
    "#비지도학습의 일종으로, 데이터의 특징만으로 비슷한 데이터들끼리 모아 군집된 클래스로 분류됨 (범주화되어진 클래스로 분류해주게끔 동작)\n",
    "#군집: 데이터를 그룹핑하겠다는 것. 몇 개로 데이터를 군집화할지는 개발자가 지정.\n",
    "\n",
    "# K mean 알고리즘 진행 순서\n",
    "# -> 데이터 준비(학생에 대한 키와 몸무게 데이터) \n",
    "\n",
    "# -> 몇 개의 클래스로 분류할 것인지 설정(갯수 설정 셋팅) => k값의 의미(몇개의 클래스로 분리할 것인지) : 3개의 집단으로 분류 셋팅\n",
    "\n",
    "# -> ***클러스터의 최초 중심값을 설정***\n",
    "#    최초 중심값의 설정은 3가지 방법중에 하나로 할 수 있음\n",
    "#   (무작위 설정_3개의 점이 몰릴 수 있는 단점, 최초 중심점을 k 평균 모델에 부여_셋팅해주게 되면 인간이 개입하게 됨!!!\n",
    "#    일반적으로 사이킷런의 k 평균 라이브러리를 활용_kmean에 ++의 알고리즘을 사용해서 클러스터의 최초 중심을 설정)\n",
    "#    ***거리를 계산하면서 가까이에 있는 놈들로 그룹핑을 해가는 알고리즘이다. \n",
    "#        아까 찾은 최초 중심점을 중간으로 바꿈!!\n",
    "\n",
    "# -> 데이터를 가장 가까운 클러스터로 지정\n",
    "# 그렇게 지정된 클러스터를 중심으로 클러스터에 속한 데이터들을 가운데 위치로 변경, \n",
    "# 중심이 바뀌지 않을 때까지 두 동작(4번과 5번)을 끊임없이 반복"
   ]
  },
  {
   "cell_type": "code",
   "execution_count": 1,
   "id": "6275411f",
   "metadata": {},
   "outputs": [],
   "source": [
    "import pandas as pd\n",
    "import numpy as np\n",
    "\n",
    "from sklearn.cluster import KMeans\n",
    "\n",
    "import matplotlib.pyplot as plt\n",
    "import seaborn as sns\n",
    "\n",
    "import warnings\n",
    "warnings.filterwarnings('ignore')\n",
    "\n",
    "np.random.seed(5)"
   ]
  },
  {
   "cell_type": "markdown",
   "id": "7e8aff76",
   "metadata": {},
   "source": [
    "# 데이터 만들기\n",
    "* 사람들의 키와 몸무게 데이터를 만든다."
   ]
  },
  {
   "cell_type": "code",
   "execution_count": 2,
   "id": "20f85d51",
   "metadata": {},
   "outputs": [],
   "source": [
    "df = pd.DataFrame(columns=['height', 'weight'])\n",
    "\n",
    "df.loc[0] = [185, 60] #7명의 학생에 대한 키와 몸무게 정보를 각각 저장해주도록 함\n",
    "df.loc[1] = [180, 60]\n",
    "df.loc[2] = [185, 70]\n",
    "df.loc[3] = [165, 63]\n",
    "df.loc[4] = [155, 68]\n",
    "df.loc[5] = [170, 75]\n",
    "df.loc[6] = [175, 80]"
   ]
  },
  {
   "cell_type": "code",
   "execution_count": 3,
   "id": "edab17ec",
   "metadata": {},
   "outputs": [
    {
     "data": {
      "text/html": [
       "<div>\n",
       "<style scoped>\n",
       "    .dataframe tbody tr th:only-of-type {\n",
       "        vertical-align: middle;\n",
       "    }\n",
       "\n",
       "    .dataframe tbody tr th {\n",
       "        vertical-align: top;\n",
       "    }\n",
       "\n",
       "    .dataframe thead th {\n",
       "        text-align: right;\n",
       "    }\n",
       "</style>\n",
       "<table border=\"1\" class=\"dataframe\">\n",
       "  <thead>\n",
       "    <tr style=\"text-align: right;\">\n",
       "      <th></th>\n",
       "      <th>height</th>\n",
       "      <th>weight</th>\n",
       "    </tr>\n",
       "  </thead>\n",
       "  <tbody>\n",
       "    <tr>\n",
       "      <th>0</th>\n",
       "      <td>185</td>\n",
       "      <td>60</td>\n",
       "    </tr>\n",
       "    <tr>\n",
       "      <th>1</th>\n",
       "      <td>180</td>\n",
       "      <td>60</td>\n",
       "    </tr>\n",
       "    <tr>\n",
       "      <th>2</th>\n",
       "      <td>185</td>\n",
       "      <td>70</td>\n",
       "    </tr>\n",
       "    <tr>\n",
       "      <th>3</th>\n",
       "      <td>165</td>\n",
       "      <td>63</td>\n",
       "    </tr>\n",
       "    <tr>\n",
       "      <th>4</th>\n",
       "      <td>155</td>\n",
       "      <td>68</td>\n",
       "    </tr>\n",
       "    <tr>\n",
       "      <th>5</th>\n",
       "      <td>170</td>\n",
       "      <td>75</td>\n",
       "    </tr>\n",
       "    <tr>\n",
       "      <th>6</th>\n",
       "      <td>175</td>\n",
       "      <td>80</td>\n",
       "    </tr>\n",
       "  </tbody>\n",
       "</table>\n",
       "</div>"
      ],
      "text/plain": [
       "   height  weight\n",
       "0     185      60\n",
       "1     180      60\n",
       "2     185      70\n",
       "3     165      63\n",
       "4     155      68\n",
       "5     170      75\n",
       "6     175      80"
      ]
     },
     "execution_count": 3,
     "metadata": {},
     "output_type": "execute_result"
    }
   ],
   "source": [
    "df.head(7)"
   ]
  },
  {
   "cell_type": "markdown",
   "id": "f2b309c8",
   "metadata": {},
   "source": [
    "# 데이터 시각화\n",
    "* 데이터를 차트에 시각화\n",
    "* 위 데이터를 가지고 분류하고 싶은 것이다. -> 데이터를 나누기 전에 분포도를 확인하도록 한다."
   ]
  },
  {
   "cell_type": "code",
   "execution_count": 4,
   "id": "ac889a64",
   "metadata": {},
   "outputs": [
    {
     "data": {
      "text/plain": [
       "<seaborn.axisgrid.FacetGrid at 0x13964dbf1f0>"
      ]
     },
     "execution_count": 4,
     "metadata": {},
     "output_type": "execute_result"
    },
    {
     "data": {
      "image/png": "[encoded data removed]",
      "text/plain": [
       "<Figure size 500x500 with 1 Axes>"
      ]
     },
     "metadata": {},
     "output_type": "display_data"
    }
   ],
   "source": [
    "sns.lmplot(data=df, x='weight', y='height', fit_reg=False, scatter_kws={'s':200}) \n",
    "#주의) 축에 따른 필드를 지정해줄 때는 문자열로 감싸서 지정해주면 됨\n",
    "#fit_reg 회귀분석의 라인까지 그려줄 것인지 설정하는 파라메타"
   ]
  },
  {
   "cell_type": "markdown",
   "id": "a202620a",
   "metadata": {},
   "source": [
    "# K 평균 군집화\n",
    "* sklearn의 kmean 라이브러리에 데이터를 활용하여, 데이터를 군집화 함."
   ]
  },
  {
   "cell_type": "code",
   "execution_count": 5,
   "id": "cb80208e",
   "metadata": {},
   "outputs": [],
   "source": [
    "data_points = df.values\n",
    "kmeans = KMeans(n_clusters=3).fit(data_points) #각 데이터에 대한 포인트위치만 알려주면 이 알고리즘이 k means알고리즘으로 해서 모델을 만듦."
   ]
  },
  {
   "cell_type": "markdown",
   "id": "6699478a",
   "metadata": {},
   "source": [
    "* 아래 명령어로 각 군집의 중심 위치를 확인할 수 있다."
   ]
  },
  {
   "cell_type": "code",
   "execution_count": 6,
   "id": "7a6b97d7",
   "metadata": {},
   "outputs": [
    {
     "data": {
      "text/plain": [
       "array([[160.        ,  65.5       ],\n",
       "       [183.33333333,  63.33333333],\n",
       "       [172.5       ,  77.5       ]])"
      ]
     },
     "execution_count": 6,
     "metadata": {},
     "output_type": "execute_result"
    }
   ],
   "source": [
    "kmeans.cluster_centers_ # 3개의 기준값에 대한 정보를 바로 보여줌"
   ]
  },
  {
   "cell_type": "markdown",
   "id": "a56755cc",
   "metadata": {},
   "source": [
    "* 데이터가 어느 군집에 소속되어 있는 지 데이터 프레임에 cluster_id 컬럼에 저장."
   ]
  },
  {
   "cell_type": "code",
   "execution_count": 7,
   "id": "c54d2758",
   "metadata": {},
   "outputs": [],
   "source": [
    "df['cluster_id'] = kmeans.labels_"
   ]
  },
  {
   "cell_type": "code",
   "execution_count": 8,
   "id": "d9aeec98",
   "metadata": {},
   "outputs": [
    {
     "data": {
      "text/html": [
       "<div>\n",
       "<style scoped>\n",
       "    .dataframe tbody tr th:only-of-type {\n",
       "        vertical-align: middle;\n",
       "    }\n",
       "\n",
       "    .dataframe tbody tr th {\n",
       "        vertical-align: top;\n",
       "    }\n",
       "\n",
       "    .dataframe thead th {\n",
       "        text-align: right;\n",
       "    }\n",
       "</style>\n",
       "<table border=\"1\" class=\"dataframe\">\n",
       "  <thead>\n",
       "    <tr style=\"text-align: right;\">\n",
       "      <th></th>\n",
       "      <th>height</th>\n",
       "      <th>weight</th>\n",
       "      <th>cluster_id</th>\n",
       "    </tr>\n",
       "  </thead>\n",
       "  <tbody>\n",
       "    <tr>\n",
       "      <th>0</th>\n",
       "      <td>185</td>\n",
       "      <td>60</td>\n",
       "      <td>1</td>\n",
       "    </tr>\n",
       "    <tr>\n",
       "      <th>1</th>\n",
       "      <td>180</td>\n",
       "      <td>60</td>\n",
       "      <td>1</td>\n",
       "    </tr>\n",
       "    <tr>\n",
       "      <th>2</th>\n",
       "      <td>185</td>\n",
       "      <td>70</td>\n",
       "      <td>1</td>\n",
       "    </tr>\n",
       "    <tr>\n",
       "      <th>3</th>\n",
       "      <td>165</td>\n",
       "      <td>63</td>\n",
       "      <td>0</td>\n",
       "    </tr>\n",
       "    <tr>\n",
       "      <th>4</th>\n",
       "      <td>155</td>\n",
       "      <td>68</td>\n",
       "      <td>0</td>\n",
       "    </tr>\n",
       "    <tr>\n",
       "      <th>5</th>\n",
       "      <td>170</td>\n",
       "      <td>75</td>\n",
       "      <td>2</td>\n",
       "    </tr>\n",
       "    <tr>\n",
       "      <th>6</th>\n",
       "      <td>175</td>\n",
       "      <td>80</td>\n",
       "      <td>2</td>\n",
       "    </tr>\n",
       "  </tbody>\n",
       "</table>\n",
       "</div>"
      ],
      "text/plain": [
       "   height  weight  cluster_id\n",
       "0     185      60           1\n",
       "1     180      60           1\n",
       "2     185      70           1\n",
       "3     165      63           0\n",
       "4     155      68           0\n",
       "5     170      75           2\n",
       "6     175      80           2"
      ]
     },
     "execution_count": 8,
     "metadata": {},
     "output_type": "execute_result"
    }
   ],
   "source": [
    "df.head(7) # 학습이 끝났을 때 어떤 분류군으로 그룹핑되어있는지 확인"
   ]
  },
  {
   "cell_type": "markdown",
   "id": "7ce592d9",
   "metadata": {},
   "source": [
    "# K 평균 군집 시각화\n",
    "* 군집 결과를 seaborn과 dataframe을 활용하여 손쉽게 시각화할 수 있음.\n",
    "* 키가 작은 그룹, 중간 그룹, 큰 그룹으로 군집된 결과를 각기 다른 색으로 구분된 군집으로 확인할 수 있음."
   ]
  },
  {
   "cell_type": "code",
   "execution_count": 9,
   "id": "25eab58e",
   "metadata": {},
   "outputs": [
    {
     "data": {
      "text/plain": [
       "<seaborn.axisgrid.FacetGrid at 0x139651de580>"
      ]
     },
     "execution_count": 9,
     "metadata": {},
     "output_type": "execute_result"
    },
    {
     "data": {
      "image/png": "[encoded data removed]",
      "text/plain": [
       "<Figure size 577.986x500 with 1 Axes>"
      ]
     },
     "metadata": {},
     "output_type": "display_data"
    }
   ],
   "source": [
    "sns.lmplot(data=df, x='weight', y='height', fit_reg=False, scatter_kws={'s':150}, hue='cluster_id')"
   ]
  },
  {
   "cell_type": "code",
   "execution_count": null,
   "id": "095797ee",
   "metadata": {},
   "outputs": [],
   "source": []
  },
  {
   "cell_type": "code",
   "execution_count": null,
   "id": "331ffa94",
   "metadata": {},
   "outputs": [],
   "source": []
  }
 ],
 "metadata": {
  "kernelspec": {
   "display_name": "Python [conda env:tf_cpu] *",
   "language": "python",
   "name": "conda-env-tf_cpu-py"
  },
  "language_info": {
   "codemirror_mode": {
    "name": "ipython",
    "version": 3
   },
   "file_extension": ".py",
   "mimetype": "text/x-python",
   "name": "python",
   "nbconvert_exporter": "python",
   "pygments_lexer": "ipython3",
   "version": "3.8.16"
  }
 },
 "nbformat": 4,
 "nbformat_minor": 5
}
