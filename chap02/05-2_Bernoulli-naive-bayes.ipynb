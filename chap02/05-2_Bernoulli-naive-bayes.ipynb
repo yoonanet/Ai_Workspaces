{
 "cells": [
  {
   "cell_type": "code",
   "execution_count": 1,
   "id": "eb21bc96",
   "metadata": {},
   "outputs": [],
   "source": [
    "import numpy as np\n",
    "import pandas as pd\n",
    "\n",
    "from sklearn.metrics import accuracy_score\n",
    "\n",
    "# 베르누이 나이브베이즈를 위한 라이브러리\n",
    "from sklearn.feature_extraction.text import CountVectorizer\n",
    "from sklearn.naive_bayes import BernoulliNB\n",
    "\n",
    "np.random.seed(5)"
   ]
  },
  {
   "cell_type": "markdown",
   "id": "a582af1e",
   "metadata": {},
   "source": [
    "# 문제 정의\n",
    "* 베르누이 나이브베이즈 분류 모델을 사용하여 스팸 메일을 분류하기"
   ]
  },
  {
   "cell_type": "markdown",
   "id": "8496cf41",
   "metadata": {},
   "source": [
    "# 데이터 수집"
   ]
  },
  {
   "cell_type": "code",
   "execution_count": 2,
   "id": "30ed0425",
   "metadata": {},
   "outputs": [
    {
     "data": {
      "text/html": [
       "<div>\n",
       "<style scoped>\n",
       "    .dataframe tbody tr th:only-of-type {\n",
       "        vertical-align: middle;\n",
       "    }\n",
       "\n",
       "    .dataframe tbody tr th {\n",
       "        vertical-align: top;\n",
       "    }\n",
       "\n",
       "    .dataframe thead th {\n",
       "        text-align: right;\n",
       "    }\n",
       "</style>\n",
       "<table border=\"1\" class=\"dataframe\">\n",
       "  <thead>\n",
       "    <tr style=\"text-align: right;\">\n",
       "      <th></th>\n",
       "      <th>email title</th>\n",
       "      <th>spam</th>\n",
       "    </tr>\n",
       "  </thead>\n",
       "  <tbody>\n",
       "    <tr>\n",
       "      <th>0</th>\n",
       "      <td>free game only today</td>\n",
       "      <td>True</td>\n",
       "    </tr>\n",
       "    <tr>\n",
       "      <th>1</th>\n",
       "      <td>cheapest flight deal</td>\n",
       "      <td>True</td>\n",
       "    </tr>\n",
       "    <tr>\n",
       "      <th>2</th>\n",
       "      <td>limited time offer only today only today</td>\n",
       "      <td>True</td>\n",
       "    </tr>\n",
       "    <tr>\n",
       "      <th>3</th>\n",
       "      <td>today meeting schedule</td>\n",
       "      <td>False</td>\n",
       "    </tr>\n",
       "    <tr>\n",
       "      <th>4</th>\n",
       "      <td>your flight schedule attached</td>\n",
       "      <td>False</td>\n",
       "    </tr>\n",
       "    <tr>\n",
       "      <th>5</th>\n",
       "      <td>your credit card statement</td>\n",
       "      <td>False</td>\n",
       "    </tr>\n",
       "  </tbody>\n",
       "</table>\n",
       "</div>"
      ],
      "text/plain": [
       "                                email title   spam\n",
       "0                      free game only today   True\n",
       "1                      cheapest flight deal   True\n",
       "2  limited time offer only today only today   True\n",
       "3                    today meeting schedule  False\n",
       "4             your flight schedule attached  False\n",
       "5                your credit card statement  False"
      ]
     },
     "execution_count": 2,
     "metadata": {},
     "output_type": "execute_result"
    }
   ],
   "source": [
    "email_list = [\n",
    "                {'email title': 'free game only today', 'spam': True},\n",
    "                {'email title': 'cheapest flight deal', 'spam': True},\n",
    "                {'email title': 'limited time offer only today only today', 'spam': True},\n",
    "                {'email title': 'today meeting schedule', 'spam': False},\n",
    "                {'email title': 'your flight schedule attached', 'spam': False},\n",
    "                {'email title': 'your credit card statement', 'spam': False}\n",
    "             ] #이메일로 전달되는 타이틀 텍스트를 보고 스팸메일인지 스팸메일이 아닌지를 확인하여 처리\n",
    "\n",
    "df = pd.DataFrame(email_list)\n",
    "df"
   ]
  },
  {
   "cell_type": "markdown",
   "id": "353fb0ac",
   "metadata": {},
   "source": [
    "## 데이터 다듬기\n",
    "* sklearn의 베르누이 나이브베이즈 분류기(BernoulliNB_모델 생성)는 숫자만을 다루기 때문에, True와 False를 1과 0으로 치환함."
   ]
  },
  {
   "cell_type": "code",
   "execution_count": 4,
   "id": "243d00ea",
   "metadata": {},
   "outputs": [
    {
     "data": {
      "text/html": [
       "<div>\n",
       "<style scoped>\n",
       "    .dataframe tbody tr th:only-of-type {\n",
       "        vertical-align: middle;\n",
       "    }\n",
       "\n",
       "    .dataframe tbody tr th {\n",
       "        vertical-align: top;\n",
       "    }\n",
       "\n",
       "    .dataframe thead th {\n",
       "        text-align: right;\n",
       "    }\n",
       "</style>\n",
       "<table border=\"1\" class=\"dataframe\">\n",
       "  <thead>\n",
       "    <tr style=\"text-align: right;\">\n",
       "      <th></th>\n",
       "      <th>email title</th>\n",
       "      <th>spam</th>\n",
       "      <th>label</th>\n",
       "    </tr>\n",
       "  </thead>\n",
       "  <tbody>\n",
       "    <tr>\n",
       "      <th>0</th>\n",
       "      <td>free game only today</td>\n",
       "      <td>True</td>\n",
       "      <td>1</td>\n",
       "    </tr>\n",
       "    <tr>\n",
       "      <th>1</th>\n",
       "      <td>cheapest flight deal</td>\n",
       "      <td>True</td>\n",
       "      <td>1</td>\n",
       "    </tr>\n",
       "    <tr>\n",
       "      <th>2</th>\n",
       "      <td>limited time offer only today only today</td>\n",
       "      <td>True</td>\n",
       "      <td>1</td>\n",
       "    </tr>\n",
       "    <tr>\n",
       "      <th>3</th>\n",
       "      <td>today meeting schedule</td>\n",
       "      <td>False</td>\n",
       "      <td>0</td>\n",
       "    </tr>\n",
       "    <tr>\n",
       "      <th>4</th>\n",
       "      <td>your flight schedule attached</td>\n",
       "      <td>False</td>\n",
       "      <td>0</td>\n",
       "    </tr>\n",
       "    <tr>\n",
       "      <th>5</th>\n",
       "      <td>your credit card statement</td>\n",
       "      <td>False</td>\n",
       "      <td>0</td>\n",
       "    </tr>\n",
       "  </tbody>\n",
       "</table>\n",
       "</div>"
      ],
      "text/plain": [
       "                                email title   spam  label\n",
       "0                      free game only today   True      1\n",
       "1                      cheapest flight deal   True      1\n",
       "2  limited time offer only today only today   True      1\n",
       "3                    today meeting schedule  False      0\n",
       "4             your flight schedule attached  False      0\n",
       "5                your credit card statement  False      0"
      ]
     },
     "execution_count": 4,
     "metadata": {},
     "output_type": "execute_result"
    }
   ],
   "source": [
    "df['label'] = df['spam'].map({True:1, False:0})\n",
    "df #분석에 적합한 데이터의 정리를 위한 전처리 -> 정답에 해당하는 데이터를 숫자형으로 자료형 변환을 함"
   ]
  },
  {
   "cell_type": "code",
   "execution_count": 5,
   "id": "4ff0bb63",
   "metadata": {},
   "outputs": [],
   "source": [
    "# 학습에 사용될 데이터와 분류값을 나눈다.\n",
    "df_x = df['email title'] #학습데이터\n",
    "df_y = df['label'] #정답데이터"
   ]
  },
  {
   "cell_type": "code",
   "execution_count": 6,
   "id": "716d583f",
   "metadata": {},
   "outputs": [],
   "source": [
    "#***베르누이 나이브베이즈는 결과 값이 0과 1로 표현되지만 입력데이터 또한 0과 1로 구분되어져 있는 데이터여야 한다!!\n",
    "#그렇다면 email title을 어떻게 0과 1로 나눌 수 있을까? \n",
    "\n",
    "cv = CountVectorizer(binary=True) #객체를 반환해줌\n",
    "x_traincv = cv.fit_transform(df_x) #그 객체를 학습하고난 다음에 학습된 데이터를 transform하여 리턴해달라는 것임. \n",
    "                                   # 빠르게 내부 알고리즘을 적용해서 두 동작을 한번에 처리하게끔 하는 기능이다."
   ]
  },
  {
   "cell_type": "code",
   "execution_count": 7,
   "id": "0fbac301",
   "metadata": {},
   "outputs": [
    {
     "data": {
      "text/plain": [
       "array([[0, 0, 0, 0, 0, 0, 1, 1, 0, 0, 0, 1, 0, 0, 0, 1, 0],\n",
       "       [0, 0, 1, 0, 1, 1, 0, 0, 0, 0, 0, 0, 0, 0, 0, 0, 0],\n",
       "       [0, 0, 0, 0, 0, 0, 0, 0, 1, 0, 1, 1, 0, 0, 1, 1, 0],\n",
       "       [0, 0, 0, 0, 0, 0, 0, 0, 0, 1, 0, 0, 1, 0, 0, 1, 0],\n",
       "       [1, 0, 0, 0, 0, 1, 0, 0, 0, 0, 0, 0, 1, 0, 0, 0, 1],\n",
       "       [0, 1, 0, 1, 0, 0, 0, 0, 0, 0, 0, 0, 0, 1, 0, 0, 1]], dtype=int64)"
      ]
     },
     "execution_count": 7,
     "metadata": {},
     "output_type": "execute_result"
    }
   ],
   "source": [
    "encoded_input = x_traincv.toarray() #배열의 형태로 데이터를 변환하여 저장\n",
    "encoded_input\n",
    "#0과 1로 email title 데이터를 어떻게 바꿔주느냐 \n",
    "#-> 내부에서는 단어들을 하나하나 분리함 (없는 단어들은 다 써주고 겹치면 냅둠. 횟수는 중요하지 않음, 표시만 하면 되는 것임)\n",
    "#처음 등장하는 단어를 쭉 열거해보고 단어의 수를 세어봤을 때 15개라고 할 때, 15칸의 메모리를 확보한다.\n",
    "#그 이후 단어마다 인덱스 번호를 붙임. 그러고 다시 문장들을 살펴봄 -> 등장하는 단어들을 보고 할당된 공간에 1을 표시함. 나머지는 0으로 채움\n",
    "#즉, 입력데이터를 숫자형으로 표시를 해줘야 하는데 이때, 등장하는 단어들을 보고 표시용으로 해당하는 단어에 맞는 할당 메모리 인덱스에 1을 담아주도록 하는 것이다.\n",
    "#    하나의 메일마다 15바이트가 할당되는 것임 (해당하는 단어는 1, 해당하지 않는 단어는 0)\n",
    "# 그렇게 하나의 메일에 제목에 등장한 단어들에 해당 단어들을 메모리에 담아주고 얼만큼 담겨졌는지를 세어봄"
   ]
  },
  {
   "cell_type": "code",
   "execution_count": 13,
   "id": "c61e5d61",
   "metadata": {},
   "outputs": [
    {
     "name": "stdout",
     "output_type": "stream",
     "text": [
      "[array(['free', 'game', 'only', 'today'], dtype='<U9')]\n",
      "[array(['cheapest', 'deal', 'flight'], dtype='<U9')]\n",
      "[array(['limited', 'offer', 'only', 'time', 'today'], dtype='<U9')]\n",
      "[array(['meeting', 'schedule', 'today'], dtype='<U9')]\n"
     ]
    }
   ],
   "source": [
    "print(cv.inverse_transform(encoded_input[[0]])) #첫번째 위치에 있는 제목에 문장을 복원시키도록 함 \n",
    "print(cv.inverse_transform(encoded_input[[1]]))\n",
    "print(cv.inverse_transform(encoded_input[[2]]))\n",
    "print(cv.inverse_transform(encoded_input[[3]]))"
   ]
  },
  {
   "cell_type": "code",
   "execution_count": 14,
   "id": "a1f5622a",
   "metadata": {},
   "outputs": [
    {
     "data": {
      "text/plain": [
       "array(['attached', 'card', 'cheapest', 'credit', 'deal', 'flight', 'free',\n",
       "       'game', 'limited', 'meeting', 'offer', 'only', 'schedule',\n",
       "       'statement', 'time', 'today', 'your'], dtype=object)"
      ]
     },
     "execution_count": 14,
     "metadata": {},
     "output_type": "execute_result"
    }
   ],
   "source": [
    "cv.get_feature_names_out() #알파벳 순서로 배치"
   ]
  },
  {
   "cell_type": "code",
   "execution_count": 8,
   "id": "7cd9bf63",
   "metadata": {},
   "outputs": [
    {
     "data": {
      "text/plain": [
       "{'free': 6,\n",
       " 'game': 7,\n",
       " 'only': 11,\n",
       " 'today': 15,\n",
       " 'cheapest': 2,\n",
       " 'flight': 5,\n",
       " 'deal': 4,\n",
       " 'limited': 8,\n",
       " 'time': 14,\n",
       " 'offer': 10,\n",
       " 'meeting': 9,\n",
       " 'schedule': 12,\n",
       " 'your': 16,\n",
       " 'attached': 0,\n",
       " 'credit': 3,\n",
       " 'card': 1,\n",
       " 'statement': 13}"
      ]
     },
     "execution_count": 8,
     "metadata": {},
     "output_type": "execute_result"
    }
   ],
   "source": [
    "cv.vocabulary_ #vocabulary_: 단어에 등장 빈도수를 관리하고 있는 필드이다."
   ]
  },
  {
   "cell_type": "markdown",
   "id": "fffe7edf",
   "metadata": {},
   "source": [
    "# 베르누이 나이브베이즈 분류"
   ]
  },
  {
   "cell_type": "code",
   "execution_count": 15,
   "id": "c07a56b7",
   "metadata": {},
   "outputs": [
    {
     "data": {
      "text/html": [
       "<style>#sk-container-id-1 {color: black;background-color: white;}#sk-container-id-1 pre{padding: 0;}#sk-container-id-1 div.sk-toggleable {background-color: white;}#sk-container-id-1 label.sk-toggleable__label {cursor: pointer;display: block;width: 100%;margin-bottom: 0;padding: 0.3em;box-sizing: border-box;text-align: center;}#sk-container-id-1 label.sk-toggleable__label-arrow:before {content: \"▸\";float: left;margin-right: 0.25em;color: #696969;}#sk-container-id-1 label.sk-toggleable__label-arrow:hover:before {color: black;}#sk-container-id-1 div.sk-estimator:hover label.sk-toggleable__label-arrow:before {color: black;}#sk-container-id-1 div.sk-toggleable__content {max-height: 0;max-width: 0;overflow: hidden;text-align: left;background-color: #f0f8ff;}#sk-container-id-1 div.sk-toggleable__content pre {margin: 0.2em;color: black;border-radius: 0.25em;background-color: #f0f8ff;}#sk-container-id-1 input.sk-toggleable__control:checked~div.sk-toggleable__content {max-height: 200px;max-width: 100%;overflow: auto;}#sk-container-id-1 input.sk-toggleable__control:checked~label.sk-toggleable__label-arrow:before {content: \"▾\";}#sk-container-id-1 div.sk-estimator input.sk-toggleable__control:checked~label.sk-toggleable__label {background-color: #d4ebff;}#sk-container-id-1 div.sk-label input.sk-toggleable__control:checked~label.sk-toggleable__label {background-color: #d4ebff;}#sk-container-id-1 input.sk-hidden--visually {border: 0;clip: rect(1px 1px 1px 1px);clip: rect(1px, 1px, 1px, 1px);height: 1px;margin: -1px;overflow: hidden;padding: 0;position: absolute;width: 1px;}#sk-container-id-1 div.sk-estimator {font-family: monospace;background-color: #f0f8ff;border: 1px dotted black;border-radius: 0.25em;box-sizing: border-box;margin-bottom: 0.5em;}#sk-container-id-1 div.sk-estimator:hover {background-color: #d4ebff;}#sk-container-id-1 div.sk-parallel-item::after {content: \"\";width: 100%;border-bottom: 1px solid gray;flex-grow: 1;}#sk-container-id-1 div.sk-label:hover label.sk-toggleable__label {background-color: #d4ebff;}#sk-container-id-1 div.sk-serial::before {content: \"\";position: absolute;border-left: 1px solid gray;box-sizing: border-box;top: 0;bottom: 0;left: 50%;z-index: 0;}#sk-container-id-1 div.sk-serial {display: flex;flex-direction: column;align-items: center;background-color: white;padding-right: 0.2em;padding-left: 0.2em;position: relative;}#sk-container-id-1 div.sk-item {position: relative;z-index: 1;}#sk-container-id-1 div.sk-parallel {display: flex;align-items: stretch;justify-content: center;background-color: white;position: relative;}#sk-container-id-1 div.sk-item::before, #sk-container-id-1 div.sk-parallel-item::before {content: \"\";position: absolute;border-left: 1px solid gray;box-sizing: border-box;top: 0;bottom: 0;left: 50%;z-index: -1;}#sk-container-id-1 div.sk-parallel-item {display: flex;flex-direction: column;z-index: 1;position: relative;background-color: white;}#sk-container-id-1 div.sk-parallel-item:first-child::after {align-self: flex-end;width: 50%;}#sk-container-id-1 div.sk-parallel-item:last-child::after {align-self: flex-start;width: 50%;}#sk-container-id-1 div.sk-parallel-item:only-child::after {width: 0;}#sk-container-id-1 div.sk-dashed-wrapped {border: 1px dashed gray;margin: 0 0.4em 0.5em 0.4em;box-sizing: border-box;padding-bottom: 0.4em;background-color: white;}#sk-container-id-1 div.sk-label label {font-family: monospace;font-weight: bold;display: inline-block;line-height: 1.2em;}#sk-container-id-1 div.sk-label-container {text-align: center;}#sk-container-id-1 div.sk-container {/* jupyter's `normalize.less` sets `[hidden] { display: none; }` but bootstrap.min.css set `[hidden] { display: none !important; }` so we also need the `!important` here to be able to override the default hidden behavior on the sphinx rendered scikit-learn.org. See: https://github.com/scikit-learn/scikit-learn/issues/21755 */display: inline-block !important;position: relative;}#sk-container-id-1 div.sk-text-repr-fallback {display: none;}</style><div id=\"sk-container-id-1\" class=\"sk-top-container\"><div class=\"sk-text-repr-fallback\"><pre>BernoulliNB()</pre><b>In a Jupyter environment, please rerun this cell to show the HTML representation or trust the notebook. <br />On GitHub, the HTML representation is unable to render, please try loading this page with nbviewer.org.</b></div><div class=\"sk-container\" hidden><div class=\"sk-item\"><div class=\"sk-estimator sk-toggleable\"><input class=\"sk-toggleable__control sk-hidden--visually\" id=\"sk-estimator-id-1\" type=\"checkbox\" checked><label for=\"sk-estimator-id-1\" class=\"sk-toggleable__label sk-toggleable__label-arrow\">BernoulliNB</label><div class=\"sk-toggleable__content\"><pre>BernoulliNB()</pre></div></div></div></div></div>"
      ],
      "text/plain": [
       "BernoulliNB()"
      ]
     },
     "execution_count": 15,
     "metadata": {},
     "output_type": "execute_result"
    }
   ],
   "source": [
    "#내부적으로 0이 들어갔을 때 스무딩에 의해서 0이 들어가지 않도록 자체 처리됨\n",
    "# 학습 데이터로 베르누이 분류기를 학습.\n",
    "bnb = BernoulliNB() #객체 생성\n",
    "\n",
    "y_train = df_y.astype('int') #정수형으로 바꾸기\n",
    "bnb.fit(x_traincv, y_train) #입력데이터에 대한 학습이 끝나면 최적화되어진 모델로 자체 업그레이드됨!!"
   ]
  },
  {
   "cell_type": "code",
   "execution_count": 17,
   "id": "7c21ded6",
   "metadata": {},
   "outputs": [],
   "source": [
    "# 테스트 데이터 다듬기\n",
    "test_email_list = [\n",
    "                {'email title': 'free flight offer', 'spam': True},\n",
    "                {'email title': 'hey traveler free flight deal', 'spam': True},\n",
    "                {'email title': 'limited free game offer', 'spam': True},\n",
    "                {'email title': 'today flight schedule', 'spam': False},\n",
    "                {'email title': 'your credit card attached', 'spam': False},\n",
    "                {'email title': 'free credit card offer only today', 'spam': False}\n",
    "             ] #테스트용 데이터\n",
    "\n",
    "test_df = pd.DataFrame(test_email_list)\n",
    "test_df['label'] = test_df['spam'].map({True:1, False:0})\n",
    "\n",
    "test_x = test_df['email title']\n",
    "test_y = test_df['label']\n",
    "\n",
    "#***이미 학습을 시켰기 때문에 학습을 다시 시키면 안됨. 만약 다시시키게 되면 초기화됨\n",
    "#위치가 동일해야 모델이 제대로 생성이 되어졌는지를 확인해야하기 때문이다!!\n",
    "x_testcv = cv.transform(test_x)"
   ]
  },
  {
   "cell_type": "markdown",
   "id": "d7b6886a",
   "metadata": {},
   "source": [
    "# 테스트"
   ]
  },
  {
   "cell_type": "code",
   "execution_count": 18,
   "id": "a7985f75",
   "metadata": {},
   "outputs": [],
   "source": [
    "predicted = bnb.predict(x_testcv) #예측값 요청"
   ]
  },
  {
   "cell_type": "markdown",
   "id": "a4bc73ad",
   "metadata": {},
   "source": [
    "# 정확도(Accuarcy)"
   ]
  },
  {
   "cell_type": "code",
   "execution_count": 19,
   "id": "3d329d80",
   "metadata": {},
   "outputs": [
    {
     "data": {
      "text/plain": [
       "0.8333333333333334"
      ]
     },
     "execution_count": 19,
     "metadata": {},
     "output_type": "execute_result"
    }
   ],
   "source": [
    "accuracy_score(test_y, predicted)"
   ]
  },
  {
   "cell_type": "code",
   "execution_count": null,
   "id": "8d96f00b",
   "metadata": {},
   "outputs": [],
   "source": []
  }
 ],
 "metadata": {
  "kernelspec": {
   "display_name": "Python [conda env:tf_cpu] *",
   "language": "python",
   "name": "conda-env-tf_cpu-py"
  },
  "language_info": {
   "codemirror_mode": {
    "name": "ipython",
    "version": 3
   },
   "file_extension": ".py",
   "mimetype": "text/x-python",
   "name": "python",
   "nbconvert_exporter": "python",
   "pygments_lexer": "ipython3",
   "version": "3.8.16"
  }
 },
 "nbformat": 4,
 "nbformat_minor": 5
}
