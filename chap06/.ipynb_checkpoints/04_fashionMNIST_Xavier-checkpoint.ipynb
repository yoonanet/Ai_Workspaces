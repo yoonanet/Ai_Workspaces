{
 "cells": [
  {
   "cell_type": "code",
   "execution_count": 1,
   "id": "4b3bb4c6",
   "metadata": {},
   "outputs": [],
   "source": [
    "from tensorflow import keras \n",
    "\n",
    "(train_input, train_target), (test_input, test_target) = keras.datasets.fashion_mnist.load_data()"
   ]
  },
  {
   "cell_type": "code",
   "execution_count": 2,
   "id": "38340716",
   "metadata": {},
   "outputs": [],
   "source": [
    "from sklearn.model_selection import train_test_split\n",
    "\n",
    "train_scaled = train_input / 255.\n",
    "train_scaled = train_scaled.reshape(-1, 28*28)\n",
    "\n",
    "train_scaled, val_scaled, train_target, val_target = train_test_split(train_scaled, train_target, test_size=0.2, random_state=1234)"
   ]
  },
  {
   "cell_type": "code",
   "execution_count": 3,
   "id": "068a9d2d",
   "metadata": {},
   "outputs": [],
   "source": [
    "model = keras.Sequential()\n",
    "\n",
    "# Xavier 정규분포 초기값 설정기 - 정규분포 초기값이라는 의미로 glorot_nomal 지정\n",
    "model.add(keras.layers.Dense(units=512, activation='relu', input_shape=(28*28, ), kernel_initializer='glorot_normal')) \n",
    "\n",
    "model.add(keras.layers.Dense(units=512, activation='relu', kernel_initializer='glorot_normal')) #은닉층 추가\n",
    "model.add(keras.layers.Dense(units=256, activation='relu', kernel_initializer='glorot_normal')) #은닉층 추가\n",
    "model.add(keras.layers.Dense(units=10, activation='softmax', kernel_initializer='glorot_normal')) #은닉층 추가\n"
   ]
  },
  {
   "cell_type": "code",
   "execution_count": 4,
   "id": "0bcdbfd2",
   "metadata": {},
   "outputs": [],
   "source": [
    "model.compile(optimizer=keras.optimizers.Adam(learning_rate=0.001), loss='sparse_categorical_crossentropy', metrics='accuracy')"
   ]
  },
  {
   "cell_type": "code",
   "execution_count": 5,
   "id": "63d081ac",
   "metadata": {
    "scrolled": true
   },
   "outputs": [
    {
     "name": "stdout",
     "output_type": "stream",
     "text": [
      "Epoch 1/50\n",
      "480/480 [==============================] - 3s 4ms/step - loss: 0.4937 - accuracy: 0.8226\n",
      "Epoch 2/50\n",
      "480/480 [==============================] - 2s 4ms/step - loss: 0.3648 - accuracy: 0.8657\n",
      "Epoch 3/50\n",
      "480/480 [==============================] - 2s 4ms/step - loss: 0.3248 - accuracy: 0.8800\n",
      "Epoch 4/50\n",
      "480/480 [==============================] - 2s 4ms/step - loss: 0.3053 - accuracy: 0.8874\n",
      "Epoch 5/50\n",
      "480/480 [==============================] - 2s 4ms/step - loss: 0.2831 - accuracy: 0.8939\n",
      "Epoch 6/50\n",
      "480/480 [==============================] - 2s 4ms/step - loss: 0.2684 - accuracy: 0.8984\n",
      "Epoch 7/50\n",
      "480/480 [==============================] - 2s 4ms/step - loss: 0.2543 - accuracy: 0.9041\n",
      "Epoch 8/50\n",
      "480/480 [==============================] - 2s 4ms/step - loss: 0.2404 - accuracy: 0.9078\n",
      "Epoch 9/50\n",
      "480/480 [==============================] - 2s 4ms/step - loss: 0.2317 - accuracy: 0.9115\n",
      "Epoch 10/50\n",
      "480/480 [==============================] - 2s 4ms/step - loss: 0.2201 - accuracy: 0.9161\n",
      "Epoch 11/50\n",
      "480/480 [==============================] - 2s 4ms/step - loss: 0.2163 - accuracy: 0.9173\n",
      "Epoch 12/50\n",
      "480/480 [==============================] - 2s 4ms/step - loss: 0.2038 - accuracy: 0.9223\n",
      "Epoch 13/50\n",
      "480/480 [==============================] - 2s 4ms/step - loss: 0.1908 - accuracy: 0.9253\n",
      "Epoch 14/50\n",
      "480/480 [==============================] - 2s 4ms/step - loss: 0.1874 - accuracy: 0.9283\n",
      "Epoch 15/50\n",
      "480/480 [==============================] - 2s 4ms/step - loss: 0.1780 - accuracy: 0.9315\n",
      "Epoch 16/50\n",
      "480/480 [==============================] - 2s 4ms/step - loss: 0.1717 - accuracy: 0.9344\n",
      "Epoch 17/50\n",
      "480/480 [==============================] - 2s 4ms/step - loss: 0.1664 - accuracy: 0.9345\n",
      "Epoch 18/50\n",
      "480/480 [==============================] - 2s 4ms/step - loss: 0.1586 - accuracy: 0.9381\n",
      "Epoch 19/50\n",
      "480/480 [==============================] - 2s 4ms/step - loss: 0.1533 - accuracy: 0.9401\n",
      "Epoch 20/50\n",
      "480/480 [==============================] - 2s 4ms/step - loss: 0.1494 - accuracy: 0.9417\n",
      "Epoch 21/50\n",
      "480/480 [==============================] - 2s 4ms/step - loss: 0.1417 - accuracy: 0.9445\n",
      "Epoch 22/50\n",
      "480/480 [==============================] - 2s 4ms/step - loss: 0.1332 - accuracy: 0.9476\n",
      "Epoch 23/50\n",
      "480/480 [==============================] - 2s 4ms/step - loss: 0.1338 - accuracy: 0.9478\n",
      "Epoch 24/50\n",
      "480/480 [==============================] - 2s 4ms/step - loss: 0.1256 - accuracy: 0.9510\n",
      "Epoch 25/50\n",
      "480/480 [==============================] - 2s 4ms/step - loss: 0.1237 - accuracy: 0.9511\n",
      "Epoch 26/50\n",
      "480/480 [==============================] - 2s 4ms/step - loss: 0.1180 - accuracy: 0.9540\n",
      "Epoch 27/50\n",
      "480/480 [==============================] - 2s 4ms/step - loss: 0.1135 - accuracy: 0.9548\n",
      "Epoch 28/50\n",
      "480/480 [==============================] - 2s 4ms/step - loss: 0.1087 - accuracy: 0.9558\n",
      "Epoch 29/50\n",
      "480/480 [==============================] - 2s 4ms/step - loss: 0.1060 - accuracy: 0.9575\n",
      "Epoch 30/50\n",
      "480/480 [==============================] - 2s 4ms/step - loss: 0.1017 - accuracy: 0.9607\n",
      "Epoch 31/50\n",
      "480/480 [==============================] - 2s 4ms/step - loss: 0.1037 - accuracy: 0.9595\n",
      "Epoch 32/50\n",
      "480/480 [==============================] - 2s 4ms/step - loss: 0.0912 - accuracy: 0.9640\n",
      "Epoch 33/50\n",
      "480/480 [==============================] - 2s 4ms/step - loss: 0.0905 - accuracy: 0.9645\n",
      "Epoch 34/50\n",
      "480/480 [==============================] - 2s 4ms/step - loss: 0.0926 - accuracy: 0.9642\n",
      "Epoch 35/50\n",
      "480/480 [==============================] - 2s 4ms/step - loss: 0.0899 - accuracy: 0.9659\n",
      "Epoch 36/50\n",
      "480/480 [==============================] - 2s 4ms/step - loss: 0.0810 - accuracy: 0.9685\n",
      "Epoch 37/50\n",
      "480/480 [==============================] - 2s 4ms/step - loss: 0.0802 - accuracy: 0.9686\n",
      "Epoch 38/50\n",
      "480/480 [==============================] - 2s 4ms/step - loss: 0.0829 - accuracy: 0.9683\n",
      "Epoch 39/50\n",
      "480/480 [==============================] - 2s 4ms/step - loss: 0.0701 - accuracy: 0.9730\n",
      "Epoch 40/50\n",
      "480/480 [==============================] - 2s 4ms/step - loss: 0.0791 - accuracy: 0.9701\n",
      "Epoch 41/50\n",
      "480/480 [==============================] - 2s 4ms/step - loss: 0.0727 - accuracy: 0.9722\n",
      "Epoch 42/50\n",
      "480/480 [==============================] - 2s 4ms/step - loss: 0.0654 - accuracy: 0.9745\n",
      "Epoch 43/50\n",
      "480/480 [==============================] - 2s 4ms/step - loss: 0.0653 - accuracy: 0.9749\n",
      "Epoch 44/50\n",
      "480/480 [==============================] - 2s 4ms/step - loss: 0.0686 - accuracy: 0.9729\n",
      "Epoch 45/50\n",
      "480/480 [==============================] - 2s 4ms/step - loss: 0.0678 - accuracy: 0.9735\n",
      "Epoch 46/50\n",
      "480/480 [==============================] - 2s 4ms/step - loss: 0.0687 - accuracy: 0.9736\n",
      "Epoch 47/50\n",
      "480/480 [==============================] - 2s 4ms/step - loss: 0.0537 - accuracy: 0.9793\n",
      "Epoch 48/50\n",
      "480/480 [==============================] - 2s 4ms/step - loss: 0.0555 - accuracy: 0.9794\n",
      "Epoch 49/50\n",
      "480/480 [==============================] - 2s 4ms/step - loss: 0.0604 - accuracy: 0.9769\n",
      "Epoch 50/50\n",
      "480/480 [==============================] - 2s 4ms/step - loss: 0.0570 - accuracy: 0.9782\n"
     ]
    },
    {
     "data": {
      "text/plain": [
       "<keras.callbacks.History at 0x205616bd760>"
      ]
     },
     "execution_count": 5,
     "metadata": {},
     "output_type": "execute_result"
    }
   ],
   "source": [
    "model.fit(train_scaled, train_target, epochs=50, batch_size=100)\n",
    "# Xavier의 초기값으로 시작을 했기 때문에 높은 정확도와 낮은 손실로 부터 체크되고 있음"
   ]
  },
  {
   "cell_type": "code",
   "execution_count": 6,
   "id": "2c57bbf0",
   "metadata": {},
   "outputs": [
    {
     "name": "stdout",
     "output_type": "stream",
     "text": [
      "375/375 [==============================] - 1s 2ms/step - loss: 0.5687 - accuracy: 0.8948\n"
     ]
    },
    {
     "data": {
      "text/plain": [
       "[0.5687248110771179, 0.8948333263397217]"
      ]
     },
     "execution_count": 6,
     "metadata": {},
     "output_type": "execute_result"
    }
   ],
   "source": [
    "model.evaluate(val_scaled, val_target)"
   ]
  }
 ],
 "metadata": {
  "kernelspec": {
   "display_name": "Python [conda env:tf_cpu] *",
   "language": "python",
   "name": "conda-env-tf_cpu-py"
  },
  "language_info": {
   "codemirror_mode": {
    "name": "ipython",
    "version": 3
   },
   "file_extension": ".py",
   "mimetype": "text/x-python",
   "name": "python",
   "nbconvert_exporter": "python",
   "pygments_lexer": "ipython3",
   "version": "3.8.16"
  }
 },
 "nbformat": 4,
 "nbformat_minor": 5
}
