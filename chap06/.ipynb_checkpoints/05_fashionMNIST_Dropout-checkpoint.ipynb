{
 "cells": [
  {
   "cell_type": "code",
   "execution_count": 1,
   "id": "9cbe2556",
   "metadata": {},
   "outputs": [],
   "source": [
    "#드롭아웃을 통해 학습시에 오버피팅에 빠지지 않도록 모든 뉴런을 활성화해서 학습하는 것이 아닌 \n",
    "#학습할 때마다 일부 뉴런들만을 활성화하고, 일부 뉴런들은 비활성화 시키도록 함 => 그렇게 하여 오버피팅 개선.\n",
    "from tensorflow import keras \n",
    "\n",
    "(train_input, train_target), (test_input, test_target) = keras.datasets.fashion_mnist.load_data()"
   ]
  },
  {
   "cell_type": "code",
   "execution_count": 2,
   "id": "bd0ca5e8",
   "metadata": {},
   "outputs": [],
   "source": [
    "#훈련과 테스트 처리\n",
    "from sklearn.model_selection import train_test_split\n",
    "\n",
    "train_scaled = train_input / 255.\n",
    "train_scaled = train_scaled.reshape(-1, 28*28)\n",
    "\n",
    "train_scaled, val_scaled, train_target, val_target = train_test_split(train_scaled, train_target, test_size=0.2, random_state=1234)"
   ]
  },
  {
   "cell_type": "code",
   "execution_count": 3,
   "id": "4a76f893",
   "metadata": {},
   "outputs": [],
   "source": [
    "model = keras.Sequential()\n",
    "\n",
    "model.add(keras.layers.Dense(units=512, activation='relu', input_shape=(28*28, ), kernel_initializer='glorot_normal')) \n",
    "\n",
    "model.add(keras.layers.Dropout(0.3)) \n",
    "#드롭아웃클래스를 keras의 레이어에서 제공 / 전체뉴런 512개 중에서 30%는 비활성화하고 70%는 뽑아내서 학습을 시키도록 함 \n",
    "#                                          (레이어마다 삽입이 가능하다.)\n",
    "\n",
    "model.add(keras.layers.Dense(units=512, activation='relu', kernel_initializer='glorot_normal')) #은닉층 추가\n",
    "model.add(keras.layers.Dropout(0.3)) #각 은닉층별 드롭아웃을 구성하도록 함\n",
    "\n",
    "model.add(keras.layers.Dense(units=256, activation='relu', kernel_initializer='glorot_normal')) #은닉층 추가\n",
    "model.add(keras.layers.Dropout(0.3)) \n",
    "\n",
    "model.add(keras.layers.Dense(units=10, activation='softmax', kernel_initializer='glorot_normal')) #은닉층 추가"
   ]
  },
  {
   "cell_type": "code",
   "execution_count": 4,
   "id": "cdf224c5",
   "metadata": {},
   "outputs": [
    {
     "name": "stdout",
     "output_type": "stream",
     "text": [
      "Model: \"sequential\"\n",
      "_________________________________________________________________\n",
      " Layer (type)                Output Shape              Param #   \n",
      "=================================================================\n",
      " dense (Dense)               (None, 512)               401920    \n",
      "                                                                 \n",
      " dropout (Dropout)           (None, 512)               0         \n",
      "                                                                 \n",
      " dense_1 (Dense)             (None, 512)               262656    \n",
      "                                                                 \n",
      " dropout_1 (Dropout)         (None, 512)               0         \n",
      "                                                                 \n",
      " dense_2 (Dense)             (None, 256)               131328    \n",
      "                                                                 \n",
      " dropout_2 (Dropout)         (None, 256)               0         \n",
      "                                                                 \n",
      " dense_3 (Dense)             (None, 10)                2570      \n",
      "                                                                 \n",
      "=================================================================\n",
      "Total params: 798,474\n",
      "Trainable params: 798,474\n",
      "Non-trainable params: 0\n",
      "_________________________________________________________________\n"
     ]
    }
   ],
   "source": [
    "model.compile(optimizer=keras.optimizers.Adam(learning_rate=0.001), loss='sparse_categorical_crossentropy', metrics='accuracy')\n",
    "\n",
    "model.summary() #신경망 구조 확인\n",
    "# 드롭아웃이 중간마다 잘 구성된 것을 확인할 수 있다."
   ]
  },
  {
   "cell_type": "code",
   "execution_count": 5,
   "id": "8f286de1",
   "metadata": {
    "scrolled": true
   },
   "outputs": [
    {
     "name": "stdout",
     "output_type": "stream",
     "text": [
      "Epoch 1/50\n",
      "480/480 [==============================] - 3s 5ms/step - loss: 0.6040 - accuracy: 0.7809\n",
      "Epoch 2/50\n",
      "480/480 [==============================] - 2s 5ms/step - loss: 0.4306 - accuracy: 0.8428\n",
      "Epoch 3/50\n",
      "480/480 [==============================] - 2s 5ms/step - loss: 0.3963 - accuracy: 0.8556\n",
      "Epoch 4/50\n",
      "480/480 [==============================] - 2s 5ms/step - loss: 0.3735 - accuracy: 0.8649\n",
      "Epoch 5/50\n",
      "480/480 [==============================] - 2s 5ms/step - loss: 0.3605 - accuracy: 0.8677\n",
      "Epoch 6/50\n",
      "480/480 [==============================] - 2s 5ms/step - loss: 0.3459 - accuracy: 0.8728\n",
      "Epoch 7/50\n",
      "480/480 [==============================] - 2s 5ms/step - loss: 0.3359 - accuracy: 0.8772\n",
      "Epoch 8/50\n",
      "480/480 [==============================] - 2s 5ms/step - loss: 0.3275 - accuracy: 0.8804\n",
      "Epoch 9/50\n",
      "480/480 [==============================] - 2s 5ms/step - loss: 0.3184 - accuracy: 0.8819\n",
      "Epoch 10/50\n",
      "480/480 [==============================] - 2s 5ms/step - loss: 0.3113 - accuracy: 0.8845\n",
      "Epoch 11/50\n",
      "480/480 [==============================] - 2s 5ms/step - loss: 0.3015 - accuracy: 0.8886\n",
      "Epoch 12/50\n",
      "480/480 [==============================] - 2s 5ms/step - loss: 0.2976 - accuracy: 0.8886\n",
      "Epoch 13/50\n",
      "480/480 [==============================] - 2s 5ms/step - loss: 0.2898 - accuracy: 0.8922\n",
      "Epoch 14/50\n",
      "480/480 [==============================] - 2s 5ms/step - loss: 0.2872 - accuracy: 0.8929\n",
      "Epoch 15/50\n",
      "480/480 [==============================] - 2s 5ms/step - loss: 0.2804 - accuracy: 0.8965\n",
      "Epoch 16/50\n",
      "480/480 [==============================] - 2s 5ms/step - loss: 0.2788 - accuracy: 0.8965\n",
      "Epoch 17/50\n",
      "480/480 [==============================] - 2s 5ms/step - loss: 0.2775 - accuracy: 0.8964\n",
      "Epoch 18/50\n",
      "480/480 [==============================] - 2s 5ms/step - loss: 0.2659 - accuracy: 0.9005\n",
      "Epoch 19/50\n",
      "480/480 [==============================] - 2s 5ms/step - loss: 0.2669 - accuracy: 0.8997\n",
      "Epoch 20/50\n",
      "480/480 [==============================] - 2s 5ms/step - loss: 0.2654 - accuracy: 0.9010\n",
      "Epoch 21/50\n",
      "480/480 [==============================] - 2s 5ms/step - loss: 0.2595 - accuracy: 0.9029\n",
      "Epoch 22/50\n",
      "480/480 [==============================] - 2s 5ms/step - loss: 0.2546 - accuracy: 0.9051\n",
      "Epoch 23/50\n",
      "480/480 [==============================] - 2s 5ms/step - loss: 0.2569 - accuracy: 0.9048\n",
      "Epoch 24/50\n",
      "480/480 [==============================] - 2s 5ms/step - loss: 0.2514 - accuracy: 0.9065\n",
      "Epoch 25/50\n",
      "480/480 [==============================] - 2s 5ms/step - loss: 0.2465 - accuracy: 0.9071\n",
      "Epoch 26/50\n",
      "480/480 [==============================] - 2s 5ms/step - loss: 0.2440 - accuracy: 0.9089\n",
      "Epoch 27/50\n",
      "480/480 [==============================] - 2s 5ms/step - loss: 0.2446 - accuracy: 0.9086\n",
      "Epoch 28/50\n",
      "480/480 [==============================] - 2s 5ms/step - loss: 0.2383 - accuracy: 0.9094\n",
      "Epoch 29/50\n",
      "480/480 [==============================] - 2s 5ms/step - loss: 0.2342 - accuracy: 0.9113\n",
      "Epoch 30/50\n",
      "480/480 [==============================] - 2s 5ms/step - loss: 0.2386 - accuracy: 0.9112\n",
      "Epoch 31/50\n",
      "480/480 [==============================] - 2s 5ms/step - loss: 0.2313 - accuracy: 0.9126\n",
      "Epoch 32/50\n",
      "480/480 [==============================] - 2s 5ms/step - loss: 0.2299 - accuracy: 0.9145\n",
      "Epoch 33/50\n",
      "480/480 [==============================] - 2s 5ms/step - loss: 0.2270 - accuracy: 0.9140\n",
      "Epoch 34/50\n",
      "480/480 [==============================] - 2s 5ms/step - loss: 0.2258 - accuracy: 0.9154\n",
      "Epoch 35/50\n",
      "480/480 [==============================] - 2s 5ms/step - loss: 0.2261 - accuracy: 0.9157\n",
      "Epoch 36/50\n",
      "480/480 [==============================] - 2s 5ms/step - loss: 0.2247 - accuracy: 0.9166\n",
      "Epoch 37/50\n",
      "480/480 [==============================] - 2s 5ms/step - loss: 0.2206 - accuracy: 0.9180\n",
      "Epoch 38/50\n",
      "480/480 [==============================] - 2s 5ms/step - loss: 0.2175 - accuracy: 0.9197\n",
      "Epoch 39/50\n",
      "480/480 [==============================] - 2s 5ms/step - loss: 0.2166 - accuracy: 0.9190\n",
      "Epoch 40/50\n",
      "480/480 [==============================] - 2s 5ms/step - loss: 0.2147 - accuracy: 0.9196\n",
      "Epoch 41/50\n",
      "480/480 [==============================] - 2s 5ms/step - loss: 0.2133 - accuracy: 0.9207\n",
      "Epoch 42/50\n",
      "480/480 [==============================] - 2s 5ms/step - loss: 0.2067 - accuracy: 0.9219\n",
      "Epoch 43/50\n",
      "480/480 [==============================] - 2s 5ms/step - loss: 0.2083 - accuracy: 0.9216\n",
      "Epoch 44/50\n",
      "480/480 [==============================] - 2s 5ms/step - loss: 0.2085 - accuracy: 0.9221\n",
      "Epoch 45/50\n",
      "480/480 [==============================] - 2s 5ms/step - loss: 0.2031 - accuracy: 0.9245\n",
      "Epoch 46/50\n",
      "480/480 [==============================] - 2s 5ms/step - loss: 0.2091 - accuracy: 0.9225\n",
      "Epoch 47/50\n",
      "480/480 [==============================] - 2s 5ms/step - loss: 0.2023 - accuracy: 0.9240\n",
      "Epoch 48/50\n",
      "480/480 [==============================] - 2s 5ms/step - loss: 0.2009 - accuracy: 0.9251\n",
      "Epoch 49/50\n",
      "480/480 [==============================] - 2s 5ms/step - loss: 0.1993 - accuracy: 0.9259\n",
      "Epoch 50/50\n",
      "480/480 [==============================] - 2s 5ms/step - loss: 0.1955 - accuracy: 0.9265\n"
     ]
    },
    {
     "data": {
      "text/plain": [
       "<keras.callbacks.History at 0x203017faf70>"
      ]
     },
     "execution_count": 5,
     "metadata": {},
     "output_type": "execute_result"
    }
   ],
   "source": [
    "model.fit(train_scaled, train_target, epochs=50, batch_size=100)"
   ]
  },
  {
   "cell_type": "code",
   "execution_count": 6,
   "id": "3a6bc069",
   "metadata": {},
   "outputs": [
    {
     "name": "stdout",
     "output_type": "stream",
     "text": [
      "375/375 [==============================] - 1s 2ms/step - loss: 0.3101 - accuracy: 0.8967\n"
     ]
    },
    {
     "data": {
      "text/plain": [
       "[0.3100949823856354, 0.8966666460037231]"
      ]
     },
     "execution_count": 6,
     "metadata": {},
     "output_type": "execute_result"
    }
   ],
   "source": [
    "model.evaluate(val_scaled, val_target)"
   ]
  },
  {
   "cell_type": "code",
   "execution_count": null,
   "id": "04759a46",
   "metadata": {},
   "outputs": [],
   "source": []
  }
 ],
 "metadata": {
  "kernelspec": {
   "display_name": "Python [conda env:tf_cpu] *",
   "language": "python",
   "name": "conda-env-tf_cpu-py"
  },
  "language_info": {
   "codemirror_mode": {
    "name": "ipython",
    "version": 3
   },
   "file_extension": ".py",
   "mimetype": "text/x-python",
   "name": "python",
   "nbconvert_exporter": "python",
   "pygments_lexer": "ipython3",
   "version": "3.8.16"
  }
 },
 "nbformat": 4,
 "nbformat_minor": 5
}
