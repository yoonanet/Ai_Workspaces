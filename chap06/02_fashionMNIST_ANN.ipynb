{
 "cells": [
  {
   "cell_type": "code",
   "execution_count": 2,
   "id": "93999c69",
   "metadata": {},
   "outputs": [
    {
     "data": {
      "text/plain": [
       "(60000, 784)"
      ]
     },
     "execution_count": 2,
     "metadata": {},
     "output_type": "execute_result"
    }
   ],
   "source": [
    "import tensorflow as tf\n",
    "from sklearn.model_selection import train_test_split\n",
    "\n",
    "(train_input, train_target) ,(test_input, test_target) = tf.keras.datasets.fashion_mnist.load_data() \n",
    "\n",
    "\n",
    "train_scaled = train_input / 255.0 \n",
    "#나의 최대값으로 나누어주면 현재 나의 값이 0과 1사이의 값으로 정규화 되어질 것임.\n",
    "train_scaled = train_scaled. reshape(-1, 28*28) #1차원의 배열형태로 reshape을 시키도록 한다. / -1은 가변의 의미임\n",
    "train_scaled.shape"
   ]
  },
  {
   "cell_type": "code",
   "execution_count": 4,
   "id": "63f43bc1",
   "metadata": {},
   "outputs": [],
   "source": [
    "train_scaled, val_scaled, train_target, val_target = train_test_split(train_scaled, train_target, test_size=0.2, random_state=1234)\n",
    "#20%의 데이터를 랜덤하게 꺼내와서 검증용으로, 나머지는 학습용으로 트레이닝하기 위해 분리시킴"
   ]
  },
  {
   "cell_type": "code",
   "execution_count": 5,
   "id": "252d6a92",
   "metadata": {},
   "outputs": [
    {
     "name": "stdout",
     "output_type": "stream",
     "text": [
      "(48000, 784) (48000,)\n",
      "(12000, 784) (12000,)\n"
     ]
    }
   ],
   "source": [
    "print(train_scaled.shape, train_target.shape)\n",
    "print(val_scaled.shape, val_target.shape)"
   ]
  },
  {
   "cell_type": "code",
   "execution_count": 6,
   "id": "f660da6f",
   "metadata": {},
   "outputs": [],
   "source": [
    "model = tf.keras.Sequential()\n",
    "model.add(tf.keras.layers.Dense(units=10, input_shape=(28*28,), activation='softmax')) #10개의 뉴런을 구성 / 입력의 shape을 알려주도록 함\n",
    "#10가지의 분류군이기 때문에 softmax로 지정을 해주도록 한다."
   ]
  },
  {
   "cell_type": "code",
   "execution_count": 11,
   "id": "1a31b4d8",
   "metadata": {},
   "outputs": [],
   "source": [
    "model.compile(loss='sparse_categorical_crossentropy', optimizer='sgd', metrics='accuracy') #모델의 설정을 적용해주도록 한다.\n",
    "#optimizer의 sgd는 러닝레잇의 디폴트값이 0.1로 지정되어져 있음!! 키워드를 통한 지정은 디폴트값에 셋팅이 되는 것임\n",
    "#**손실함수를 적용할 때 sparse_로 적용을 한다면 결과를 별도로 원핫인코딩형태로 입력데이터를 집어넣지 않더라도 \n",
    "#결과의 형태를 보면서 자동으로 이 데이터들을 원핫인코딩으로 내부에서 수행을 하게 됨 => 키워드로 제공해주는 것\n",
    "\n",
    "#원핫인코딩: 원-핫 인코딩은 단어 집합의 크기를 벡터의 차원으로 하고, 표현하고 싶은 단어의 인덱스에 1의 값을 부여하고, \n",
    "#            다른 인덱스에는 0을 부여하는 벡터 표현 방식입니다."
   ]
  },
  {
   "cell_type": "code",
   "execution_count": 14,
   "id": "6f222814",
   "metadata": {
    "scrolled": true
   },
   "outputs": [
    {
     "name": "stdout",
     "output_type": "stream",
     "text": [
      "Epoch 1/100\n",
      "1500/1500 [==============================] - 3s 2ms/step - loss: 0.3928 - accuracy: 0.8653\n",
      "Epoch 2/100\n",
      "1500/1500 [==============================] - 3s 2ms/step - loss: 0.3926 - accuracy: 0.8660\n",
      "Epoch 3/100\n",
      "1500/1500 [==============================] - 4s 3ms/step - loss: 0.3918 - accuracy: 0.8660\n",
      "Epoch 4/100\n",
      "1500/1500 [==============================] - 4s 2ms/step - loss: 0.3918 - accuracy: 0.8661\n",
      "Epoch 5/100\n",
      "1500/1500 [==============================] - 3s 2ms/step - loss: 0.3909 - accuracy: 0.8670\n",
      "Epoch 6/100\n",
      "1500/1500 [==============================] - 3s 2ms/step - loss: 0.3908 - accuracy: 0.8662\n",
      "Epoch 7/100\n",
      "1500/1500 [==============================] - 4s 2ms/step - loss: 0.3902 - accuracy: 0.8658\n",
      "Epoch 8/100\n",
      "1500/1500 [==============================] - 4s 2ms/step - loss: 0.3902 - accuracy: 0.8660\n",
      "Epoch 9/100\n",
      "1500/1500 [==============================] - 2s 2ms/step - loss: 0.3892 - accuracy: 0.8673\n",
      "Epoch 10/100\n",
      "1500/1500 [==============================] - 3s 2ms/step - loss: 0.3893 - accuracy: 0.8671\n",
      "Epoch 11/100\n",
      "1500/1500 [==============================] - 3s 2ms/step - loss: 0.3886 - accuracy: 0.8665\n",
      "Epoch 12/100\n",
      "1500/1500 [==============================] - 3s 2ms/step - loss: 0.3882 - accuracy: 0.8675\n",
      "Epoch 13/100\n",
      "1500/1500 [==============================] - 3s 2ms/step - loss: 0.3878 - accuracy: 0.8676\n",
      "Epoch 14/100\n",
      "1500/1500 [==============================] - 2s 2ms/step - loss: 0.3877 - accuracy: 0.8668\n",
      "Epoch 15/100\n",
      "1500/1500 [==============================] - 3s 2ms/step - loss: 0.3873 - accuracy: 0.8679\n",
      "Epoch 16/100\n",
      "1500/1500 [==============================] - 3s 2ms/step - loss: 0.3870 - accuracy: 0.8676\n",
      "Epoch 17/100\n",
      "1500/1500 [==============================] - 4s 2ms/step - loss: 0.3864 - accuracy: 0.8687\n",
      "Epoch 18/100\n",
      "1500/1500 [==============================] - 3s 2ms/step - loss: 0.3861 - accuracy: 0.8684\n",
      "Epoch 19/100\n",
      "1500/1500 [==============================] - 4s 3ms/step - loss: 0.3859 - accuracy: 0.8682\n",
      "Epoch 20/100\n",
      "1500/1500 [==============================] - 3s 2ms/step - loss: 0.3857 - accuracy: 0.8679\n",
      "Epoch 21/100\n",
      "1500/1500 [==============================] - 3s 2ms/step - loss: 0.3852 - accuracy: 0.8682\n",
      "Epoch 22/100\n",
      "1500/1500 [==============================] - 4s 3ms/step - loss: 0.3848 - accuracy: 0.8684\n",
      "Epoch 23/100\n",
      "1500/1500 [==============================] - 4s 2ms/step - loss: 0.3849 - accuracy: 0.8681\n",
      "Epoch 24/100\n",
      "1500/1500 [==============================] - 4s 2ms/step - loss: 0.3845 - accuracy: 0.8682\n",
      "Epoch 25/100\n",
      "1500/1500 [==============================] - 4s 2ms/step - loss: 0.3845 - accuracy: 0.8687\n",
      "Epoch 26/100\n",
      "1500/1500 [==============================] - 3s 2ms/step - loss: 0.3838 - accuracy: 0.8686\n",
      "Epoch 27/100\n",
      "1500/1500 [==============================] - 3s 2ms/step - loss: 0.3836 - accuracy: 0.8686\n",
      "Epoch 28/100\n",
      "1500/1500 [==============================] - 3s 2ms/step - loss: 0.3830 - accuracy: 0.8684\n",
      "Epoch 29/100\n",
      "1500/1500 [==============================] - 3s 2ms/step - loss: 0.3832 - accuracy: 0.8687\n",
      "Epoch 30/100\n",
      "1500/1500 [==============================] - 3s 2ms/step - loss: 0.3825 - accuracy: 0.8691\n",
      "Epoch 31/100\n",
      "1500/1500 [==============================] - 4s 3ms/step - loss: 0.3822 - accuracy: 0.8693\n",
      "Epoch 32/100\n",
      "1500/1500 [==============================] - 3s 2ms/step - loss: 0.3821 - accuracy: 0.8695\n",
      "Epoch 33/100\n",
      "1500/1500 [==============================] - 3s 2ms/step - loss: 0.3819 - accuracy: 0.8696\n",
      "Epoch 34/100\n",
      "1500/1500 [==============================] - 3s 2ms/step - loss: 0.3815 - accuracy: 0.8694\n",
      "Epoch 35/100\n",
      "1500/1500 [==============================] - 3s 2ms/step - loss: 0.3814 - accuracy: 0.8696\n",
      "Epoch 36/100\n",
      "1500/1500 [==============================] - 3s 2ms/step - loss: 0.3812 - accuracy: 0.8694\n",
      "Epoch 37/100\n",
      "1500/1500 [==============================] - 3s 2ms/step - loss: 0.3811 - accuracy: 0.8692\n",
      "Epoch 38/100\n",
      "1500/1500 [==============================] - 3s 2ms/step - loss: 0.3805 - accuracy: 0.8697\n",
      "Epoch 39/100\n",
      "1500/1500 [==============================] - 4s 2ms/step - loss: 0.3802 - accuracy: 0.8698\n",
      "Epoch 40/100\n",
      "1500/1500 [==============================] - 3s 2ms/step - loss: 0.3801 - accuracy: 0.8695\n",
      "Epoch 41/100\n",
      "1500/1500 [==============================] - 4s 2ms/step - loss: 0.3799 - accuracy: 0.8689\n",
      "Epoch 42/100\n",
      "1500/1500 [==============================] - 3s 2ms/step - loss: 0.3795 - accuracy: 0.8705\n",
      "Epoch 43/100\n",
      "1500/1500 [==============================] - 3s 2ms/step - loss: 0.3796 - accuracy: 0.8700\n",
      "Epoch 44/100\n",
      "1500/1500 [==============================] - 3s 2ms/step - loss: 0.3790 - accuracy: 0.8699\n",
      "Epoch 45/100\n",
      "1500/1500 [==============================] - 4s 3ms/step - loss: 0.3787 - accuracy: 0.8700\n",
      "Epoch 46/100\n",
      "1500/1500 [==============================] - 3s 2ms/step - loss: 0.3789 - accuracy: 0.8697\n",
      "Epoch 47/100\n",
      "1500/1500 [==============================] - 3s 2ms/step - loss: 0.3786 - accuracy: 0.8706\n",
      "Epoch 48/100\n",
      "1500/1500 [==============================] - 4s 2ms/step - loss: 0.3785 - accuracy: 0.8702\n",
      "Epoch 49/100\n",
      "1500/1500 [==============================] - 4s 2ms/step - loss: 0.3779 - accuracy: 0.8706\n",
      "Epoch 50/100\n",
      "1500/1500 [==============================] - 4s 3ms/step - loss: 0.3779 - accuracy: 0.8697\n",
      "Epoch 51/100\n",
      "1500/1500 [==============================] - 4s 3ms/step - loss: 0.3775 - accuracy: 0.8708\n",
      "Epoch 52/100\n",
      "1500/1500 [==============================] - 4s 3ms/step - loss: 0.3774 - accuracy: 0.8702\n",
      "Epoch 53/100\n",
      "1500/1500 [==============================] - 4s 3ms/step - loss: 0.3772 - accuracy: 0.8710\n",
      "Epoch 54/100\n",
      "1500/1500 [==============================] - 4s 2ms/step - loss: 0.3770 - accuracy: 0.8706\n",
      "Epoch 55/100\n",
      "1500/1500 [==============================] - 4s 3ms/step - loss: 0.3768 - accuracy: 0.8701\n",
      "Epoch 56/100\n",
      "1500/1500 [==============================] - 4s 2ms/step - loss: 0.3766 - accuracy: 0.8700\n",
      "Epoch 57/100\n",
      "1500/1500 [==============================] - 3s 2ms/step - loss: 0.3763 - accuracy: 0.8708\n",
      "Epoch 58/100\n",
      "1500/1500 [==============================] - 3s 2ms/step - loss: 0.3759 - accuracy: 0.8708\n",
      "Epoch 59/100\n",
      "1500/1500 [==============================] - 3s 2ms/step - loss: 0.3760 - accuracy: 0.8698\n",
      "Epoch 60/100\n",
      "1500/1500 [==============================] - 2s 1ms/step - loss: 0.3755 - accuracy: 0.8711\n",
      "Epoch 61/100\n",
      "1500/1500 [==============================] - 2s 2ms/step - loss: 0.3757 - accuracy: 0.8709\n",
      "Epoch 62/100\n",
      "1500/1500 [==============================] - 3s 2ms/step - loss: 0.3754 - accuracy: 0.8712\n",
      "Epoch 63/100\n",
      "1500/1500 [==============================] - 3s 2ms/step - loss: 0.3753 - accuracy: 0.8714\n",
      "Epoch 64/100\n",
      "1500/1500 [==============================] - 3s 2ms/step - loss: 0.3748 - accuracy: 0.8713\n",
      "Epoch 65/100\n",
      "1500/1500 [==============================] - 3s 2ms/step - loss: 0.3748 - accuracy: 0.8705\n",
      "Epoch 66/100\n",
      "1500/1500 [==============================] - 3s 2ms/step - loss: 0.3745 - accuracy: 0.8713\n",
      "Epoch 67/100\n",
      "1500/1500 [==============================] - 3s 2ms/step - loss: 0.3744 - accuracy: 0.8710\n",
      "Epoch 68/100\n",
      "1500/1500 [==============================] - 2s 2ms/step - loss: 0.3741 - accuracy: 0.8709\n",
      "Epoch 69/100\n",
      "1500/1500 [==============================] - 3s 2ms/step - loss: 0.3742 - accuracy: 0.8718\n",
      "Epoch 70/100\n",
      "1500/1500 [==============================] - 3s 2ms/step - loss: 0.3739 - accuracy: 0.8712\n",
      "Epoch 71/100\n",
      "1500/1500 [==============================] - 3s 2ms/step - loss: 0.3740 - accuracy: 0.8715\n",
      "Epoch 72/100\n",
      "1500/1500 [==============================] - 3s 2ms/step - loss: 0.3734 - accuracy: 0.8712\n",
      "Epoch 73/100\n",
      "1500/1500 [==============================] - 3s 2ms/step - loss: 0.3733 - accuracy: 0.8712\n",
      "Epoch 74/100\n",
      "1500/1500 [==============================] - 3s 2ms/step - loss: 0.3732 - accuracy: 0.8714\n",
      "Epoch 75/100\n",
      "1500/1500 [==============================] - 3s 2ms/step - loss: 0.3731 - accuracy: 0.8714\n",
      "Epoch 76/100\n",
      "1500/1500 [==============================] - 3s 2ms/step - loss: 0.3730 - accuracy: 0.8718\n",
      "Epoch 77/100\n",
      "1500/1500 [==============================] - 3s 2ms/step - loss: 0.3727 - accuracy: 0.8720\n",
      "Epoch 78/100\n",
      "1500/1500 [==============================] - 3s 2ms/step - loss: 0.3726 - accuracy: 0.8718\n",
      "Epoch 79/100\n",
      "1500/1500 [==============================] - 3s 2ms/step - loss: 0.3724 - accuracy: 0.8710\n",
      "Epoch 80/100\n",
      "1500/1500 [==============================] - 2s 2ms/step - loss: 0.3723 - accuracy: 0.8719\n",
      "Epoch 81/100\n",
      "1500/1500 [==============================] - 3s 2ms/step - loss: 0.3720 - accuracy: 0.8722\n",
      "Epoch 82/100\n",
      "1500/1500 [==============================] - 3s 2ms/step - loss: 0.3716 - accuracy: 0.8727\n",
      "Epoch 83/100\n",
      "1500/1500 [==============================] - 3s 2ms/step - loss: 0.3716 - accuracy: 0.8727\n",
      "Epoch 84/100\n",
      "1500/1500 [==============================] - 3s 2ms/step - loss: 0.3717 - accuracy: 0.8717\n",
      "Epoch 85/100\n",
      "1500/1500 [==============================] - 3s 2ms/step - loss: 0.3712 - accuracy: 0.8720\n",
      "Epoch 86/100\n",
      "1500/1500 [==============================] - 3s 2ms/step - loss: 0.3712 - accuracy: 0.8719\n",
      "Epoch 87/100\n",
      "1500/1500 [==============================] - 2s 2ms/step - loss: 0.3711 - accuracy: 0.8722\n",
      "Epoch 88/100\n",
      "1500/1500 [==============================] - 2s 2ms/step - loss: 0.3709 - accuracy: 0.8721\n",
      "Epoch 89/100\n",
      "1500/1500 [==============================] - 3s 2ms/step - loss: 0.3708 - accuracy: 0.8717\n",
      "Epoch 90/100\n",
      "1500/1500 [==============================] - 3s 2ms/step - loss: 0.3705 - accuracy: 0.8725\n",
      "Epoch 91/100\n",
      "1500/1500 [==============================] - 3s 2ms/step - loss: 0.3708 - accuracy: 0.8723\n",
      "Epoch 92/100\n",
      "1500/1500 [==============================] - 3s 2ms/step - loss: 0.3702 - accuracy: 0.8716\n",
      "Epoch 93/100\n",
      "1500/1500 [==============================] - 3s 2ms/step - loss: 0.3703 - accuracy: 0.8721\n",
      "Epoch 94/100\n",
      "1500/1500 [==============================] - 3s 2ms/step - loss: 0.3702 - accuracy: 0.8723\n",
      "Epoch 95/100\n",
      "1500/1500 [==============================] - 3s 2ms/step - loss: 0.3700 - accuracy: 0.8724\n",
      "Epoch 96/100\n",
      "1500/1500 [==============================] - 3s 2ms/step - loss: 0.3698 - accuracy: 0.8726\n",
      "Epoch 97/100\n",
      "1500/1500 [==============================] - 3s 2ms/step - loss: 0.3699 - accuracy: 0.8731\n",
      "Epoch 98/100\n",
      "1500/1500 [==============================] - 3s 2ms/step - loss: 0.3696 - accuracy: 0.8732\n",
      "Epoch 99/100\n",
      "1500/1500 [==============================] - 4s 2ms/step - loss: 0.3691 - accuracy: 0.8726\n",
      "Epoch 100/100\n",
      "1500/1500 [==============================] - 3s 2ms/step - loss: 0.3690 - accuracy: 0.8723\n"
     ]
    },
    {
     "data": {
      "text/plain": [
       "<keras.callbacks.History at 0x2045d374eb0>"
      ]
     },
     "execution_count": 14,
     "metadata": {},
     "output_type": "execute_result"
    }
   ],
   "source": [
    "model.fit(train_scaled, train_target, epochs=100)"
   ]
  },
  {
   "cell_type": "code",
   "execution_count": 15,
   "id": "812f4c7e",
   "metadata": {},
   "outputs": [
    {
     "name": "stdout",
     "output_type": "stream",
     "text": [
      "375/375 [==============================] - 1s 1ms/step - loss: 0.4223 - accuracy: 0.8519\n"
     ]
    },
    {
     "data": {
      "text/plain": [
       "[0.4222639501094818, 0.8519166707992554]"
      ]
     },
     "execution_count": 15,
     "metadata": {},
     "output_type": "execute_result"
    }
   ],
   "source": [
    "model.evaluate(val_scaled, val_target) #검증데이터의 정확도값을 살펴보도록 함.\n",
    "#학습데이터의 정확도와 검증데이터의 정확도가 어느정도는 일치되고 있다는 것을 확인할 수 있음.\n",
    "#신경망자체의 정확도가 조금 더 높게 나오는 것을 실습의 결과로 확인할 수 있다."
   ]
  },
  {
   "cell_type": "code",
   "execution_count": null,
   "id": "1d0bc370",
   "metadata": {},
   "outputs": [],
   "source": []
  }
 ],
 "metadata": {
  "kernelspec": {
   "display_name": "Python [conda env:tf_cpu] *",
   "language": "python",
   "name": "conda-env-tf_cpu-py"
  },
  "language_info": {
   "codemirror_mode": {
    "name": "ipython",
    "version": 3
   },
   "file_extension": ".py",
   "mimetype": "text/x-python",
   "name": "python",
   "nbconvert_exporter": "python",
   "pygments_lexer": "ipython3",
   "version": "3.8.16"
  }
 },
 "nbformat": 4,
 "nbformat_minor": 5
}
