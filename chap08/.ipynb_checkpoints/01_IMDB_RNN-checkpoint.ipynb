{
 "cells": [
  {
   "cell_type": "code",
   "execution_count": null,
   "id": "03225ee7",
   "metadata": {},
   "outputs": [],
   "source": [
    "#구글코랩(https://colab.research.google.com/) \n",
    "\n",
    "#파일 -> 새노트 -> 주피터노트북처럼 사용할 공간이 생김 \n",
    "#-> 알고리즘이 다 설치되어져 있기 때문에 로그인해서 실행 (클라우드 환경임) \n",
    "#별도로 가상환경 셋팅해서 ai를 실습할 필요가 없음.\n",
    "#import tensorflow as tf 작성"
   ]
  },
  {
   "cell_type": "code",
   "execution_count": 1,
   "id": "507f58e8",
   "metadata": {},
   "outputs": [],
   "source": [
    "# IMDB 리뷰 데이터 셋 (영화리뷰 데이터 셋) - 순환신경망에서 가장 많이 활용되는 데이터 셋임\n",
    "\n",
    "from tensorflow.keras.datasets import imdb\n",
    "\n",
    "(train_input, train_target), (test_input, test_target) = imdb.load_data(num_words=500) #튜플의 형태로 load_data가 데이터들을 반환해줌\n",
    "#인터넷 영화 리뷰 홈페이지에 달린 댓글의 단어들을 숫자로 1차 전처리하여 데이터셋으로 제공해주고 있음\n",
    "#num_words: 텍스트데이터들을 처리할 때는 token(단어)들이 누적된 빈도수가 있을 것이고, \n",
    "#   그 빈도수(단어의 등장 횟수를 누적해놓음) 중에 자주 등장하는 상위 500개의 단어들만 데이터로 가져와달라는 설정 값 \n",
    "#   (어휘사전에 담긴 단어들이 인덱스로 관리되는데 0~500의 단어들을 꺼내오는 것)\n",
    "# 빈도수로 내림차순(가장 많이 등장한 단어가 최상위로 감) -> 거기서 500개 추출 -> 그 추출된 단어들로 단어장(어휘사전)을 만듦.\n",
    "# 우리는 실질적으로 단어의 매핑된 인덱스를 훈련에서 사용을 함!!\n",
    "\n",
    "#텍스트 영역을 처리하는 것을 자연어처리라고 불러줌. 단어마다의 요소를 token이라고 함."
   ]
  },
  {
   "cell_type": "code",
   "execution_count": 2,
   "id": "4f0f4e5f",
   "metadata": {},
   "outputs": [
    {
     "name": "stdout",
     "output_type": "stream",
     "text": [
      "(25000,) (25000,)\n"
     ]
    }
   ],
   "source": [
    "print(train_input.shape, test_input.shape)\n",
    "#훈련데이터와 테스트데이터의 샘플로 25000개씩 제공해주고 있음 => 총 5만개의 댓글을 가지고 있는 데이터셋임"
   ]
  },
  {
   "cell_type": "code",
   "execution_count": 3,
   "id": "1de00512",
   "metadata": {},
   "outputs": [
    {
     "name": "stdout",
     "output_type": "stream",
     "text": [
      "218 189\n"
     ]
    }
   ],
   "source": [
    "print(len(train_input[0]), len(train_input[1])) #첫번째와 두번째 댓글의 길이 출력 (token수를 확인) / 안에 담긴 데이터들은 다 영문임"
   ]
  },
  {
   "cell_type": "code",
   "execution_count": 4,
   "id": "d5007f7f",
   "metadata": {},
   "outputs": [
    {
     "name": "stdout",
     "output_type": "stream",
     "text": [
      "[1, 14, 22, 16, 43, 2, 2, 2, 2, 65, 458, 2, 66, 2, 4, 173, 36, 256, 5, 25, 100, 43, 2, 112, 50, 2, 2, 9, 35, 480, 284, 5, 150, 4, 172, 112, 167, 2, 336, 385, 39, 4, 172, 2, 2, 17, 2, 38, 13, 447, 4, 192, 50, 16, 6, 147, 2, 19, 14, 22, 4, 2, 2, 469, 4, 22, 71, 87, 12, 16, 43, 2, 38, 76, 15, 13, 2, 4, 22, 17, 2, 17, 12, 16, 2, 18, 2, 5, 62, 386, 12, 8, 316, 8, 106, 5, 4, 2, 2, 16, 480, 66, 2, 33, 4, 130, 12, 16, 38, 2, 5, 25, 124, 51, 36, 135, 48, 25, 2, 33, 6, 22, 12, 215, 28, 77, 52, 5, 14, 407, 16, 82, 2, 8, 4, 107, 117, 2, 15, 256, 4, 2, 7, 2, 5, 2, 36, 71, 43, 2, 476, 26, 400, 317, 46, 7, 4, 2, 2, 13, 104, 88, 4, 381, 15, 297, 98, 32, 2, 56, 26, 141, 6, 194, 2, 18, 4, 226, 22, 21, 134, 476, 26, 480, 5, 144, 30, 2, 18, 51, 36, 28, 224, 92, 25, 104, 4, 226, 65, 16, 38, 2, 88, 12, 16, 283, 5, 16, 2, 113, 103, 32, 15, 16, 2, 19, 178, 32]\n"
     ]
    }
   ],
   "source": [
    "print(train_input[0]) \n",
    "#텐서플로우에서 데이터셋을 이미 전처리하여 숫자로 변환을 했기 때문에 지금 현재 데이터들은 인덱스(위치값)로 출력되고 있음\n",
    "\n",
    "#현재 많이 출력되는 2라는 데이터는 사전에 등록되지 않은 데이터일 경우에 2로 담아주고 있는 것이다.\n",
    "#=> R에서는 konlp를 제공해주고 있었는데 세종사전을 참고해서 토큰을 분리해주고 있었음. 모든 단어가 사전에 등록되는 것이 아니였음\n",
    "#   즉, 사전에 등록되지 않은 단어일 경우에는 2라는 값으로 데이터를 매핑시켜주고 있는 것이다."
   ]
  },
  {
   "cell_type": "code",
   "execution_count": 5,
   "id": "8a8637cf",
   "metadata": {},
   "outputs": [
    {
     "name": "stdout",
     "output_type": "stream",
     "text": [
      "[1 0 0 1 0 0 1 0 1 0 1 0 0 0 0 0 1 1 0 1]\n"
     ]
    }
   ],
   "source": [
    "print(train_target[:20]) \n",
    "# 정답은 긍정에 댓글과 부정의 댓글이라는 데이터로 \n",
    "# 1, 0의 숫자로 표현되어져 있는 것을 확인할 수 있음"
   ]
  },
  {
   "cell_type": "code",
   "execution_count": 6,
   "id": "4df17659",
   "metadata": {},
   "outputs": [
    {
     "name": "stdout",
     "output_type": "stream",
     "text": [
      "[14, 22, 16, 43, 65, 458, 66, 4, 173, 36, 256, 5, 25, 100, 43, 112, 50, 9, 35, 480, 284, 5, 150, 4, 172, 112, 167, 336, 385, 39, 4, 172, 17, 38, 13, 447, 4, 192, 50, 16, 6, 147, 19, 14, 22, 4, 469, 4, 22, 71, 87, 12, 16, 43, 38, 76, 15, 13, 4, 22, 17, 17, 12, 16, 18, 5, 62, 386, 12, 8, 316, 8, 106, 5, 4, 16, 480, 66, 33, 4, 130, 12, 16, 38, 5, 25, 124, 51, 36, 135, 48, 25, 33, 6, 22, 12, 215, 28, 77, 52, 5, 14, 407, 16, 82, 8, 4, 107, 117, 15, 256, 4, 7, 5, 36, 71, 43, 476, 26, 400, 317, 46, 7, 4, 13, 104, 88, 4, 381, 15, 297, 98, 32, 56, 26, 141, 6, 194, 18, 4, 226, 22, 21, 134, 476, 26, 480, 5, 144, 30, 18, 51, 36, 28, 224, 92, 25, 104, 4, 226, 65, 16, 38, 88, 12, 16, 283, 5, 16, 113, 103, 32, 15, 16, 19, 178, 32]\n",
      "177\n"
     ]
    }
   ],
   "source": [
    "# 훈련 세트에서 2(어휘 사전에 없는 단어_상위 500개에 속하지 않은 단어) 제외하기 - 전처리 (1(시작데이터)과 2는 의미 없는 값임)\n",
    "\n",
    "for i in range(len(train_input)): #전체 훈련데이터(25000)에서 반복\n",
    "    train_input[i] = [w for w in train_input[i] if w > 2] \n",
    "    #훈련데이터를 읽어오는데 읽어온 데이터 값이 2를 초과하는 값을 다시 뽑아와서 데이터를 담아주도록 하는 것임\n",
    "    \n",
    "print(train_input[0])\n",
    "print(len(train_input[0])) #218 - 177를 연산한 갯수만큼이 필터링 되어진 것임"
   ]
  },
  {
   "cell_type": "code",
   "execution_count": 7,
   "id": "5b36eee1",
   "metadata": {},
   "outputs": [],
   "source": [
    "from sklearn.model_selection import train_test_split\n",
    "\n",
    "train_input, val_input, train_target, val_target = train_test_split(train_input, train_target, test_size=0.2, random_state=1234)\n",
    "#검증데이터는 학습데이터의 정확도를 검증하기 위한 목적으로 나눈 데이터이다."
   ]
  },
  {
   "cell_type": "code",
   "execution_count": 8,
   "id": "81df3979",
   "metadata": {},
   "outputs": [],
   "source": [
    "import numpy as np\n",
    "\n",
    "lengths = np.array([len(x) for x in train_input])\n",
    "#리스트를 넣어주면 넘파이가 배열형으로 변환 => 훈련데이터의 토큰갯수를 리스트에 저장하도록 함"
   ]
  },
  {
   "cell_type": "code",
   "execution_count": 9,
   "id": "89b32ff4",
   "metadata": {},
   "outputs": [
    {
     "name": "stdout",
     "output_type": "stream",
     "text": [
      "164.0498 126.0\n"
     ]
    }
   ],
   "source": [
    "print(np.mean(lengths), np.median(lengths)) # 훈련데이터의 특징을 파악하기 위해 댓글 토큰의 평균 값과 중위수를 확인\n",
    "#정규분포를 따르는 데이터일 경우 평균과 중위수 값이 거의 일치할 것임.\n",
    "# 지금 현재는 평균과 중위수 값에 차이가 나고 있음. 평균이 더 큼 => 한쪽으로 데이터가 쏠림이 있다는 것을 값을 통해 파악할 수 있다."
   ]
  },
  {
   "cell_type": "code",
   "execution_count": 10,
   "id": "abbf9233",
   "metadata": {},
   "outputs": [
    {
     "data": {
      "image/png": "[encoded data removed]",
      "text/plain": [
       "<Figure size 640x480 with 1 Axes>"
      ]
     },
     "metadata": {},
     "output_type": "display_data"
    }
   ],
   "source": [
    "import matplotlib.pyplot as plt\n",
    "\n",
    "plt.hist(lengths) #나무막대 그래프로 각 토큰별 단어의 빈도수를 시각화하여 확인해보도록 한다.\n",
    "plt.xlabel('length')\n",
    "plt.ylabel('frequency') #빈도수\n",
    "plt.show()\n",
    "#대부분의 댓글 길이가 120글자 미만의 빈도수가 많은 것을 시각적으로 확인할 수 있음\n",
    "\n",
    "#200-400의 최대크기를 넓게 잡으면 문제점이 생기게 됨.\n",
    "# => 100단어 미만이 월등히 많았음. 나머지 댓글도 포함하겠다고 메모리 공간을 크게 잡으면 메모리 낭비가 심해지게 됨\n",
    "#    그렇게 되면 학습을 할 때마다 큰 메모리 영역이 필요할 것이고, 학습 또한 느려지기 때문에 문제점이 발생한다는 것이다."
   ]
  },
  {
   "cell_type": "code",
   "execution_count": 11,
   "id": "c75f145f",
   "metadata": {},
   "outputs": [
    {
     "data": {
      "text/plain": [
       "(20000, 100)"
      ]
     },
     "execution_count": 11,
     "metadata": {},
     "output_type": "execute_result"
    }
   ],
   "source": [
    "from tensorflow.keras.preprocessing.sequence import pad_sequences\n",
    "\n",
    "#pad_sequences의 역할은 maxlen크기를 지정하면 댓글 크기를 지정하고 나머지는 버림. (단어 100개를 넘어가지 않으면 남는공간은 0으로 채움)\n",
    "#                       그 이후에는 매트릭스의 형태로 결과를 리턴해주는 기능임.\n",
    "train_seq = pad_sequences(train_input, maxlen=100) #전처리의 과정 중 하나. 분석의 입력데이터로 넣어서 모델을 만드는 것에 대한 부분\n",
    "# max의 값으로 100으로 셋팅을 하여 처리를 해주게 되면 단어의 갯수를 100개까지로 끊겠다는 의미임 \n",
    "# 위 시각화에 빈도수를 봤을 때 100개 미만에서 가장 많은 분포를 띄었었음. 그렇기 때문에 100개가 넘는 데이터 갯수는 자름.\n",
    "# => 데이터의 갯수(크기)도 고정시키겠다는 것임 / 현재는 데이터의 갯수가 많기 때문에 메모리의 낭비를 줄이기 위해 줄인 것임\n",
    "#    단어가 800개일 때 700개의 단어를 버리겠다는 것임.\n",
    "\n",
    "train_seq.shape #단어의 갯수가 고정되어 출력되는 것을 확인할 수 있음. "
   ]
  },
  {
   "cell_type": "code",
   "execution_count": 12,
   "id": "13e26d1c",
   "metadata": {},
   "outputs": [
    {
     "data": {
      "text/plain": [
       "array([  7,   4,  33,   4,  58,   5,  17, 118,  17,  31,  70,   7, 330,\n",
       "        11,  14,   4, 201, 127, 179,  73,   9,  55,  52,  17,   9,  13,\n",
       "        62, 190, 423,   8,  28, 188,  53,  23,   4,  19, 409,  11,  88,\n",
       "       122,  24,  81, 233,  23,  27, 205,  29,  69,  84, 187,  90,  15,\n",
       "        90,   8,   4, 400, 209,   5, 434, 209, 303,  23,  11,  27,  51,\n",
       "        16, 170, 143,   5, 330,  12,  62,  28,  77,   8,  67,  53,   7,\n",
       "       134,  21,  13, 440,  12,  80,  97,  84,   4,  53,  12, 238,  82,\n",
       "        97,  84, 391, 138, 294,  40,  30,   8,  11])"
      ]
     },
     "execution_count": 12,
     "metadata": {},
     "output_type": "execute_result"
    }
   ],
   "source": [
    "train_seq[0] "
   ]
  },
  {
   "cell_type": "code",
   "execution_count": 13,
   "id": "46dd4714",
   "metadata": {},
   "outputs": [
    {
     "data": {
      "text/plain": [
       "array([  0,   0,   0,   0,   0,   0,   0, 108,  26,  83,   6,  48,  24,\n",
       "       407,   6,   9, 160, 463,   7,   6,  20,  15, 304,  84,   5,  68,\n",
       "       261,   4,  26,  42,  33, 113,  42, 341,  36, 131,  66,  14, 100,\n",
       "        10,  10,  50,  26, 275, 133,  63, 413,  31,   9,  44,   4, 250,\n",
       "        37, 152,   8,   4,   8,   4, 375,  31,   9,  44,   4, 255,  37,\n",
       "         4,   7,  41, 113,  11,   6, 160,   9,  44,   4, 250,  19,  41,\n",
       "       131, 160,  31,   9,  44,   4,   7,   6,  37, 220, 283, 119,  10,\n",
       "        10, 407, 290, 319,  45,  11,   4, 193, 372])"
      ]
     },
     "execution_count": 13,
     "metadata": {},
     "output_type": "execute_result"
    }
   ],
   "source": [
    "train_seq[12] \n",
    "#93단어로 구성되어져 있는 것임 / 메모리가 비어져 있는 영역을 0으로 채워주고 있는 것임.\n",
    "#지금 현재 데이터를 보면 기존 토큰이 100개가 넘어가는 데이터는 뒤에서부터 데이터를 끊은 것이다.\n",
    "\n",
    "#대부분의 중요정보는 주로 뒤에 적어주기 때문에 앞에서 부터 자르면서 버리고, \n",
    "# 빈데이터는 앞에서 0으로 채워주고 있는 것임. -> 디폴트임(pre / 변경 파라메타가 따로 있음)\n",
    "# 뒤에서부터 100개의 단어를 카운팅 해주는 것임 / 뒷부분에서 자르고 싶다면 padding을 post로 지정해주면 됨(일반적으로는 변경하지 않음)"
   ]
  },
  {
   "cell_type": "code",
   "execution_count": 14,
   "id": "8774e40b",
   "metadata": {},
   "outputs": [],
   "source": [
    "val_seq = pad_sequences(val_input, maxlen=100)\n",
    "#검증 데이터도 동일하게 입력데이터에 대한 전처리를 해주도록 한다. (학습 중에 검증을 통해 정확도를 확인해야하기 때문)"
   ]
  },
  {
   "cell_type": "markdown",
   "id": "45a17e86",
   "metadata": {},
   "source": [
    "### 순환 신경망 만들기"
   ]
  },
  {
   "cell_type": "code",
   "execution_count": 16,
   "id": "44eb0c2f",
   "metadata": {},
   "outputs": [],
   "source": [
    "from tensorflow import keras\n",
    "\n",
    "model = keras.Sequential()\n",
    "\n",
    "model.add(keras.layers.SimpleRNN(8, input_shape=(100, 500))) #신경망은 Dense, CNN은 Conv2D, RNN은 SimpleRNN\n",
    "# RNN(한 데이터의 주기를 time step이라고 함)은 이전 출력과 연동되면서 결과를 출력해내다 보니 학습이 진행할 수록 \n",
    "# 맨 처음에 입력되어졌었던 데이터의 영향력이 점점 소실되어지는 문제점이 발생\n",
    "# 이를 보완하기 위해서 메모리셀을 하나 추가하도록 하는 LSTL알고리즘 제공\n",
    "\n",
    "#RNN은 기본적으로 입력을 2차원으로 바라본다. (입력데이터의 shape) \n",
    "# 지금 현재 입력데이터는 100개로 고정시킴 -> 행으로 지정 (timestep의 크기 공간을 넣어주면 됨)\n",
    "# 열은 그 단어가 실질적으로 인덱스 값을 가지려고 할 때 얼마만큼의 메모리 공간을 할당해야하는지를 넣어주면됨\n",
    "# => 현재 상위 500개의 단어를 표현해서 인덱스 값을 담도록 해야하기 때문에 500으로 잡아줘야 하는 것이다.\n",
    "\n",
    "#타행스탬프 => 하나의 데이터 셋(하나의 댓글)\n",
    "# 학습이 되어질 때 epochs는 전체 데이터를 다 읽어갔을 때가 1임.\n",
    "\n",
    "# 단어 하나는 실질적으로 얼마만큼의 메모리 크기로 할당이 되어서 저장이 되어져 있을까? \n",
    "#  IMDB데이터셋은 단어 등장 빈도수를 매기고, 거기에 따라 알파벳 정렬을 한 후 인덱스로 매핑을 해놓는 것임.\n",
    "# 빈도수에 따라서 어휘사전에 정렬을 해두고 원핫인코딩방식을 사용하고 있음\n",
    "# (나이브베이즈도 동일함/ 등장하는 모든 단어들을 카운팅하여 열거 \n",
    "# -> 등장 단어가 100개라면 메모리 할당 -> 알파벳로 정렬 -> 순차적으로 번호 붙임 \n",
    "# -> 단어에 해당하는 고유번호가 붙어있을 때 그 부분만 단어가 등장될 때마다 핫하게 만듦.(나머지는 0으로 채움))\n",
    "\n",
    "#숫자라는 값은 실질적으로 인덱스를 의미하는데 이 인덱스를 저장하기 위해서 중복되지 않도록 \n",
    "#펼쳐서 보관하려면 500개의 단어공간을 할당해놓고 거기에다가 매핑되어지는 단어값을 써주도록 해야한다.\n",
    "\n",
    "#한단어가 표현되는 인덱스의 값을 얼마만큼으로 표현을 해야하는가 -> 중복이 되면 안됨 그렇기 때문에 인덱스 공간을 넣어주도록 함\n",
    "\n",
    "#SimpleRNN은 활성화함수인 tanh가 디폴트로 셋팅이 되어져 있기 때문에 따로 셋팅할 필요가 없음\n",
    "# tanh를 통해서 출력되는 값이 일반 신경망으로 넣어주면 됨. RNN거쳐서 출력을 내보내는 것은 가장 간단한 방법. \n",
    "# 출력은 긍정인지 부정인지에 대한 이진분류를 내보내면 됨 (활성화함수에서 이진분류면 sigmoid, 다중분류면 softmax)\n",
    "model.add(keras.layers.Dense(units=1, activation='sigmoid'))"
   ]
  },
  {
   "cell_type": "code",
   "execution_count": 17,
   "id": "da62cc91",
   "metadata": {},
   "outputs": [
    {
     "data": {
      "text/plain": [
       "(20000, 100, 500)"
      ]
     },
     "execution_count": 17,
     "metadata": {},
     "output_type": "execute_result"
    }
   ],
   "source": [
    "#훈련데이터에는 정수값이 그대로 담겨져 있음. \n",
    "#주의) 정수값을 가지고 그대로 학습을 시키다보면 숫자값의 크기를 부여해서 학습을 진행하게 됨 => 정규화 또는 데이터를 펼치도록 함\n",
    "#      원래 숫자의 의미를 가지고 있을 때 정규화를 시키는 것이고 범주값(데이터가 텍스트)은 \n",
    "#      매핑의 개념이기 때문에 표준화와 정규화를 시키지 않음 즉, 원핫인코딩 방식으로 처리를 해줘야 하는 것이다.\n",
    "\n",
    "train_oh = keras.utils.to_categorical(train_seq) #to_categorical: 원핫인코딩으로 펼쳐서 데이터를 리턴해주는 기능임\n",
    "train_oh.shape"
   ]
  },
  {
   "cell_type": "code",
   "execution_count": 18,
   "id": "244cdbb4",
   "metadata": {},
   "outputs": [
    {
     "data": {
      "text/plain": [
       "(5000, 100, 500)"
      ]
     },
     "execution_count": 18,
     "metadata": {},
     "output_type": "execute_result"
    }
   ],
   "source": [
    "val_oh = keras.utils.to_categorical(val_seq) #검증용 데이터도 동일하게 처리\n",
    "val_oh.shape"
   ]
  },
  {
   "cell_type": "code",
   "execution_count": 19,
   "id": "798a7688",
   "metadata": {},
   "outputs": [
    {
     "data": {
      "text/plain": [
       "array([[[0., 0., 0., ..., 0., 0., 0.],\n",
       "        [0., 0., 0., ..., 0., 0., 0.],\n",
       "        [0., 0., 0., ..., 0., 0., 0.],\n",
       "        ...,\n",
       "        [0., 0., 0., ..., 0., 0., 0.],\n",
       "        [0., 0., 0., ..., 0., 0., 0.],\n",
       "        [0., 0., 0., ..., 0., 0., 0.]],\n",
       "\n",
       "       [[0., 0., 0., ..., 0., 0., 0.],\n",
       "        [0., 0., 0., ..., 0., 0., 0.],\n",
       "        [0., 0., 0., ..., 0., 0., 0.],\n",
       "        ...,\n",
       "        [0., 0., 0., ..., 0., 0., 0.],\n",
       "        [0., 0., 0., ..., 0., 0., 0.],\n",
       "        [0., 0., 0., ..., 0., 0., 0.]]], dtype=float32)"
      ]
     },
     "execution_count": 19,
     "metadata": {},
     "output_type": "execute_result"
    }
   ],
   "source": [
    "train_oh[0:2]"
   ]
  },
  {
   "cell_type": "code",
   "execution_count": 20,
   "id": "0f147ece",
   "metadata": {},
   "outputs": [
    {
     "name": "stdout",
     "output_type": "stream",
     "text": [
      "Model: \"sequential\"\n",
      "_________________________________________________________________\n",
      " Layer (type)                Output Shape              Param #   \n",
      "=================================================================\n",
      " simple_rnn (SimpleRNN)      (None, 8)                 4072      \n",
      "                                                                 \n",
      " dense (Dense)               (None, 1)                 9         \n",
      "                                                                 \n",
      "=================================================================\n",
      "Total params: 4,081\n",
      "Trainable params: 4,081\n",
      "Non-trainable params: 0\n",
      "_________________________________________________________________\n"
     ]
    }
   ],
   "source": [
    "model.summary()\n",
    "# Wx의 갯수는 뉴런이 8개 잡힘, 입력이 500\n",
    "# 순환신경망에서 처음에는 단어 하나 하나가 들어갈 것임. 그러므로 입력이 500개임 -> 거기에 출력이 8개로 500 * 8\n",
    "# 순환신경망에서 순환은 내 자체로도 순환이 되고, 그때 나온 결과가 8개 모두에 전달됨. 그것이 8번씩 반복됨\n",
    "# 뉴런은 그때 돌고 있는 나를 포함해서 8개의 뉴런에 영향을 미치는 것임. => 이 반복을 통해 W가 추가되는 것임.\n",
    "# 따라서 뉴런 8개의 W는 8 * 8임. 따라서 계산은 이전 입력과 출력을 곱한 값에 추가로 +하여 64 + 8(바이어스 값 - 뉴런에 하나씩 포함)을 해주면 됨\n",
    "\n",
    "#500 * 8 + 8 * 8 + 8 = 4072\n",
    "#전체의 단어(time step)가 다 돌아야 w값이 나감. 이때의 상태가 은닉 상태임\n",
    "# 순환의 동작을 하나의 동그라미로 그리는데 이를 셀이라고 불러주고 있음"
   ]
  },
  {
   "cell_type": "code",
   "execution_count": 24,
   "id": "d6333079",
   "metadata": {},
   "outputs": [],
   "source": [
    "model.compile(optimizer=keras.optimizers.Adam(learning_rate=1e-4), loss='binary_crossentropy', metrics='accuracy')"
   ]
  },
  {
   "cell_type": "code",
   "execution_count": 25,
   "id": "17f68c4a",
   "metadata": {
    "scrolled": true
   },
   "outputs": [
    {
     "name": "stdout",
     "output_type": "stream",
     "text": [
      "Epoch 1/50\n",
      "625/625 [==============================] - 12s 17ms/step - loss: 0.6916 - accuracy: 0.5257 - val_loss: 0.6871 - val_accuracy: 0.5410\n",
      "Epoch 2/50\n",
      "625/625 [==============================] - 11s 17ms/step - loss: 0.6503 - accuracy: 0.6344 - val_loss: 0.6259 - val_accuracy: 0.6688\n",
      "Epoch 3/50\n",
      "625/625 [==============================] - 11s 17ms/step - loss: 0.5907 - accuracy: 0.7183 - val_loss: 0.5759 - val_accuracy: 0.7328\n",
      "Epoch 4/50\n",
      "625/625 [==============================] - 11s 17ms/step - loss: 0.5484 - accuracy: 0.7536 - val_loss: 0.5442 - val_accuracy: 0.7560\n",
      "Epoch 5/50\n",
      "625/625 [==============================] - 11s 17ms/step - loss: 0.5156 - accuracy: 0.7753 - val_loss: 0.5187 - val_accuracy: 0.7640\n",
      "Epoch 6/50\n",
      "625/625 [==============================] - 11s 17ms/step - loss: 0.4894 - accuracy: 0.7907 - val_loss: 0.4987 - val_accuracy: 0.7738\n",
      "Epoch 7/50\n",
      "625/625 [==============================] - 11s 17ms/step - loss: 0.4689 - accuracy: 0.8015 - val_loss: 0.4842 - val_accuracy: 0.7818\n",
      "Epoch 8/50\n",
      "625/625 [==============================] - 11s 17ms/step - loss: 0.4536 - accuracy: 0.8055 - val_loss: 0.4710 - val_accuracy: 0.7872\n",
      "Epoch 9/50\n",
      "625/625 [==============================] - 11s 17ms/step - loss: 0.4409 - accuracy: 0.8115 - val_loss: 0.4618 - val_accuracy: 0.7904\n",
      "Epoch 10/50\n",
      "625/625 [==============================] - 11s 17ms/step - loss: 0.4302 - accuracy: 0.8153 - val_loss: 0.4545 - val_accuracy: 0.7920\n",
      "Epoch 11/50\n",
      "625/625 [==============================] - 11s 18ms/step - loss: 0.4213 - accuracy: 0.8195 - val_loss: 0.4495 - val_accuracy: 0.7986\n",
      "Epoch 12/50\n",
      "625/625 [==============================] - 11s 18ms/step - loss: 0.4146 - accuracy: 0.8227 - val_loss: 0.4450 - val_accuracy: 0.7974\n",
      "Epoch 13/50\n",
      "625/625 [==============================] - 11s 18ms/step - loss: 0.4085 - accuracy: 0.8249 - val_loss: 0.4427 - val_accuracy: 0.8026\n",
      "Epoch 14/50\n",
      "625/625 [==============================] - 11s 17ms/step - loss: 0.4033 - accuracy: 0.8281 - val_loss: 0.4367 - val_accuracy: 0.8002\n",
      "Epoch 15/50\n",
      "625/625 [==============================] - 11s 17ms/step - loss: 0.3979 - accuracy: 0.8306 - val_loss: 0.4344 - val_accuracy: 0.8026\n",
      "Epoch 16/50\n",
      "625/625 [==============================] - 11s 17ms/step - loss: 0.3941 - accuracy: 0.8314 - val_loss: 0.4333 - val_accuracy: 0.8070\n",
      "Epoch 17/50\n",
      "625/625 [==============================] - 11s 17ms/step - loss: 0.3908 - accuracy: 0.8333 - val_loss: 0.4363 - val_accuracy: 0.8084\n",
      "Epoch 18/50\n",
      "625/625 [==============================] - 11s 17ms/step - loss: 0.3872 - accuracy: 0.8361 - val_loss: 0.4338 - val_accuracy: 0.8092\n",
      "Epoch 19/50\n",
      "625/625 [==============================] - 11s 17ms/step - loss: 0.3844 - accuracy: 0.8360 - val_loss: 0.4288 - val_accuracy: 0.8052\n",
      "Epoch 20/50\n",
      "625/625 [==============================] - 11s 17ms/step - loss: 0.3812 - accuracy: 0.8370 - val_loss: 0.4279 - val_accuracy: 0.8054\n",
      "Epoch 21/50\n",
      "625/625 [==============================] - 11s 17ms/step - loss: 0.3789 - accuracy: 0.8397 - val_loss: 0.4263 - val_accuracy: 0.8062\n",
      "Epoch 22/50\n",
      "625/625 [==============================] - 11s 17ms/step - loss: 0.3762 - accuracy: 0.8396 - val_loss: 0.4299 - val_accuracy: 0.8046\n",
      "Epoch 23/50\n",
      "625/625 [==============================] - 11s 17ms/step - loss: 0.3746 - accuracy: 0.8407 - val_loss: 0.4413 - val_accuracy: 0.8070\n",
      "Epoch 24/50\n",
      "625/625 [==============================] - 11s 17ms/step - loss: 0.3716 - accuracy: 0.8432 - val_loss: 0.4321 - val_accuracy: 0.8114\n",
      "Epoch 25/50\n",
      "625/625 [==============================] - 11s 18ms/step - loss: 0.3702 - accuracy: 0.8429 - val_loss: 0.4294 - val_accuracy: 0.8076\n",
      "Epoch 26/50\n",
      "625/625 [==============================] - 11s 18ms/step - loss: 0.3690 - accuracy: 0.8442 - val_loss: 0.4270 - val_accuracy: 0.8050\n",
      "Epoch 27/50\n",
      "625/625 [==============================] - 11s 18ms/step - loss: 0.3667 - accuracy: 0.8447 - val_loss: 0.4275 - val_accuracy: 0.8076\n",
      "Epoch 28/50\n",
      "625/625 [==============================] - 11s 18ms/step - loss: 0.3650 - accuracy: 0.8464 - val_loss: 0.4347 - val_accuracy: 0.8034\n",
      "Epoch 29/50\n",
      "625/625 [==============================] - 11s 17ms/step - loss: 0.3638 - accuracy: 0.8452 - val_loss: 0.4278 - val_accuracy: 0.8050\n",
      "Epoch 30/50\n",
      "625/625 [==============================] - 11s 18ms/step - loss: 0.3621 - accuracy: 0.8458 - val_loss: 0.4275 - val_accuracy: 0.8062\n",
      "Epoch 31/50\n",
      "625/625 [==============================] - 11s 18ms/step - loss: 0.3609 - accuracy: 0.8472 - val_loss: 0.4288 - val_accuracy: 0.8064\n",
      "Epoch 32/50\n",
      "625/625 [==============================] - 11s 18ms/step - loss: 0.3595 - accuracy: 0.8485 - val_loss: 0.4336 - val_accuracy: 0.8066\n",
      "Epoch 33/50\n",
      "625/625 [==============================] - 11s 18ms/step - loss: 0.3582 - accuracy: 0.8488 - val_loss: 0.4291 - val_accuracy: 0.8070\n",
      "Epoch 34/50\n",
      "625/625 [==============================] - 11s 17ms/step - loss: 0.3567 - accuracy: 0.8487 - val_loss: 0.4287 - val_accuracy: 0.8048\n",
      "Epoch 35/50\n",
      "625/625 [==============================] - 11s 17ms/step - loss: 0.3554 - accuracy: 0.8501 - val_loss: 0.4288 - val_accuracy: 0.8044\n",
      "Epoch 36/50\n",
      "625/625 [==============================] - 11s 18ms/step - loss: 0.3543 - accuracy: 0.8508 - val_loss: 0.4333 - val_accuracy: 0.8040\n",
      "Epoch 37/50\n",
      "625/625 [==============================] - 11s 18ms/step - loss: 0.3531 - accuracy: 0.8515 - val_loss: 0.4337 - val_accuracy: 0.8044\n",
      "Epoch 38/50\n",
      "625/625 [==============================] - 11s 18ms/step - loss: 0.3517 - accuracy: 0.8522 - val_loss: 0.4363 - val_accuracy: 0.8046\n",
      "Epoch 39/50\n",
      "625/625 [==============================] - 11s 18ms/step - loss: 0.3510 - accuracy: 0.8514 - val_loss: 0.4325 - val_accuracy: 0.8046\n",
      "Epoch 40/50\n",
      "625/625 [==============================] - 11s 18ms/step - loss: 0.3501 - accuracy: 0.8527 - val_loss: 0.4367 - val_accuracy: 0.8028\n",
      "Epoch 41/50\n",
      "625/625 [==============================] - 11s 17ms/step - loss: 0.3479 - accuracy: 0.8526 - val_loss: 0.4410 - val_accuracy: 0.8012\n",
      "Epoch 42/50\n",
      "625/625 [==============================] - 11s 18ms/step - loss: 0.3477 - accuracy: 0.8533 - val_loss: 0.4327 - val_accuracy: 0.8052\n",
      "Epoch 43/50\n",
      "625/625 [==============================] - 11s 17ms/step - loss: 0.3467 - accuracy: 0.8537 - val_loss: 0.4362 - val_accuracy: 0.8058\n",
      "Epoch 44/50\n",
      "625/625 [==============================] - 11s 18ms/step - loss: 0.3456 - accuracy: 0.8547 - val_loss: 0.4402 - val_accuracy: 0.8030\n",
      "Epoch 45/50\n",
      "625/625 [==============================] - 11s 18ms/step - loss: 0.3454 - accuracy: 0.8546 - val_loss: 0.4376 - val_accuracy: 0.8066\n",
      "Epoch 46/50\n",
      "625/625 [==============================] - 11s 17ms/step - loss: 0.3437 - accuracy: 0.8558 - val_loss: 0.4412 - val_accuracy: 0.8036\n",
      "Epoch 47/50\n",
      "625/625 [==============================] - 11s 18ms/step - loss: 0.3429 - accuracy: 0.8562 - val_loss: 0.4451 - val_accuracy: 0.8036\n",
      "Epoch 48/50\n",
      "625/625 [==============================] - 11s 17ms/step - loss: 0.3419 - accuracy: 0.8573 - val_loss: 0.4420 - val_accuracy: 0.8046\n",
      "Epoch 49/50\n",
      "625/625 [==============================] - 11s 18ms/step - loss: 0.3410 - accuracy: 0.8564 - val_loss: 0.4401 - val_accuracy: 0.8020\n",
      "Epoch 50/50\n",
      "625/625 [==============================] - 11s 18ms/step - loss: 0.3401 - accuracy: 0.8573 - val_loss: 0.4439 - val_accuracy: 0.8050\n"
     ]
    }
   ],
   "source": [
    "loss = model.fit(train_oh, train_target, epochs=50, validation_data=(val_oh, val_target))"
   ]
  },
  {
   "cell_type": "code",
   "execution_count": 28,
   "id": "d84a65ce",
   "metadata": {},
   "outputs": [
    {
     "data": {
      "image/png": "[encoded data removed]",
      "text/plain": [
       "<Figure size 640x480 with 1 Axes>"
      ]
     },
     "metadata": {},
     "output_type": "display_data"
    }
   ],
   "source": [
    "plt.plot(loss.history['loss']) #학습된 모델의 loss값을 시각화해주도록 함\n",
    "plt.plot(loss.history['val_loss'])\n",
    "\n",
    "plt.xlabel('epoch')\n",
    "plt.ylabel('loss')\n",
    "plt.legend(['train', 'val'])\n",
    "plt.show()"
   ]
  },
  {
   "cell_type": "markdown",
   "id": "4d2c0291",
   "metadata": {},
   "source": [
    "### 단어 임베딩 사용하기"
   ]
  },
  {
   "cell_type": "code",
   "execution_count": 27,
   "id": "aab8929c",
   "metadata": {},
   "outputs": [
    {
     "name": "stdout",
     "output_type": "stream",
     "text": [
      "Model: \"sequential_2\"\n",
      "_________________________________________________________________\n",
      " Layer (type)                Output Shape              Param #   \n",
      "=================================================================\n",
      " embedding_1 (Embedding)     (None, 100, 16)           8000      \n",
      "                                                                 \n",
      " simple_rnn_2 (SimpleRNN)    (None, 8)                 200       \n",
      "                                                                 \n",
      " dense_2 (Dense)             (None, 1)                 9         \n",
      "                                                                 \n",
      "=================================================================\n",
      "Total params: 8,209\n",
      "Trainable params: 8,209\n",
      "Non-trainable params: 0\n",
      "_________________________________________________________________\n"
     ]
    }
   ],
   "source": [
    "#범주화된 텍스트 데이터를 원핫 인코딩 방식으로 데이터를 펼치게 되면 메모리 리소스를 너무 많이 차지하게 됨\n",
    "#따라서 단어 임베딩 방식을 사용 => 단어자체를 정수가 아닌 일정범위의 실수로 매핑을 시켜서 학습을 시켜보도록 한다.\n",
    "model2 = keras.Sequential()\n",
    "\n",
    "#어휘사전의 크기 500, 단어의 크기 100\n",
    "model2.add(keras.layers.Embedding(500, 16, input_length=100)) \n",
    "#한단어가 포현되어지는 할당된 크기정보를 알려주면 됨, 임베딩의 벡터 크기, 입력크기를 지정해주면 됨 \n",
    "#                                                    (임의의 크기와 범위로 적절히 잡아주면 됨 -> 당연히 첫번째 매개변수보다 작은 값)\n",
    "#Embedding: 인덱스값자체를 실수값으로 매핑을 시켜서 다이렉트로 처리를 해주는 클래스임. 기존 처리되는 방식에서 리소스가 확 줄어듦\n",
    "# 내부에서 특정 알고리즘을 적용해서 존재하는 모든 단어를 펼쳐서 인덱스의 의미를 실수로 0.1, 0.3으로 매핑을 시켜가면 범위값이 좁아짐\n",
    "\n",
    "model2.add(keras.layers.SimpleRNN(8))\n",
    "model2.add(keras.layers.Dense(1, activation='sigmoid'))\n",
    "\n",
    "model2.summary()"
   ]
  },
  {
   "cell_type": "code",
   "execution_count": 34,
   "id": "2dc1882b",
   "metadata": {},
   "outputs": [],
   "source": [
    "model2.compile(optimizer=keras.optimizers.Adam(learning_rate=1e-4), loss='binary_crossentropy', metrics='accuracy')"
   ]
  },
  {
   "cell_type": "code",
   "execution_count": 35,
   "id": "8af66a05",
   "metadata": {
    "scrolled": true
   },
   "outputs": [
    {
     "name": "stdout",
     "output_type": "stream",
     "text": [
      "Epoch 1/50\n",
      "625/625 [==============================] - 10s 14ms/step - loss: 0.6957 - accuracy: 0.5004 - val_loss: 0.6944 - val_accuracy: 0.5090\n",
      "Epoch 2/50\n",
      "625/625 [==============================] - 8s 13ms/step - loss: 0.6906 - accuracy: 0.5282 - val_loss: 0.6928 - val_accuracy: 0.5098\n",
      "Epoch 3/50\n",
      "625/625 [==============================] - 9s 14ms/step - loss: 0.6861 - accuracy: 0.5523 - val_loss: 0.6915 - val_accuracy: 0.5232\n",
      "Epoch 4/50\n",
      "625/625 [==============================] - 9s 14ms/step - loss: 0.6812 - accuracy: 0.5706 - val_loss: 0.6911 - val_accuracy: 0.5300\n",
      "Epoch 5/50\n",
      "625/625 [==============================] - 9s 14ms/step - loss: 0.6756 - accuracy: 0.5878 - val_loss: 0.6910 - val_accuracy: 0.5334\n",
      "Epoch 6/50\n",
      "625/625 [==============================] - 9s 14ms/step - loss: 0.6700 - accuracy: 0.6028 - val_loss: 0.6901 - val_accuracy: 0.5426\n",
      "Epoch 7/50\n",
      "625/625 [==============================] - 8s 14ms/step - loss: 0.6642 - accuracy: 0.6145 - val_loss: 0.6897 - val_accuracy: 0.5390\n",
      "Epoch 8/50\n",
      "625/625 [==============================] - 9s 14ms/step - loss: 0.6583 - accuracy: 0.6231 - val_loss: 0.6901 - val_accuracy: 0.5430\n",
      "Epoch 9/50\n",
      "625/625 [==============================] - 9s 14ms/step - loss: 0.6523 - accuracy: 0.6324 - val_loss: 0.6907 - val_accuracy: 0.5470\n",
      "Epoch 10/50\n",
      "625/625 [==============================] - 9s 14ms/step - loss: 0.6465 - accuracy: 0.6401 - val_loss: 0.6923 - val_accuracy: 0.5416\n",
      "Epoch 11/50\n",
      "625/625 [==============================] - 9s 14ms/step - loss: 0.6407 - accuracy: 0.6475 - val_loss: 0.6934 - val_accuracy: 0.5480\n",
      "Epoch 12/50\n",
      "625/625 [==============================] - 9s 14ms/step - loss: 0.6351 - accuracy: 0.6531 - val_loss: 0.6942 - val_accuracy: 0.5466\n",
      "Epoch 13/50\n",
      "625/625 [==============================] - 9s 14ms/step - loss: 0.6293 - accuracy: 0.6594 - val_loss: 0.6965 - val_accuracy: 0.5478\n",
      "Epoch 14/50\n",
      "625/625 [==============================] - 9s 14ms/step - loss: 0.6238 - accuracy: 0.6654 - val_loss: 0.6972 - val_accuracy: 0.5528\n",
      "Epoch 15/50\n",
      "625/625 [==============================] - 9s 14ms/step - loss: 0.6183 - accuracy: 0.6737 - val_loss: 0.6996 - val_accuracy: 0.5512\n",
      "Epoch 16/50\n",
      "625/625 [==============================] - 9s 14ms/step - loss: 0.6131 - accuracy: 0.6745 - val_loss: 0.7029 - val_accuracy: 0.5526\n",
      "Epoch 17/50\n",
      "625/625 [==============================] - 8s 14ms/step - loss: 0.6082 - accuracy: 0.6799 - val_loss: 0.7040 - val_accuracy: 0.5530\n",
      "Epoch 18/50\n",
      "625/625 [==============================] - 9s 14ms/step - loss: 0.6033 - accuracy: 0.6841 - val_loss: 0.7062 - val_accuracy: 0.5526\n",
      "Epoch 19/50\n",
      "625/625 [==============================] - 9s 14ms/step - loss: 0.5986 - accuracy: 0.6899 - val_loss: 0.7098 - val_accuracy: 0.5526\n",
      "Epoch 20/50\n",
      "625/625 [==============================] - 9s 14ms/step - loss: 0.5940 - accuracy: 0.6917 - val_loss: 0.7136 - val_accuracy: 0.5518\n",
      "Epoch 21/50\n",
      "625/625 [==============================] - 9s 14ms/step - loss: 0.5894 - accuracy: 0.6970 - val_loss: 0.7162 - val_accuracy: 0.5532\n",
      "Epoch 22/50\n",
      "625/625 [==============================] - 9s 14ms/step - loss: 0.5848 - accuracy: 0.7009 - val_loss: 0.7167 - val_accuracy: 0.5562\n",
      "Epoch 23/50\n",
      "625/625 [==============================] - 9s 14ms/step - loss: 0.5806 - accuracy: 0.7057 - val_loss: 0.7227 - val_accuracy: 0.5508\n",
      "Epoch 24/50\n",
      "625/625 [==============================] - 9s 14ms/step - loss: 0.5762 - accuracy: 0.7084 - val_loss: 0.7242 - val_accuracy: 0.5560\n",
      "Epoch 25/50\n",
      "625/625 [==============================] - 9s 14ms/step - loss: 0.5726 - accuracy: 0.7126 - val_loss: 0.7290 - val_accuracy: 0.5540\n",
      "Epoch 26/50\n",
      "625/625 [==============================] - 9s 14ms/step - loss: 0.5681 - accuracy: 0.7146 - val_loss: 0.7322 - val_accuracy: 0.5536\n",
      "Epoch 27/50\n",
      "625/625 [==============================] - 9s 14ms/step - loss: 0.5648 - accuracy: 0.7181 - val_loss: 0.7340 - val_accuracy: 0.5556\n",
      "Epoch 28/50\n",
      "625/625 [==============================] - 9s 14ms/step - loss: 0.5610 - accuracy: 0.7211 - val_loss: 0.7362 - val_accuracy: 0.5562\n",
      "Epoch 29/50\n",
      "625/625 [==============================] - 9s 14ms/step - loss: 0.5573 - accuracy: 0.7250 - val_loss: 0.7394 - val_accuracy: 0.5554\n",
      "Epoch 30/50\n",
      "625/625 [==============================] - 9s 14ms/step - loss: 0.5541 - accuracy: 0.7265 - val_loss: 0.7419 - val_accuracy: 0.5556\n",
      "Epoch 31/50\n",
      "625/625 [==============================] - 9s 14ms/step - loss: 0.5506 - accuracy: 0.7294 - val_loss: 0.7441 - val_accuracy: 0.5562\n",
      "Epoch 32/50\n",
      "625/625 [==============================] - 9s 14ms/step - loss: 0.5474 - accuracy: 0.7300 - val_loss: 0.7475 - val_accuracy: 0.5570\n",
      "Epoch 33/50\n",
      "625/625 [==============================] - 9s 14ms/step - loss: 0.5449 - accuracy: 0.7318 - val_loss: 0.7519 - val_accuracy: 0.5534\n",
      "Epoch 34/50\n",
      "625/625 [==============================] - 9s 14ms/step - loss: 0.5416 - accuracy: 0.7358 - val_loss: 0.7534 - val_accuracy: 0.5582\n",
      "Epoch 35/50\n",
      "625/625 [==============================] - 9s 14ms/step - loss: 0.5392 - accuracy: 0.7361 - val_loss: 0.7572 - val_accuracy: 0.5572\n",
      "Epoch 36/50\n",
      "625/625 [==============================] - 9s 14ms/step - loss: 0.5365 - accuracy: 0.7373 - val_loss: 0.7582 - val_accuracy: 0.5556\n",
      "Epoch 37/50\n",
      "625/625 [==============================] - 9s 14ms/step - loss: 0.5334 - accuracy: 0.7426 - val_loss: 0.7627 - val_accuracy: 0.5562\n",
      "Epoch 38/50\n",
      "625/625 [==============================] - 9s 14ms/step - loss: 0.5310 - accuracy: 0.7422 - val_loss: 0.7655 - val_accuracy: 0.5582\n",
      "Epoch 39/50\n",
      "625/625 [==============================] - 9s 14ms/step - loss: 0.5284 - accuracy: 0.7458 - val_loss: 0.7674 - val_accuracy: 0.5586\n",
      "Epoch 40/50\n",
      "625/625 [==============================] - 9s 14ms/step - loss: 0.5263 - accuracy: 0.7455 - val_loss: 0.7682 - val_accuracy: 0.5652\n",
      "Epoch 41/50\n",
      "625/625 [==============================] - 9s 14ms/step - loss: 0.5241 - accuracy: 0.7476 - val_loss: 0.7728 - val_accuracy: 0.5594\n",
      "Epoch 42/50\n",
      "625/625 [==============================] - 9s 14ms/step - loss: 0.5215 - accuracy: 0.7491 - val_loss: 0.7750 - val_accuracy: 0.5636\n",
      "Epoch 43/50\n",
      "625/625 [==============================] - 9s 14ms/step - loss: 0.5197 - accuracy: 0.7504 - val_loss: 0.7776 - val_accuracy: 0.5616\n",
      "Epoch 44/50\n",
      "625/625 [==============================] - 9s 14ms/step - loss: 0.5176 - accuracy: 0.7518 - val_loss: 0.7809 - val_accuracy: 0.5638\n",
      "Epoch 45/50\n",
      "625/625 [==============================] - 9s 14ms/step - loss: 0.5152 - accuracy: 0.7538 - val_loss: 0.7825 - val_accuracy: 0.5632\n",
      "Epoch 46/50\n",
      "625/625 [==============================] - 9s 14ms/step - loss: 0.5139 - accuracy: 0.7537 - val_loss: 0.7837 - val_accuracy: 0.5654\n",
      "Epoch 47/50\n",
      "625/625 [==============================] - 9s 14ms/step - loss: 0.5112 - accuracy: 0.7549 - val_loss: 0.7869 - val_accuracy: 0.5636\n",
      "Epoch 48/50\n",
      "625/625 [==============================] - 9s 14ms/step - loss: 0.5102 - accuracy: 0.7558 - val_loss: 0.7906 - val_accuracy: 0.5616\n",
      "Epoch 49/50\n",
      "625/625 [==============================] - 9s 14ms/step - loss: 0.5084 - accuracy: 0.7568 - val_loss: 0.7911 - val_accuracy: 0.5660\n",
      "Epoch 50/50\n",
      "625/625 [==============================] - 9s 14ms/step - loss: 0.5063 - accuracy: 0.7598 - val_loss: 0.7949 - val_accuracy: 0.5652\n"
     ]
    }
   ],
   "source": [
    "loss = model2.fit(train_seq, train_target, epochs=50, validation_data=(val_seq, val_target))"
   ]
  },
  {
   "cell_type": "code",
   "execution_count": 36,
   "id": "9a20ccd3",
   "metadata": {},
   "outputs": [
    {
     "data": {
      "image/png": "[encoded data removed]",
      "text/plain": [
       "<Figure size 640x480 with 1 Axes>"
      ]
     },
     "metadata": {},
     "output_type": "display_data"
    }
   ],
   "source": [
    "plt.plot(loss.history['loss']) \n",
    "plt.plot(loss.history['val_loss'])\n",
    "\n",
    "plt.xlabel('epoch')\n",
    "plt.ylabel('loss')\n",
    "plt.legend(['train', 'val'])\n",
    "plt.show()\n",
    "#시각화된 결과를 보면 학습을 진행할수록 과대적합에 빠져있다는 것을 확인할 수 있다."
   ]
  },
  {
   "cell_type": "code",
   "execution_count": null,
   "id": "6c75b581",
   "metadata": {},
   "outputs": [],
   "source": []
  },
  {
   "cell_type": "code",
   "execution_count": null,
   "id": "87cd7340",
   "metadata": {},
   "outputs": [],
   "source": [
    "#딥러닝의 알고리즘 중에 행렬에 shape을 갖는 입력데이터가 있다면 이미지 데이터(꼭 이미지파일이 아닐 수 있음)일 때 CNN구성 가능\n",
    "\n",
    "#순환신경망: RNN (Recurrent Neural Network) - 딥러닝 알고리즘 중 대표적\n",
    "# 최근에 텍스트기반의 챗지피티 뿐만 아니라 우리 인간이 의사소통하는데 있어서 기본 수단의 말( -> ai 기가지니 )의 음성으로 인식해서\n",
    "# 그 인식한 말을 텍스트로 변환해주고, 어떤명령인지를 내부적으로 인지해서 원하는 액션을 취하게 됨\n",
    "\n",
    "#우리가 말하는 음성을 텍스트화하는 기술이 발달되어질수록 \n",
    "#그 기술과 접목된 텍스트에 분석기법이 발전하면서 텍스트분석에 핵심이 되는 알고리즘이 RNN이 됨\n",
    "\n",
    "#Recurrent 순환의 의미 \n",
    "# 순서를 가지고 있는 데이터를 입력받아서 결과값(다음에 오는 말을 예측하는 것)을 도출하는데 사용하는 딥러닝 모델을 말한다.\n",
    "# 순차적인 데이터는 대표적으로 텍스트 데이터이다. / 챗지피티도 기본적인 베이스는 순환신경망에 일환이다. \n",
    "#                             (질문내용 인지하여 필요한 정보들을 빠르게 모아오는 트랜스포머라고 하는 강화학습 알고리즘을 바탕의 모델)\n",
    "# 이전 입력값이 현재 입력 값의 출력 값에 영향을 준다. => 앞에 어떤 단어가 왔는지에 따라서 다음 단어를 명사나 동사로 판단할 수 있음\n",
    "\n",
    "# RNN의 포인트는 순차적인 특징을 가지는 데이터들을 알고리즘에 적용하고자 할 때 활용\n",
    "\n",
    "# i를 입력하면 통과시켜서 출력에 대해서 모델을 구성을 하게 될 것이다.\n",
    "# i는 명사라는 결과를 통과시킬 것임. 그리고 난 다음에 그 출력을 다시 피드백해서 +연산해서 대기하게 됨\n",
    "# 그 다음 데이터는 work가 들어오고, 아까 i에 의해서 피드백 되어진 것을 +하여 결과로 보여주게 됨.\n",
    "# ***순환신경망은 원래 하나를 가지고 데이터들을 집어넣고 대기하여 다음 단어가 오면 결합하여 출력하는 방식임.\n",
    "\n",
    "#분류에서 활성화함수를 tanh를 사용. (기존 sigmoid와 softmax보다 더 좋은 결과를 출력함)\n",
    "# tanh의 시각화를 보면 sigmoid랑 다를게 없음. 하지만 tanh는 최대가 1 최소가 -1임.\n",
    "# 그 값이 다시 피드백이 되어져야 하기 때문에 tanh를 쓰는 것임. 0일 경우 영향을 주지 않아서 효과가 없어짐.\n",
    "# 기존과 알고리즘이 다른 것은 결과가 순환된다. 활성화함수를 tanh로 적용한다는 것의 차이점만 있음.\n",
    "\n",
    "\n",
    "# 신경망 과정+ 출력값을 다시 순환하겠다는 단계 하나 추가 +\n",
    "# + 활성화함수를 tanh를 사용 (기존의 softmax나 sigmoid 활성화 함수보다 더 정확도 높게 반환)\n",
    "\n",
    "# sigmoid와의 차이점은? 유사하게 생겼지만 sigmoid 함수는 최대가 1, 최소가 0에 수렴하는 그래프\n",
    "# tanh함수는 최대가 1, 최소가 -1인 그래프\n",
    "# 출력값이 피드백 되어져야하기 때문에 출력값이 0이 나오면 안됨. 그래서 sigmoid 함수를 쓰지 않음.\n",
    "\n",
    "# 입력 데이터가 많아질 수록 처음에 입력했던 데이터에 대한 영향력이 점점 낮아질 것\n",
    "# => 순환 신경망의 최대 단점이었음\n",
    "# => 이를 개선한 알고리즘이 LSTM! (Long Short-Term Memory)\n",
    "# => 순환하면서 처음 입력했던 데이터의 비중을 보강해주는 데이터셀을 추가한 알고리즘\n",
    "\n",
    "\n",
    "#딥러닝이기 때문에 RNN도 딥하게 가져가게 될까?\n",
    "# 옆으로 펼쳐지는 그림을 생각 / 원래 순환신경망은 하나인데 입력신호에서 시간축을 정의하여 순서를 정의하는 것이 중요\n",
    "\n",
    "#순서가 중요하기 때문에 자연어처리를 사용\n",
    "#RNN은 이미 특정 조건이 있는 것임. 데이터가 반드시 시퀀스데이터(문장, \n",
    "#   시계열데이터(_시간의 흐름에 따라 수집되어진 데이터, 순서가 중요한 데이터)가 대표적)일때만 적용하는 알고리즘인 것임.\n",
    "\n",
    "#LSTM: 학습이 이루어지면서 계속해서 많은양의 데이터를 넣게 되고 처음 입력했던 알고리즘의 값이 점점 희미해짐\n",
    "# 메모리의 개념으로 데이터를 순환시키면서 그 데이터를 보강해주는 개념으로 메모리셀을 하나 추가해준 알고리즘이다.\n",
    "\n",
    "# 기존에는 입력의 신호가 인가될 때 가중치에 해당되는 영향을 받아서 바로 바이어스를 + 해서  활성화함수를 거쳐서 출력\n",
    "# 이전에 데이터들도 곱셈연산기를 통해서 주기마다 증폭시키면서 +하면서 현재 입력된 신호에 대한 \n",
    "# 출력의 결과를 다시 회귀시키면서 최종활성화함수인 tanh를 거쳐서 결과를 다음단에 피드백해주면서 출력을 예측하자는 것\n",
    "\n",
    "#즉, 메모리에 보관되는 것을 새롭게 보강해주는 개념을 통해 \n",
    "#문제점(처음 학습된 정보가 점차적으로 약화되는 개념, tanh에 의해서 결과가 출력이 되면 아무리 \n",
    "# 큰값이 나오더라도 1보다는 작을 것임 그 인가된 값이 곱해지면 원래 값자체가 소실될 수 있음)을 극복하는 것임.\n",
    "\n",
    "#메모리 셀이라고 하는 주황색 선과 수학기호들을 볼 수 있음\n",
    "#(곱해진 값까지가 비중임, 기존정보와 새로운정보를 더해주는 로직)\n",
    "\n",
    "#하드웨어적으로 연결된 개념 / 과거 데이터 정보를 얼마만큼의 비중으로 보관하고 있을 것인지를 학습이 이루어질 때마다 비중을 보충하는 개념임\n",
    "#hidden state를 순환망이라고 보면 됨."
   ]
  }
 ],
 "metadata": {
  "kernelspec": {
   "display_name": "Python [conda env:tf_cpu] *",
   "language": "python",
   "name": "conda-env-tf_cpu-py"
  },
  "language_info": {
   "codemirror_mode": {
    "name": "ipython",
    "version": 3
   },
   "file_extension": ".py",
   "mimetype": "text/x-python",
   "name": "python",
   "nbconvert_exporter": "python",
   "pygments_lexer": "ipython3",
   "version": "3.8.16"
  }
 },
 "nbformat": 4,
 "nbformat_minor": 5
}
