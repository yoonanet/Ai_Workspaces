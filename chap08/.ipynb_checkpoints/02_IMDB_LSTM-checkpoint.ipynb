{
 "cells": [
  {
   "cell_type": "code",
   "execution_count": 1,
   "id": "1b6e41f2",
   "metadata": {},
   "outputs": [],
   "source": [
    "# IMDB 리뷰 데이터 셋 (영화리뷰 데이터 셋) - 순환신경망에서 가장 많이 활용되는 데이터 셋임\n",
    "\n",
    "from tensorflow.keras.datasets import imdb\n",
    "\n",
    "(train_input, train_target), (test_input, test_target) \\\n",
    "            = imdb.load_data(num_words=500)"
   ]
  },
  {
   "cell_type": "code",
   "execution_count": 2,
   "id": "46aadac7",
   "metadata": {},
   "outputs": [],
   "source": [
    "# 훈련 세트에서 2(어휘 사전에 없는 단어) 제외하기\n",
    "\n",
    "for i in range(len(train_input)):\n",
    "    train_input[i] = [w for w in train_input[i] if w > 2]"
   ]
  },
  {
   "cell_type": "code",
   "execution_count": 3,
   "id": "f5e60800",
   "metadata": {},
   "outputs": [],
   "source": [
    "from sklearn.model_selection import train_test_split\n",
    "\n",
    "train_input, val_input, train_target, val_target \\\n",
    "        = train_test_split(train_input, train_target, \n",
    "                           test_size=0.2, random_state=1234)"
   ]
  },
  {
   "cell_type": "code",
   "execution_count": 4,
   "id": "3bfdd0c7",
   "metadata": {},
   "outputs": [],
   "source": [
    "import numpy as np\n",
    "\n",
    "lengths = np.array([len(x) for x in train_input])"
   ]
  },
  {
   "cell_type": "code",
   "execution_count": 5,
   "id": "8de0bc85",
   "metadata": {},
   "outputs": [
    {
     "name": "stdout",
     "output_type": "stream",
     "text": [
      "164.0498 126.0\n"
     ]
    }
   ],
   "source": [
    "print(np.mean(lengths), np.median(lengths))"
   ]
  },
  {
   "cell_type": "code",
   "execution_count": 6,
   "id": "c6fe3c56",
   "metadata": {},
   "outputs": [
    {
     "data": {
      "image/png": "[encoded data removed]",
      "text/plain": [
       "<Figure size 640x480 with 1 Axes>"
      ]
     },
     "metadata": {},
     "output_type": "display_data"
    }
   ],
   "source": [
    "import matplotlib.pyplot as plt\n",
    "\n",
    "plt.hist(lengths) #나무막대 그래프로 각 토큰별 단어의 빈도수를 시각화하여 확인해보도록 한다.\n",
    "plt.xlabel('length')\n",
    "plt.ylabel('frequency') #빈도수\n",
    "plt.show()"
   ]
  },
  {
   "cell_type": "code",
   "execution_count": 7,
   "id": "4018aea7",
   "metadata": {},
   "outputs": [
    {
     "data": {
      "text/plain": [
       "(20000, 100)"
      ]
     },
     "execution_count": 7,
     "metadata": {},
     "output_type": "execute_result"
    }
   ],
   "source": [
    "from tensorflow.keras.preprocessing.sequence import pad_sequences\n",
    "\n",
    "train_seq = pad_sequences(train_input, maxlen=100) \n",
    "train_seq.shape"
   ]
  },
  {
   "cell_type": "code",
   "execution_count": 8,
   "id": "94ca3fd0",
   "metadata": {},
   "outputs": [],
   "source": [
    "val_seq = pad_sequences(val_input, maxlen=100)"
   ]
  },
  {
   "cell_type": "markdown",
   "id": "68fb9fc7",
   "metadata": {},
   "source": [
    "### 순환 신경망 만들기"
   ]
  },
  {
   "cell_type": "code",
   "execution_count": 9,
   "id": "66d39ad6",
   "metadata": {},
   "outputs": [
    {
     "name": "stdout",
     "output_type": "stream",
     "text": [
      "Model: \"sequential\"\n",
      "_________________________________________________________________\n",
      " Layer (type)                Output Shape              Param #   \n",
      "=================================================================\n",
      " embedding (Embedding)       (None, 100, 16)           8000      \n",
      "                                                                 \n",
      " lstm (LSTM)                 (None, 8)                 800       \n",
      "                                                                 \n",
      " dense (Dense)               (None, 1)                 9         \n",
      "                                                                 \n",
      "=================================================================\n",
      "Total params: 8,809\n",
      "Trainable params: 8,809\n",
      "Non-trainable params: 0\n",
      "_________________________________________________________________\n"
     ]
    }
   ],
   "source": [
    "from tensorflow import keras\n",
    "\n",
    "model2 = keras.Sequential()\n",
    "\n",
    "model2.add(keras.layers.Embedding(500, 16, input_length=100))\n",
    "model2.add(keras.layers.LSTM(8)) #개선이 된 알고리즘을 적용할 수 있음.\n",
    "model2.add(keras.layers.Dense(1, activation='sigmoid'))\n",
    "\n",
    "model2.summary()"
   ]
  },
  {
   "cell_type": "code",
   "execution_count": 10,
   "id": "cc978190",
   "metadata": {},
   "outputs": [],
   "source": [
    "model2.compile(optimizer=keras.optimizers.Adam(learning_rate=1e-4),\n",
    "              loss='binary_crossentropy',\n",
    "              metrics='accuracy')"
   ]
  },
  {
   "cell_type": "code",
   "execution_count": 11,
   "id": "09a9f909",
   "metadata": {
    "scrolled": true
   },
   "outputs": [
    {
     "name": "stdout",
     "output_type": "stream",
     "text": [
      "Epoch 1/50\n",
      "625/625 [==============================] - 12s 16ms/step - loss: 0.6915 - accuracy: 0.5627 - val_loss: 0.6888 - val_accuracy: 0.6120\n",
      "Epoch 2/50\n",
      "625/625 [==============================] - 9s 14ms/step - loss: 0.6474 - accuracy: 0.6722 - val_loss: 0.5569 - val_accuracy: 0.7388\n",
      "Epoch 3/50\n",
      "625/625 [==============================] - 9s 14ms/step - loss: 0.4979 - accuracy: 0.7810 - val_loss: 0.4734 - val_accuracy: 0.7874\n",
      "Epoch 4/50\n",
      "625/625 [==============================] - 9s 14ms/step - loss: 0.4484 - accuracy: 0.8007 - val_loss: 0.4463 - val_accuracy: 0.8036\n",
      "Epoch 5/50\n",
      "625/625 [==============================] - 9s 14ms/step - loss: 0.4267 - accuracy: 0.8136 - val_loss: 0.4368 - val_accuracy: 0.8048\n",
      "Epoch 6/50\n",
      "625/625 [==============================] - 9s 14ms/step - loss: 0.4159 - accuracy: 0.8170 - val_loss: 0.4262 - val_accuracy: 0.8106\n",
      "Epoch 7/50\n",
      "625/625 [==============================] - 9s 15ms/step - loss: 0.4079 - accuracy: 0.8216 - val_loss: 0.4215 - val_accuracy: 0.8110\n",
      "Epoch 8/50\n",
      "625/625 [==============================] - 9s 15ms/step - loss: 0.4026 - accuracy: 0.8225 - val_loss: 0.4186 - val_accuracy: 0.8098\n",
      "Epoch 9/50\n",
      "625/625 [==============================] - 9s 15ms/step - loss: 0.3988 - accuracy: 0.8249 - val_loss: 0.4163 - val_accuracy: 0.8102\n",
      "Epoch 10/50\n",
      "625/625 [==============================] - 9s 15ms/step - loss: 0.3956 - accuracy: 0.8261 - val_loss: 0.4142 - val_accuracy: 0.8138\n",
      "Epoch 11/50\n",
      "625/625 [==============================] - 9s 15ms/step - loss: 0.3929 - accuracy: 0.8267 - val_loss: 0.4126 - val_accuracy: 0.8148\n",
      "Epoch 12/50\n",
      "625/625 [==============================] - 9s 15ms/step - loss: 0.3905 - accuracy: 0.8280 - val_loss: 0.4154 - val_accuracy: 0.8126\n",
      "Epoch 13/50\n",
      "625/625 [==============================] - 9s 15ms/step - loss: 0.3892 - accuracy: 0.8282 - val_loss: 0.4097 - val_accuracy: 0.8184\n",
      "Epoch 14/50\n",
      "625/625 [==============================] - 9s 15ms/step - loss: 0.3876 - accuracy: 0.8292 - val_loss: 0.4087 - val_accuracy: 0.8170\n",
      "Epoch 15/50\n",
      "625/625 [==============================] - 9s 15ms/step - loss: 0.3856 - accuracy: 0.8299 - val_loss: 0.4112 - val_accuracy: 0.8170\n",
      "Epoch 16/50\n",
      "625/625 [==============================] - 9s 15ms/step - loss: 0.3855 - accuracy: 0.8296 - val_loss: 0.4091 - val_accuracy: 0.8184\n",
      "Epoch 17/50\n",
      "625/625 [==============================] - 9s 15ms/step - loss: 0.3831 - accuracy: 0.8306 - val_loss: 0.4135 - val_accuracy: 0.8166\n",
      "Epoch 18/50\n",
      "625/625 [==============================] - 9s 15ms/step - loss: 0.3825 - accuracy: 0.8306 - val_loss: 0.4095 - val_accuracy: 0.8168\n",
      "Epoch 19/50\n",
      "625/625 [==============================] - 9s 15ms/step - loss: 0.3816 - accuracy: 0.8307 - val_loss: 0.4079 - val_accuracy: 0.8180\n",
      "Epoch 20/50\n",
      "625/625 [==============================] - 9s 15ms/step - loss: 0.3807 - accuracy: 0.8313 - val_loss: 0.4103 - val_accuracy: 0.8164\n",
      "Epoch 21/50\n",
      "625/625 [==============================] - 9s 15ms/step - loss: 0.3794 - accuracy: 0.8328 - val_loss: 0.4099 - val_accuracy: 0.8176\n",
      "Epoch 22/50\n",
      "625/625 [==============================] - 9s 15ms/step - loss: 0.3791 - accuracy: 0.8325 - val_loss: 0.4048 - val_accuracy: 0.8194\n",
      "Epoch 23/50\n",
      "625/625 [==============================] - 9s 15ms/step - loss: 0.3780 - accuracy: 0.8313 - val_loss: 0.4062 - val_accuracy: 0.8178\n",
      "Epoch 24/50\n",
      "625/625 [==============================] - 9s 15ms/step - loss: 0.3774 - accuracy: 0.8328 - val_loss: 0.4092 - val_accuracy: 0.8162\n",
      "Epoch 25/50\n",
      "625/625 [==============================] - 9s 15ms/step - loss: 0.3758 - accuracy: 0.8341 - val_loss: 0.4060 - val_accuracy: 0.8172\n",
      "Epoch 26/50\n",
      "625/625 [==============================] - 9s 15ms/step - loss: 0.3755 - accuracy: 0.8335 - val_loss: 0.4129 - val_accuracy: 0.8184\n",
      "Epoch 27/50\n",
      "625/625 [==============================] - 9s 15ms/step - loss: 0.3746 - accuracy: 0.8350 - val_loss: 0.4087 - val_accuracy: 0.8174\n",
      "Epoch 28/50\n",
      "625/625 [==============================] - 9s 15ms/step - loss: 0.3732 - accuracy: 0.8367 - val_loss: 0.4062 - val_accuracy: 0.8176\n",
      "Epoch 29/50\n",
      "625/625 [==============================] - 9s 15ms/step - loss: 0.3724 - accuracy: 0.8356 - val_loss: 0.4075 - val_accuracy: 0.8176\n",
      "Epoch 30/50\n",
      "625/625 [==============================] - 9s 15ms/step - loss: 0.3713 - accuracy: 0.8367 - val_loss: 0.4055 - val_accuracy: 0.8154\n",
      "Epoch 31/50\n",
      "625/625 [==============================] - 9s 15ms/step - loss: 0.3704 - accuracy: 0.8379 - val_loss: 0.4120 - val_accuracy: 0.8166\n",
      "Epoch 32/50\n",
      "625/625 [==============================] - 9s 15ms/step - loss: 0.3698 - accuracy: 0.8367 - val_loss: 0.4116 - val_accuracy: 0.8166\n",
      "Epoch 33/50\n",
      "625/625 [==============================] - 9s 15ms/step - loss: 0.3688 - accuracy: 0.8368 - val_loss: 0.4085 - val_accuracy: 0.8154\n",
      "Epoch 34/50\n",
      "625/625 [==============================] - 9s 15ms/step - loss: 0.3678 - accuracy: 0.8392 - val_loss: 0.4103 - val_accuracy: 0.8174\n",
      "Epoch 35/50\n",
      "625/625 [==============================] - 9s 15ms/step - loss: 0.3669 - accuracy: 0.8378 - val_loss: 0.4072 - val_accuracy: 0.8158\n",
      "Epoch 36/50\n",
      "625/625 [==============================] - 9s 15ms/step - loss: 0.3664 - accuracy: 0.8375 - val_loss: 0.4134 - val_accuracy: 0.8178\n",
      "Epoch 37/50\n",
      "625/625 [==============================] - 9s 15ms/step - loss: 0.3653 - accuracy: 0.8396 - val_loss: 0.4098 - val_accuracy: 0.8182\n",
      "Epoch 38/50\n",
      "625/625 [==============================] - 9s 15ms/step - loss: 0.3639 - accuracy: 0.8401 - val_loss: 0.4093 - val_accuracy: 0.8172\n",
      "Epoch 39/50\n",
      "625/625 [==============================] - 9s 15ms/step - loss: 0.3635 - accuracy: 0.8403 - val_loss: 0.4099 - val_accuracy: 0.8180\n",
      "Epoch 40/50\n",
      "625/625 [==============================] - 9s 15ms/step - loss: 0.3625 - accuracy: 0.8410 - val_loss: 0.4101 - val_accuracy: 0.8180\n",
      "Epoch 41/50\n",
      "625/625 [==============================] - 9s 15ms/step - loss: 0.3612 - accuracy: 0.8407 - val_loss: 0.4075 - val_accuracy: 0.8190\n",
      "Epoch 42/50\n",
      "625/625 [==============================] - 9s 15ms/step - loss: 0.3601 - accuracy: 0.8420 - val_loss: 0.4072 - val_accuracy: 0.8196\n",
      "Epoch 43/50\n",
      "625/625 [==============================] - 9s 15ms/step - loss: 0.3595 - accuracy: 0.8415 - val_loss: 0.4121 - val_accuracy: 0.8168\n",
      "Epoch 44/50\n",
      "625/625 [==============================] - 9s 15ms/step - loss: 0.3587 - accuracy: 0.8425 - val_loss: 0.4089 - val_accuracy: 0.8206\n",
      "Epoch 45/50\n",
      "625/625 [==============================] - 9s 15ms/step - loss: 0.3584 - accuracy: 0.8418 - val_loss: 0.4086 - val_accuracy: 0.8196\n",
      "Epoch 46/50\n",
      "625/625 [==============================] - 9s 15ms/step - loss: 0.3567 - accuracy: 0.8446 - val_loss: 0.4151 - val_accuracy: 0.8188\n",
      "Epoch 47/50\n",
      "625/625 [==============================] - 9s 15ms/step - loss: 0.3566 - accuracy: 0.8451 - val_loss: 0.4134 - val_accuracy: 0.8186\n",
      "Epoch 48/50\n",
      "625/625 [==============================] - 9s 15ms/step - loss: 0.3559 - accuracy: 0.8435 - val_loss: 0.4130 - val_accuracy: 0.8176\n",
      "Epoch 49/50\n",
      "625/625 [==============================] - 9s 15ms/step - loss: 0.3550 - accuracy: 0.8443 - val_loss: 0.4196 - val_accuracy: 0.8138\n",
      "Epoch 50/50\n",
      "625/625 [==============================] - 9s 15ms/step - loss: 0.3544 - accuracy: 0.8442 - val_loss: 0.4126 - val_accuracy: 0.8192\n"
     ]
    }
   ],
   "source": [
    "loss = model2.fit(train_seq, train_target, epochs=50, \n",
    "                 validation_data=(val_seq, val_target))"
   ]
  },
  {
   "cell_type": "code",
   "execution_count": 12,
   "id": "0da438da",
   "metadata": {},
   "outputs": [
    {
     "data": {
      "image/png": "[encoded data removed]",
      "text/plain": [
       "<Figure size 640x480 with 1 Axes>"
      ]
     },
     "metadata": {},
     "output_type": "display_data"
    }
   ],
   "source": [
    "plt.plot(loss.history['loss'])\n",
    "plt.plot(loss.history['val_loss'])\n",
    "plt.xlabel('epoch')\n",
    "plt.ylabel('loss')\n",
    "plt.legend(['train', 'val'])\n",
    "plt.show()"
   ]
  },
  {
   "cell_type": "code",
   "execution_count": null,
   "id": "af78bd02",
   "metadata": {},
   "outputs": [],
   "source": []
  }
 ],
 "metadata": {
  "kernelspec": {
   "display_name": "Python [conda env:tf_cpu] *",
   "language": "python",
   "name": "conda-env-tf_cpu-py"
  },
  "language_info": {
   "codemirror_mode": {
    "name": "ipython",
    "version": 3
   },
   "file_extension": ".py",
   "mimetype": "text/x-python",
   "name": "python",
   "nbconvert_exporter": "python",
   "pygments_lexer": "ipython3",
   "version": "3.8.16"
  }
 },
 "nbformat": 4,
 "nbformat_minor": 5
}
