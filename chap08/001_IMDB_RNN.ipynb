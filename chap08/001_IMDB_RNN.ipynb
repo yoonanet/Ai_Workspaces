{
 "cells": [
  {
   "cell_type": "code",
   "execution_count": 1,
   "id": "822a03cc",
   "metadata": {},
   "outputs": [],
   "source": [
    "# IMDB 리뷰 데이터 셋\n",
    "\n",
    "from tensorflow.keras.datasets import imdb\n",
    "\n",
    "(train_input, train_target), (test_input, test_target) \\\n",
    "            = imdb.load_data(num_words=500)"
   ]
  },
  {
   "cell_type": "code",
   "execution_count": 2,
   "id": "14cd64dd",
   "metadata": {},
   "outputs": [
    {
     "name": "stdout",
     "output_type": "stream",
     "text": [
      "(25000,) (25000,)\n"
     ]
    }
   ],
   "source": [
    "print(train_input.shape, test_input.shape)"
   ]
  },
  {
   "cell_type": "code",
   "execution_count": 3,
   "id": "3e4492f7",
   "metadata": {},
   "outputs": [
    {
     "name": "stdout",
     "output_type": "stream",
     "text": [
      "218 189\n"
     ]
    }
   ],
   "source": [
    "print(len(train_input[0]), len(train_input[1]))"
   ]
  },
  {
   "cell_type": "code",
   "execution_count": 4,
   "id": "281e51ef",
   "metadata": {},
   "outputs": [
    {
     "name": "stdout",
     "output_type": "stream",
     "text": [
      "[1, 14, 22, 16, 43, 2, 2, 2, 2, 65, 458, 2, 66, 2, 4, 173, 36, 256, 5, 25, 100, 43, 2, 112, 50, 2, 2, 9, 35, 480, 284, 5, 150, 4, 172, 112, 167, 2, 336, 385, 39, 4, 172, 2, 2, 17, 2, 38, 13, 447, 4, 192, 50, 16, 6, 147, 2, 19, 14, 22, 4, 2, 2, 469, 4, 22, 71, 87, 12, 16, 43, 2, 38, 76, 15, 13, 2, 4, 22, 17, 2, 17, 12, 16, 2, 18, 2, 5, 62, 386, 12, 8, 316, 8, 106, 5, 4, 2, 2, 16, 480, 66, 2, 33, 4, 130, 12, 16, 38, 2, 5, 25, 124, 51, 36, 135, 48, 25, 2, 33, 6, 22, 12, 215, 28, 77, 52, 5, 14, 407, 16, 82, 2, 8, 4, 107, 117, 2, 15, 256, 4, 2, 7, 2, 5, 2, 36, 71, 43, 2, 476, 26, 400, 317, 46, 7, 4, 2, 2, 13, 104, 88, 4, 381, 15, 297, 98, 32, 2, 56, 26, 141, 6, 194, 2, 18, 4, 226, 22, 21, 134, 476, 26, 480, 5, 144, 30, 2, 18, 51, 36, 28, 224, 92, 25, 104, 4, 226, 65, 16, 38, 2, 88, 12, 16, 283, 5, 16, 2, 113, 103, 32, 15, 16, 2, 19, 178, 32]\n"
     ]
    }
   ],
   "source": [
    "print(train_input[0])"
   ]
  },
  {
   "cell_type": "code",
   "execution_count": 5,
   "id": "0b8834f7",
   "metadata": {},
   "outputs": [
    {
     "name": "stdout",
     "output_type": "stream",
     "text": [
      "[1 0 0 1 0 0 1 0 1 0 1 0 0 0 0 0 1 1 0 1]\n"
     ]
    }
   ],
   "source": [
    "print(train_target[:20])"
   ]
  },
  {
   "cell_type": "code",
   "execution_count": 6,
   "id": "64e51ac1",
   "metadata": {},
   "outputs": [
    {
     "name": "stdout",
     "output_type": "stream",
     "text": [
      "[14, 22, 16, 43, 65, 458, 66, 4, 173, 36, 256, 5, 25, 100, 43, 112, 50, 9, 35, 480, 284, 5, 150, 4, 172, 112, 167, 336, 385, 39, 4, 172, 17, 38, 13, 447, 4, 192, 50, 16, 6, 147, 19, 14, 22, 4, 469, 4, 22, 71, 87, 12, 16, 43, 38, 76, 15, 13, 4, 22, 17, 17, 12, 16, 18, 5, 62, 386, 12, 8, 316, 8, 106, 5, 4, 16, 480, 66, 33, 4, 130, 12, 16, 38, 5, 25, 124, 51, 36, 135, 48, 25, 33, 6, 22, 12, 215, 28, 77, 52, 5, 14, 407, 16, 82, 8, 4, 107, 117, 15, 256, 4, 7, 5, 36, 71, 43, 476, 26, 400, 317, 46, 7, 4, 13, 104, 88, 4, 381, 15, 297, 98, 32, 56, 26, 141, 6, 194, 18, 4, 226, 22, 21, 134, 476, 26, 480, 5, 144, 30, 18, 51, 36, 28, 224, 92, 25, 104, 4, 226, 65, 16, 38, 88, 12, 16, 283, 5, 16, 113, 103, 32, 15, 16, 19, 178, 32]\n",
      "177\n"
     ]
    }
   ],
   "source": [
    "# 훈련 세트에서 2(어휘 사전에 없는 단어) 제외하기\n",
    "\n",
    "for i in range(len(train_input)):\n",
    "    train_input[i] = [w for w in train_input[i] if w > 2]\n",
    "    \n",
    "print(train_input[0])\n",
    "print(len(train_input[0]))"
   ]
  },
  {
   "cell_type": "code",
   "execution_count": 7,
   "id": "874f6ee1",
   "metadata": {},
   "outputs": [],
   "source": [
    "from sklearn.model_selection import train_test_split\n",
    "\n",
    "train_input, val_input, train_target, val_target \\\n",
    "        = train_test_split(train_input, train_target, \n",
    "                           test_size=0.2, random_state=1234)"
   ]
  },
  {
   "cell_type": "code",
   "execution_count": 8,
   "id": "ac86fb35",
   "metadata": {},
   "outputs": [],
   "source": [
    "import numpy as np\n",
    "\n",
    "lengths = np.array([len(x) for x in train_input])"
   ]
  },
  {
   "cell_type": "code",
   "execution_count": 9,
   "id": "480a3ff1",
   "metadata": {},
   "outputs": [
    {
     "name": "stdout",
     "output_type": "stream",
     "text": [
      "164.0498 126.0\n"
     ]
    }
   ],
   "source": [
    "print(np.mean(lengths), np.median(lengths))"
   ]
  },
  {
   "cell_type": "code",
   "execution_count": 10,
   "id": "9be05bf2",
   "metadata": {},
   "outputs": [
    {
     "data": {
      "image/png": "[encoded data removed]",
      "text/plain": [
       "<Figure size 640x480 with 1 Axes>"
      ]
     },
     "metadata": {},
     "output_type": "display_data"
    }
   ],
   "source": [
    "import matplotlib.pyplot as plt\n",
    "\n",
    "plt.hist(lengths)\n",
    "plt.xlabel('length')\n",
    "plt.ylabel('frequency')\n",
    "plt.show()"
   ]
  },
  {
   "cell_type": "code",
   "execution_count": 11,
   "id": "e162f0b0",
   "metadata": {},
   "outputs": [
    {
     "data": {
      "text/plain": [
       "(20000, 100)"
      ]
     },
     "execution_count": 11,
     "metadata": {},
     "output_type": "execute_result"
    }
   ],
   "source": [
    "from tensorflow.keras.preprocessing.sequence import pad_sequences\n",
    "\n",
    "train_seq = pad_sequences(train_input, maxlen=100) \n",
    "train_seq.shape"
   ]
  },
  {
   "cell_type": "code",
   "execution_count": 12,
   "id": "885ff0fa",
   "metadata": {},
   "outputs": [
    {
     "data": {
      "text/plain": [
       "array([  7,   4,  33,   4,  58,   5,  17, 118,  17,  31,  70,   7, 330,\n",
       "        11,  14,   4, 201, 127, 179,  73,   9,  55,  52,  17,   9,  13,\n",
       "        62, 190, 423,   8,  28, 188,  53,  23,   4,  19, 409,  11,  88,\n",
       "       122,  24,  81, 233,  23,  27, 205,  29,  69,  84, 187,  90,  15,\n",
       "        90,   8,   4, 400, 209,   5, 434, 209, 303,  23,  11,  27,  51,\n",
       "        16, 170, 143,   5, 330,  12,  62,  28,  77,   8,  67,  53,   7,\n",
       "       134,  21,  13, 440,  12,  80,  97,  84,   4,  53,  12, 238,  82,\n",
       "        97,  84, 391, 138, 294,  40,  30,   8,  11])"
      ]
     },
     "execution_count": 12,
     "metadata": {},
     "output_type": "execute_result"
    }
   ],
   "source": [
    "train_seq[0]"
   ]
  },
  {
   "cell_type": "code",
   "execution_count": 13,
   "id": "f96b58a2",
   "metadata": {},
   "outputs": [
    {
     "data": {
      "text/plain": [
       "array([  0,   0,   0,   0,   0,   0,   0, 108,  26,  83,   6,  48,  24,\n",
       "       407,   6,   9, 160, 463,   7,   6,  20,  15, 304,  84,   5,  68,\n",
       "       261,   4,  26,  42,  33, 113,  42, 341,  36, 131,  66,  14, 100,\n",
       "        10,  10,  50,  26, 275, 133,  63, 413,  31,   9,  44,   4, 250,\n",
       "        37, 152,   8,   4,   8,   4, 375,  31,   9,  44,   4, 255,  37,\n",
       "         4,   7,  41, 113,  11,   6, 160,   9,  44,   4, 250,  19,  41,\n",
       "       131, 160,  31,   9,  44,   4,   7,   6,  37, 220, 283, 119,  10,\n",
       "        10, 407, 290, 319,  45,  11,   4, 193, 372])"
      ]
     },
     "execution_count": 13,
     "metadata": {},
     "output_type": "execute_result"
    }
   ],
   "source": [
    "train_seq[12]"
   ]
  },
  {
   "cell_type": "code",
   "execution_count": 14,
   "id": "66b17322",
   "metadata": {},
   "outputs": [],
   "source": [
    "val_seq = pad_sequences(val_input, maxlen=100)"
   ]
  },
  {
   "cell_type": "markdown",
   "id": "b5f4ad89",
   "metadata": {},
   "source": [
    "### 순환 신경망 만들기"
   ]
  },
  {
   "cell_type": "code",
   "execution_count": 15,
   "id": "6aa9c4a1",
   "metadata": {},
   "outputs": [],
   "source": [
    "from tensorflow import keras\n",
    "\n",
    "model = keras.Sequential()\n",
    "\n",
    "model.add(keras.layers.SimpleRNN(8, input_shape=(100, 500)))\n",
    "model.add(keras.layers.Dense(units=1, activation='sigmoid'))"
   ]
  },
  {
   "cell_type": "code",
   "execution_count": 16,
   "id": "f0d5dc22",
   "metadata": {},
   "outputs": [
    {
     "data": {
      "text/plain": [
       "(20000, 100, 500)"
      ]
     },
     "execution_count": 16,
     "metadata": {},
     "output_type": "execute_result"
    }
   ],
   "source": [
    "train_oh = keras.utils.to_categorical(train_seq)\n",
    "train_oh.shape"
   ]
  },
  {
   "cell_type": "code",
   "execution_count": 17,
   "id": "c87a1fc8",
   "metadata": {},
   "outputs": [
    {
     "data": {
      "text/plain": [
       "(5000, 100, 500)"
      ]
     },
     "execution_count": 17,
     "metadata": {},
     "output_type": "execute_result"
    }
   ],
   "source": [
    "val_oh = keras.utils.to_categorical(val_seq)\n",
    "val_oh.shape"
   ]
  },
  {
   "cell_type": "code",
   "execution_count": 18,
   "id": "5eae7786",
   "metadata": {},
   "outputs": [
    {
     "data": {
      "text/plain": [
       "array([[[0., 0., 0., ..., 0., 0., 0.],\n",
       "        [0., 0., 0., ..., 0., 0., 0.],\n",
       "        [0., 0., 0., ..., 0., 0., 0.],\n",
       "        ...,\n",
       "        [0., 0., 0., ..., 0., 0., 0.],\n",
       "        [0., 0., 0., ..., 0., 0., 0.],\n",
       "        [0., 0., 0., ..., 0., 0., 0.]],\n",
       "\n",
       "       [[0., 0., 0., ..., 0., 0., 0.],\n",
       "        [0., 0., 0., ..., 0., 0., 0.],\n",
       "        [0., 0., 0., ..., 0., 0., 0.],\n",
       "        ...,\n",
       "        [0., 0., 0., ..., 0., 0., 0.],\n",
       "        [0., 0., 0., ..., 0., 0., 0.],\n",
       "        [0., 0., 0., ..., 0., 0., 0.]]], dtype=float32)"
      ]
     },
     "execution_count": 18,
     "metadata": {},
     "output_type": "execute_result"
    }
   ],
   "source": [
    "train_oh[0:2]"
   ]
  },
  {
   "cell_type": "code",
   "execution_count": 19,
   "id": "247075f4",
   "metadata": {},
   "outputs": [
    {
     "name": "stdout",
     "output_type": "stream",
     "text": [
      "Model: \"sequential\"\n",
      "_________________________________________________________________\n",
      " Layer (type)                Output Shape              Param #   \n",
      "=================================================================\n",
      " simple_rnn (SimpleRNN)      (None, 8)                 4072      \n",
      "                                                                 \n",
      " dense (Dense)               (None, 1)                 9         \n",
      "                                                                 \n",
      "=================================================================\n",
      "Total params: 4,081\n",
      "Trainable params: 4,081\n",
      "Non-trainable params: 0\n",
      "_________________________________________________________________\n"
     ]
    }
   ],
   "source": [
    "model.summary()"
   ]
  },
  {
   "cell_type": "code",
   "execution_count": 24,
   "id": "ed374b13",
   "metadata": {},
   "outputs": [],
   "source": [
    "model.compile(optimizer=keras.optimizers.Adam(learning_rate=1e-4),\n",
    "              loss='binary_crossentropy',\n",
    "              metrics='accuracy')"
   ]
  },
  {
   "cell_type": "code",
   "execution_count": 25,
   "id": "7a2249b3",
   "metadata": {},
   "outputs": [
    {
     "name": "stdout",
     "output_type": "stream",
     "text": [
      "Epoch 1/50\n",
      "625/625 [==============================] - 12s 17ms/step - loss: 0.6534 - accuracy: 0.6228 - val_loss: 0.6351 - val_accuracy: 0.6538\n",
      "Epoch 2/50\n",
      "625/625 [==============================] - 11s 17ms/step - loss: 0.6048 - accuracy: 0.6984 - val_loss: 0.5910 - val_accuracy: 0.7096\n",
      "Epoch 3/50\n",
      "625/625 [==============================] - 11s 17ms/step - loss: 0.5631 - accuracy: 0.7405 - val_loss: 0.5594 - val_accuracy: 0.7376\n",
      "Epoch 4/50\n",
      "625/625 [==============================] - 11s 17ms/step - loss: 0.5376 - accuracy: 0.7579 - val_loss: 0.5466 - val_accuracy: 0.7394\n",
      "Epoch 5/50\n",
      "625/625 [==============================] - 11s 17ms/step - loss: 0.5124 - accuracy: 0.7756 - val_loss: 0.5220 - val_accuracy: 0.7572\n",
      "Epoch 6/50\n",
      "625/625 [==============================] - 11s 17ms/step - loss: 0.4950 - accuracy: 0.7826 - val_loss: 0.5095 - val_accuracy: 0.7674\n",
      "Epoch 7/50\n",
      "625/625 [==============================] - 11s 17ms/step - loss: 0.4800 - accuracy: 0.7915 - val_loss: 0.5061 - val_accuracy: 0.7696\n",
      "Epoch 8/50\n",
      "625/625 [==============================] - 11s 17ms/step - loss: 0.4691 - accuracy: 0.7962 - val_loss: 0.4951 - val_accuracy: 0.7730\n",
      "Epoch 9/50\n",
      "625/625 [==============================] - 11s 17ms/step - loss: 0.4584 - accuracy: 0.8007 - val_loss: 0.4821 - val_accuracy: 0.7758\n",
      "Epoch 10/50\n",
      "625/625 [==============================] - 11s 17ms/step - loss: 0.4513 - accuracy: 0.8030 - val_loss: 0.4739 - val_accuracy: 0.7850\n",
      "Epoch 11/50\n",
      "625/625 [==============================] - 11s 17ms/step - loss: 0.4433 - accuracy: 0.8059 - val_loss: 0.4686 - val_accuracy: 0.7854\n",
      "Epoch 12/50\n",
      "625/625 [==============================] - 10s 17ms/step - loss: 0.4362 - accuracy: 0.8105 - val_loss: 0.4620 - val_accuracy: 0.7906\n",
      "Epoch 13/50\n",
      "625/625 [==============================] - 10s 17ms/step - loss: 0.4292 - accuracy: 0.8151 - val_loss: 0.4568 - val_accuracy: 0.7916\n",
      "Epoch 14/50\n",
      "625/625 [==============================] - 11s 17ms/step - loss: 0.4241 - accuracy: 0.8170 - val_loss: 0.4526 - val_accuracy: 0.7928\n",
      "Epoch 15/50\n",
      "625/625 [==============================] - 11s 17ms/step - loss: 0.4196 - accuracy: 0.8193 - val_loss: 0.4480 - val_accuracy: 0.7950\n",
      "Epoch 16/50\n",
      "625/625 [==============================] - 11s 17ms/step - loss: 0.4152 - accuracy: 0.8206 - val_loss: 0.4445 - val_accuracy: 0.7974\n",
      "Epoch 17/50\n",
      "625/625 [==============================] - 11s 17ms/step - loss: 0.4104 - accuracy: 0.8236 - val_loss: 0.4419 - val_accuracy: 0.8002\n",
      "Epoch 18/50\n",
      "625/625 [==============================] - 11s 17ms/step - loss: 0.4056 - accuracy: 0.8249 - val_loss: 0.4382 - val_accuracy: 0.8006\n",
      "Epoch 19/50\n",
      "625/625 [==============================] - 11s 17ms/step - loss: 0.4032 - accuracy: 0.8252 - val_loss: 0.4371 - val_accuracy: 0.8014\n",
      "Epoch 20/50\n",
      "625/625 [==============================] - 11s 17ms/step - loss: 0.4006 - accuracy: 0.8267 - val_loss: 0.4348 - val_accuracy: 0.8020\n",
      "Epoch 21/50\n",
      "625/625 [==============================] - 11s 17ms/step - loss: 0.3967 - accuracy: 0.8299 - val_loss: 0.4350 - val_accuracy: 0.8026\n",
      "Epoch 22/50\n",
      "625/625 [==============================] - 11s 17ms/step - loss: 0.3935 - accuracy: 0.8285 - val_loss: 0.4311 - val_accuracy: 0.8044\n",
      "Epoch 23/50\n",
      "625/625 [==============================] - 11s 17ms/step - loss: 0.3916 - accuracy: 0.8309 - val_loss: 0.4263 - val_accuracy: 0.8028\n",
      "Epoch 24/50\n",
      "625/625 [==============================] - 11s 17ms/step - loss: 0.3891 - accuracy: 0.8332 - val_loss: 0.4284 - val_accuracy: 0.8074\n",
      "Epoch 25/50\n",
      "625/625 [==============================] - 11s 17ms/step - loss: 0.3868 - accuracy: 0.8320 - val_loss: 0.4263 - val_accuracy: 0.8078\n",
      "Epoch 26/50\n",
      "625/625 [==============================] - 11s 17ms/step - loss: 0.3851 - accuracy: 0.8339 - val_loss: 0.4261 - val_accuracy: 0.8082\n",
      "Epoch 27/50\n",
      "625/625 [==============================] - 11s 17ms/step - loss: 0.3830 - accuracy: 0.8360 - val_loss: 0.4307 - val_accuracy: 0.8020\n",
      "Epoch 28/50\n",
      "625/625 [==============================] - 11s 17ms/step - loss: 0.3816 - accuracy: 0.8343 - val_loss: 0.4226 - val_accuracy: 0.8076\n",
      "Epoch 29/50\n",
      "625/625 [==============================] - 11s 17ms/step - loss: 0.3800 - accuracy: 0.8357 - val_loss: 0.4226 - val_accuracy: 0.8102\n",
      "Epoch 30/50\n",
      "625/625 [==============================] - 11s 17ms/step - loss: 0.3772 - accuracy: 0.8378 - val_loss: 0.4222 - val_accuracy: 0.8076\n",
      "Epoch 31/50\n",
      "625/625 [==============================] - 11s 17ms/step - loss: 0.3768 - accuracy: 0.8367 - val_loss: 0.4229 - val_accuracy: 0.8096\n",
      "Epoch 32/50\n",
      "625/625 [==============================] - 11s 17ms/step - loss: 0.3744 - accuracy: 0.8390 - val_loss: 0.4219 - val_accuracy: 0.8100\n",
      "Epoch 33/50\n",
      "625/625 [==============================] - 11s 17ms/step - loss: 0.3743 - accuracy: 0.8373 - val_loss: 0.4231 - val_accuracy: 0.8084\n",
      "Epoch 34/50\n",
      "625/625 [==============================] - 11s 17ms/step - loss: 0.3724 - accuracy: 0.8399 - val_loss: 0.4208 - val_accuracy: 0.8086\n",
      "Epoch 35/50\n",
      "625/625 [==============================] - 11s 17ms/step - loss: 0.3715 - accuracy: 0.8394 - val_loss: 0.4212 - val_accuracy: 0.8118\n",
      "Epoch 36/50\n",
      "625/625 [==============================] - 11s 17ms/step - loss: 0.3700 - accuracy: 0.8401 - val_loss: 0.4264 - val_accuracy: 0.8072\n",
      "Epoch 37/50\n",
      "625/625 [==============================] - 11s 17ms/step - loss: 0.3690 - accuracy: 0.8405 - val_loss: 0.4250 - val_accuracy: 0.8084\n",
      "Epoch 38/50\n",
      "625/625 [==============================] - 11s 17ms/step - loss: 0.3675 - accuracy: 0.8438 - val_loss: 0.4214 - val_accuracy: 0.8090\n",
      "Epoch 39/50\n",
      "625/625 [==============================] - 11s 17ms/step - loss: 0.3672 - accuracy: 0.8420 - val_loss: 0.4239 - val_accuracy: 0.8072\n",
      "Epoch 40/50\n",
      "625/625 [==============================] - 10s 17ms/step - loss: 0.3647 - accuracy: 0.8438 - val_loss: 0.4209 - val_accuracy: 0.8126\n",
      "Epoch 41/50\n",
      "625/625 [==============================] - 11s 17ms/step - loss: 0.3645 - accuracy: 0.8425 - val_loss: 0.4231 - val_accuracy: 0.8120\n",
      "Epoch 42/50\n",
      "625/625 [==============================] - 11s 17ms/step - loss: 0.3629 - accuracy: 0.8446 - val_loss: 0.4274 - val_accuracy: 0.8086\n",
      "Epoch 43/50\n",
      "625/625 [==============================] - 11s 17ms/step - loss: 0.3621 - accuracy: 0.8444 - val_loss: 0.4249 - val_accuracy: 0.8092\n",
      "Epoch 44/50\n",
      "625/625 [==============================] - 11s 17ms/step - loss: 0.3607 - accuracy: 0.8456 - val_loss: 0.4208 - val_accuracy: 0.8122\n",
      "Epoch 45/50\n",
      "625/625 [==============================] - 11s 17ms/step - loss: 0.3600 - accuracy: 0.8459 - val_loss: 0.4289 - val_accuracy: 0.8104\n",
      "Epoch 46/50\n",
      "625/625 [==============================] - 11s 17ms/step - loss: 0.3589 - accuracy: 0.8469 - val_loss: 0.4227 - val_accuracy: 0.8110\n",
      "Epoch 47/50\n",
      "625/625 [==============================] - 11s 17ms/step - loss: 0.3580 - accuracy: 0.8482 - val_loss: 0.4283 - val_accuracy: 0.8066\n",
      "Epoch 48/50\n",
      "625/625 [==============================] - 11s 17ms/step - loss: 0.3573 - accuracy: 0.8453 - val_loss: 0.4257 - val_accuracy: 0.8106\n",
      "Epoch 49/50\n",
      "625/625 [==============================] - 11s 17ms/step - loss: 0.3558 - accuracy: 0.8482 - val_loss: 0.4246 - val_accuracy: 0.8084\n",
      "Epoch 50/50\n",
      "625/625 [==============================] - 11s 17ms/step - loss: 0.3552 - accuracy: 0.8494 - val_loss: 0.4262 - val_accuracy: 0.8096\n"
     ]
    }
   ],
   "source": [
    "loss = model.fit(train_oh, train_target, epochs=50, \n",
    "                 validation_data=(val_oh, val_target))"
   ]
  },
  {
   "cell_type": "code",
   "execution_count": 27,
   "id": "972fcfa6",
   "metadata": {},
   "outputs": [
    {
     "data": {
      "image/png": "[encoded data removed]",
      "text/plain": [
       "<Figure size 640x480 with 1 Axes>"
      ]
     },
     "metadata": {},
     "output_type": "display_data"
    }
   ],
   "source": [
    "plt.plot(loss.history['loss'])\n",
    "plt.plot(loss.history['val_loss'])\n",
    "plt.xlabel('epoch')\n",
    "plt.ylabel('loss')\n",
    "plt.legend(['train', 'val'])\n",
    "plt.show()"
   ]
  },
  {
   "cell_type": "markdown",
   "id": "f2d747f3",
   "metadata": {},
   "source": [
    "### 단어 임베딩 사용하기"
   ]
  },
  {
   "cell_type": "code",
   "execution_count": 34,
   "id": "e587ea5d",
   "metadata": {},
   "outputs": [
    {
     "name": "stdout",
     "output_type": "stream",
     "text": [
      "Model: \"sequential_2\"\n",
      "_________________________________________________________________\n",
      " Layer (type)                Output Shape              Param #   \n",
      "=================================================================\n",
      " embedding_1 (Embedding)     (None, 100, 16)           8000      \n",
      "                                                                 \n",
      " simple_rnn_2 (SimpleRNN)    (None, 8)                 200       \n",
      "                                                                 \n",
      " dense_2 (Dense)             (None, 1)                 9         \n",
      "                                                                 \n",
      "=================================================================\n",
      "Total params: 8,209\n",
      "Trainable params: 8,209\n",
      "Non-trainable params: 0\n",
      "_________________________________________________________________\n"
     ]
    }
   ],
   "source": [
    "model2 = keras.Sequential()\n",
    "\n",
    "model2.add(keras.layers.Embedding(500, 16, input_length=100))\n",
    "model2.add(keras.layers.SimpleRNN(8))\n",
    "model2.add(keras.layers.Dense(1, activation='sigmoid'))\n",
    "\n",
    "model2.summary()"
   ]
  },
  {
   "cell_type": "code",
   "execution_count": 35,
   "id": "f8d6e8cc",
   "metadata": {},
   "outputs": [],
   "source": [
    "model2.compile(optimizer=keras.optimizers.Adam(learning_rate=1e-4),\n",
    "              loss='binary_crossentropy',\n",
    "              metrics='accuracy')"
   ]
  },
  {
   "cell_type": "code",
   "execution_count": 36,
   "id": "76e86bc6",
   "metadata": {},
   "outputs": [
    {
     "name": "stdout",
     "output_type": "stream",
     "text": [
      "Epoch 1/50\n",
      "625/625 [==============================] - 10s 14ms/step - loss: 0.6950 - accuracy: 0.5016 - val_loss: 0.6922 - val_accuracy: 0.5186\n",
      "Epoch 2/50\n",
      "625/625 [==============================] - 8s 13ms/step - loss: 0.6891 - accuracy: 0.5372 - val_loss: 0.6892 - val_accuracy: 0.5360\n",
      "Epoch 3/50\n",
      "625/625 [==============================] - 8s 13ms/step - loss: 0.6830 - accuracy: 0.5661 - val_loss: 0.6856 - val_accuracy: 0.5498\n",
      "Epoch 4/50\n",
      "625/625 [==============================] - 8s 13ms/step - loss: 0.6749 - accuracy: 0.5867 - val_loss: 0.6813 - val_accuracy: 0.5632\n",
      "Epoch 5/50\n",
      "625/625 [==============================] - 9s 14ms/step - loss: 0.6658 - accuracy: 0.6059 - val_loss: 0.6778 - val_accuracy: 0.5618\n",
      "Epoch 6/50\n",
      "625/625 [==============================] - 9s 14ms/step - loss: 0.6564 - accuracy: 0.6189 - val_loss: 0.6746 - val_accuracy: 0.5658\n",
      "Epoch 7/50\n",
      "625/625 [==============================] - 8s 14ms/step - loss: 0.6472 - accuracy: 0.6324 - val_loss: 0.6715 - val_accuracy: 0.5716\n",
      "Epoch 8/50\n",
      "625/625 [==============================] - 8s 13ms/step - loss: 0.6388 - accuracy: 0.6424 - val_loss: 0.6686 - val_accuracy: 0.5782\n",
      "Epoch 9/50\n",
      "625/625 [==============================] - 8s 13ms/step - loss: 0.6310 - accuracy: 0.6492 - val_loss: 0.6682 - val_accuracy: 0.5828\n",
      "Epoch 10/50\n",
      "625/625 [==============================] - 8s 13ms/step - loss: 0.6240 - accuracy: 0.6567 - val_loss: 0.6659 - val_accuracy: 0.5846\n",
      "Epoch 11/50\n",
      "625/625 [==============================] - 8s 14ms/step - loss: 0.6176 - accuracy: 0.6631 - val_loss: 0.6655 - val_accuracy: 0.5888\n",
      "Epoch 12/50\n",
      "625/625 [==============================] - 9s 14ms/step - loss: 0.6116 - accuracy: 0.6712 - val_loss: 0.6654 - val_accuracy: 0.5946\n",
      "Epoch 13/50\n",
      "625/625 [==============================] - 8s 13ms/step - loss: 0.6064 - accuracy: 0.6748 - val_loss: 0.6649 - val_accuracy: 0.5968\n",
      "Epoch 14/50\n",
      "625/625 [==============================] - 9s 14ms/step - loss: 0.6014 - accuracy: 0.6786 - val_loss: 0.6643 - val_accuracy: 0.5948\n",
      "Epoch 15/50\n",
      "625/625 [==============================] - 8s 13ms/step - loss: 0.5966 - accuracy: 0.6841 - val_loss: 0.6648 - val_accuracy: 0.6000\n",
      "Epoch 16/50\n",
      "625/625 [==============================] - 9s 14ms/step - loss: 0.5924 - accuracy: 0.6884 - val_loss: 0.6659 - val_accuracy: 0.5996\n",
      "Epoch 17/50\n",
      "625/625 [==============================] - 9s 14ms/step - loss: 0.5880 - accuracy: 0.6932 - val_loss: 0.6674 - val_accuracy: 0.6012\n",
      "Epoch 18/50\n",
      "625/625 [==============================] - 9s 14ms/step - loss: 0.5837 - accuracy: 0.6969 - val_loss: 0.6670 - val_accuracy: 0.5986\n",
      "Epoch 19/50\n",
      "625/625 [==============================] - 9s 14ms/step - loss: 0.5795 - accuracy: 0.6997 - val_loss: 0.6681 - val_accuracy: 0.6014\n",
      "Epoch 20/50\n",
      "625/625 [==============================] - 9s 15ms/step - loss: 0.5752 - accuracy: 0.7035 - val_loss: 0.6699 - val_accuracy: 0.6042\n",
      "Epoch 21/50\n",
      "625/625 [==============================] - 8s 13ms/step - loss: 0.5711 - accuracy: 0.7074 - val_loss: 0.6705 - val_accuracy: 0.6038\n",
      "Epoch 22/50\n",
      "625/625 [==============================] - 8s 13ms/step - loss: 0.5672 - accuracy: 0.7114 - val_loss: 0.6728 - val_accuracy: 0.6030\n",
      "Epoch 23/50\n",
      "625/625 [==============================] - 8s 13ms/step - loss: 0.5632 - accuracy: 0.7133 - val_loss: 0.6750 - val_accuracy: 0.6034\n",
      "Epoch 24/50\n",
      "625/625 [==============================] - 8s 13ms/step - loss: 0.5595 - accuracy: 0.7160 - val_loss: 0.6786 - val_accuracy: 0.6020\n",
      "Epoch 25/50\n",
      "625/625 [==============================] - 8s 13ms/step - loss: 0.5559 - accuracy: 0.7182 - val_loss: 0.6791 - val_accuracy: 0.5998\n",
      "Epoch 26/50\n",
      "625/625 [==============================] - 8s 13ms/step - loss: 0.5524 - accuracy: 0.7218 - val_loss: 0.6820 - val_accuracy: 0.6036\n",
      "Epoch 27/50\n",
      "625/625 [==============================] - 8s 13ms/step - loss: 0.5493 - accuracy: 0.7248 - val_loss: 0.6844 - val_accuracy: 0.6000\n",
      "Epoch 28/50\n",
      "625/625 [==============================] - 8s 13ms/step - loss: 0.5461 - accuracy: 0.7275 - val_loss: 0.6870 - val_accuracy: 0.6022\n",
      "Epoch 29/50\n",
      "625/625 [==============================] - 8s 13ms/step - loss: 0.5429 - accuracy: 0.7308 - val_loss: 0.6894 - val_accuracy: 0.5998\n",
      "Epoch 30/50\n",
      "625/625 [==============================] - 8s 13ms/step - loss: 0.5397 - accuracy: 0.7325 - val_loss: 0.6931 - val_accuracy: 0.5990\n",
      "Epoch 31/50\n",
      "625/625 [==============================] - 8s 13ms/step - loss: 0.5367 - accuracy: 0.7344 - val_loss: 0.6955 - val_accuracy: 0.6056\n",
      "Epoch 32/50\n",
      "625/625 [==============================] - 8s 13ms/step - loss: 0.5337 - accuracy: 0.7362 - val_loss: 0.6980 - val_accuracy: 0.6030\n",
      "Epoch 33/50\n",
      "625/625 [==============================] - 8s 13ms/step - loss: 0.5313 - accuracy: 0.7379 - val_loss: 0.7012 - val_accuracy: 0.6018\n",
      "Epoch 34/50\n",
      "625/625 [==============================] - 8s 13ms/step - loss: 0.5284 - accuracy: 0.7402 - val_loss: 0.7046 - val_accuracy: 0.6026\n",
      "Epoch 35/50\n",
      "625/625 [==============================] - 8s 13ms/step - loss: 0.5263 - accuracy: 0.7422 - val_loss: 0.7059 - val_accuracy: 0.6040\n",
      "Epoch 36/50\n",
      "625/625 [==============================] - 8s 13ms/step - loss: 0.5240 - accuracy: 0.7438 - val_loss: 0.7076 - val_accuracy: 0.6012\n",
      "Epoch 37/50\n",
      "625/625 [==============================] - 8s 13ms/step - loss: 0.5214 - accuracy: 0.7466 - val_loss: 0.7114 - val_accuracy: 0.6010\n",
      "Epoch 38/50\n",
      "625/625 [==============================] - 8s 13ms/step - loss: 0.5191 - accuracy: 0.7483 - val_loss: 0.7137 - val_accuracy: 0.6022\n",
      "Epoch 39/50\n",
      "625/625 [==============================] - 8s 13ms/step - loss: 0.5168 - accuracy: 0.7496 - val_loss: 0.7171 - val_accuracy: 0.6008\n",
      "Epoch 40/50\n",
      "625/625 [==============================] - 8s 13ms/step - loss: 0.5150 - accuracy: 0.7512 - val_loss: 0.7184 - val_accuracy: 0.6038\n",
      "Epoch 41/50\n",
      "625/625 [==============================] - 8s 13ms/step - loss: 0.5124 - accuracy: 0.7521 - val_loss: 0.7208 - val_accuracy: 0.6018\n",
      "Epoch 42/50\n",
      "625/625 [==============================] - 8s 13ms/step - loss: 0.5100 - accuracy: 0.7545 - val_loss: 0.7232 - val_accuracy: 0.6002\n",
      "Epoch 43/50\n",
      "625/625 [==============================] - 8s 13ms/step - loss: 0.5083 - accuracy: 0.7541 - val_loss: 0.7266 - val_accuracy: 0.6044\n",
      "Epoch 44/50\n",
      "625/625 [==============================] - 8s 13ms/step - loss: 0.5061 - accuracy: 0.7556 - val_loss: 0.7308 - val_accuracy: 0.6028\n",
      "Epoch 45/50\n",
      "625/625 [==============================] - 8s 13ms/step - loss: 0.5046 - accuracy: 0.7581 - val_loss: 0.7326 - val_accuracy: 0.6002\n",
      "Epoch 46/50\n",
      "625/625 [==============================] - 8s 13ms/step - loss: 0.5024 - accuracy: 0.7593 - val_loss: 0.7381 - val_accuracy: 0.5984\n",
      "Epoch 47/50\n",
      "625/625 [==============================] - 8s 13ms/step - loss: 0.5005 - accuracy: 0.7605 - val_loss: 0.7402 - val_accuracy: 0.6010\n",
      "Epoch 48/50\n",
      "625/625 [==============================] - 8s 13ms/step - loss: 0.4986 - accuracy: 0.7627 - val_loss: 0.7440 - val_accuracy: 0.5962\n",
      "Epoch 49/50\n",
      "625/625 [==============================] - 8s 13ms/step - loss: 0.4973 - accuracy: 0.7641 - val_loss: 0.7456 - val_accuracy: 0.5954\n",
      "Epoch 50/50\n",
      "625/625 [==============================] - 8s 13ms/step - loss: 0.4959 - accuracy: 0.7637 - val_loss: 0.7498 - val_accuracy: 0.5962\n"
     ]
    }
   ],
   "source": [
    "loss = model2.fit(train_seq, train_target, epochs=50, \n",
    "                 validation_data=(val_seq, val_target))"
   ]
  },
  {
   "cell_type": "code",
   "execution_count": 37,
   "id": "10066c78",
   "metadata": {},
   "outputs": [
    {
     "data": {
      "image/png": "[encoded data removed]",
      "text/plain": [
       "<Figure size 640x480 with 1 Axes>"
      ]
     },
     "metadata": {},
     "output_type": "display_data"
    }
   ],
   "source": [
    "plt.plot(loss.history['loss'])\n",
    "plt.plot(loss.history['val_loss'])\n",
    "plt.xlabel('epoch')\n",
    "plt.ylabel('loss')\n",
    "plt.legend(['train', 'val'])\n",
    "plt.show()"
   ]
  },
  {
   "cell_type": "code",
   "execution_count": null,
   "id": "02c20e2b",
   "metadata": {},
   "outputs": [],
   "source": []
  }
 ],
 "metadata": {
  "kernelspec": {
   "display_name": "Python [conda env:tf_cpu] *",
   "language": "python",
   "name": "conda-env-tf_cpu-py"
  },
  "language_info": {
   "codemirror_mode": {
    "name": "ipython",
    "version": 3
   },
   "file_extension": ".py",
   "mimetype": "text/x-python",
   "name": "python",
   "nbconvert_exporter": "python",
   "pygments_lexer": "ipython3",
   "version": "3.8.16"
  }
 },
 "nbformat": 4,
 "nbformat_minor": 5
}
