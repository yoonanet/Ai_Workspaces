{
 "cells": [
  {
   "cell_type": "code",
   "execution_count": 1,
   "id": "1b6e41f2",
   "metadata": {},
   "outputs": [],
   "source": [
    "# IMDB 리뷰 데이터 셋 (영화리뷰 데이터 셋) - 순환신경망에서 가장 많이 활용되는 데이터 셋임\n",
    "\n",
    "from tensorflow.keras.datasets import imdb\n",
    "\n",
    "(train_input, train_target), (test_input, test_target) \\\n",
    "            = imdb.load_data(num_words=500)"
   ]
  },
  {
   "cell_type": "code",
   "execution_count": 2,
   "id": "46aadac7",
   "metadata": {},
   "outputs": [],
   "source": [
    "# 훈련 세트에서 2(어휘 사전에 없는 단어) 제외하기\n",
    "\n",
    "for i in range(len(train_input)):\n",
    "    train_input[i] = [w for w in train_input[i] if w > 2]"
   ]
  },
  {
   "cell_type": "code",
   "execution_count": 3,
   "id": "f5e60800",
   "metadata": {},
   "outputs": [],
   "source": [
    "from sklearn.model_selection import train_test_split\n",
    "\n",
    "train_input, val_input, train_target, val_target \\\n",
    "        = train_test_split(train_input, train_target, \n",
    "                           test_size=0.2, random_state=1234)"
   ]
  },
  {
   "cell_type": "code",
   "execution_count": 4,
   "id": "3bfdd0c7",
   "metadata": {},
   "outputs": [],
   "source": [
    "import numpy as np\n",
    "\n",
    "lengths = np.array([len(x) for x in train_input])"
   ]
  },
  {
   "cell_type": "code",
   "execution_count": 5,
   "id": "8de0bc85",
   "metadata": {},
   "outputs": [
    {
     "name": "stdout",
     "output_type": "stream",
     "text": [
      "164.0498 126.0\n"
     ]
    }
   ],
   "source": [
    "print(np.mean(lengths), np.median(lengths))"
   ]
  },
  {
   "cell_type": "code",
   "execution_count": 6,
   "id": "c6fe3c56",
   "metadata": {},
   "outputs": [
    {
     "data": {
      "image/png": "[encoded data removed]",
      "text/plain": [
       "<Figure size 640x480 with 1 Axes>"
      ]
     },
     "metadata": {},
     "output_type": "display_data"
    }
   ],
   "source": [
    "import matplotlib.pyplot as plt\n",
    "\n",
    "plt.hist(lengths) #나무막대 그래프로 각 토큰별 단어의 빈도수를 시각화하여 확인해보도록 한다.\n",
    "plt.xlabel('length')\n",
    "plt.ylabel('frequency') #빈도수\n",
    "plt.show()"
   ]
  },
  {
   "cell_type": "code",
   "execution_count": 7,
   "id": "4018aea7",
   "metadata": {},
   "outputs": [
    {
     "data": {
      "text/plain": [
       "(20000, 100)"
      ]
     },
     "execution_count": 7,
     "metadata": {},
     "output_type": "execute_result"
    }
   ],
   "source": [
    "from tensorflow.keras.preprocessing.sequence import pad_sequences\n",
    "\n",
    "train_seq = pad_sequences(train_input, maxlen=100) \n",
    "train_seq.shape"
   ]
  },
  {
   "cell_type": "code",
   "execution_count": 8,
   "id": "94ca3fd0",
   "metadata": {},
   "outputs": [],
   "source": [
    "val_seq = pad_sequences(val_input, maxlen=100)"
   ]
  },
  {
   "cell_type": "markdown",
   "id": "68fb9fc7",
   "metadata": {},
   "source": [
    "### 순환 신경망 만들기"
   ]
  },
  {
   "cell_type": "code",
   "execution_count": 9,
   "id": "66d39ad6",
   "metadata": {},
   "outputs": [
    {
     "name": "stdout",
     "output_type": "stream",
     "text": [
      "Model: \"sequential\"\n",
      "_________________________________________________________________\n",
      " Layer (type)                Output Shape              Param #   \n",
      "=================================================================\n",
      " embedding (Embedding)       (None, 100, 16)           8000      \n",
      "                                                                 \n",
      " lstm (LSTM)                 (None, 8)                 800       \n",
      "                                                                 \n",
      " dense (Dense)               (None, 1)                 9         \n",
      "                                                                 \n",
      "=================================================================\n",
      "Total params: 8,809\n",
      "Trainable params: 8,809\n",
      "Non-trainable params: 0\n",
      "_________________________________________________________________\n"
     ]
    }
   ],
   "source": [
    "from tensorflow import keras\n",
    "\n",
    "model2 = keras.Sequential()\n",
    "\n",
    "model2.add(keras.layers.Embedding(500, 16, input_length=100))\n",
    "model2.add(keras.layers.LSTM(8)) #개선이 된 알고리즘을 적용할 수 있음.\n",
    "model2.add(keras.layers.Dense(1, activation='sigmoid'))\n",
    "\n",
    "model2.summary()"
   ]
  },
  {
   "cell_type": "code",
   "execution_count": 10,
   "id": "cc978190",
   "metadata": {},
   "outputs": [],
   "source": [
    "model2.compile(optimizer=keras.optimizers.Adam(learning_rate=1e-4),\n",
    "              loss='binary_crossentropy',\n",
    "              metrics='accuracy')"
   ]
  },
  {
   "cell_type": "code",
   "execution_count": 11,
   "id": "09a9f909",
   "metadata": {
    "scrolled": true
   },
   "outputs": [
    {
     "name": "stdout",
     "output_type": "stream",
     "text": [
      "Epoch 1/50\n",
      "625/625 [==============================] - 12s 16ms/step - loss: 0.6887 - accuracy: 0.5650 - val_loss: 0.6653 - val_accuracy: 0.6092\n",
      "Epoch 2/50\n",
      "625/625 [==============================] - 9s 14ms/step - loss: 0.5732 - accuracy: 0.7503 - val_loss: 0.5454 - val_accuracy: 0.7716\n",
      "Epoch 3/50\n",
      "625/625 [==============================] - 9s 14ms/step - loss: 0.5169 - accuracy: 0.7852 - val_loss: 0.5144 - val_accuracy: 0.7664\n",
      "Epoch 4/50\n",
      "625/625 [==============================] - 9s 15ms/step - loss: 0.4838 - accuracy: 0.7908 - val_loss: 0.4796 - val_accuracy: 0.7874\n",
      "Epoch 5/50\n",
      "625/625 [==============================] - 9s 15ms/step - loss: 0.4529 - accuracy: 0.8027 - val_loss: 0.4565 - val_accuracy: 0.7942\n",
      "Epoch 6/50\n",
      "625/625 [==============================] - 9s 15ms/step - loss: 0.4316 - accuracy: 0.8122 - val_loss: 0.4406 - val_accuracy: 0.8036\n",
      "Epoch 7/50\n",
      "625/625 [==============================] - 9s 15ms/step - loss: 0.4182 - accuracy: 0.8160 - val_loss: 0.4310 - val_accuracy: 0.8126\n",
      "Epoch 8/50\n",
      "625/625 [==============================] - 9s 15ms/step - loss: 0.4100 - accuracy: 0.8191 - val_loss: 0.4257 - val_accuracy: 0.8108\n",
      "Epoch 9/50\n",
      "625/625 [==============================] - 9s 15ms/step - loss: 0.4040 - accuracy: 0.8210 - val_loss: 0.4238 - val_accuracy: 0.8128\n",
      "Epoch 10/50\n",
      "625/625 [==============================] - 9s 15ms/step - loss: 0.4006 - accuracy: 0.8225 - val_loss: 0.4194 - val_accuracy: 0.8150\n",
      "Epoch 11/50\n",
      "625/625 [==============================] - 9s 14ms/step - loss: 0.3971 - accuracy: 0.8237 - val_loss: 0.4168 - val_accuracy: 0.8108\n",
      "Epoch 12/50\n",
      "625/625 [==============================] - 9s 14ms/step - loss: 0.3941 - accuracy: 0.8245 - val_loss: 0.4177 - val_accuracy: 0.8168\n",
      "Epoch 13/50\n",
      "625/625 [==============================] - 9s 14ms/step - loss: 0.3917 - accuracy: 0.8270 - val_loss: 0.4134 - val_accuracy: 0.8146\n",
      "Epoch 14/50\n",
      "625/625 [==============================] - 9s 14ms/step - loss: 0.3905 - accuracy: 0.8256 - val_loss: 0.4141 - val_accuracy: 0.8172\n",
      "Epoch 15/50\n",
      "625/625 [==============================] - 9s 14ms/step - loss: 0.3885 - accuracy: 0.8257 - val_loss: 0.4111 - val_accuracy: 0.8174\n",
      "Epoch 16/50\n",
      "625/625 [==============================] - 9s 14ms/step - loss: 0.3867 - accuracy: 0.8276 - val_loss: 0.4103 - val_accuracy: 0.8168\n",
      "Epoch 17/50\n",
      "625/625 [==============================] - 9s 14ms/step - loss: 0.3856 - accuracy: 0.8293 - val_loss: 0.4121 - val_accuracy: 0.8190\n",
      "Epoch 18/50\n",
      "625/625 [==============================] - 9s 14ms/step - loss: 0.3847 - accuracy: 0.8292 - val_loss: 0.4081 - val_accuracy: 0.8198\n",
      "Epoch 19/50\n",
      "625/625 [==============================] - 9s 14ms/step - loss: 0.3835 - accuracy: 0.8296 - val_loss: 0.4086 - val_accuracy: 0.8194\n",
      "Epoch 20/50\n",
      "625/625 [==============================] - 9s 14ms/step - loss: 0.3823 - accuracy: 0.8306 - val_loss: 0.4080 - val_accuracy: 0.8184\n",
      "Epoch 21/50\n",
      "625/625 [==============================] - 9s 14ms/step - loss: 0.3822 - accuracy: 0.8285 - val_loss: 0.4090 - val_accuracy: 0.8204\n",
      "Epoch 22/50\n",
      "625/625 [==============================] - 9s 14ms/step - loss: 0.3807 - accuracy: 0.8316 - val_loss: 0.4091 - val_accuracy: 0.8164\n",
      "Epoch 23/50\n",
      "625/625 [==============================] - 9s 14ms/step - loss: 0.3801 - accuracy: 0.8306 - val_loss: 0.4062 - val_accuracy: 0.8238\n",
      "Epoch 24/50\n",
      "625/625 [==============================] - 9s 14ms/step - loss: 0.3797 - accuracy: 0.8309 - val_loss: 0.4092 - val_accuracy: 0.8214\n",
      "Epoch 25/50\n",
      "625/625 [==============================] - 9s 14ms/step - loss: 0.3792 - accuracy: 0.8306 - val_loss: 0.4146 - val_accuracy: 0.8194\n",
      "Epoch 26/50\n",
      "625/625 [==============================] - 9s 14ms/step - loss: 0.3784 - accuracy: 0.8311 - val_loss: 0.4064 - val_accuracy: 0.8202\n",
      "Epoch 27/50\n",
      "625/625 [==============================] - 9s 14ms/step - loss: 0.3780 - accuracy: 0.8303 - val_loss: 0.4045 - val_accuracy: 0.8218\n",
      "Epoch 28/50\n",
      "625/625 [==============================] - 9s 14ms/step - loss: 0.3776 - accuracy: 0.8313 - val_loss: 0.4064 - val_accuracy: 0.8186\n",
      "Epoch 29/50\n",
      "625/625 [==============================] - 9s 14ms/step - loss: 0.3762 - accuracy: 0.8321 - val_loss: 0.4082 - val_accuracy: 0.8206\n",
      "Epoch 30/50\n",
      "625/625 [==============================] - 9s 14ms/step - loss: 0.3756 - accuracy: 0.8318 - val_loss: 0.4089 - val_accuracy: 0.8198\n",
      "Epoch 31/50\n",
      "625/625 [==============================] - 9s 14ms/step - loss: 0.3752 - accuracy: 0.8302 - val_loss: 0.4068 - val_accuracy: 0.8198\n",
      "Epoch 32/50\n",
      "625/625 [==============================] - 9s 14ms/step - loss: 0.3748 - accuracy: 0.8313 - val_loss: 0.4034 - val_accuracy: 0.8238\n",
      "Epoch 33/50\n",
      "625/625 [==============================] - 9s 14ms/step - loss: 0.3735 - accuracy: 0.8324 - val_loss: 0.4058 - val_accuracy: 0.8186\n",
      "Epoch 34/50\n",
      "625/625 [==============================] - 9s 14ms/step - loss: 0.3733 - accuracy: 0.8322 - val_loss: 0.4088 - val_accuracy: 0.8180\n",
      "Epoch 35/50\n",
      "625/625 [==============================] - 9s 15ms/step - loss: 0.3725 - accuracy: 0.8305 - val_loss: 0.4113 - val_accuracy: 0.8172\n",
      "Epoch 36/50\n",
      "625/625 [==============================] - 9s 15ms/step - loss: 0.3723 - accuracy: 0.8317 - val_loss: 0.4034 - val_accuracy: 0.8242\n",
      "Epoch 37/50\n",
      "625/625 [==============================] - 9s 15ms/step - loss: 0.3716 - accuracy: 0.8325 - val_loss: 0.4040 - val_accuracy: 0.8234\n",
      "Epoch 38/50\n",
      "625/625 [==============================] - 9s 15ms/step - loss: 0.3711 - accuracy: 0.8319 - val_loss: 0.4042 - val_accuracy: 0.8204\n",
      "Epoch 39/50\n",
      "625/625 [==============================] - 9s 15ms/step - loss: 0.3703 - accuracy: 0.8335 - val_loss: 0.4058 - val_accuracy: 0.8202\n",
      "Epoch 40/50\n",
      "625/625 [==============================] - 9s 15ms/step - loss: 0.3691 - accuracy: 0.8353 - val_loss: 0.4040 - val_accuracy: 0.8208\n",
      "Epoch 41/50\n",
      "625/625 [==============================] - 9s 15ms/step - loss: 0.3689 - accuracy: 0.8334 - val_loss: 0.4029 - val_accuracy: 0.8244\n",
      "Epoch 42/50\n",
      "625/625 [==============================] - 9s 15ms/step - loss: 0.3684 - accuracy: 0.8340 - val_loss: 0.4029 - val_accuracy: 0.8244\n",
      "Epoch 43/50\n",
      "625/625 [==============================] - 9s 15ms/step - loss: 0.3672 - accuracy: 0.8340 - val_loss: 0.4028 - val_accuracy: 0.8228\n",
      "Epoch 44/50\n",
      "625/625 [==============================] - 9s 15ms/step - loss: 0.3671 - accuracy: 0.8328 - val_loss: 0.4027 - val_accuracy: 0.8224\n",
      "Epoch 45/50\n",
      "625/625 [==============================] - 9s 15ms/step - loss: 0.3660 - accuracy: 0.8350 - val_loss: 0.4034 - val_accuracy: 0.8248\n",
      "Epoch 46/50\n",
      "625/625 [==============================] - 9s 15ms/step - loss: 0.3654 - accuracy: 0.8348 - val_loss: 0.4008 - val_accuracy: 0.8226\n",
      "Epoch 47/50\n",
      "625/625 [==============================] - 9s 15ms/step - loss: 0.3652 - accuracy: 0.8343 - val_loss: 0.4105 - val_accuracy: 0.8198\n",
      "Epoch 48/50\n",
      "625/625 [==============================] - 9s 15ms/step - loss: 0.3646 - accuracy: 0.8357 - val_loss: 0.4028 - val_accuracy: 0.8242\n",
      "Epoch 49/50\n",
      "625/625 [==============================] - 9s 15ms/step - loss: 0.3633 - accuracy: 0.8367 - val_loss: 0.4038 - val_accuracy: 0.8236\n",
      "Epoch 50/50\n",
      "625/625 [==============================] - 10s 15ms/step - loss: 0.3629 - accuracy: 0.8370 - val_loss: 0.4024 - val_accuracy: 0.8238\n"
     ]
    }
   ],
   "source": [
    "loss = model2.fit(train_seq, train_target, epochs=50, \n",
    "                 validation_data=(val_seq, val_target))"
   ]
  },
  {
   "cell_type": "code",
   "execution_count": 12,
   "id": "0da438da",
   "metadata": {},
   "outputs": [
    {
     "data": {
      "image/png": "[encoded data removed]",
      "text/plain": [
       "<Figure size 640x480 with 1 Axes>"
      ]
     },
     "metadata": {},
     "output_type": "display_data"
    }
   ],
   "source": [
    "plt.plot(loss.history['loss'])\n",
    "plt.plot(loss.history['val_loss'])\n",
    "plt.xlabel('epoch')\n",
    "plt.ylabel('loss')\n",
    "plt.legend(['train', 'val'])\n",
    "plt.show()"
   ]
  },
  {
   "cell_type": "code",
   "execution_count": null,
   "id": "af78bd02",
   "metadata": {},
   "outputs": [],
   "source": []
  }
 ],
 "metadata": {
  "kernelspec": {
   "display_name": "Python [conda env:tf_cpu] *",
   "language": "python",
   "name": "conda-env-tf_cpu-py"
  },
  "language_info": {
   "codemirror_mode": {
    "name": "ipython",
    "version": 3
   },
   "file_extension": ".py",
   "mimetype": "text/x-python",
   "name": "python",
   "nbconvert_exporter": "python",
   "pygments_lexer": "ipython3",
   "version": "3.8.16"
  }
 },
 "nbformat": 4,
 "nbformat_minor": 5
}
